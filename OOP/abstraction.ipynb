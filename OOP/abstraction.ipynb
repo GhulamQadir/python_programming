{
 "cells": [
  {
   "cell_type": "markdown",
   "id": "78b8dd47",
   "metadata": {},
   "source": [
    "## Abstraction\n",
    "* Abstraction means hiding complex implementation details and exposing only the necessary features of an object"
   ]
  },
  {
   "cell_type": "code",
   "execution_count": 2,
   "id": "ff774b29",
   "metadata": {},
   "outputs": [
    {
     "name": "stdout",
     "output_type": "stream",
     "text": [
      "Amount withdrawed succeessfully\n",
      "Your remaining balance is 10500.0\n"
     ]
    }
   ],
   "source": [
    "class ATM:\n",
    "    def __init__(self, balance):\n",
    "        self.balance = balance\n",
    "\n",
    "    def startATM(self):\n",
    "        operationNum = int(\n",
    "            input(\n",
    "                \"\"\"Enter the number of operation which you want to perform\\n\n",
    "            1. Withdraw\\n2. Check Balance\"\"\"\n",
    "            )\n",
    "        )\n",
    "        if operationNum == 1:\n",
    "            self.checkBalance()\n",
    "        elif operationNum == 2:\n",
    "            amountToWithdraw = float(input(\"Enter the amount you want to withdraw\"))\n",
    "            self.withdrawAmount(amountToWithdraw)\n",
    "\n",
    "    def checkBalance(self):\n",
    "        print(f\"Your current balance is {self.balance}\")\n",
    "\n",
    "    def withdrawAmount(self, amountToWithdraw):\n",
    "        if (\n",
    "            self.balance < amountToWithdraw\n",
    "        ):  # complex details are hidden under a method and showing only to user which he needs\n",
    "            print(\"Your current balance is less than the amount you want to withdraw\")\n",
    "        else:\n",
    "            self.balance -= amountToWithdraw\n",
    "            print(\n",
    "                f\"Amount withdrawed succeessfully\\nYour remaining balance is {self.balance}\"\n",
    "            )\n",
    "\n",
    "\n",
    "user1 = ATM(23000)\n",
    "user1.startATM()"
   ]
  }
 ],
 "metadata": {
  "kernelspec": {
   "display_name": "Python 3",
   "language": "python",
   "name": "python3"
  },
  "language_info": {
   "codemirror_mode": {
    "name": "ipython",
    "version": 3
   },
   "file_extension": ".py",
   "mimetype": "text/x-python",
   "name": "python",
   "nbconvert_exporter": "python",
   "pygments_lexer": "ipython3",
   "version": "3.13.2"
  }
 },
 "nbformat": 4,
 "nbformat_minor": 5
}
