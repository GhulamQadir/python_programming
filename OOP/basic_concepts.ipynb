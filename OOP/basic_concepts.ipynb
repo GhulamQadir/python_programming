{
 "cells": [
  {
   "cell_type": "markdown",
   "id": "b14c85ba",
   "metadata": {},
   "source": [
    "## BASIC STRUCTURE OF CLASS\n"
   ]
  },
  {
   "cell_type": "code",
   "execution_count": null,
   "id": "a58782f7",
   "metadata": {},
   "outputs": [
    {
     "name": "stdout",
     "output_type": "stream",
     "text": [
      "<__main__.Car object at 0x0000019DE2A4D010>\n",
      "New car object created\n",
      "<__main__.Car object at 0x0000019DE2836850>\n",
      "New car object created\n",
      "I stop the car\n",
      "Blue\n",
      "White\n",
      "Accelerate at max speed of 220\n"
     ]
    }
   ],
   "source": [
    "class Car:\n",
    "    # jab bhi object initialize hota ha constructor(__init__ function) automatically call hoga\n",
    "    def __init__(\n",
    "        self, name, color, model, p_average, speed\n",
    "    ):  # constructor function for defining properties(attributes). It runs everytime when new object is created\n",
    "        self.name = name\n",
    "        self.color = color\n",
    "        self.model = model\n",
    "        self.average = p_average\n",
    "        self.speed = speed\n",
    "        print(self)  # location of newly created object\n",
    "        print(\"New car object created\")\n",
    "\n",
    "    def do_break(self):\n",
    "        print(\"I stop the car\")\n",
    "\n",
    "    def accelerate(self):\n",
    "        print(f\"Accelerate at max speed of {self.speed}\")\n",
    "\n",
    "\n",
    "car1 = Car(\"Vitz\", \"Blue\", 2021, 10.5, 240)  # car1 is an instance of Car\n",
    "car2 = Car(\"City\", \"White\", 2023, 11.5, 220)  # car1 is an instance of Car\n",
    "\n",
    "\n",
    "car1.do_break()\n",
    "print(car1.color)\n",
    "print(car2.color)\n",
    "car2.accelerate()"
   ]
  },
  {
   "cell_type": "code",
   "execution_count": null,
   "id": "f86caaa0",
   "metadata": {},
   "outputs": [
    {
     "name": "stdout",
     "output_type": "stream",
     "text": [
      "xyz\n",
      "Abc\n"
     ]
    }
   ],
   "source": [
    "# generally not preferred to have same name of class attribute and object attribute\n",
    "class Class:\n",
    "    schoolName = \"Abc\"\n",
    "\n",
    "    def __init__(self, schoolName):\n",
    "        self.schoolName = schoolName\n",
    "\n",
    "\n",
    "class1 = Class(\"xyz\")\n",
    "print(\n",
    "    class1.schoolName\n",
    ")  # the same name class attribute replaces it with object attribute\n",
    "print(\n",
    "    Class.schoolName\n",
    ")  # it returns the same as we accessed it directly from class, not from its instance"
   ]
  },
  {
   "cell_type": "code",
   "execution_count": 4,
   "id": "6ea0056c",
   "metadata": {},
   "outputs": [
    {
     "name": "stdout",
     "output_type": "stream",
     "text": [
      "<__main__.Car object at 0x0000019DE2A4D010>\n",
      "<__main__.Car object at 0x0000019DE2836850>\n"
     ]
    }
   ],
   "source": [
    "# the location of the which we are printing here is same as the object which we are  printing in init function\n",
    "print(car1)\n",
    "print(car2)"
   ]
  },
  {
   "cell_type": "code",
   "execution_count": null,
   "id": "c696d4e8",
   "metadata": {},
   "outputs": [
    {
     "name": "stdout",
     "output_type": "stream",
     "text": [
      "ABC university\n"
     ]
    }
   ],
   "source": [
    "# Static methods\n",
    "\n",
    "\n",
    "class Student:\n",
    "    @staticmethod  # decorator (changes the behaviour of a normal function\n",
    "    def university():\n",
    "        print(\"ABC university\")\n",
    "\n",
    "    def __init__(self, name):\n",
    "        self.name = name\n",
    "\n",
    "    def nameOfStud(self):\n",
    "        print(f\"{self.name}\")\n",
    "\n",
    "\n",
    "std1 = Student(\"Ali\")\n",
    "std1.university()"
   ]
  },
  {
   "cell_type": "code",
   "execution_count": null,
   "id": "d43978d6",
   "metadata": {},
   "outputs": [],
   "source": [
    "# del keyword (delete obj properties or obj itself)\n",
    "class Student:\n",
    "    def __init__(self, name):\n",
    "        self.name = name\n",
    "\n",
    "\n",
    "s1 = Student(\"Shahzaib\")\n",
    "print(s1.name)\n",
    "del s1.name\n",
    "# print(s1.name)  # will return error \"has no attribute name\""
   ]
  },
  {
   "cell_type": "markdown",
   "id": "0beff25d",
   "metadata": {},
   "source": [
    "# Encapsulation\n"
   ]
  },
  {
   "cell_type": "code",
   "execution_count": null,
   "id": "bbe1a446",
   "metadata": {},
   "outputs": [
    {
     "name": "stdout",
     "output_type": "stream",
     "text": [
      "Shahab\n",
      "Username: Shahab\n",
      "Shahab is Sleeping\n",
      "2000\n",
      "Accessed using special method: 2000\n",
      "4000\n"
     ]
    }
   ],
   "source": [
    "\"\"\"Encapsulation (providing a public access to the secrets using method)\"\"\"\n",
    "\n",
    "\n",
    "class Person:\n",
    "    def __init__(self, name, height, weight, secret):\n",
    "        self._name = name  # protected property (should be accessed within class and its sub-classes)\n",
    "        self.height = height\n",
    "        self.weight = weight\n",
    "        self.__secret = secret  # private property (we can get outside using getter function or using special method)\n",
    "\n",
    "    def get_name(self):\n",
    "        return f\"Username: {self._name}\"\n",
    "\n",
    "    def sleep(self):\n",
    "        return f\"{self._name} is Sleeping\"\n",
    "\n",
    "    def eat(self):\n",
    "        print(\"Eating\")\n",
    "\n",
    "    def get_secret(self):\n",
    "        return self.__secret\n",
    "\n",
    "    def update_secret(self):\n",
    "        self.__secret = 4000\n",
    "\n",
    "\n",
    "person1 = Person(\"Shahab\", 6.2, 67, 2000)\n",
    "print(\n",
    "    person1._name\n",
    ")  # ⚠️ Valid, but discouraged by convention(because its a protected property)\n",
    "print(person1.get_name())  # ✅ Valid\n",
    "\n",
    "print(person1.sleep())\n",
    "# print(person1.__secret)  # returns error because it's a private property and we cannot access it directly\n",
    "\n",
    "print(person1.get_secret())  # can be access directly using getter function\n",
    "\n",
    "print(\n",
    "    f\"Accessed using special method: {person1._Person__secret}\"\n",
    ")  # this is a specific method for accessing private property\n",
    "\n",
    "person1.update_secret()\n",
    "\n",
    "print(person1.get_secret())"
   ]
  },
  {
   "cell_type": "markdown",
   "id": "7851dfb6",
   "metadata": {},
   "source": [
    "#### Encapsulation Example # 02\n"
   ]
  },
  {
   "cell_type": "code",
   "execution_count": null,
   "id": "3e86d15b",
   "metadata": {},
   "outputs": [
    {
     "name": "stdout",
     "output_type": "stream",
     "text": [
      "21312\n",
      "Account Password: 56756721\n",
      "Resetted Password: new23323\n"
     ]
    }
   ],
   "source": [
    "class Account:\n",
    "    def __init__(self, accountNo, accountPass):\n",
    "        self.accountNo = accountNo\n",
    "        self.__accountPass = accountPass\n",
    "\n",
    "    def getAccountPass(self):\n",
    "        return self.__accountPass\n",
    "\n",
    "    def reset_pass(self, password):\n",
    "        self.__accountPass = password\n",
    "        print(f\"Resetted Password: {self.__accountPass}\")\n",
    "\n",
    "\n",
    "user1 = Account(\"21312\", 56756721)\n",
    "print(user1.accountNo)\n",
    "# print(user1.__accountPass) # will return error because its a private property\n",
    "print(f\"Account Password: {user1.getAccountPass()}\")\n",
    "\n",
    "user1.reset_pass(\"new23323\")"
   ]
  },
  {
   "cell_type": "markdown",
   "id": "229a1c90",
   "metadata": {},
   "source": [
    "# Inheritance\n"
   ]
  },
  {
   "cell_type": "code",
   "execution_count": null,
   "id": "ff14a7d0",
   "metadata": {},
   "outputs": [
    {
     "name": "stdout",
     "output_type": "stream",
     "text": [
      "Sameer\n",
      "Eating\n",
      "Sameer is playing\n",
      "Sameer is running\n",
      "not required for child\n"
     ]
    }
   ],
   "source": [
    "\"\"\"Inheritance allows a class (child class) to inherit attributes and methods from another class (parent class)\"\"\"\n",
    "\n",
    "\n",
    "# Example # 1\n",
    "class Child(Person):\n",
    "    def __init__(self, name, height, weight, running):\n",
    "        super().__init__(\n",
    "            name, height, weight, \"not required for child\"\n",
    "        )  # constructor fuunction for getting accessing of parent class\n",
    "        self.running = running\n",
    "\n",
    "    def play(self):\n",
    "        print(f\"{self._name} is playing\")\n",
    "        pass\n",
    "\n",
    "    def isBoyRunning(self):\n",
    "        print(f\"{self._name} is running\") if self.running else print(\"Not Running\")\n",
    "\n",
    "\n",
    "b1 = Child(\"Sameer\", 5.3, 65, True)\n",
    "print(b1._name)\n",
    "b1.eat()  # inherited from Person class\n",
    "b1.play()\n",
    "b1.isBoyRunning()\n",
    "print(\n",
    "    b1.get_secret()\n",
    ")  # now giving the value which we hard coded as we don't required it"
   ]
  },
  {
   "cell_type": "markdown",
   "id": "4277eb7c",
   "metadata": {},
   "source": [
    "### Inheritance example # 2\n"
   ]
  },
  {
   "cell_type": "code",
   "execution_count": null,
   "id": "c0afef89",
   "metadata": {},
   "outputs": [],
   "source": [
    "class Vehicle:\n",
    "    def __init__(self, type, model, color, speed, trackingNum):\n",
    "        self.type = type\n",
    "        self.model = model\n",
    "        self.color = color\n",
    "        self._speed = speed  # protected property\n",
    "        self.__tracking_num = trackingNum  # private property\n",
    "\n",
    "    def vehicleDetails(self):\n",
    "        return f\"Type: {self.type}, {self.model}, {self.color} in colour\"\n",
    "\n",
    "    def get_tracking_num(self):\n",
    "        return self.__tracking_num\n",
    "\n",
    "    def accelerate(self):\n",
    "        self._speed += 10\n",
    "\n",
    "    def driving_speed(self):\n",
    "        return f\"Driving speed = {self._speed}kph\""
   ]
  },
  {
   "cell_type": "markdown",
   "id": "5b806fcc",
   "metadata": {},
   "source": [
    "#### Car Example\n"
   ]
  },
  {
   "cell_type": "code",
   "execution_count": 13,
   "id": "9304585d",
   "metadata": {},
   "outputs": [
    {
     "name": "stdout",
     "output_type": "stream",
     "text": [
      "4239978\n",
      "Driving speed = 140kph\n"
     ]
    }
   ],
   "source": [
    "class Car(Vehicle):\n",
    "    brand = \"Kia\"  ## class attribute or static attribute\n",
    "\n",
    "    def __init__(self, type, model, color, speed, trackingNum):\n",
    "        super().__init__(type, model, color, speed, trackingNum)\n",
    "\n",
    "    @staticmethod\n",
    "    def start():\n",
    "        print(\"Car started\")\n",
    "\n",
    "    @staticmethod\n",
    "    def stop():\n",
    "        print(\"Car stopped\")\n",
    "\n",
    "\n",
    "car1 = Car(\"Car\", \"Sportage\", \"white\", 90, 4239978)\n",
    "print(car1.get_tracking_num())\n",
    "\n",
    "for i in range(5):\n",
    "    car1.accelerate()\n",
    "\n",
    "print(car1.driving_speed())"
   ]
  },
  {
   "cell_type": "code",
   "execution_count": 16,
   "id": "400827a8",
   "metadata": {},
   "outputs": [
    {
     "name": "stdout",
     "output_type": "stream",
     "text": [
      "Car started\n",
      "2423423\n",
      "Honda\n"
     ]
    }
   ],
   "source": [
    "class HondaCar(Car):\n",
    "    company = \"Honda\"\n",
    "    def __init__(self, type, model, color, speed, trackingNum):\n",
    "        super().__init__(type, model, color, speed, trackingNum)\n",
    "\n",
    "t1 = HondaCar(\"Car\",\"City\", \"white\", 240, 2423423,)\n",
    "t1.start()\n",
    "print(t1.get_tracking_num())\n",
    "print(t1.company)"
   ]
  },
  {
   "cell_type": "markdown",
   "id": "60eb95b8",
   "metadata": {},
   "source": [
    "#### Truck Example\n"
   ]
  },
  {
   "cell_type": "code",
   "execution_count": null,
   "id": "23c504d5",
   "metadata": {},
   "outputs": [
    {
     "name": "stdout",
     "output_type": "stream",
     "text": [
      "Type: Truck, Daewoo H4-Truck, Grey in colour\n",
      "Not registered yet\n",
      "Before-> Driving speed = 60kph\n",
      "Driving speed = 90kph\n"
     ]
    }
   ],
   "source": [
    "class Truck(Vehicle):\n",
    "    def __init__(self, type, company, model, color, speed):\n",
    "        super().__init__(type, company, model, color, speed, \"Not registered yet\")\n",
    "\n",
    "\n",
    "truck1 = Truck(\"Truck\", \"Daewoo\", \"H4-Truck\", \"Grey\", 60)\n",
    "print(truck1.vehicleDetails())\n",
    "print(truck1.get_tracking_num())\n",
    "\n",
    "print(f\"Before-> {truck1.driving_speed()}\")\n",
    "\n",
    "for i in range(3):\n",
    "    truck1.accelerate()\n",
    "\n",
    "print(truck1.driving_speed())"
   ]
  },
  {
   "cell_type": "markdown",
   "id": "54543943",
   "metadata": {},
   "source": [
    "## Abstraction\n"
   ]
  },
  {
   "cell_type": "code",
   "execution_count": null,
   "id": "ff28d237",
   "metadata": {},
   "outputs": [
    {
     "name": "stdout",
     "output_type": "stream",
     "text": [
      "Amount withdrawed succeessfully\n",
      "Your remaining balance is 12000.0\n"
     ]
    }
   ],
   "source": [
    "\"\"\"Abstraction means hiding complex implementation details and exposing only the necessary features of an object\"\"\"\n",
    "\n",
    "\n",
    "# Example of Abstraction\n",
    "class ATM:\n",
    "    def __init__(self, balance):\n",
    "        self.balance = balance\n",
    "\n",
    "    def startATM(self):\n",
    "        operationNum = int(\n",
    "            input(\n",
    "                \"\"\"Enter the number of operation which you want to perform\\n\n",
    "            1. Withdraw\\n2. Check Balance\"\"\"\n",
    "            )\n",
    "        )\n",
    "        if operationNum == 1:\n",
    "            self.checkBalance()\n",
    "        elif operationNum == 2:\n",
    "            amountToWithdraw = float(input(\"Enter the amount you want to withdraw\"))\n",
    "            self.withdrawAmount(amountToWithdraw)\n",
    "\n",
    "    def checkBalance(self):\n",
    "        print(f\"Your current balance is {self.balance}\")\n",
    "\n",
    "    def withdrawAmount(self, amountToWithdraw):\n",
    "        if (\n",
    "            self.balance < amountToWithdraw\n",
    "        ):  # complex details are hidden under a method and showing only to user which he needs\n",
    "            print(\"Your current balance is less than the amount you want to withdraw\")\n",
    "        else:\n",
    "            self.balance -= amountToWithdraw\n",
    "            print(\n",
    "                f\"Amount withdrawed succeessfully\\nYour remaining balance is {self.balance}\"\n",
    "            )\n",
    "\n",
    "\n",
    "user1 = ATM(23000)\n",
    "user1.startATM()"
   ]
  },
  {
   "cell_type": "code",
   "execution_count": null,
   "id": "b1806826",
   "metadata": {},
   "outputs": [
    {
     "name": "stdout",
     "output_type": "stream",
     "text": [
      "The animal is Cow. It's age is 3.5 and it's color is brown. It's weight is 92.3kgs\n",
      "Sahiwal\n",
      "Returning from class\n"
     ]
    }
   ],
   "source": [
    "class Animal:\n",
    "    birthPlace = \"Sahiwal\"\n",
    "\n",
    "    def __init__(self, name, color, age):\n",
    "        self.name = name\n",
    "        self.color = color\n",
    "        self.age = age\n",
    "\n",
    "    def print_animal(self, weight):\n",
    "        print(\n",
    "            f\"The animal is {self.name}. It's age is {self.age} and it's color is {self.color}. It's weight is {weight}kgs\"\n",
    "        )\n",
    "\n",
    "    def __str__(self):  # this function is used for returning something from class\n",
    "        return \"Returning from class\"\n",
    "\n",
    "\n",
    "animal1 = Animal(\n",
    "    \"Cow\", \"brown\", 3.5\n",
    ")  # jab bhi object initialize hota ha __init__ call hoga\n",
    "animal1.print_animal(92.3)\n",
    "print(animal1.birthPlace)\n",
    "print(animal1)"
   ]
  },
  {
   "cell_type": "code",
   "execution_count": null,
   "id": "e100a471",
   "metadata": {},
   "outputs": [
    {
     "ename": "RuntimeError",
     "evalue": "super(): no arguments",
     "output_type": "error",
     "traceback": [
      "\u001b[31m---------------------------------------------------------------------------\u001b[39m",
      "\u001b[31mRuntimeError\u001b[39m                              Traceback (most recent call last)",
      "\u001b[36mCell\u001b[39m\u001b[36m \u001b[39m\u001b[32mIn[48]\u001b[39m\u001b[32m, line 1\u001b[39m\n\u001b[32m----> \u001b[39m\u001b[32m1\u001b[39m \u001b[38;5;28;43;01mclass\u001b[39;49;00m\u001b[38;5;250;43m \u001b[39;49m\u001b[34;43;01mCat\u001b[39;49;00m\u001b[43m(\u001b[49m\u001b[43mAnimal\u001b[49m\u001b[43m)\u001b[49m\u001b[43m:\u001b[49m\u001b[43m \u001b[49m\u001b[38;5;66;43;03m# inheriting Animal's class\u001b[39;49;00m\n\u001b[32m      2\u001b[39m \u001b[43m    \u001b[49m\u001b[38;5;28;43msuper\u001b[39;49m\u001b[43m(\u001b[49m\u001b[43m)\u001b[49m\u001b[43m.\u001b[49m\u001b[43m__init\u001b[49m\n\u001b[32m      3\u001b[39m \u001b[43m    \u001b[49m\u001b[38;5;28;43;01mdef\u001b[39;49;00m\u001b[38;5;250;43m \u001b[39;49m\u001b[34;43mprint_cat\u001b[39;49m\u001b[43m(\u001b[49m\u001b[38;5;28;43mself\u001b[39;49m\u001b[43m)\u001b[49m\u001b[43m:\u001b[49m\n",
      "\u001b[36mCell\u001b[39m\u001b[36m \u001b[39m\u001b[32mIn[48]\u001b[39m\u001b[32m, line 2\u001b[39m, in \u001b[36mCat\u001b[39m\u001b[34m()\u001b[39m\n\u001b[32m      1\u001b[39m \u001b[38;5;28;01mclass\u001b[39;00m\u001b[38;5;250m \u001b[39m\u001b[34;01mCat\u001b[39;00m(Animal): \u001b[38;5;66;03m# inheriting Animal's class\u001b[39;00m\n\u001b[32m----> \u001b[39m\u001b[32m2\u001b[39m     \u001b[38;5;28;43msuper\u001b[39;49m\u001b[43m(\u001b[49m\u001b[43m)\u001b[49m.__init\n\u001b[32m      3\u001b[39m     \u001b[38;5;28;01mdef\u001b[39;00m\u001b[38;5;250m \u001b[39m\u001b[34mprint_cat\u001b[39m(\u001b[38;5;28mself\u001b[39m):\n\u001b[32m      4\u001b[39m         \u001b[38;5;28mprint\u001b[39m(\u001b[33mf\u001b[39m\u001b[33m\"\u001b[39m\u001b[33mPrinting this name inherited from Animal\u001b[39m\u001b[33m'\u001b[39m\u001b[33ms class: \u001b[39m\u001b[38;5;132;01m{\u001b[39;00m\u001b[38;5;28mself\u001b[39m.name\u001b[38;5;132;01m}\u001b[39;00m\u001b[33m\"\u001b[39m)\n",
      "\u001b[31mRuntimeError\u001b[39m: super(): no arguments"
     ]
    }
   ],
   "source": [
    "class Cat(Animal):  # inheriting Animal's class\n",
    "    super().__init\n",
    "\n",
    "    def print_cat(self):\n",
    "        print(f\"Printing this name inherited from Animal's class: {self.name}\")"
   ]
  },
  {
   "cell_type": "code",
   "execution_count": null,
   "id": "3d4ba488",
   "metadata": {},
   "outputs": [
    {
     "name": "stdout",
     "output_type": "stream",
     "text": [
      "Printing this name inherited from Animal's class: Miyauu\n",
      "The animal is Miyauu. It's age is 2 and it's color is white. It's weight is 2.5kgs\n"
     ]
    }
   ],
   "source": [
    "cat1 = Cat(\"Miyauu\", \"white\", 2)\n",
    "cat1.print_cat()\n",
    "cat1.print_animal(2.5)"
   ]
  },
  {
   "cell_type": "code",
   "execution_count": null,
   "id": "f2d6e1ed",
   "metadata": {},
   "outputs": [],
   "source": [
    "# ENCAPSULATION\n",
    "class Person:\n",
    "    def __init__(self, name, age):\n",
    "        self.name = name\n",
    "        self.__age = age  # private property\n",
    "\n",
    "    # getter function\n",
    "    def get_age(self):\n",
    "        return self.__age\n",
    "\n",
    "    def set_age(self, age):\n",
    "        self.__age = age\n",
    "        return self.__age\n",
    "\n",
    "    def __userCredentials(self, email):\n",
    "        print(f\"Username: {self.name}\\nEmail: {email}\")\n",
    "\n",
    "    def printUserCredentials(self, email):\n",
    "        self.__userCredentials(email)\n",
    "\n",
    "\n",
    "p1 = Person(\"Shan\", 23)"
   ]
  },
  {
   "cell_type": "code",
   "execution_count": null,
   "id": "e8fda2d0",
   "metadata": {},
   "outputs": [],
   "source": [
    "print(p1.name)\n",
    "print(\n",
    "    p1.__age\n",
    ")  # returns error because it is protected method (double underscore is used for private __)"
   ]
  },
  {
   "cell_type": "code",
   "execution_count": null,
   "id": "030ed8a3",
   "metadata": {},
   "outputs": [
    {
     "name": "stdout",
     "output_type": "stream",
     "text": [
      "Current age: 37\n",
      "The updated age is: 37\n"
     ]
    }
   ],
   "source": [
    "# we can get and set age using getter function\n",
    "print(f\"Current age: {p1.get_age()}\")\n",
    "setAge = p1.set_age(37)\n",
    "print(f\"The updated age is: {setAge}\")"
   ]
  },
  {
   "cell_type": "code",
   "execution_count": null,
   "id": "310eb9b6",
   "metadata": {},
   "outputs": [
    {
     "name": "stdout",
     "output_type": "stream",
     "text": [
      "It is a private property: 37\n"
     ]
    }
   ],
   "source": [
    "# we can get private property like this outside class:\n",
    "print(f\"It is a private property: {p1._Person__age}\")"
   ]
  },
  {
   "cell_type": "code",
   "execution_count": null,
   "id": "d15a6f1a",
   "metadata": {},
   "outputs": [
    {
     "name": "stdout",
     "output_type": "stream",
     "text": [
      "Username: Shan\n",
      "Email: abc@gmail.com\n"
     ]
    }
   ],
   "source": [
    "# p1.__userCredentials(\"abc@gmail.com\")   # returns error because it is a private method\n",
    "\n",
    "# printing private method(function) using getter function\n",
    "p1.printUserCredentials(\"abc@gmail.com\")"
   ]
  },
  {
   "cell_type": "code",
   "execution_count": null,
   "id": "dc8ea2f1",
   "metadata": {},
   "outputs": [
    {
     "name": "stdout",
     "output_type": "stream",
     "text": [
      "Abc\n",
      "i am class attribute\n"
     ]
    }
   ],
   "source": [
    "class Testing:\n",
    "    class_attr = \"i am class attribute\"\n",
    "\n",
    "    def __init__(self):\n",
    "        self.name = \"Abc\"\n",
    "\n",
    "    def print_properties(self):\n",
    "        print(self.name)\n",
    "        print(self.class_attr)\n",
    "\n",
    "\n",
    "t1 = Testing().print_properties()"
   ]
  }
 ],
 "metadata": {
  "kernelspec": {
   "display_name": "Python 3",
   "language": "python",
   "name": "python3"
  },
  "language_info": {
   "codemirror_mode": {
    "name": "ipython",
    "version": 3
   },
   "file_extension": ".py",
   "mimetype": "text/x-python",
   "name": "python",
   "nbconvert_exporter": "python",
   "pygments_lexer": "ipython3",
   "version": "3.13.2"
  }
 },
 "nbformat": 4,
 "nbformat_minor": 5
}
