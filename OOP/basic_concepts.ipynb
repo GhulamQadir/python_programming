{
 "cells": [
  {
   "cell_type": "code",
   "execution_count": 1,
   "id": "bbe1a446",
   "metadata": {},
   "outputs": [
    {
     "name": "stdout",
     "output_type": "stream",
     "text": [
      "Hi Ali, Welcome to the course of Python\n"
     ]
    }
   ],
   "source": [
    "class Person():\n",
    "    def __init__(self,name,age):\n",
    "        self.firstName=name\n",
    "        self.age=age\n",
    "\n",
    "    def printName(self,course):\n",
    "        print(f\"Hi {self.firstName}, Welcome to the course of {course}\")\n",
    "\n",
    "p1=Person(\"Ali\",23)\n",
    "p1.printName(\"Python\")"
   ]
  },
  {
   "cell_type": "code",
   "execution_count": 3,
   "id": "b1806826",
   "metadata": {},
   "outputs": [
    {
     "name": "stdout",
     "output_type": "stream",
     "text": [
      "The animal is Cow. It's age is 3.5 and it's color is brown. It's weight is 92.3kgs\n",
      "Sahiwal\n",
      "Returning from class\n"
     ]
    }
   ],
   "source": [
    "class Animal():\n",
    "    birthPlace=\"Sahiwal\"\n",
    "    def __init__(self, name,color,age):\n",
    "        self.name=name\n",
    "        self.color=color\n",
    "        self.age=age\n",
    "    def print_animal(self, weight):\n",
    "        print(f\"The animal is {self.name}. It's age is {self.age} and it's color is {self.color}. It's weight is {weight}kgs\")\n",
    "    \n",
    "    def __str__(self):  # this function is used for returning something from class\n",
    "        return \"Returning from class\" \n",
    "animal1 = Animal(\"Cow\",\"brown\",3.5)    # jab bhi object initialize hota ha __init__ call hoga\n",
    "animal1.print_animal(92.3)\n",
    "print(animal1.birthPlace)\n",
    "print(animal1)"
   ]
  },
  {
   "cell_type": "code",
   "execution_count": 6,
   "id": "e100a471",
   "metadata": {},
   "outputs": [],
   "source": [
    "class Cat(Animal): # inheriting Animal's class\n",
    "    def print_cat(self):\n",
    "        print(f\"Printing this name inherited from Animal's class: {self.name}\")"
   ]
  },
  {
   "cell_type": "code",
   "execution_count": 13,
   "id": "3d4ba488",
   "metadata": {},
   "outputs": [
    {
     "name": "stdout",
     "output_type": "stream",
     "text": [
      "Printing this name inherited from Animal's class: Miyauu\n",
      "The animal is Miyauu. It's age is 2 and it's color is white. It's weight is 2.5kgs\n"
     ]
    }
   ],
   "source": [
    "cat1 = Cat(\"Miyauu\",\"white\",2)\n",
    "cat1.print_cat()\n",
    "cat1.print_animal(2.5)"
   ]
  },
  {
   "cell_type": "code",
   "execution_count": 35,
   "id": "f2d6e1ed",
   "metadata": {},
   "outputs": [],
   "source": [
    "# ENCAPSULATION\n",
    "class Person:\n",
    "    def __init__(self,name,age):\n",
    "        self.name=name\n",
    "        self.__age=age # property\n",
    "\n",
    "    # getter function\n",
    "    def get_age(self):\n",
    "        return self.__age\n",
    "    \n",
    "    def set_age(self,age):\n",
    "        self.__age=age\n",
    "        return self.__age\n",
    "    \n",
    "    def __userCredentials(self,email):\n",
    "        print(f\"Username: {self.name}\\nEmail: {email}\")\n",
    "\n",
    "    def printUserCredentials(self,email):\n",
    "        self.__userCredentials(email)   \n",
    "p1=Person(\"Shan\",23)"
   ]
  },
  {
   "cell_type": "code",
   "execution_count": null,
   "id": "e8fda2d0",
   "metadata": {},
   "outputs": [],
   "source": [
    "print(p1.name)\n",
    "print(p1.__age) # returns error because it is protected method (double underscore is used for private __)"
   ]
  },
  {
   "cell_type": "code",
   "execution_count": 28,
   "id": "030ed8a3",
   "metadata": {},
   "outputs": [
    {
     "name": "stdout",
     "output_type": "stream",
     "text": [
      "Current age: 23\n",
      "The updated age is: 37\n"
     ]
    }
   ],
   "source": [
    "# we can get and age using getter function\n",
    "print(f\"Current age: {p1.get_age()}\")\n",
    "setAge = p1.set_age(37)\n",
    "print(f\"The updated age is: {setAge}\")"
   ]
  },
  {
   "cell_type": "code",
   "execution_count": 30,
   "id": "310eb9b6",
   "metadata": {},
   "outputs": [
    {
     "name": "stdout",
     "output_type": "stream",
     "text": [
      "It is a private property: 37\n"
     ]
    }
   ],
   "source": [
    "# we can get private property like this outside class: \n",
    "print(f\"It is a private property: {p1._Person__age}\")"
   ]
  },
  {
   "cell_type": "code",
   "execution_count": 36,
   "id": "d15a6f1a",
   "metadata": {},
   "outputs": [
    {
     "name": "stdout",
     "output_type": "stream",
     "text": [
      "Username: Shan\n",
      "Email: abc@gmail.com\n"
     ]
    }
   ],
   "source": [
    "# p1.__userCredentials(\"abc@gmail.com\")   # returns error because it is a private method\n",
    "\n",
    "# printing private method(function) using getter function\n",
    "p1.printUserCredentials(\"abc@gmail.com\")"
   ]
  }
 ],
 "metadata": {
  "kernelspec": {
   "display_name": "Python 3",
   "language": "python",
   "name": "python3"
  },
  "language_info": {
   "codemirror_mode": {
    "name": "ipython",
    "version": 3
   },
   "file_extension": ".py",
   "mimetype": "text/x-python",
   "name": "python",
   "nbconvert_exporter": "python",
   "pygments_lexer": "ipython3",
   "version": "3.13.2"
  }
 },
 "nbformat": 4,
 "nbformat_minor": 5
}
