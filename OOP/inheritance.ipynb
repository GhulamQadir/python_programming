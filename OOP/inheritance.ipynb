{
 "cells": [
  {
   "cell_type": "markdown",
   "id": "44bb375c",
   "metadata": {},
   "source": [
    "### Inheritance\n",
    "* Inheritance allows a class (child class) to inherit attributes and methods from another class (parent class)"
   ]
  },
  {
   "cell_type": "code",
   "execution_count": null,
   "id": "3e982f22",
   "metadata": {},
   "outputs": [],
   "source": [
    "class Person:\n",
    "    def __init__(self, name, height, weight, secret):\n",
    "        self._name = name  # protected property (should be accessed within class and its sub-classes)\n",
    "        self.height = height\n",
    "        self.weight = weight\n",
    "        self.__secret = secret  # private property (we can get outside using getter function or using special method)\n",
    "\n",
    "    def get_name(self):\n",
    "        return f\"Username: {self._name}\"\n",
    "\n",
    "    def sleep(self):\n",
    "        return f\"{self._name} is Sleeping\"\n",
    "\n",
    "    def eat(self):\n",
    "        print(\"Eating\")\n",
    "\n",
    "    def get_secret(self):\n",
    "        return self.__secret\n",
    "\n",
    "    def update_secret(self):\n",
    "        self.__secret = 4000"
   ]
  },
  {
   "cell_type": "markdown",
   "id": "83222580",
   "metadata": {},
   "source": [
    "##### Single-level Inheritance"
   ]
  },
  {
   "cell_type": "code",
   "execution_count": null,
   "id": "76740622",
   "metadata": {},
   "outputs": [],
   "source": [
    "# Example # 1\n",
    "class Child(Person):\n",
    "    def __init__(self, name, height, weight, running):\n",
    "        super().__init__(\n",
    "            name, height, weight, \"not required for child\"\n",
    "        )  # constructor fuunction for getting accessing of parent class\n",
    "        self.running = running\n",
    "\n",
    "    def play(self):\n",
    "        print(f\"{self._name} is playing\")\n",
    "        pass\n",
    "\n",
    "    def isBoyRunning(self):\n",
    "        print(f\"{self._name} is running\") if self.running else print(\"Not Running\")\n",
    "\n",
    "\n",
    "b1 = Child(\"Sameer\", 5.3, 65, True)\n",
    "print(b1._name)\n",
    "b1.eat()  # inherited from Person class\n",
    "b1.play()\n",
    "b1.isBoyRunning()\n",
    "print(\n",
    "    b1.get_secret()\n",
    ")  # now giving the value which we hard coded as we don't required it"
   ]
  },
  {
   "cell_type": "markdown",
   "id": "2430498e",
   "metadata": {},
   "source": [
    "#### Multi-level Inheritance"
   ]
  },
  {
   "cell_type": "code",
   "execution_count": 5,
   "id": "8b8d922d",
   "metadata": {},
   "outputs": [
    {
     "name": "stdout",
     "output_type": "stream",
     "text": [
      "4239978\n",
      "Driving speed = 140kph\n"
     ]
    }
   ],
   "source": [
    "class Vehicle:\n",
    "    def __init__(self, type, model, color, speed, trackingNum):\n",
    "        self.type = type\n",
    "        self.model = model\n",
    "        self.color = color\n",
    "        self._speed = speed  # protected property\n",
    "        self.__tracking_num = trackingNum  # private property\n",
    "\n",
    "    def vehicleDetails(self):\n",
    "        return f\"Type: {self.type}, {self.model}, {self.color} in colour\"\n",
    "\n",
    "    def get_tracking_num(self):\n",
    "        return self.__tracking_num\n",
    "\n",
    "    def accelerate(self):\n",
    "        self._speed += 10\n",
    "\n",
    "    def driving_speed(self):\n",
    "        return f\"Driving speed = {self._speed}kph\"\n",
    "    \n",
    "    \n",
    "class Car(Vehicle):\n",
    "    brand = \"Kia\"  ## class attribute or static attribute\n",
    "\n",
    "    def __init__(self, type, model, color, speed, trackingNum):\n",
    "        super().__init__(type, model, color, speed, trackingNum)\n",
    "\n",
    "    @staticmethod\n",
    "    def start():\n",
    "        print(\"Car started\")\n",
    "\n",
    "    @staticmethod\n",
    "    def stop():\n",
    "        print(\"Car stopped\")\n",
    "\n",
    "\n",
    "car1 = Car(\"Car\", \"Sportage\", \"white\", 90, 4239978)\n",
    "print(car1.get_tracking_num())\n",
    "\n",
    "for i in range(5):\n",
    "    car1.accelerate()\n",
    "\n",
    "print(car1.driving_speed())"
   ]
  },
  {
   "cell_type": "code",
   "execution_count": 3,
   "id": "73c63928",
   "metadata": {},
   "outputs": [
    {
     "name": "stdout",
     "output_type": "stream",
     "text": [
      "Car started\n",
      "2423423\n",
      "Honda\n"
     ]
    }
   ],
   "source": [
    "class HondaCar(Car):\n",
    "    company = \"Honda\"\n",
    "    def __init__(self, type, model, color, speed, trackingNum):\n",
    "        super().__init__(type, model, color, speed, trackingNum)\n",
    "\n",
    "t1 = HondaCar(\"Car\",\"City\", \"white\", 240, 2423423,)\n",
    "t1.start()\n",
    "print(t1.get_tracking_num())\n",
    "print(t1.company)"
   ]
  },
  {
   "cell_type": "markdown",
   "id": "8d17a9a5",
   "metadata": {},
   "source": [
    "##### Truck Example"
   ]
  },
  {
   "cell_type": "code",
   "execution_count": 7,
   "id": "fd04303f",
   "metadata": {},
   "outputs": [
    {
     "name": "stdout",
     "output_type": "stream",
     "text": [
      "Type: Truck, H4-Truck, Grey in colour\n",
      "Not registered yet\n",
      "Before-> Driving speed = 60kph\n",
      "Driving speed = 90kph\n"
     ]
    }
   ],
   "source": [
    "class Truck(Vehicle):\n",
    "    def __init__(self, type, model, color, speed):\n",
    "        super().__init__(type, model, color, speed, \"Not registered yet\")\n",
    "\n",
    "\n",
    "truck1 = Truck(\"Truck\", \"H4-Truck\", \"Grey\", 60)\n",
    "print(truck1.vehicleDetails())\n",
    "print(truck1.get_tracking_num())\n",
    "\n",
    "print(f\"Before-> {truck1.driving_speed()}\")\n",
    "\n",
    "for i in range(3):\n",
    "    truck1.accelerate()\n",
    "\n",
    "print(truck1.driving_speed())"
   ]
  }
 ],
 "metadata": {
  "kernelspec": {
   "display_name": "Python 3",
   "language": "python",
   "name": "python3"
  },
  "language_info": {
   "codemirror_mode": {
    "name": "ipython",
    "version": 3
   },
   "file_extension": ".py",
   "mimetype": "text/x-python",
   "name": "python",
   "nbconvert_exporter": "python",
   "pygments_lexer": "ipython3",
   "version": "3.13.2"
  }
 },
 "nbformat": 4,
 "nbformat_minor": 5
}
