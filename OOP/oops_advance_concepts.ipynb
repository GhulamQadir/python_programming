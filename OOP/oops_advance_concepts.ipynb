{
 "cells": [
  {
   "cell_type": "markdown",
   "id": "ac48c394",
   "metadata": {},
   "source": [
    "## Composition & Aggregation"
   ]
  },
  {
   "cell_type": "markdown",
   "id": "6edd5c8e",
   "metadata": {},
   "source": [
    "#### 1. Composition\n",
    "* Composition is a \"has-a\" relationship where one class owns another class, and the lifetime of the contained object depends on the container object.\n",
    "* If the outer object is destroyed, the inner (contained) object is also destroyed."
   ]
  },
  {
   "cell_type": "code",
   "execution_count": null,
   "id": "789e0d9a",
   "metadata": {},
   "outputs": [
    {
     "name": "stdout",
     "output_type": "stream",
     "text": [
      "heart is pumping\n",
      "heart is pumping\n"
     ]
    }
   ],
   "source": [
    "class Heart:\n",
    "    def __init__(self):\n",
    "        self.beats = True\n",
    "        \n",
    "    def pump(self):\n",
    "        print(\"heart is pumping\")\n",
    "        \n",
    "class Person:\n",
    "    def __init__(self):\n",
    "        self.heart = Heart()\n",
    "    \n",
    "    def live(self):\n",
    "        self.heart.pump()\n",
    "        \n",
    "p1= Person()\n",
    "p1.live()\n",
    "del p1\n",
    "# p1.heart.pump()  error: because the Object is destroyed"
   ]
  },
  {
   "cell_type": "markdown",
   "id": "7e4eabe3",
   "metadata": {},
   "source": [
    "#### Aggregation\n",
    "* Aggregation is also a \"has-a\" relationship, but the contained object can live independently of the container.\n",
    "* If the outer object is destroyed, the inner object can still exist."
   ]
  },
  {
   "cell_type": "code",
   "execution_count": 13,
   "id": "8ce64f34",
   "metadata": {},
   "outputs": [
    {
     "name": "stdout",
     "output_type": "stream",
     "text": [
      "Ali\n",
      "Shaham\n",
      "\n",
      " Ali\n",
      "Shaham\n"
     ]
    }
   ],
   "source": [
    "class Student:\n",
    "    def __init__(self,name):\n",
    "        self.name = name\n",
    "        \n",
    "class Department:\n",
    "    def __init__(self,students):\n",
    "        self.students  =students      \n",
    "        \n",
    "    def show_students(self):\n",
    "        for student in self.students:\n",
    "            print(student.name)\n",
    "\n",
    "s1 = Student(\"Ali\")  \n",
    "s2 = Student(\"Shaham\")  \n",
    "\n",
    "dept=Department([s1,s2])\n",
    "dept.show_students()\n",
    "del dept\n",
    "\n",
    "# we have deleted the department but the students still exist\n",
    "print(\"\\n\",s1.name)\n",
    "print(s2.name)"
   ]
  }
 ],
 "metadata": {
  "kernelspec": {
   "display_name": "Python 3",
   "language": "python",
   "name": "python3"
  },
  "language_info": {
   "codemirror_mode": {
    "name": "ipython",
    "version": 3
   },
   "file_extension": ".py",
   "mimetype": "text/x-python",
   "name": "python",
   "nbconvert_exporter": "python",
   "pygments_lexer": "ipython3",
   "version": "3.13.2"
  }
 },
 "nbformat": 4,
 "nbformat_minor": 5
}
