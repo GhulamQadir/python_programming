{
 "cells": [
  {
   "cell_type": "markdown",
   "id": "4dde410a",
   "metadata": {},
   "source": [
    "# Polymorphism\n",
    "\n",
    "- Poly means \"many\" and \"morph\" means \"forms or faces\". So, Polymorphism literally means \"many forms\".\n"
   ]
  },
  {
   "cell_type": "markdown",
   "id": "38627a99",
   "metadata": {},
   "source": [
    "## Types of Polymorphism\n",
    "1. Operator Overloading\n",
    "2. Method Overriding\n",
    "3. Duck Typing"
   ]
  },
  {
   "cell_type": "markdown",
   "id": "998f3ec3",
   "metadata": {},
   "source": [
    "## **1. Operator Overloading**\n",
    "\n",
    "- When the same oprator is allowed to have different meaning according to context\n",
    "\n",
    "1. Implicit Overloading\n"
   ]
  },
  {
   "cell_type": "code",
   "execution_count": 2,
   "id": "fffcb76e",
   "metadata": {},
   "outputs": [
    {
     "name": "stdout",
     "output_type": "stream",
     "text": [
      "3\n",
      "<class 'int'> \n",
      "\n",
      "learningoops\n",
      "<class 'str'> \n",
      "\n",
      "[13, 2, 4, 4, 5, 6]\n",
      "<class 'list'>\n"
     ]
    },
    {
     "data": {
      "text/plain": [
       "'The operator is same but behaves differently according to data types'"
      ]
     },
     "execution_count": 2,
     "metadata": {},
     "output_type": "execute_result"
    }
   ],
   "source": [
    "print(1 + 2)  # add\n",
    "print(type(1), \"\\n\")  # the meaning of '+' operator is defined in the class \"int\"\n",
    "\n",
    "print(\"learning\" + \"oops\")  # concatenate\n",
    "print(type(\"oops\"), \"\\n\")  # the meaning of '+' operator is defined in the class \"str\"\n",
    "\n",
    "print([13, 2, 4] + [4, 5, 6])  # merge\n",
    "print(\n",
    "    type([4, 5, 6])\n",
    ")  # the meaning of '+' operator is defined in the class \"list\" is already\n",
    "\n",
    "\"\"\"The operator is same but behaves differently according to data types\"\"\""
   ]
  },
  {
   "cell_type": "markdown",
   "id": "6fe075a1",
   "metadata": {},
   "source": [
    "#### Creating class for Complex number\n"
   ]
  },
  {
   "cell_type": "code",
   "execution_count": 3,
   "id": "19d7aa74",
   "metadata": {},
   "outputs": [
    {
     "name": "stdout",
     "output_type": "stream",
     "text": [
      "3i + 2j\n",
      "5i + 4j\n",
      "5\n",
      "4\n",
      "8i + 6j\n"
     ]
    }
   ],
   "source": [
    "class Complex:\n",
    "    def __init__(self, real, img):\n",
    "        self.real = real\n",
    "        self.img = img\n",
    "\n",
    "    def showNum(self):\n",
    "        print(f\"{self.real}i + {self.img}j\")\n",
    "\n",
    "    def add(self, num2):\n",
    "        newReal = self.real + num2.real\n",
    "        newImg = self.img + num2.img\n",
    "        return Complex(newReal, newImg)\n",
    "\n",
    "\n",
    "c1 = Complex(3, 2)\n",
    "c1.showNum()\n",
    "\n",
    "c2 = Complex(5, 4)\n",
    "c2.showNum()\n",
    "\n",
    "print(c2.real)\n",
    "print(c2.img)\n",
    "c3 = c1.add(c2)  # got Complex(newReal, newImg) on calling add function\n",
    "c3.showNum()\n",
    "\n",
    "# c3=c1+c2  -->Error: Unsupported operand type '+' for Complex and Complex"
   ]
  },
  {
   "cell_type": "markdown",
   "id": "6d637dfa",
   "metadata": {},
   "source": [
    "- Now I want the user to be able to add two complex numbers using the `+` operator directly. Instead of calling the `add()` function explicitly, the user should be able to write something like `c3 = c1 + c2` and get the result as a new complex number.\n"
   ]
  },
  {
   "cell_type": "markdown",
   "id": "ba666e28",
   "metadata": {},
   "source": [
    "### Using Dunder Function\n"
   ]
  },
  {
   "cell_type": "code",
   "execution_count": 4,
   "id": "c8611a90",
   "metadata": {},
   "outputs": [
    {
     "name": "stdout",
     "output_type": "stream",
     "text": [
      "3i + 5j\n",
      "7i + 2j\n",
      "After complex addition:\n",
      "10i + 7j\n"
     ]
    },
    {
     "data": {
      "text/plain": [
       "'When we did c3 = c1 + c2:\\nPython looks at the class of the left-hand operand (c1, which is an instance of Complex) and checks if that \\nclass defines a special method called:\\n__add__(self, other)\\nSo under the hood, this is what Python does:\\nc1.__add__(c2)\\n✅ If __add__ is defined in Complex, it uses it:\\n'"
      ]
     },
     "execution_count": 4,
     "metadata": {},
     "output_type": "execute_result"
    }
   ],
   "source": [
    "class Complex:\n",
    "    def __init__(self,real,img):\n",
    "        self.real=real\n",
    "        self.img=img\n",
    "\n",
    "    def showNum(self):\n",
    "        print(f\"{self.real}i + {self.img}j\")\n",
    "\n",
    "    def __add__(self, num2):   # dunder function using double underscore\n",
    "        newReal=self.real+num2.real\n",
    "        newImg=self.img+num2.img\n",
    "        return Complex(newReal,newImg)\n",
    "    \n",
    "    def __sub__(self,num2):\n",
    "        newReal=self.real-num2.real\n",
    "        newImg=self.img-num2.img\n",
    "        return Complex(newReal,newImg)\n",
    "\n",
    "c1=Complex(3,5)\n",
    "c1.showNum()\n",
    "\n",
    "c2=Complex(7,2)\n",
    "c2.showNum()\n",
    "\n",
    "c3=c1+c2\n",
    "print(\"After complex addition:\")\n",
    "c3.showNum()\n",
    "\n",
    "\"\"\"When we did c3 = c1 + c2:\n",
    "Python looks at the class of the left-hand operand (c1, which is an instance of Complex) and checks if that \n",
    "class defines a special method called:\n",
    "__add__(self, other)\n",
    "So under the hood, this is what Python does:\n",
    "c1.__add__(c2)\n",
    "✅ If __add__ is defined in Complex, it uses it:\n",
    "\"\"\""
   ]
  },
  {
   "cell_type": "markdown",
   "id": "808793b2",
   "metadata": {},
   "source": [
    "#### using __sub__ dunder method"
   ]
  },
  {
   "cell_type": "code",
   "execution_count": 7,
   "id": "f3723b37",
   "metadata": {},
   "outputs": [
    {
     "name": "stdout",
     "output_type": "stream",
     "text": [
      "-2i + 3j\n"
     ]
    },
    {
     "data": {
      "text/plain": [
       "'Python evaluates it from left to right:\\nStep 1: c3 - c2\\nPython calls: temp = c3.__sub__(c2)\\nThis returns a new Complex object, say temp = Complex(a, b)\\nStep 2: temp - Complex(5,2)\\nNow python evaluates: c4 = temp.__sub__(Complex(13, 4))\\nAnd stores the result in c4\\n'"
      ]
     },
     "execution_count": 7,
     "metadata": {},
     "output_type": "execute_result"
    }
   ],
   "source": [
    "\n",
    "c4=c3-c2-Complex(5,2)\n",
    "c4.showNum()\n",
    "\n",
    "\"\"\"Python evaluates it from left to right:\n",
    "Step 1: c3 - c2\n",
    "Python calls: temp = c3.__sub__(c2)\n",
    "This returns a new Complex object, say temp = Complex(a, b)\n",
    "Step 2: temp - Complex(5,2)\n",
    "Now python evaluates: c4 = temp.__sub__(Complex(13, 4))\n",
    "And stores the result in c4\n",
    "\"\"\""
   ]
  },
  {
   "cell_type": "code",
   "execution_count": 6,
   "id": "9bc3f085",
   "metadata": {},
   "outputs": [
    {
     "data": {
      "text/plain": [
       "\"Python tries to call:\\nc5 = c1.__add__(4)\\nBut 4 is not a Complex object — it's an int. And your __add__ method probably assumes the right-hand \\nside (other) has .real and .img attributes like a Complex object.\\nSo this causes an error like:\\nAttributeError: 'int' object has no attribute 'real'\\n\""
      ]
     },
     "execution_count": 6,
     "metadata": {},
     "output_type": "execute_result"
    }
   ],
   "source": [
    "# c5=c1+4  # error\n",
    "# c5.showNum()\n",
    "\n",
    "\"\"\"Python tries to call:\n",
    "c5 = c1.__add__(4)\n",
    "But 4 is not a Complex object — it's an int. And your __add__ method probably assumes the right-hand \n",
    "side (other) has .real and .img attributes like a Complex object.\n",
    "So this causes an error like:\n",
    "AttributeError: 'int' object has no attribute 'real'\n",
    "\"\"\""
   ]
  },
  {
   "cell_type": "markdown",
   "id": "c4742b31",
   "metadata": {},
   "source": [
    "## **2. Method Overriding**"
   ]
  },
  {
   "cell_type": "code",
   "execution_count": 31,
   "id": "6d68eed4",
   "metadata": {},
   "outputs": [],
   "source": [
    "from abc import ABC, abstractmethod\n",
    "\n",
    "class Employee(ABC):\n",
    "    @abstractmethod\n",
    "    def calculatePay(self):\n",
    "        pass\n",
    "\n",
    "class HourlyEmployee(Employee):\n",
    "    def __init__(self,hours_worked,hourly_rate):\n",
    "        self.hours_worked=hours_worked\n",
    "        self.hourly_rate=hourly_rate\n",
    "\n",
    "    def calculatePay(self):\n",
    "        return f\"Hourly Employee Pay: {self.hourly_rate*self.hours_worked}\"\n",
    "    \n",
    "class SalariedEmployee(Employee):\n",
    "    def __init__(self,annual_salary):\n",
    "        self.annual_salary=annual_salary\n",
    "\n",
    "    def calculatePay(self):\n",
    "        return f\"Salaried Employee Pay: {self.annual_salary/12}\""
   ]
  },
  {
   "cell_type": "code",
   "execution_count": 32,
   "id": "584f1198",
   "metadata": {},
   "outputs": [
    {
     "name": "stdout",
     "output_type": "stream",
     "text": [
      "Hourly Employee Pay: 23400\n",
      "Salaried Employee Pay: 41666.666666666664\n"
     ]
    }
   ],
   "source": [
    "# calculate salary\n",
    "def calcSalary(employee: Employee):\n",
    "    print(employee.calculatePay())\n",
    "\n",
    "e1=HourlyEmployee(78,300)\n",
    "e2=SalariedEmployee(500000)\n",
    "\n",
    "calcSalary(e1)\n",
    "calcSalary(e2)"
   ]
  },
  {
   "cell_type": "markdown",
   "id": "4ef8ac55",
   "metadata": {},
   "source": [
    "## 3. **Duck Typing**"
   ]
  },
  {
   "cell_type": "code",
   "execution_count": null,
   "id": "78ac7ae2",
   "metadata": {},
   "outputs": [],
   "source": []
  }
 ],
 "metadata": {
  "kernelspec": {
   "display_name": "Python 3",
   "language": "python",
   "name": "python3"
  },
  "language_info": {
   "codemirror_mode": {
    "name": "ipython",
    "version": 3
   },
   "file_extension": ".py",
   "mimetype": "text/x-python",
   "name": "python",
   "nbconvert_exporter": "python",
   "pygments_lexer": "ipython3",
   "version": "3.13.2"
  }
 },
 "nbformat": 4,
 "nbformat_minor": 5
}
