{
 "cells": [
  {
   "cell_type": "markdown",
   "id": "4dde410a",
   "metadata": {},
   "source": [
    "# Polymorphism\n",
    "* Poly means \"many\" and morph means \"forms or faces\". So, Polymorphism literally means \"many forms\"."
   ]
  }
 ],
 "metadata": {
  "language_info": {
   "name": "python"
  }
 },
 "nbformat": 4,
 "nbformat_minor": 5
}
