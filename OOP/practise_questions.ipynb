{
 "cells": [
  {
   "cell_type": "code",
   "execution_count": 1,
   "id": "a4054a17",
   "metadata": {},
   "outputs": [
    {
     "name": "stdout",
     "output_type": "stream",
     "text": [
      "Greetings Ali\n",
      "Your average score is:  77.0\n",
      "Greetings Shahid\n",
      "Your average score is:  52.0\n",
      "Greetings Sameer\n",
      "Your average score is:  77.0\n"
     ]
    }
   ],
   "source": [
    "# 1. Create student class that takes name and marks of 3 subjects and print their average\n",
    "\n",
    "class Student:\n",
    "    def __init__(self, name, marks):\n",
    "        self.name = name\n",
    "        self.marks = marks\n",
    "\n",
    "    def get_average(self):\n",
    "        total = 0\n",
    "        for score in self.marks:\n",
    "            total += score\n",
    "        print(f\"Greetings {self.name}\")\n",
    "        print(\"Your average score is: \", total / len(self.marks))\n",
    "\n",
    "\n",
    "std1 = Student(\"Ali\", [68, 92, 71])\n",
    "std1.get_average()\n",
    "\n",
    "std2 = Student(\"Shahid\", [83, 22, 51])\n",
    "std2.get_average()\n",
    "\n",
    "# can update value like this\n",
    "std1.name = \"Sameer\"\n",
    "std1.get_average()"
   ]
  },
  {
   "cell_type": "code",
   "execution_count": 25,
   "id": "e6c2ed08",
   "metadata": {},
   "outputs": [
    {
     "name": "stdout",
     "output_type": "stream",
     "text": [
      "User: 4327842\n",
      "Your current balance is: 40450\n",
      "Amount credited successfullly. Balance after credit: 42750\n",
      "Remaining Balance after debit: 22750\n",
      "\n",
      "\n",
      "User: 2311190\n",
      "Your current balance is: 33000\n",
      "Amount credited successfullly. Balance after credit: 37500\n",
      "Remaining Balance after debit: 27650\n"
     ]
    }
   ],
   "source": [
    "# Q2: Create Account class with two attributes - balance & account no. Create methods for debit, credit an printing the balance\n",
    "\n",
    "class Account:\n",
    "    def __init__(self, accountNo, balance):\n",
    "        self.accountNo = accountNo\n",
    "        self.balance = balance\n",
    "        print(f\"User: {self.accountNo}\")\n",
    "\n",
    "    # debit method\n",
    "    def debit(self, debitAmount):\n",
    "        if self.balance < debitAmount:\n",
    "            print(\"Your current balance is less than the amount you want to debit\")\n",
    "        else:\n",
    "            self.balance -= debitAmount\n",
    "            print(f\"Remaining Balance after debit: {self.checkBalance()}\")\n",
    "\n",
    "    # credit method\n",
    "    def credit(self, creditAmount):\n",
    "        if creditAmount > 0:\n",
    "            self.balance += creditAmount\n",
    "            print(f\"Amount credited successfullly. Balance after credit: {self.checkBalance()}\")\n",
    "\n",
    "    # check balance method\n",
    "    def checkBalance(self):\n",
    "        return self.balance\n",
    "\n",
    "\n",
    "user1 = Account(accountNo=4327842, balance=40450)\n",
    "print(f\"Your current balance is: {user1.checkBalance()}\")\n",
    "user1.credit(2300)\n",
    "user1.debit(20000)\n",
    "\n",
    "print(\"\\n\")\n",
    "\n",
    "user1 = Account(accountNo=2311190, balance=33000)\n",
    "print(f\"Your current balance is: {user1.checkBalance()}\")\n",
    "user1.credit(4500)\n",
    "user1.debit(9850)"
   ]
  },
  {
   "cell_type": "markdown",
   "id": "ff1489ed",
   "metadata": {},
   "source": [
    "### Calculate percentage"
   ]
  },
  {
   "cell_type": "code",
   "execution_count": 6,
   "id": "ed227ef8",
   "metadata": {},
   "outputs": [
    {
     "name": "stdout",
     "output_type": "stream",
     "text": [
      "74.33%\n"
     ]
    }
   ],
   "source": [
    "class Student:\n",
    "    def __init__(self,eng,urdu,maths):\n",
    "        self.eng=eng\n",
    "        self.urdu=urdu\n",
    "        self.maths=maths\n",
    "    \n",
    "    def calc_percentage(self):\n",
    "        percentage=round((float(self.eng+self.urdu+self.maths)/300)*100,2)\n",
    "        return f\"{percentage}%\"\n",
    "    \n",
    "std1=Student(78,82,63)\n",
    "print(std1.calc_percentage())"
   ]
  }
 ],
 "metadata": {
  "kernelspec": {
   "display_name": "Python 3",
   "language": "python",
   "name": "python3"
  },
  "language_info": {
   "codemirror_mode": {
    "name": "ipython",
    "version": 3
   },
   "file_extension": ".py",
   "mimetype": "text/x-python",
   "name": "python",
   "nbconvert_exporter": "python",
   "pygments_lexer": "ipython3",
   "version": "3.13.2"
  }
 },
 "nbformat": 4,
 "nbformat_minor": 5
}
