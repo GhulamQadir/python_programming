{
 "cells": [
  {
   "cell_type": "markdown",
   "id": "d1dbb63b",
   "metadata": {},
   "source": [
    "## Class and Object in OOP: Building Blueprint Example"
   ]
  },
  {
   "cell_type": "markdown",
   "id": "a6f4ea30",
   "metadata": {},
   "source": [
    "#### Imagine you're an architect, and you design a blueprint for a type of buildings in an apartment, all the buildings are of same sizes and same in flats structure"
   ]
  },
  {
   "cell_type": "markdown",
   "id": "e1b36465",
   "metadata": {},
   "source": [
    "### Class (Blueprint)\n",
    "##### In this analogy, the class is the blueprint itself. It defines the general structure and characteristics of the apartment buildings like:<br>1. Name of the Class: ApartmentBuilding\n",
    "#### 2. Attributes (Properties defined in the blueprint)<br>a. Number of floors<br>b. Number of apartments per floor<br>c. Total number of rooms<br> d. Area of each apartment\n",
    "\n",
    "#### 3. Methods (Functions defined in the blueprint):<br>a. calculate_total_apartments()<br>b. calculate_total_area()<br>c. estimate_cost_of_construction()"
   ]
  },
  {
   "cell_type": "markdown",
   "id": "82674183",
   "metadata": {},
   "source": [
    "### Object (Actual Building)\n",
    "##### An object is an actual, physical apartment building constructed from the blueprint. You can create multiple apartment buildings, each unique but based on the same ApartmentBuilding blueprint.\n",
    "\n",
    "### Examples:\n",
    "#### abc = ApaartmentBuilding(....) <br>xyz = ApaartmentBuilding(....)  "
   ]
  },
  {
   "cell_type": "markdown",
   "id": "7a7ca88e",
   "metadata": {},
   "source": [
    "\n",
    "\n",
    "### __init__ Function  (Constructor)\n",
    "#### init functon: All classes have a function called __init__(), which is always executed when the object is being initiated "
   ]
  }
 ],
 "metadata": {
  "kernelspec": {
   "display_name": "Python 3",
   "language": "python",
   "name": "python3"
  },
  "language_info": {
   "codemirror_mode": {
    "name": "ipython",
    "version": 3
   },
   "file_extension": ".py",
   "mimetype": "text/x-python",
   "name": "python",
   "nbconvert_exporter": "python",
   "pygments_lexer": "ipython3",
   "version": "3.13.2"
  }
 },
 "nbformat": 4,
 "nbformat_minor": 5
}
