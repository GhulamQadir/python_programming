{
 "cells": [
  {
   "cell_type": "markdown",
   "id": "d1dbb63b",
   "metadata": {},
   "source": [
    "## Class and Object in OOP: Building Blueprint Example"
   ]
  },
  {
   "cell_type": "markdown",
   "id": "a6f4ea30",
   "metadata": {},
   "source": [
    "##### Imagine you're an architect, and you design a blueprint for a type of buildings in an apartment, all the buildings are of same sizes and same in flats structure<br><br>"
   ]
  },
  {
   "cell_type": "markdown",
   "id": "e1b36465",
   "metadata": {},
   "source": [
    "### Class (Blueprint)\n",
    "##### Name of the Class: ApartmentBuilding\n",
    "* In this analogy, the class is the blueprint itself. It defines the general structure and characteristics of the apartment buildings like:<br>\n",
    "* Class is a collection of attributes and methods.\n",
    "\n",
    "#### 1. Attributes (Properties defined in the blueprint)\n",
    "* These are the data elements that each object of the class possesses<br>\n",
    "Number of floors<br>b. Number of apartments per floor<br>c. Total number of rooms<br> d. Area of each apartment<br>\n",
    "\n",
    "#### 2. Methods (Functions defined in the blueprint):\n",
    "* Methods are functions that belong to objects. Like a car can run fast, run fast is the act of car which the car can perform<br>a. calculate_total_apartments()<br>b. calculate_total_area()<br>c. estimate_cost_of_construction().<br><br>"
   ]
  },
  {
   "cell_type": "markdown",
   "id": "82674183",
   "metadata": {},
   "source": [
    "### Object (Actual Building)\n",
    "##### An object is an actual, physical apartment building constructed from the blueprint. You can create multiple apartment buildings, each unique but based on the same ApartmentBuilding blueprint.\n",
    "\n",
    "### Examples:\n",
    "#### abc = ApaartmentBuilding(....) <br>xyz = ApaartmentBuilding(....)  "
   ]
  },
  {
   "cell_type": "markdown",
   "id": "7a7ca88e",
   "metadata": {},
   "source": [
    "### __init__ Function  (Constructor)\n",
    "##### init functon: All classes have a function called __init__(), which is always executed when the object is being initiated. Constructor function's first parameter is self which represents the newly created object. The self parameter is a reference to the current instance of the class and is used to access variables that belongs to the class<br>\n",
    "* The data that is stored inside the class is called attribute or property\n",
    "* If we donot create construct(init function), python creates it by default at run time"
   ]
  },
  {
   "cell_type": "markdown",
   "id": "2f47e76b",
   "metadata": {},
   "source": [
    "### Class and Instance Attributes\n",
    "* Data which is different for each object of class is called instance attribute. Like:<br>self.name = name\n",
    "* Data which is same for all objects of a class like (school name) is called class attribute. Like:<br> schoolName = \"abc\"\n",
    "* If we have same name of class attribute and object attribute, the object attribute will have higher precedence than class and replaces it with the value of object attribute<br><br>"
   ]
  },
  {
   "cell_type": "markdown",
   "id": "eb7b1347",
   "metadata": {},
   "source": []
  },
  {
   "cell_type": "markdown",
   "id": "67dc0880",
   "metadata": {},
   "source": [
    "### Static Methods\n",
    "* Methods that don't use the self parameter (work at class level)<br><br><br>"
   ]
  },
  {
   "cell_type": "markdown",
   "id": "38a99923",
   "metadata": {},
   "source": [
    "## Four Pillars of OOP\n",
    "##### 1. Encapsulation<br>2. Inheritance<br>3. Polymorphism<br>4. Abstraction\n",
    "##### 1. Encapsulation\n",
    "* Wrapping data and functions into a single unit (object)\n",
    "* Providing a public access to the secrets using methods<br>\n",
    "\n",
    "##### 2. Abstraction\n",
    "* Abstraction means hiding complex implementation details and only showing the essential features to the user"
   ]
  }
 ],
 "metadata": {
  "kernelspec": {
   "display_name": "Python 3",
   "language": "python",
   "name": "python3"
  },
  "language_info": {
   "codemirror_mode": {
    "name": "ipython",
    "version": 3
   },
   "file_extension": ".py",
   "mimetype": "text/x-python",
   "name": "python",
   "nbconvert_exporter": "python",
   "pygments_lexer": "ipython3",
   "version": "3.13.2"
  }
 },
 "nbformat": 4,
 "nbformat_minor": 5
}
