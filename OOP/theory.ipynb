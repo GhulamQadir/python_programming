{
 "cells": [
  {
   "cell_type": "markdown",
   "id": "d1dbb63b",
   "metadata": {},
   "source": [
    "## Class and Object in OOP: Building Blueprint Example"
   ]
  },
  {
   "cell_type": "markdown",
   "id": "a6f4ea30",
   "metadata": {},
   "source": [
    "##### Imagine you're an architect, and you design a blueprint for a type of buildings in an apartment, all the buildings are of same sizes and same in flats structure<br><br>"
   ]
  },
  {
   "cell_type": "markdown",
   "id": "e1b36465",
   "metadata": {},
   "source": [
    "### Class (Blueprint)\n",
    "##### Name of the Class: ApartmentBuilding\n",
    "* In this analogy, the class is the blueprint itself. It defines the general structure and characteristics of the apartment buildings like:<br>\n",
    "* Class is a collection of attributes and methods.\n",
    "\n",
    "#### 1. Attributes (Properties defined in the blueprint)\n",
    "* These are the data elements that each object of the class possesses<br>\n",
    "a. Number of floors<br>b. Number of apartments per floor<br>c. Total number of rooms<br> d. Area of each apartment<br>\n",
    "\n",
    "#### 2. Methods (Functions defined in the blueprint):\n",
    "* Methods are functions that belong to objects. Like a car can run fast, run fast is the function of car which the car can perform<br>a. calculate_total_apartments()<br>b. calculate_total_area()<br>c. estimate_cost_of_construction().<br><br>"
   ]
  },
  {
   "cell_type": "markdown",
   "id": "42eca9fc",
   "metadata": {},
   "source": [
    "##### Types of Methods\n",
    "1. @static methods  -> can't access attributes of class or instance\n",
    "2. instance methods  -> (self)\n",
    "3. @class methods  -> (cls)\n",
    "#### 1. @static Method\n",
    "* Methods that don't use the self parameter (work at class level)\n",
    "#### 2. @class Method\n",
    "* Class methods operate on the class itself rather than on instances. They can access and modify class attributes.\n",
    "* A class method is bound to the class and receives the class as an implicit first argument\n",
    "* Note: static method can't access or modify class state and generally for utility\n",
    "* Used when we need to work with class attributes\n",
    "#### 3. Instance Method\n",
    "* Used when we need to work with instance attributes "
   ]
  },
  {
   "cell_type": "markdown",
   "id": "82674183",
   "metadata": {},
   "source": [
    "### Object (Actual Building)\n",
    "##### An object is an actual, physical apartment building constructed from the blueprint. You can create multiple apartment buildings, each unique but based on the same ApartmentBuilding blueprint.\n",
    "\n",
    "### Examples:\n",
    "#### abc = ApaartmentBuilding(....) <br>xyz = ApaartmentBuilding(....)  "
   ]
  },
  {
   "cell_type": "markdown",
   "id": "7a7ca88e",
   "metadata": {},
   "source": [
    "### __init__ Function  (Constructor)\n",
    "##### init functon: All classes have a function called __init__(), which is always executed when the object is being initiated. Constructor function's first parameter is self which represents the newly created object. The self parameter is a reference to the current instance of the class and is used to access variables that belongs to the class<br>\n",
    "* The data that is stored inside the class is called attribute or property\n",
    "* If we donot create construct(init function), python creates it by default at run time"
   ]
  },
  {
   "cell_type": "markdown",
   "id": "91cdb4b2",
   "metadata": {},
   "source": [
    "#### Super Method:\n",
    "* Used to access properties and methods of the parent class"
   ]
  },
  {
   "cell_type": "markdown",
   "id": "2f47e76b",
   "metadata": {},
   "source": [
    "### Class and Instance Attributes\n",
    "* Data which is different for each object of class is called instance attribute. Like:<br>self.name = name\n",
    "* Data which is same for all objects of a class like (school name) is called class attribute. Like:<br> schoolName = \"abc\"\n",
    "* If we have same name of class attribute and object attribute, the object attribute will have higher precedence than class and replaces it with the value of object attribute<br><br>"
   ]
  },
  {
   "cell_type": "markdown",
   "id": "38a99923",
   "metadata": {},
   "source": [
    "## Four Pillars of OOP\n",
    "##### 1. Encapsulation<br>2. Inheritance<br>3. Polymorphism<br>4. Abstraction\n",
    "##### 1. Encapsulation\n",
    "* Wrapping data and functions into a single unit (object)\n",
    "* Providing a public access to the secrets using methods<br>\n",
    "### **Access Modifiers: Public, Private, and Protected**\n",
    "\n",
    "In Python, access control is implemented using naming conventions rather than strict access modifiers like in other languages (e.g., Java or C++). Here’s how it works:\n",
    "\n",
    "1.  **Public**:\n",
    "  * Attributes and methods are accessible from anywhere.\n",
    "  * No special syntax is used.\n",
    "Example: name\n",
    "\n",
    "2.  **Protected**:\n",
    "  - Attributes and methods are intended for internal use within the class and its **subclasses**.\n",
    "  - A single underscore _ is used as a prefix.\n",
    "Example: _age\n",
    "\n",
    "3.  **Private**:\n",
    "  - Attributes and methods are accessible only within the class itself.\n",
    "  - A double underscore __ is used as a prefix.\n",
    "Example: __salary"
   ]
  },
  {
   "cell_type": "markdown",
   "id": "3547efab",
   "metadata": {},
   "source": [
    "## **2. Abstraction**\n",
    "* Abstraction means hiding complex implementation details and only showing the essential features to the user\n",
    "* del keyword:<br>Used to delete object properties or object itself\n",
    "\n",
    "#### **Abstract classes and methods**\n",
    "\n",
    "**Abstract Base Class (ABC)**\n",
    "* An abstract base class is a class that cannot be instantiated and is used to define a common interface for its subclasses. It may include abstract methods that must be implemented by any subclass.\n",
    "\n",
    "**Abstract Method**\n",
    "* An abstract method is a method that is declared but not implemented in the base class. Subclasses must override this method.\n",
    "\n",
    "##### **Key components:**\n",
    "\n",
    "1.  **ABC** makes the class abstract\n",
    "2.  **@abstractmethod** marks required methods\n",
    "3.  Child classes **must** implement all **abstract** **methods**"
   ]
  },
  {
   "cell_type": "markdown",
   "id": "394ca2e9",
   "metadata": {},
   "source": [
    "# **3. Inheritance**\n",
    "##### Allows child class to access properties and methods of a parent class\n",
    "**Single level Inheritance:** Access Properties from a single parent class<br><br>\n",
    "**Multi-level Inheritance:** Access properties from parent and grandparent classes<br><br>\n",
    "**Multiple Inheritance:** Access properties from multiple parent classes"
   ]
  },
  {
   "cell_type": "markdown",
   "id": "c516fa11",
   "metadata": {},
   "source": [
    "#### **@property** decorator\n",
    "* We use @property decorator on any method in the class to use the method as property"
   ]
  },
  {
   "cell_type": "markdown",
   "id": "a713987e",
   "metadata": {},
   "source": [
    "# **4. Polymorphism**\n",
    "* Poly means \"many\" and morph means \"forms or faces\". So, Polymorphism literally means \"many forms\"."
   ]
  },
  {
   "cell_type": "markdown",
   "id": "2c69e8e6",
   "metadata": {},
   "source": [
    "## **Types of Polymorphism**"
   ]
  },
  {
   "cell_type": "markdown",
   "id": "2fef779e",
   "metadata": {},
   "source": [
    "1. ### **Operator Overloading**\n",
    "* When the same oprator is allowed to have different meaning according to context"
   ]
  },
  {
   "cell_type": "markdown",
   "id": "b5e3ca0b",
   "metadata": {},
   "source": [
    "2. ### **Method Overriding:**\n",
    "A subclass provides a specific implementation of a method that is already defined in its superclass."
   ]
  },
  {
   "cell_type": "markdown",
   "id": "9309950e",
   "metadata": {},
   "source": [
    "3. ### **Duck Typing**\n",
    "Python uses duck typing, which means that the type or class of an object is determined by its behavior(methods and properties) rather than its inheritance. If an object behaves like a duck, it’s treated as a duck."
   ]
  },
  {
   "cell_type": "markdown",
   "id": "846acef5",
   "metadata": {},
   "source": [
    "# **The \\_\\_dict__ Attribute**\n",
    "\n",
    "Every class and instance in Python has a \\_\\_dict__ attribute, which is a dictionary that stores the attributes and their values. This is a useful way to inspect the attributes of a class or object."
   ]
  },
  {
   "cell_type": "markdown",
   "id": "623392aa",
   "metadata": {},
   "source": [
    "## Composition & Aggregation"
   ]
  },
  {
   "cell_type": "markdown",
   "id": "22b53562",
   "metadata": {},
   "source": [
    "#### **1. Composition**\n",
    "* Composition is a \"has-a\" relationship where one class owns another class, and the lifetime of the contained object depends on the container object.\n",
    "* If the outer object is destroyed, the inner (contained) object is also destroyed."
   ]
  },
  {
   "cell_type": "markdown",
   "id": "0d1e9026",
   "metadata": {},
   "source": [
    "#### **2. Aggregation**\n",
    "* Aggregation is also a \"has-a\" relationship, but the contained object can live independently of the container.\n",
    "* If the outer object is destroyed, the inner object can still exist."
   ]
  },
  {
   "cell_type": "markdown",
   "id": "9935480a",
   "metadata": {},
   "source": [
    "#  **Method Resolution Order (MRO)**\n",
    "\n",
    "**Method Resolution Order (MRO)** is the order in which Python searches for methods and attributes in a class hierarchy, especially in cases of multiple inheritance. It ensures that the correct method or attribute is found and called when there are overlapping names in the inheritance tree."
   ]
  },
  {
   "cell_type": "markdown",
   "id": "7810cd77",
   "metadata": {},
   "source": [
    "# **Decorators**\n",
    "Decorators allow us to modify or extended the behaviour of functions or methods. They are a way to extend the functionaltiy of a function or method without modifying its source code.\n",
    "\n",
    "A decorator is a function that takes another function as an argument and returns a new function that modifies the behaviour of the original function. The new function is often referred to as a decorated function."
   ]
  }
 ],
 "metadata": {
  "kernelspec": {
   "display_name": "Python 3",
   "language": "python",
   "name": "python3"
  },
  "language_info": {
   "codemirror_mode": {
    "name": "ipython",
    "version": 3
   },
   "file_extension": ".py",
   "mimetype": "text/x-python",
   "name": "python",
   "nbconvert_exporter": "python",
   "pygments_lexer": "ipython3",
   "version": "3.13.2"
  }
 },
 "nbformat": 4,
 "nbformat_minor": 5
}
