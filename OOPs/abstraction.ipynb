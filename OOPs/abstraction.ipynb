{
 "cells": [
  {
   "cell_type": "markdown",
   "id": "78b8dd47",
   "metadata": {},
   "source": [
    "## Abstraction\n",
    "* Abstraction means hiding complex implementation details and exposing only the necessary features of an object"
   ]
  },
  {
   "cell_type": "code",
   "execution_count": 2,
   "id": "ff774b29",
   "metadata": {},
   "outputs": [
    {
     "name": "stdout",
     "output_type": "stream",
     "text": [
      "Amount withdrawed succeessfully\n",
      "Your remaining balance is 10500.0\n"
     ]
    }
   ],
   "source": [
    "class ATM:\n",
    "    def __init__(self, balance):\n",
    "        self.balance = balance\n",
    "\n",
    "    def startATM(self):\n",
    "        operationNum = int(\n",
    "            input(\n",
    "                \"\"\"Enter the number of operation which you want to perform\\n\n",
    "            1. Withdraw\\n2. Check Balance\"\"\"\n",
    "            )\n",
    "        )\n",
    "        if operationNum == 1:\n",
    "            self.checkBalance()\n",
    "        elif operationNum == 2:\n",
    "            amountToWithdraw = float(input(\"Enter the amount you want to withdraw\"))\n",
    "            self.withdrawAmount(amountToWithdraw)\n",
    "\n",
    "    def checkBalance(self):\n",
    "        print(f\"Your current balance is {self.balance}\")\n",
    "\n",
    "    def withdrawAmount(self, amountToWithdraw):\n",
    "        if (\n",
    "            self.balance < amountToWithdraw\n",
    "        ):  # complex details are hidden under a method and showing only to user which he needs\n",
    "            print(\"Your current balance is less than the amount you want to withdraw\")\n",
    "        else:\n",
    "            self.balance -= amountToWithdraw\n",
    "            print(\n",
    "                f\"Amount withdrawed succeessfully\\nYour remaining balance is {self.balance}\"\n",
    "            )\n",
    "\n",
    "\n",
    "user1 = ATM(23000)\n",
    "user1.startATM()"
   ]
  },
  {
   "cell_type": "markdown",
   "id": "bd3e6d55",
   "metadata": {},
   "source": [
    "# **Abstract classes and methods**\n",
    "\n",
    "## 🔹 Abstract Base Class (ABC)\n",
    "* An abstract base class is a class that cannot be instantiated and is used to define a common interface for its subclasses. It may include abstract methods that must be implemented by any subclass.\n",
    "\n",
    "## 🔹 Abstract Method\n",
    "* An abstract method is a method that is declared but not implemented in the base class. Subclasses must override this method.\n",
    "\n",
    "#### **Key components:**\n",
    "\n",
    "1.  **ABC** makes the class abstract\n",
    "\n",
    "2.  **@abstractmethod** marks required methods\n",
    "\n",
    "3.  Child classes **must** implement all **abstract** **methods**"
   ]
  },
  {
   "cell_type": "code",
   "execution_count": 1,
   "id": "fa5bd158",
   "metadata": {},
   "outputs": [],
   "source": [
    "from abc import ABC, abstractmethod\n",
    "\n",
    "class Shape(ABC):\n",
    "    @abstractmethod\n",
    "    def area():\n",
    "        pass\n",
    "\n",
    "class Circle(Shape):\n",
    "    PI=3.14\n",
    "    def __init__(self,radius):\n",
    "        self.radius= radius\n",
    "    \n",
    "    def area(self):\n",
    "        return f\"Area of Circle is: {self.PI*self.radius**2}\"\n",
    "\n",
    "\n",
    "class Square(Shape):\n",
    "    def __init__(self,length):\n",
    "        self.length =length\n",
    "\n",
    "    def area(self):\n",
    "       return f\"Area of Square is: {self.length**2}\"\n",
    "    \n",
    "class Triangle(Shape):\n",
    "    def __init__(self,base,height):\n",
    "        self.base =base\n",
    "        self.height=height\n",
    "\n",
    "    def area(self):\n",
    "       return f\"Area of triangle is: {(self.base*self.height)/2 }\"   "
   ]
  },
  {
   "cell_type": "code",
   "execution_count": 2,
   "id": "82cea3f8",
   "metadata": {},
   "outputs": [
    {
     "name": "stdout",
     "output_type": "stream",
     "text": [
      "Area of Square is: 9\n",
      "Area of triangle is: 10.0\n",
      "Area of Circle is: 50.24\n"
     ]
    }
   ],
   "source": [
    "# calculating area of multiple shapes\n",
    "def calcArea(shape: Shape):\n",
    "    print(shape.area())\n",
    "\n",
    "\n",
    "sq1=Square(3)\n",
    "c1=Circle(4)\n",
    "tr1=Triangle(4,5)\n",
    "\n",
    "calcArea(sq1)\n",
    "calcArea(tr1)\n",
    "calcArea(c1)\n",
    "del sq1  # deleting sq1 object\n",
    "# calcArea(sq1)  # returns error because sq1 is destructed above "
   ]
  }
 ],
 "metadata": {
  "kernelspec": {
   "display_name": "Python 3",
   "language": "python",
   "name": "python3"
  },
  "language_info": {
   "codemirror_mode": {
    "name": "ipython",
    "version": 3
   },
   "file_extension": ".py",
   "mimetype": "text/x-python",
   "name": "python",
   "nbconvert_exporter": "python",
   "pygments_lexer": "ipython3",
   "version": "3.13.2"
  }
 },
 "nbformat": 4,
 "nbformat_minor": 5
}
