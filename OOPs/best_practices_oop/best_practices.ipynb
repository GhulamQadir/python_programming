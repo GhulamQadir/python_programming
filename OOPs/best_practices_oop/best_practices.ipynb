{
 "cells": [
  {
   "cell_type": "markdown",
   "id": "d560cf57",
   "metadata": {},
   "source": [
    "# **SOLID Principles in Python**\n",
    "\n",
    "The **SOLID principles** are a set of five design principles that help developers write maintainable and scalable code. They are:"
   ]
  },
  {
   "cell_type": "markdown",
   "id": "46f05bc7",
   "metadata": {},
   "source": [
    "1. **Single Responsibility Principle (SRP):**\n",
    "\n",
    "A class should have only one reason to change, meaning it should have only one responsibility.<br>\n",
    "One class = One responsibility"
   ]
  },
  {
   "cell_type": "code",
   "execution_count": 48,
   "id": "cc5a120e",
   "metadata": {},
   "outputs": [],
   "source": [
    "users = [\"user1\",\"user2\",\"user3\",\"user4\"]\n",
    "class LibraryManager():\n",
    "    books_issued = {}\n",
    "    books = [\"Urdu\",\"English\",\"Economics\",\"Physics\",\"Mathematics\",\"Social Sciences\"]\n",
    "    \n",
    "    def __init__(self,user):\n",
    "        self.user=user\n",
    "    \n",
    "    def issue_book(self,book):\n",
    "        user =self.user\n",
    "        if book in self.books:\n",
    "            if user in self.books_issued:\n",
    "                self.books_issued[user].append({book:\"02/03/2025\"})\n",
    "                self.books.remove(book)\n",
    "                print(self.books)\n",
    "            else:\n",
    "                self.books_issued[user] = [{book: \"02/03/2025\"}]\n",
    "                self.books.remove(book)\n",
    "                print(self.books)\n",
    "        \n",
    "    def return_book(self,book_to_return):\n",
    "        for i,books in enumerate(self.books_issued[self.user]):\n",
    "            if book_to_return in books:\n",
    "                del self.books_issued[self.user][i]\n",
    "                self.books.append(book_to_return)\n",
    "                break\n",
    "        print(self.books_issued)\n",
    "        print(self.books)"
   ]
  },
  {
   "cell_type": "code",
   "execution_count": 49,
   "id": "73c3a80a",
   "metadata": {},
   "outputs": [
    {
     "name": "stdout",
     "output_type": "stream",
     "text": [
      "['Urdu', 'Economics', 'Physics', 'Mathematics', 'Social Sciences']\n",
      "['Economics', 'Physics', 'Mathematics', 'Social Sciences']\n"
     ]
    }
   ],
   "source": [
    "user1 = LibraryManager(\"user1\")\n",
    "user1.issue_book(\"English\")\n",
    "user1.issue_book(\"Urdu\")"
   ]
  },
  {
   "cell_type": "code",
   "execution_count": 50,
   "id": "bbb1ea29",
   "metadata": {},
   "outputs": [
    {
     "name": "stdout",
     "output_type": "stream",
     "text": [
      "{'user1': [{'English': '02/03/2025'}]}\n",
      "['Economics', 'Physics', 'Mathematics', 'Social Sciences', 'Urdu']\n"
     ]
    }
   ],
   "source": [
    "user1.return_book(\"Urdu\")"
   ]
  },
  {
   "cell_type": "code",
   "execution_count": null,
   "id": "60644da7",
   "metadata": {},
   "outputs": [
    {
     "name": "stdout",
     "output_type": "stream",
     "text": [
      "{'user1': [{'English': '02/03/2025'}]}\n",
      "['Economics', 'Physics', 'Mathematics', 'Social Sciences', 'Urdu']\n"
     ]
    }
   ],
   "source": [
    "user1.return_book(\"Urdu\")   "
   ]
  }
 ],
 "metadata": {
  "kernelspec": {
   "display_name": "Python 3",
   "language": "python",
   "name": "python3"
  },
  "language_info": {
   "codemirror_mode": {
    "name": "ipython",
    "version": 3
   },
   "file_extension": ".py",
   "mimetype": "text/x-python",
   "name": "python",
   "nbconvert_exporter": "python",
   "pygments_lexer": "ipython3",
   "version": "3.13.2"
  }
 },
 "nbformat": 4,
 "nbformat_minor": 5
}
