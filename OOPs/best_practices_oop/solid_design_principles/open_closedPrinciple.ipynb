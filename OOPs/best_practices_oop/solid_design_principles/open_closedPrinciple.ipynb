{
 "cells": [
  {
   "cell_type": "markdown",
   "id": "9cf3e8b5",
   "metadata": {},
   "source": [
    "**Open/Closed Principle (OCP):**\n",
    "    A class should be open for extension but closed for modification. You should be able to add new functionality without changing existing code."
   ]
  },
  {
   "cell_type": "code",
   "execution_count": 1,
   "id": "e2fc1684",
   "metadata": {},
   "outputs": [],
   "source": [
    "class DiscountCalculator:\n",
    "    def calculate(self, order_type, amount):\n",
    "        if order_type == \"flat\":\n",
    "            return amount - 50\n",
    "        elif order_type == \"percentage\":\n",
    "            return amount * 0.9\n",
    "        elif order_type == \"none\":\n",
    "            return amount"
   ]
  },
  {
   "cell_type": "markdown",
   "id": "aebe83bd",
   "metadata": {},
   "source": [
    "## **Now Modified Type**"
   ]
  },
  {
   "cell_type": "code",
   "execution_count": 7,
   "id": "f6957480",
   "metadata": {},
   "outputs": [
    {
     "name": "stdout",
     "output_type": "stream",
     "text": [
      "250\n",
      "360.0\n",
      "200\n"
     ]
    }
   ],
   "source": [
    "from abc import ABC, abstractmethod\n",
    "\n",
    "class DiscountStrategy(ABC):\n",
    "    @abstractmethod\n",
    "    def discount(self, amount):\n",
    "        pass\n",
    "    \n",
    "class FlatDiscount(DiscountStrategy):\n",
    "    def discount(self, amount):\n",
    "        return amount-50\n",
    "\n",
    "class PercentageDiscount(DiscountStrategy):\n",
    "    def discount(self, amount):\n",
    "        return amount * 0.9\n",
    "\n",
    "class NoDiscount(DiscountStrategy):\n",
    "    def discount(self, amount):\n",
    "        return amount\n",
    "\n",
    "class DiscountCalculator:\n",
    "    def __init__(self, strategy):\n",
    "        self.strategy = strategy\n",
    "    \n",
    "    def calc_discount(self, amount):\n",
    "        return self.strategy.discount(amount)\n",
    "    \n",
    "calculator = DiscountCalculator(FlatDiscount())\n",
    "print(calculator.calc_discount(300))\n",
    "\n",
    "calculator = DiscountCalculator(PercentageDiscount())\n",
    "print(calculator.calc_discount(400))\n",
    "\n",
    "calculator = DiscountCalculator(NoDiscount())\n",
    "print(calculator.calc_discount(200))"
   ]
  }
 ],
 "metadata": {
  "kernelspec": {
   "display_name": "Python 3",
   "language": "python",
   "name": "python3"
  },
  "language_info": {
   "codemirror_mode": {
    "name": "ipython",
    "version": 3
   },
   "file_extension": ".py",
   "mimetype": "text/x-python",
   "name": "python",
   "nbconvert_exporter": "python",
   "pygments_lexer": "ipython3",
   "version": "3.13.2"
  }
 },
 "nbformat": 4,
 "nbformat_minor": 5
}
