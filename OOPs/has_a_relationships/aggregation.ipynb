{
 "cells": [
  {
   "cell_type": "markdown",
   "id": "049ec343",
   "metadata": {},
   "source": [
    "## **Aggregation**\n",
    "- Aggregation is a type of HAS-A relationship between two classes in object-oriented programming. It represents a \"whole-part\" relationship where the child (part) can exist independently of the parent (whole).\n",
    "- If the outer object is destroyed, the inner object can still exist."
   ]
  },
  {
   "cell_type": "markdown",
   "id": "ebbe1239",
   "metadata": {},
   "source": [
    "#### 1. **Department & Professors** "
   ]
  },
  {
   "cell_type": "code",
   "execution_count": 1,
   "id": "e1c7ce7b",
   "metadata": {},
   "outputs": [
    {
     "name": "stdout",
     "output_type": "stream",
     "text": [
      "Computer Science\n",
      "Name: Sir Shahid, Subject: Calculus\n",
      "Name: Sir Ali, Subject: Programming Fundamentals\n",
      "Name: Sir Imran, Subject: ICT\n"
     ]
    },
    {
     "data": {
      "text/plain": [
       "'\\nProfessor class can exist independently.\\nDepartment class has professors.\\nEven if cs_department is deleted, p1 and p2 (professors) still exist in memory.'"
      ]
     },
     "execution_count": 1,
     "metadata": {},
     "output_type": "execute_result"
    }
   ],
   "source": [
    "class Professor:\n",
    "    def __init__(self, name, subject):\n",
    "        self.name = name\n",
    "        self.subject = subject\n",
    "        \n",
    "    def display_professor(self):\n",
    "        print(f\"Name: {self.name}, Subject: {self.subject}\")\n",
    "        \n",
    "class Department:\n",
    "    def __init__(self,name):\n",
    "        self.name = name  \n",
    "        self.professors = []  \n",
    "\n",
    "    def add_professor(self, professor):\n",
    "        self.professors.append(professor)\n",
    "        \n",
    "    def show_professors(self):\n",
    "        print(self.name)\n",
    "        for professor in self.professors:\n",
    "            professor.display_professor()\n",
    "        \n",
    "        \n",
    "# Create department        \n",
    "cs_depart = Department(\"Computer Science\")\n",
    "\n",
    "# Creating professors (independent of department)\n",
    "professor1 = Professor(\"Sir Shahid\", \"Calculus\")\n",
    "professor2 = Professor(\"Sir Ali\", \"Programming Fundamentals\")\n",
    "professor3 = Professor(\"Sir Imran\", \"ICT\")\n",
    "\n",
    "# Add professors to department\n",
    "cs_depart.add_professor(professor1)\n",
    "cs_depart.add_professor(professor2)\n",
    "cs_depart.add_professor(professor3)\n",
    "\n",
    "# Display department and professors\n",
    "cs_depart.show_professors()\n",
    "\n",
    "\"\"\"\n",
    "Professor class can exist independently.\n",
    "Department class has professors.\n",
    "Even if cs_department is deleted, p1 and p2 (professors) still exist in memory.\"\"\""
   ]
  },
  {
   "cell_type": "markdown",
   "id": "89218e14",
   "metadata": {},
   "source": [
    "#### 2. **Hospital & Doctors** "
   ]
  },
  {
   "cell_type": "code",
   "execution_count": 2,
   "id": "1d811f07",
   "metadata": {},
   "outputs": [
    {
     "name": "stdout",
     "output_type": "stream",
     "text": [
      "Name: Dr.Rizwan, Speciality: Orthopedic\n",
      "Name: Dr.Ali, Speciality: Journal Physician\n"
     ]
    }
   ],
   "source": [
    "class Hospital:\n",
    "    def __init__(self, name):\n",
    "        self.name = name\n",
    "        self.doctors = []\n",
    "        \n",
    "    def add_doctor(self, doctor):\n",
    "        self.doctors.append(doctor)\n",
    "        \n",
    "    def show_doctors(self):\n",
    "        for doctor in self.doctors:\n",
    "            doctor.display_doctor()\n",
    "       \n",
    "        \n",
    "class Doctor:\n",
    "    def __init__(self, name, speciality):\n",
    "        self.name = name\n",
    "        self.speciality = speciality\n",
    "        \n",
    "    def display_doctor(self):\n",
    "        print(f\"Name: {self.name}, Speciality: {self.speciality}\")\n",
    "        \n",
    "\n",
    "# Creating Hospital\n",
    "south_city_hospital = Hospital(\"South City\")\n",
    "\n",
    "# Creating doctors (independent of Hospital)\n",
    "doctor1 = Doctor(\"Dr.Rizwan\", \"Orthopedic\")\n",
    "doctor2 = Doctor(\"Dr.Ali\", \"Journal Physician\")\n",
    "\n",
    "# Add doctors to hospital\n",
    "south_city_hospital.add_doctor(doctor1)\n",
    "south_city_hospital.add_doctor(doctor2)\n",
    "\n",
    "# Display professors\n",
    "south_city_hospital.show_doctors()"
   ]
  }
 ],
 "metadata": {
  "kernelspec": {
   "display_name": "Python 3",
   "language": "python",
   "name": "python3"
  },
  "language_info": {
   "codemirror_mode": {
    "name": "ipython",
    "version": 3
   },
   "file_extension": ".py",
   "mimetype": "text/x-python",
   "name": "python",
   "nbconvert_exporter": "python",
   "pygments_lexer": "ipython3",
   "version": "3.13.2"
  }
 },
 "nbformat": 4,
 "nbformat_minor": 5
}
