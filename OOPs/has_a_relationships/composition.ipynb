{
 "cells": [
  {
   "cell_type": "markdown",
   "id": "af442a72",
   "metadata": {},
   "source": [
    "## **1. Composition**\n",
    "- Composition is a strong **Has-A** or we can say **Owns-A** relationship between two classes in object-oriented programming where the part (child) is completely dependent on the whole (parent).\n",
    "- If the parent is destroyed, the child does not exist anymore.\n",
    "- The parent class owns the child class object(s), and the lifecycle of the child is tightly bound to the parent.\n",
    "- If the outer object is destroyed, the inner (contained) object is also destroyed."
   ]
  },
  {
   "cell_type": "markdown",
   "id": "3f748dfc",
   "metadata": {},
   "source": [
    "### 1. **Car Example**"
   ]
  },
  {
   "cell_type": "code",
   "execution_count": 21,
   "id": "f49072e1",
   "metadata": {},
   "outputs": [],
   "source": [
    "# Engine class to represent the engine of a car\n",
    "class Engine:\n",
    "    def __init__(self, horse_power):\n",
    "        self.horse_power = horse_power\n",
    "\n",
    "# Wheel class to represent a wheel of a car        \n",
    "class Wheel:\n",
    "    def __init__(self, wheel_size):\n",
    "        self.wheel_size = wheel_size\n",
    "\n",
    "# Car class which is composed of Engine and Wheel objects        \n",
    "class Car:\n",
    "    def __init__(self, company, model, horse_power, wheel_size):\n",
    "        self.company = company\n",
    "        self.model = model\n",
    "\n",
    "        # Composition: Car has an Engine object\n",
    "        self.engine = Engine(horse_power)\n",
    "        \n",
    "        # Composition: Car has four Wheel objects (each created using Wheel class)\n",
    "        self.wheels = [Wheel(wheel_size) for wheel in range(4)]  # using list comprehension here for looping and saving in list\n",
    "        \n",
    "    def __str__(self):\n",
    "        return f\"Company: {self.company}, Model: {self.model}, Engine Power: {self.engine.horse_power}(hp), Wheel Size: {self.wheels[0].wheel_size} inches\""
   ]
  },
  {
   "cell_type": "code",
   "execution_count": 19,
   "id": "57dd4391",
   "metadata": {},
   "outputs": [
    {
     "name": "stdout",
     "output_type": "stream",
     "text": [
      "Company: Kia, Model: Sportage, Engine Power: 1300(hp), Wheel Size: 30 inches\n"
     ]
    }
   ],
   "source": [
    "car2 = Car(\"Kia\", \"Sportage\", horse_power=1300, wheel_size=30)\n",
    "print(car2)"
   ]
  },
  {
   "cell_type": "code",
   "execution_count": 20,
   "id": "5c06e569",
   "metadata": {},
   "outputs": [
    {
     "name": "stdout",
     "output_type": "stream",
     "text": [
      "Company: Toyota, Model: Corolla, Engine Power: 1200(hp), Wheel Size: 24 inches\n"
     ]
    }
   ],
   "source": [
    "car1 = Car(\"Toyota\", \"Corolla\", horse_power=1200, wheel_size=24)\n",
    "print(car1)"
   ]
  },
  {
   "cell_type": "markdown",
   "id": "704d5d60",
   "metadata": {},
   "source": [
    "- Car owns Engine and Wheel instances.\n",
    "- Engine and Wheel don’t exist independently outside the Car (this is a key characteristic of composition).\n",
    "- The Car class creates the instances of Engine and Wheel inside its constructor."
   ]
  }
 ],
 "metadata": {
  "kernelspec": {
   "display_name": "Python 3",
   "language": "python",
   "name": "python3"
  },
  "language_info": {
   "codemirror_mode": {
    "name": "ipython",
    "version": 3
   },
   "file_extension": ".py",
   "mimetype": "text/x-python",
   "name": "python",
   "nbconvert_exporter": "python",
   "pygments_lexer": "ipython3",
   "version": "3.13.2"
  }
 },
 "nbformat": 4,
 "nbformat_minor": 5
}
