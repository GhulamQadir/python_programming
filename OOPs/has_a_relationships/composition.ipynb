{
 "cells": [
  {
   "cell_type": "markdown",
   "id": "af442a72",
   "metadata": {},
   "source": [
    "## **1. Composition**\n",
    "- Composition is a strong **Has-A** or we can say **Owns-A** relationship between two classes in object-oriented programming where the part (child) is completely dependent on the whole (parent).\n",
    "- If the parent is destroyed, the child does not exist anymore.\n",
    "- The parent class owns the child class object(s), and the lifecycle of the child is tightly bound to the parent.\n",
    "- If the outer object is destroyed, the inner (contained) object is also destroyed."
   ]
  },
  {
   "cell_type": "markdown",
   "id": "3f748dfc",
   "metadata": {},
   "source": [
    "### 1. **Car Example**"
   ]
  },
  {
   "cell_type": "code",
   "execution_count": 46,
   "id": "f49072e1",
   "metadata": {},
   "outputs": [],
   "source": [
    "# Engine class to represent the engine of a car\n",
    "class Engine:\n",
    "    def __init__(self, horse_power):\n",
    "        self.horse_power = horse_power\n",
    "\n",
    "# Wheel class to represent a wheel of a car        \n",
    "class Wheel:\n",
    "    def __init__(self, wheel_size):\n",
    "        self.wheel_size = wheel_size\n",
    "\n",
    "# Car class which is composed of Engine and Wheel objects        \n",
    "class Car:\n",
    "    def __init__(self, company, model, horse_power, wheel_size):\n",
    "        self.company = company\n",
    "        self.model = model\n",
    "\n",
    "        # Composition: Car has an Engine object\n",
    "        self.engine = Engine(horse_power)\n",
    "        \n",
    "        # Composition: Car has four Wheel objects (each created using Wheel class)\n",
    "        self.wheels = [Wheel(wheel_size) for wheel in range(4)]  # using list comprehension here for looping and saving in list\n",
    "        \n",
    "    def __str__(self):\n",
    "        return f\"Company: {self.company}, Model: {self.model}, Engine Power: {self.engine.horse_power}(hp), Wheel Size: {self.wheels[0].wheel_size} inches\""
   ]
  },
  {
   "cell_type": "code",
   "execution_count": 47,
   "id": "57dd4391",
   "metadata": {},
   "outputs": [
    {
     "name": "stdout",
     "output_type": "stream",
     "text": [
      "Company: Kia, Model: Sportage, Engine Power: 1300(hp), Wheel Size: 30 inches\n"
     ]
    }
   ],
   "source": [
    "car2 = Car(\"Kia\", \"Sportage\", horse_power=1300, wheel_size=30)\n",
    "print(car2)"
   ]
  },
  {
   "cell_type": "code",
   "execution_count": 48,
   "id": "5c06e569",
   "metadata": {},
   "outputs": [
    {
     "name": "stdout",
     "output_type": "stream",
     "text": [
      "Company: Toyota, Model: Corolla, Engine Power: 1200(hp), Wheel Size: 24 inches\n"
     ]
    }
   ],
   "source": [
    "car1 = Car(\"Toyota\", \"Corolla\", horse_power=1200, wheel_size=24)\n",
    "print(car1)"
   ]
  },
  {
   "cell_type": "markdown",
   "id": "704d5d60",
   "metadata": {},
   "source": [
    "- Car owns Engine and Wheel instances.\n",
    "- Engine and Wheel don’t exist independently outside the Car (this is a key characteristic of composition).\n",
    "- The Car class creates the instances of Engine and Wheel inside its constructor."
   ]
  },
  {
   "cell_type": "markdown",
   "id": "321a3f47",
   "metadata": {},
   "source": [
    "### 2. **Book and Chapter**"
   ]
  },
  {
   "cell_type": "code",
   "execution_count": 49,
   "id": "3752ea96",
   "metadata": {},
   "outputs": [],
   "source": [
    "class Chapter:\n",
    "    def __init__(self, chapter):\n",
    "        self.chapter = chapter\n",
    "        \n",
    "class Book:\n",
    "    def __init__(self, subject, chapter_count):\n",
    "        self.subject = subject\n",
    "        self.chapters = [Chapter(chapter) for chapter in range(chapter_count)]\n",
    "        \n",
    "    def __str__(self):\n",
    "        return f\"Subject: {self.subject}, Total Chapters: {len(self.chapters)}\""
   ]
  },
  {
   "cell_type": "code",
   "execution_count": 50,
   "id": "43872005",
   "metadata": {},
   "outputs": [
    {
     "name": "stdout",
     "output_type": "stream",
     "text": [
      "Subject: Urdu, Total Chapters: 5\n",
      "Subject: English, Total Chapters: 8\n"
     ]
    }
   ],
   "source": [
    "book1 = Book(\"Urdu\",5)\n",
    "print(book1)\n",
    "book2 = Book(\"English\",8)\n",
    "print(book2)"
   ]
  },
  {
   "cell_type": "markdown",
   "id": "e52b09eb",
   "metadata": {},
   "source": [
    "- A Book contains multiple Chapter objects.\n",
    "- Chapters are created as part of the book, not independently."
   ]
  },
  {
   "cell_type": "markdown",
   "id": "42b4a2be",
   "metadata": {},
   "source": [
    "### 3. **SmartPhone and SIMCard**"
   ]
  },
  {
   "cell_type": "code",
   "execution_count": 51,
   "id": "e7706659",
   "metadata": {},
   "outputs": [],
   "source": [
    "class SIMCard:\n",
    "    def __init__(self, sim_name):\n",
    "        self.sim_name = sim_name\n",
    "        \n",
    "class SmartPhone:\n",
    "    def __init__(self, phone_name, sim):\n",
    "        self.phone_name = phone_name\n",
    "        self.sim = SIMCard(sim)\n",
    "        \n",
    "    def __str__(self):\n",
    "        return  f\"SmartPhone Name: {self.phone_name}, SIM Name: {self.sim.sim_name}\""
   ]
  },
  {
   "cell_type": "code",
   "execution_count": 52,
   "id": "f44ee7b2",
   "metadata": {},
   "outputs": [
    {
     "name": "stdout",
     "output_type": "stream",
     "text": [
      "SmartPhone Name: Samsung, SIM Name: Zong\n",
      "SmartPhone Name: Infinix, SIM Name: Jazz\n"
     ]
    }
   ],
   "source": [
    "phone1 = SmartPhone(\"Samsung\", \"Zong\")\n",
    "print(phone1)\n",
    "phone2 = SmartPhone(\"Infinix\", \"Jazz\")\n",
    "print(phone2)"
   ]
  },
  {
   "cell_type": "markdown",
   "id": "013176a8",
   "metadata": {},
   "source": [
    "- A Smartphone has a SIMCard created specifically for it.\n",
    "- SIM is not shared across multiple phones."
   ]
  },
  {
   "cell_type": "markdown",
   "id": "069d7a5d",
   "metadata": {},
   "source": [
    "### 4. **Computer and Components**"
   ]
  },
  {
   "cell_type": "code",
   "execution_count": 53,
   "id": "7a97d77d",
   "metadata": {},
   "outputs": [],
   "source": [
    "class CPU:\n",
    "    def __init__(self, processor):\n",
    "        self.processor = processor\n",
    "        \n",
    "class RAM:\n",
    "    def __init__(self, ram_specs):\n",
    "        self.ram_size = ram_specs[0]\n",
    "        self.unit = ram_specs[1]\n",
    "        \n",
    "class HardDrive:\n",
    "    def __init__(self, hard_drive):\n",
    "        self.hard_drive = hard_drive\n",
    "        \n",
    "class Computer:\n",
    "    def __init__(self, name, processor, ram_specs, hd):\n",
    "        self.name = name\n",
    "        self.prcessor = CPU(processor)\n",
    "        self.ram_specs = RAM(ram_specs)\n",
    "        self.hd = HardDrive(hd)\n",
    "        \n",
    "    def __str__(self):\n",
    "        return f\"Name: {self.name}, Processor: {self.prcessor.processor}, RAM: {self.ram_specs.ram_size}{self.ram_specs.unit.upper()}, HardDrive: {self.hd.hard_drive}\""
   ]
  },
  {
   "cell_type": "code",
   "execution_count": 54,
   "id": "fb7efbc1",
   "metadata": {},
   "outputs": [
    {
     "name": "stdout",
     "output_type": "stream",
     "text": [
      "Name: Dell Alienware, Processor: Intel Core i9, RAM: 16GB, HardDrive: Toshiba\n",
      "Name: Dell Inspiron series, Processor: Intel Core i7, RAM: 8GB, HardDrive: Seagate\n"
     ]
    }
   ],
   "source": [
    "computer1 = Computer(\"Dell Alienware\", \"Intel Core i9\", (16, \"gb\"), \"Toshiba\")\n",
    "print(computer1)\n",
    "computer2 = Computer(\"Dell Inspiron series\", \"Intel Core i7\", (8, \"gb\"), \"Seagate\")\n",
    "print(computer2)"
   ]
  },
  {
   "cell_type": "markdown",
   "id": "447d5443",
   "metadata": {},
   "source": [
    "- A Computer is composed of CPU, RAM, HardDrive, etc.\n",
    "- These components are created inside the computer class."
   ]
  }
 ],
 "metadata": {
  "kernelspec": {
   "display_name": "Python 3",
   "language": "python",
   "name": "python3"
  },
  "language_info": {
   "codemirror_mode": {
    "name": "ipython",
    "version": 3
   },
   "file_extension": ".py",
   "mimetype": "text/x-python",
   "name": "python",
   "nbconvert_exporter": "python",
   "pygments_lexer": "ipython3",
   "version": "3.13.2"
  }
 },
 "nbformat": 4,
 "nbformat_minor": 5
}
