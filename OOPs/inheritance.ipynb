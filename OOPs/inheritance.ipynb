{
 "cells": [
  {
   "cell_type": "markdown",
   "id": "44bb375c",
   "metadata": {},
   "source": [
    "### Inheritance\n",
    "\n",
    "- Inheritance allows a class (child class) to inherit attributes and methods from another class (parent class)\n"
   ]
  },
  {
   "cell_type": "code",
   "execution_count": 19,
   "id": "3e982f22",
   "metadata": {},
   "outputs": [],
   "source": [
    "class Person:\n",
    "    def __init__(self, name, height, weight, secret):\n",
    "        self._name = name  # protected property (should be accessed within class and its sub-classes)\n",
    "        self.height = height\n",
    "        self.weight = weight\n",
    "        self.__secret = secret  # private property (we can get outside using getter function or using special method)\n",
    "\n",
    "    def get_name(self):\n",
    "        return f\"Username: {self._name}\"\n",
    "\n",
    "    def sleep(self):\n",
    "        return f\"{self._name} is Sleeping\"\n",
    "\n",
    "    def eat(self):\n",
    "        print(\"Eating\")\n",
    "\n",
    "    def get_secret(self):\n",
    "        return self.__secret\n",
    "\n",
    "    def update_secret(self):\n",
    "        self.__secret = 4000"
   ]
  },
  {
   "cell_type": "markdown",
   "id": "83222580",
   "metadata": {},
   "source": [
    "##### Single-level Inheritance\n"
   ]
  },
  {
   "cell_type": "code",
   "execution_count": 20,
   "id": "76740622",
   "metadata": {},
   "outputs": [
    {
     "name": "stdout",
     "output_type": "stream",
     "text": [
      "Sameer\n",
      "Eating\n",
      "Sameer is playing\n",
      "Sameer is running\n",
      "not required for child\n"
     ]
    }
   ],
   "source": [
    "# Example # 1\n",
    "class Child(Person):\n",
    "    def __init__(self, name, height, weight, running):\n",
    "        super().__init__(\n",
    "            name, height, weight, \"not required for child\"\n",
    "        )  # constructor fuunction for getting accessing of parent class\n",
    "        self.running = running\n",
    "\n",
    "    def play(self):\n",
    "        print(f\"{self._name} is playing\")\n",
    "        pass\n",
    "\n",
    "    def isBoyRunning(self):\n",
    "        print(f\"{self._name} is running\") if self.running else print(\"Not Running\")\n",
    "\n",
    "\n",
    "b1 = Child(\"Sameer\", 5.3, 65, True)\n",
    "print(b1._name)\n",
    "b1.eat()  # inherited from Person class\n",
    "b1.play()\n",
    "b1.isBoyRunning()\n",
    "print(\n",
    "    b1.get_secret()\n",
    ")  # now giving the value which we hard coded as we don't required it"
   ]
  },
  {
   "cell_type": "markdown",
   "id": "2430498e",
   "metadata": {},
   "source": [
    "#### Multi-level Inheritance\n"
   ]
  },
  {
   "cell_type": "code",
   "execution_count": 21,
   "id": "8b8d922d",
   "metadata": {},
   "outputs": [
    {
     "name": "stdout",
     "output_type": "stream",
     "text": [
      "4239978\n",
      "Driving speed = 140kph\n"
     ]
    }
   ],
   "source": [
    "class Vehicle:\n",
    "    def __init__(self, type, model, color, speed, trackingNum):\n",
    "        self.type = type\n",
    "        self.model = model\n",
    "        self.color = color\n",
    "        self._speed = speed  # protected property\n",
    "        self.__tracking_num = trackingNum  # private property\n",
    "\n",
    "    def vehicleDetails(self):\n",
    "        return f\"Type: {self.type}, {self.model}, {self.color} in colour\"\n",
    "\n",
    "    def get_tracking_num(self):\n",
    "        return self.__tracking_num\n",
    "\n",
    "    def accelerate(self):\n",
    "        self._speed += 10\n",
    "\n",
    "    def driving_speed(self):\n",
    "        return f\"Driving speed = {self._speed}kph\"\n",
    "\n",
    "\n",
    "class Car(Vehicle):\n",
    "    brand = \"Kia\"  ## class attribute or static attribute\n",
    "\n",
    "    def __init__(self, type, model, color, speed, trackingNum):\n",
    "        super().__init__(type, model, color, speed, trackingNum)\n",
    "\n",
    "    @staticmethod\n",
    "    def start():\n",
    "        print(\"Car started\")\n",
    "\n",
    "    @staticmethod\n",
    "    def stop():\n",
    "        print(\"Car stopped\")\n",
    "\n",
    "\n",
    "car1 = Car(\"Car\", \"Sportage\", \"white\", 90, 4239978)\n",
    "print(car1.get_tracking_num())\n",
    "\n",
    "for i in range(5):\n",
    "    car1.accelerate()\n",
    "\n",
    "print(car1.driving_speed())"
   ]
  },
  {
   "cell_type": "code",
   "execution_count": 22,
   "id": "73c63928",
   "metadata": {},
   "outputs": [
    {
     "name": "stdout",
     "output_type": "stream",
     "text": [
      "Car started\n",
      "2423423\n",
      "Honda\n"
     ]
    }
   ],
   "source": [
    "class HondaCar(Car):\n",
    "    company = \"Honda\"\n",
    "\n",
    "    def __init__(self, type, model, color, speed, trackingNum):\n",
    "        super().__init__(type, model, color, speed, trackingNum)\n",
    "        super().start()  # calling method from parent class when init runs\n",
    "\n",
    "\n",
    "t1 = HondaCar(\n",
    "    \"Car\",\n",
    "    \"City\",\n",
    "    \"white\",\n",
    "    240,\n",
    "    2423423,\n",
    ")\n",
    "print(t1.get_tracking_num())\n",
    "print(t1.company)"
   ]
  },
  {
   "cell_type": "markdown",
   "id": "8d17a9a5",
   "metadata": {},
   "source": [
    "##### Truck Example\n"
   ]
  },
  {
   "cell_type": "code",
   "execution_count": 23,
   "id": "fd04303f",
   "metadata": {},
   "outputs": [
    {
     "name": "stdout",
     "output_type": "stream",
     "text": [
      "Type: Truck, H4-Truck, Grey in colour\n",
      "Not registered yet\n",
      "Before-> Driving speed = 60kph\n",
      "Driving speed = 90kph\n"
     ]
    }
   ],
   "source": [
    "class Truck(Vehicle):\n",
    "    def __init__(self, type, model, color, speed):\n",
    "        super().__init__(type, model, color, speed, \"Not registered yet\")\n",
    "\n",
    "\n",
    "truck1 = Truck(\"Truck\", \"H4-Truck\", \"Grey\", 60)\n",
    "print(truck1.vehicleDetails())\n",
    "print(truck1.get_tracking_num())\n",
    "\n",
    "print(f\"Before-> {truck1.driving_speed()}\")\n",
    "\n",
    "for i in range(3):\n",
    "    truck1.accelerate()\n",
    "\n",
    "print(truck1.driving_speed())"
   ]
  },
  {
   "cell_type": "markdown",
   "id": "e3439307",
   "metadata": {},
   "source": [
    "## **\\_\\_dict\\_\\_** attribute"
   ]
  },
  {
   "cell_type": "code",
   "execution_count": 24,
   "id": "45b99eb7",
   "metadata": {},
   "outputs": [
    {
     "name": "stdout",
     "output_type": "stream",
     "text": [
      "Class Attributes:  {'__module__': '__main__', '__firstlineno__': 1, '__init__': <function Vehicle.__init__ at 0x000002F2314D5620>, 'vehicleDetails': <function Vehicle.vehicleDetails at 0x000002F2314D47C0>, 'get_tracking_num': <function Vehicle.get_tracking_num at 0x000002F2314D4360>, 'accelerate': <function Vehicle.accelerate at 0x000002F2314D51C0>, 'driving_speed': <function Vehicle.driving_speed at 0x000002F2314D5300>, '__static_attributes__': ('__tracking_num', '_speed', 'color', 'model', 'type'), '__dict__': <attribute '__dict__' of 'Vehicle' objects>, '__weakref__': <attribute '__weakref__' of 'Vehicle' objects>, '__doc__': None}\n",
      "Instance's attributes:  {'type': 'Car', 'model': 'Sportage', 'color': 'white', '_speed': 140, '_Vehicle__tracking_num': 4239978}\n"
     ]
    }
   ],
   "source": [
    "print(\"Class Attributes: \",Vehicle.__dict__)\n",
    "print(\"Instance's attributes: \",car1.__dict__)"
   ]
  },
  {
   "cell_type": "markdown",
   "id": "661e68b0",
   "metadata": {},
   "source": [
    "#### Multiple Inheritance\n",
    "\n",
    "- Inherit properties from multiple parent classes\n"
   ]
  },
  {
   "cell_type": "code",
   "execution_count": 25,
   "id": "39ec65a4",
   "metadata": {},
   "outputs": [
    {
     "name": "stdout",
     "output_type": "stream",
     "text": [
      "Welcome to class B\n",
      "Welcome to class A\n",
      "Welcome to class C\n"
     ]
    }
   ],
   "source": [
    "class A:\n",
    "    a = \"Welcome to class A\"\n",
    "\n",
    "\n",
    "class B:\n",
    "    b = \"Welcome to class B\"\n",
    "\n",
    "\n",
    "class C(A, B):\n",
    "    c = \"Welcome to class C\"\n",
    "\n",
    "\n",
    "c1 = C()\n",
    "print(c1.b)\n",
    "print(c1.a)\n",
    "print(c1.c)"
   ]
  },
  {
   "cell_type": "markdown",
   "id": "a25cb518",
   "metadata": {},
   "source": [
    "#### @classmethod\n",
    "\n",
    "- Used for updating the class level attribues and we can acces class level attributes using class method under a function\n"
   ]
  },
  {
   "cell_type": "code",
   "execution_count": 26,
   "id": "d7a9ac11",
   "metadata": {},
   "outputs": [
    {
     "name": "stdout",
     "output_type": "stream",
     "text": [
      "abc\n",
      "Updated\n"
     ]
    }
   ],
   "source": [
    "class Student:\n",
    "    name = \"xyz\"\n",
    "\n",
    "    def __init__(self, name):\n",
    "        self.name = name  # creating new variable called name under its instance\n",
    "        # Student.name=name  # way to update class attribute\n",
    "        # self.__class__.name = name # another way to update\n",
    "\n",
    "    \"\"\"used for directly accessing class level attributes under a class function and can update\"\"\"\n",
    "\n",
    "    @classmethod  # decorator\n",
    "    def updateName(cls, name):  # cls is representing the class itself\n",
    "        cls.name = name\n",
    "\n",
    "\n",
    "s1 = Student(\"abc\")\n",
    "print(s1.name)\n",
    "# print(Student.name) # way to access class level attribute\n",
    "s1.updateName(\"Updated\")\n",
    "print(Student.name)  # updated class level attribute"
   ]
  },
  {
   "cell_type": "markdown",
   "id": "bff60641",
   "metadata": {},
   "source": [
    "#### @property decorator\n",
    "\n",
    "- converts returned value of method into property/attribute and we can access it like a property\n"
   ]
  },
  {
   "cell_type": "code",
   "execution_count": 27,
   "id": "56a22606",
   "metadata": {},
   "outputs": [
    {
     "name": "stdout",
     "output_type": "stream",
     "text": [
      "74.33\n",
      "74.33\n"
     ]
    }
   ],
   "source": [
    "class Student:\n",
    "    def __init__(self, eng, urdu, maths):\n",
    "        self.eng = eng\n",
    "        self.urdu = urdu\n",
    "        self.maths = maths\n",
    "        self.percentage = round(\n",
    "            (float(self.eng + self.urdu + self.maths) / 300) * 100, 2\n",
    "        )  # the percent will not reflect immediately when the values change because we have set the marks of subjects\n",
    "\n",
    "\n",
    "std1 = Student(78, 82, 63)\n",
    "print(std1.percentage)\n",
    "std1.eng = 55\n",
    "\"\"\"The percentage is calculated once in the constructor (__init__) and stored in the self.percentage \n",
    "attribute. Changing self.eng does not automatically update self.percentage.\"\"\"\n",
    "print(std1.percentage)"
   ]
  },
  {
   "cell_type": "markdown",
   "id": "50f841fe",
   "metadata": {},
   "source": [
    "##### Corrected code for calculating percentage\n"
   ]
  },
  {
   "cell_type": "code",
   "execution_count": 28,
   "id": "4db37d31",
   "metadata": {},
   "outputs": [
    {
     "name": "stdout",
     "output_type": "stream",
     "text": [
      "74.33\n",
      "84.33\n"
     ]
    }
   ],
   "source": [
    "class Student:\n",
    "    def __init__(self, eng, urdu, maths):\n",
    "        self.eng = eng\n",
    "        self.urdu = urdu\n",
    "        self.maths = maths\n",
    "\n",
    "    # # using instance method\n",
    "    # def calc_percentage(self):\n",
    "    #     return round((float(self.eng+self.urdu+self.maths)/300)*100,2)\n",
    "\n",
    "    # using property decorator\n",
    "    @property  # converts returned value of method into property\n",
    "    def percentage(self):\n",
    "        return round((float(self.eng + self.urdu + self.maths) / 300) * 100, 2)\n",
    "\n",
    "\n",
    "std1 = Student(78, 82, 63)\n",
    "\n",
    "# # testing for instance method\n",
    "# print(std1.calc_percentage())\n",
    "# std1.eng=55\n",
    "# print(std1.calc_percentage())\n",
    "\n",
    "# testing for property decorator\n",
    "print(std1.percentage)\n",
    "std1.maths = 93\n",
    "print(std1.percentage)"
   ]
  },
  {
   "cell_type": "markdown",
   "id": "a2f323cd",
   "metadata": {},
   "source": [
    "## **Temperature calculation Example**"
   ]
  },
  {
   "cell_type": "code",
   "execution_count": 33,
   "id": "e53a6315",
   "metadata": {},
   "outputs": [
    {
     "name": "stdout",
     "output_type": "stream",
     "text": [
      "23\n",
      "73.4\n",
      "81.0\n"
     ]
    }
   ],
   "source": [
    "class Temperature:\n",
    "    def __init__(self,celsius):\n",
    "        self._celsius=celsius  # private property\n",
    "        \n",
    "    @property  # converts value of method into attribute\n",
    "    def celsius(self):\n",
    "        return self._celsius\n",
    "    \n",
    "    @property\n",
    "    def fahrenheit(self):\n",
    "        return (self._celsius* 9/5)+32\n",
    "    \n",
    "    @fahrenheit.setter  # setter decorator used to update the value\n",
    "    def fahrenheit(self,value):\n",
    "        self._celsius=value-32*5/9  #converting fahrenheit into celsius\n",
    "        \n",
    "temp1= Temperature(23)\n",
    "print(temp1.celsius)  \n",
    "print(temp1.fahrenheit)\n",
    "temp1.fahrenheit=45\n",
    "print(temp1.fahrenheit)"
   ]
  },
  {
   "cell_type": "code",
   "execution_count": null,
   "id": "f57bc812",
   "metadata": {},
   "outputs": [
    {
     "name": "stdout",
     "output_type": "stream",
     "text": [
      "True\n",
      "True\n",
      "False\n"
     ]
    }
   ],
   "source": [
    "# all classes are inherited from the base class object and are the instances of the object\n",
    "print(isinstance(Vehicle,object))\n",
    "print(isinstance(car1,Car))\n",
    "print(isinstance(Car,Vehicle)) # Car is the child of vehicle, not its instance"
   ]
  }
 ],
 "metadata": {
  "kernelspec": {
   "display_name": "Python 3",
   "language": "python",
   "name": "python3"
  },
  "language_info": {
   "codemirror_mode": {
    "name": "ipython",
    "version": 3
   },
   "file_extension": ".py",
   "mimetype": "text/x-python",
   "name": "python",
   "nbconvert_exporter": "python",
   "pygments_lexer": "ipython3",
   "version": "3.13.2"
  }
 },
 "nbformat": 4,
 "nbformat_minor": 5
}
