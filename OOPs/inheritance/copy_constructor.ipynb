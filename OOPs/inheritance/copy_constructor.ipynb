{
 "cells": [
  {
   "cell_type": "markdown",
   "id": "fed0cbec",
   "metadata": {},
   "source": [
    "# **Copy Constructor:**\n",
    "- A copy constructor in Python is a special constructor method used to create a new object as a copy of an existing object. It manually copies the attributes of one object to another, often using a @classmethod."
   ]
  },
  {
   "cell_type": "code",
   "execution_count": 51,
   "id": "80f5d8a2",
   "metadata": {},
   "outputs": [
    {
     "name": "stdout",
     "output_type": "stream",
     "text": [
      "Name: Shahzaib\n",
      "Courses: ['Urdu', 'Maths', 'Science']\n",
      "Name: Shahzaib\n",
      "Courses: ['Urdu', 'Maths', 'Science']\n"
     ]
    }
   ],
   "source": [
    "class Student:\n",
    "    def __init__(self, name, courses):\n",
    "        self.name = name\n",
    "        self.courses = courses\n",
    "    \n",
    "    @classmethod  \n",
    "    def copy_constructor(cls, other_student):\n",
    "        return cls(other_student.name, other_student.courses) # just like return Student(other.name, other.courses)\n",
    " \n",
    "std1 = Student(\"Shahzaib\", [\"Urdu\",\"Maths\",\"Science\"])   \n",
    "print(f\"Name: {std1.name}\\nCourses: {std1.courses}\")\n",
    "\n",
    "# now copying constructor\n",
    "std2 = Student.copy_constructor(std1)\n",
    "print(f\"Name: {std2.name}\\nCourses: {std2.courses}\")\n"
   ]
  },
  {
   "cell_type": "code",
   "execution_count": 62,
   "id": "f602786c",
   "metadata": {},
   "outputs": [
    {
     "name": "stdout",
     "output_type": "stream",
     "text": [
      "['Physics', 'DLD', 'Science']\n",
      "['Physics', 'DLD', 'Science']\n"
     ]
    },
    {
     "data": {
      "text/plain": [
       "'Both lists of courses are updated due to shallow copy'"
      ]
     },
     "execution_count": 62,
     "metadata": {},
     "output_type": "execute_result"
    }
   ],
   "source": [
    "# now updating courses from s2\n",
    "std2.courses[1] = \"DLD\"\n",
    "print(std2.courses)\n",
    "print(std1.courses)\n",
    "\"\"\"Both lists of courses are updated due to shallow copy\"\"\""
   ]
  },
  {
   "cell_type": "markdown",
   "id": "3d27e627",
   "metadata": {},
   "source": [
    "##### We can also use .copy() method from copy class to automatically create shallow copy of object"
   ]
  },
  {
   "cell_type": "code",
   "execution_count": 63,
   "id": "52f15e64",
   "metadata": {},
   "outputs": [
    {
     "name": "stdout",
     "output_type": "stream",
     "text": [
      "['Urdu', 'Maths', 'Science']\n",
      "['Urdu', 'Maths', 'Science']\n",
      "Name: Shahzaib\n",
      "Courses: ['Physics', 'Maths', 'Science']\n",
      "\n",
      "Name: Ali\n",
      "Courses: ['Physics', 'Maths', 'Science']\n",
      "\n",
      "Both the courses of std1 and std2 are updated\n"
     ]
    },
    {
     "data": {
      "text/plain": [
       "'Same result as above manual logic for shallow copy'"
      ]
     },
     "execution_count": 63,
     "metadata": {},
     "output_type": "execute_result"
    }
   ],
   "source": [
    "import copy\n",
    "\n",
    "class Student:\n",
    "    def __init__(self, name, courses):\n",
    "        self.name = name\n",
    "        self.courses = courses\n",
    "    \n",
    "std1 = Student(\"Shahzaib\", [\"Urdu\",\"Maths\",\"Science\"])   \n",
    "std2 = copy.copy(std1)\n",
    "\n",
    "print(std2.courses)\n",
    "print(std1.courses)\n",
    "\n",
    "std2.courses[0] = \"Physics\"\n",
    "std2.name = \"Ali\"\n",
    "print(f\"Name: {std1.name}\\nCourses: {std1.courses}\\n\")\n",
    "print(f\"Name: {std2.name}\\nCourses: {std2.courses}\\n\")\n",
    "print(\"Both the courses of std1 and std2 are updated\")\n",
    "\"\"\"Same result as above manual logic for shallow copy\"\"\""
   ]
  },
  {
   "cell_type": "markdown",
   "id": "c8e0b762",
   "metadata": {},
   "source": [
    "### **What is Shallow Copy?**\n",
    "- A shallow copy creates a new object, but does not create copies of nested (mutable) objects inside it. Instead, it copies references to those nested objects.\n",
    "\n",
    "**Key Points:**\n",
    "1. Outer object is new.\n",
    "2. Inner (nested) objects are shared (not copied).\n",
    "3. Modifying nested objects affects both copies.\n",
    "\n",
    "\n",
    "### **What is Deep Copy?**\n",
    "- A deep copy creates a new object, and also recursively copies all nested mutable objects inside it. No shared references remain.\n",
    "**Key Points:**\n",
    "1. Outer and all inner objects are duplicated.\n",
    "2. Safe to modify: changes do not affect original."
   ]
  },
  {
   "cell_type": "markdown",
   "id": "becdc94c",
   "metadata": {},
   "source": [
    "#### We can use .deepcopy() method from copy class and we can also create our own logic for deepcopying objects"
   ]
  },
  {
   "cell_type": "code",
   "execution_count": 53,
   "id": "d733f3a9",
   "metadata": {},
   "outputs": [
    {
     "name": "stdout",
     "output_type": "stream",
     "text": [
      "['Urdu', 'Maths', 'Science']\n",
      "['Urdu', 'Maths', 'Science']\n"
     ]
    }
   ],
   "source": [
    "class Student:\n",
    "    def __init__(self, name, courses):\n",
    "        self.name = name\n",
    "        self.courses = courses\n",
    "    \n",
    "    @classmethod    \n",
    "    def copy_constructor(cls, other_std):\n",
    "        courses = [course for course in other_std.courses]\n",
    "        return cls(other_std.name, courses)\n",
    "    \n",
    "std1 = Student(\"Shahzaib\", [\"Urdu\",\"Maths\",\"Science\"])   \n",
    "std2 = Student.copy_constructor(std1)\n",
    "\n",
    "print(std2.courses)\n",
    "print(std1.courses)"
   ]
  },
  {
   "cell_type": "code",
   "execution_count": 54,
   "id": "efbcaa21",
   "metadata": {},
   "outputs": [
    {
     "name": "stdout",
     "output_type": "stream",
     "text": [
      "['Urdu', 'Maths', 'Science']\n",
      "['Urdu', 'Maths', 'Science', 'DSA']\n"
     ]
    },
    {
     "data": {
      "text/plain": [
       "'here the courses of std1 remain same'"
      ]
     },
     "execution_count": 54,
     "metadata": {},
     "output_type": "execute_result"
    }
   ],
   "source": [
    "std2.courses.append(\"DSA\")\n",
    "print(std1.courses)\n",
    "print(std2.courses) \n",
    "\"\"\"here the courses of std1 remain same\"\"\""
   ]
  },
  {
   "cell_type": "markdown",
   "id": "899cf812",
   "metadata": {},
   "source": [
    "### Deepcopying constructor using python's built-in copy module"
   ]
  },
  {
   "cell_type": "code",
   "execution_count": 55,
   "id": "d9a80ea1",
   "metadata": {},
   "outputs": [
    {
     "name": "stdout",
     "output_type": "stream",
     "text": [
      "['Urdu', 'Maths', 'Science']\n",
      "['Urdu', 'Maths', 'Science']\n"
     ]
    }
   ],
   "source": [
    "import copy\n",
    "\n",
    "class Student:\n",
    "    def __init__(self, name, courses):\n",
    "        self.name = name\n",
    "        self.courses = courses\n",
    "    \n",
    "    \n",
    "std1 = Student(\"Shahzaib\", [\"Urdu\",\"Maths\",\"Science\"])   \n",
    "std2 = copy.deepcopy(std1)\n",
    "\n",
    "print(std2.courses)\n",
    "print(std1.courses)"
   ]
  },
  {
   "cell_type": "code",
   "execution_count": 61,
   "id": "df4cd270",
   "metadata": {},
   "outputs": [
    {
     "name": "stdout",
     "output_type": "stream",
     "text": [
      "Name: Shahzaib\n",
      "Courses: ['Physics', 'Maths', 'Science']\n",
      "\n",
      "Name: Ali\n",
      "Courses: ['Physics', 'Maths', 'Science']\n",
      "\n"
     ]
    },
    {
     "data": {
      "text/plain": [
       "'Same result as above manual logic for deepcopy'"
      ]
     },
     "execution_count": 61,
     "metadata": {},
     "output_type": "execute_result"
    }
   ],
   "source": [
    "std2.courses[0] = \"Physics\"\n",
    "std2.name = \"Ali\"\n",
    "print(f\"Name: {std1.name}\\nCourses: {std1.courses}\\n\")\n",
    "print(f\"Name: {std2.name}\\nCourses: {std2.courses}\\n\")\n",
    "\n",
    "\"\"\"Same result as above manual logic for deepcopy\"\"\""
   ]
  }
 ],
 "metadata": {
  "kernelspec": {
   "display_name": "Python 3",
   "language": "python",
   "name": "python3"
  },
  "language_info": {
   "codemirror_mode": {
    "name": "ipython",
    "version": 3
   },
   "file_extension": ".py",
   "mimetype": "text/x-python",
   "name": "python",
   "nbconvert_exporter": "python",
   "pygments_lexer": "ipython3",
   "version": "3.13.2"
  }
 },
 "nbformat": 4,
 "nbformat_minor": 5
}
