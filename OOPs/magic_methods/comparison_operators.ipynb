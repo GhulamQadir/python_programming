{
 "cells": [
  {
   "cell_type": "markdown",
   "id": "f7bbbb05",
   "metadata": {},
   "source": [
    "1. **`__lt__`(self, other)**<br>\n",
    "Defines behavior for self < other.\n",
    "\n",
    "2. **`__le__`(self, other)**<br>\n",
    "Defines behavior for self <= other.\n",
    "\n",
    "3. **`__gt__`(self, other)**<br>\n",
    "Defines behavior for self > other.\n",
    "\n",
    "4. **`__ge__`(self, other)**<br>\n",
    "Defines behavior for self >= other.\n",
    "\n",
    "5. **`__eq__`(self, other)**<br>\n",
    "Defines behavior for self == other.\n",
    "\n",
    "6. **`__ne__`(self, other)**<br>\n",
    "Defines behavior for self != other."
   ]
  },
  {
   "cell_type": "code",
   "execution_count": 26,
   "id": "b9fb2e84",
   "metadata": {},
   "outputs": [],
   "source": [
    "class Product:\n",
    "    def __init__(self, name, price):\n",
    "        self.name = name\n",
    "        self.price = price\n",
    "        \n",
    "    def __lt__(self, other_product):\n",
    "        if hasattr(other_product, \"price\"):\n",
    "            return self.price < other_product.price\n",
    "        else: \n",
    "            return self.price < other_product\n",
    "    \n",
    "    def __le__(self, other_product):\n",
    "        if hasattr(other_product, \"price\"):\n",
    "            return self.price <= other_product.price\n",
    "        else:\n",
    "            return self.price <= other_product\n",
    "    \n",
    "    def __gt__(self, other_product):\n",
    "        if hasattr(other_product, \"price\"):\n",
    "            return self.price > other_product.price\n",
    "        else:\n",
    "            return self.price > other_product\n",
    "    \n",
    "    def __ge__(self, other_product):\n",
    "        if hasattr(other_product, \"price\"):\n",
    "            return self.price >= other_product.price\n",
    "        else:\n",
    "            return self.price >= other_product\n",
    "\n",
    "    def __eq__(self, other_product):\n",
    "        if hasattr(other_product, \"price\"):\n",
    "            return self.price == other_product.price\n",
    "        else:\n",
    "            return self.price == other_product\n",
    "\n",
    "    def __ne__(self, other_product):\n",
    "        if hasattr(other_product, \"price\"):\n",
    "            return self.price != other_product.price\n",
    "        else:\n",
    "            return self.price != other_product\n",
    "    \n",
    "    def __str__(self):\n",
    "        return f\"Name: {self.name}, Price: {self.price}\""
   ]
  },
  {
   "cell_type": "code",
   "execution_count": 29,
   "id": "cb6184c6",
   "metadata": {},
   "outputs": [
    {
     "name": "stdout",
     "output_type": "stream",
     "text": [
      "False\n",
      "True\n",
      "True\n",
      "False\n",
      "False\n",
      "True\n"
     ]
    }
   ],
   "source": [
    "product1 = Product(\"Chocolate\", 70)\n",
    "product2 = Product(\"Chocolate\", 90)\n",
    "print(product1 > 70)\n",
    "print(product1 < product2)\n",
    "print(product2 >= 70)\n",
    "print(product2 <= product1)\n",
    "print(product1 == product2)\n",
    "print(product1 != product2)"
   ]
  }
 ],
 "metadata": {
  "kernelspec": {
   "display_name": "Python 3",
   "language": "python",
   "name": "python3"
  },
  "language_info": {
   "codemirror_mode": {
    "name": "ipython",
    "version": 3
   },
   "file_extension": ".py",
   "mimetype": "text/x-python",
   "name": "python",
   "nbconvert_exporter": "python",
   "pygments_lexer": "ipython3",
   "version": "3.13.2"
  }
 },
 "nbformat": 4,
 "nbformat_minor": 5
}
