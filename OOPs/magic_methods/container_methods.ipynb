{
 "cells": [
  {
   "cell_type": "markdown",
   "id": "ed3c3c2f",
   "metadata": {},
   "source": [
    "1. **`__contains__`(self, item):**<br>\n",
    "Defines how to check if a value exists in an object.<br>\n",
    "**Used for**: item in obj\n",
    "\n",
    "2. **`__getitem__`(self, key):**<br>\n",
    "Defines how to retrieve a value using a key or index.<br>\n",
    "**Used for**: obj[key]\n",
    "\n",
    "3. **`__setitem__`(self, key, value):**<br>\n",
    "Defines how to assign a value to a key/index.<br>\n",
    "**Used for**: obj[key] = value\n",
    "\n",
    "4. **`__delitem__`(self, key):**<br>\n",
    "Defines how to retrieve a value using a key or index.<br>\n",
    "**Used for**: obj[key]\n",
    "\n",
    "5. **`__len__`(self):**<br>\n",
    "Defines how to delete a key/index from the object.<br>\n",
    "**Used for**: len(obj)\n",
    "\n",
    "6. #### `__iter__` and `__next__`\n",
    "\n",
    "**`__iter__`(self):**<br>\n",
    "Makes the object iterable so it can be used in loops (for obj in ...), comprehensions, etc.<br>\n",
    "**Used for**: Loops, list comprehensions, etc.<br>\n",
    "\n",
    "**`__next__`(self):**<br>\n",
    "Defines what to return on each iteration.<br>\n",
    "Returns the next item in the sequence. Must raise StopIteration when done.<br>\n",
    "Called automatically by next(iterator) or in loops."
   ]
  },
  {
   "cell_type": "code",
   "execution_count": 179,
   "id": "ada64deb",
   "metadata": {},
   "outputs": [],
   "source": [
    "class Team:\n",
    "    def __init__(self, players_dict):\n",
    "        self.players = players_dict\n",
    "        self.__player_keys = list(players_dict.keys())\n",
    "        self.__index = 0\n",
    "        \n",
    "    def __str__(self):\n",
    "        return f\"{self.players}\"\n",
    "    \n",
    "    def __contains__(self, key):\n",
    "        if isinstance(key, tuple) and len(key) == 2:\n",
    "            outer, inner = key\n",
    "            return inner in self.players[outer]\n",
    "        elif isinstance(key, str):\n",
    "            return key in self.players\n",
    "        \n",
    "    def __getitem__(self, key):\n",
    "        return self.players[key]\n",
    "    \n",
    "    def __setitem__(self, key, value):\n",
    "        self.players[key] = value\n",
    "        \n",
    "    def __delitem__(self, key):\n",
    "        del self.players[key]\n",
    "        \n",
    "    def __len__(self):\n",
    "        return len(self.players)\n",
    "    \n",
    "    def __iter__(self):\n",
    "        return self   # We do this only when our object is also its own iterator — meaning it has a __next__() method defined\n",
    "     \n",
    "    def __next__(self):\n",
    "        if self.__index < len(self.players):\n",
    "            current_obj =  self.players[self.__player_keys[self.__index]]\n",
    "            self.__index += 1\n",
    "            return current_obj\n",
    "        else:\n",
    "            raise StopIteration(\"Players finished\")        "
   ]
  },
  {
   "cell_type": "code",
   "execution_count": 180,
   "id": "adcd0c8a",
   "metadata": {},
   "outputs": [],
   "source": [
    "players = {\"player1\": {\"name\": \"Shahid\", \"age\":24}, \"player2\": {\"name\": \"Babar\", \"age\":30}}\n",
    "team1 = Team(players)"
   ]
  },
  {
   "cell_type": "code",
   "execution_count": 181,
   "id": "0c2bf8d9",
   "metadata": {},
   "outputs": [
    {
     "name": "stdout",
     "output_type": "stream",
     "text": [
      "True\n",
      "True\n"
     ]
    }
   ],
   "source": [
    "# testing contains method\n",
    "print((\"player1\",\"age\") in team1)\n",
    "print(\"player2\" in team1)"
   ]
  },
  {
   "cell_type": "code",
   "execution_count": 182,
   "id": "76132d8e",
   "metadata": {},
   "outputs": [
    {
     "name": "stdout",
     "output_type": "stream",
     "text": [
      "Shahid\n",
      "{'name': 'Babar', 'age': 30}\n"
     ]
    }
   ],
   "source": [
    "# testing getitem method\n",
    "print(team1[\"player1\"][\"name\"])\n",
    "print(team1[\"player2\"])"
   ]
  },
  {
   "cell_type": "code",
   "execution_count": 183,
   "id": "7f5ef602",
   "metadata": {},
   "outputs": [
    {
     "name": "stdout",
     "output_type": "stream",
     "text": [
      "{'player1': {'name': 'Shahid', 'age': 24}, 'player2': {'name': 'Wahab', 'age': 30}, 'player3': {'name': 'Ali', 'age': 34}}\n"
     ]
    }
   ],
   "source": [
    "# testing setitem method \n",
    "team1[\"player3\"] = {\"name\":\"Ali\",\"age\": 34}\n",
    "team1[\"player2\"][\"name\"] = \"Wahab\"\n",
    "print(team1)"
   ]
  },
  {
   "cell_type": "code",
   "execution_count": 184,
   "id": "dbd86b89",
   "metadata": {},
   "outputs": [
    {
     "name": "stdout",
     "output_type": "stream",
     "text": [
      "{'player2': {'name': 'Wahab'}, 'player3': {'name': 'Ali', 'age': 34}}\n"
     ]
    }
   ],
   "source": [
    "# testing deleteitem method\n",
    "del team1[\"player1\"]\n",
    "del team1[\"player2\"][\"age\"]\n",
    "print(team1)"
   ]
  },
  {
   "cell_type": "code",
   "execution_count": 185,
   "id": "5f7d8366",
   "metadata": {},
   "outputs": [
    {
     "name": "stdout",
     "output_type": "stream",
     "text": [
      "2\n"
     ]
    }
   ],
   "source": [
    "# testing len method\n",
    "print(len(team1))"
   ]
  },
  {
   "cell_type": "markdown",
   "id": "ad725fce",
   "metadata": {},
   "source": [
    "- If you want custom iteration logic (e.g., controlling how elements are returned one by one), then:\n",
    "1. You return self from `__iter__`.\n",
    "2. Then define `__next__` to control what’s returned each time."
   ]
  },
  {
   "cell_type": "code",
   "execution_count": 188,
   "id": "0b7167a2",
   "metadata": {},
   "outputs": [
    {
     "name": "stdout",
     "output_type": "stream",
     "text": [
      "{'name': 'Zubair', 'age': 29}\n",
      "{'name': 'Sabir', 'age': 30}\n",
      "{'name': 'Ahmed', 'age': 38}\n"
     ]
    }
   ],
   "source": [
    "# testing iter and next method\n",
    "team2_players = {\"player1\": {\"name\": \"Zubair\", \"age\":29}, \"player2\": {\"name\": \"Sabir\", \"age\":30}, \"player3\": {\"name\": \"Ahmed\", \"age\":38}}\n",
    "team2 = Team(team2_players)\n",
    "players_iterator = iter(team2)\n",
    "print(next(players_iterator))\n",
    "print(next(players_iterator))\n",
    "print(next(players_iterator))\n",
    "# print(next(players_iterator))  # StopIteration error"
   ]
  }
 ],
 "metadata": {
  "kernelspec": {
   "display_name": "Python 3",
   "language": "python",
   "name": "python3"
  },
  "language_info": {
   "codemirror_mode": {
    "name": "ipython",
    "version": 3
   },
   "file_extension": ".py",
   "mimetype": "text/x-python",
   "name": "python",
   "nbconvert_exporter": "python",
   "pygments_lexer": "ipython3",
   "version": "3.13.2"
  }
 },
 "nbformat": 4,
 "nbformat_minor": 5
}
