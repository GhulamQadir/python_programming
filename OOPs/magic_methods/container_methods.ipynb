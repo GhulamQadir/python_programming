{
 "cells": [
  {
   "cell_type": "markdown",
   "id": "ed3c3c2f",
   "metadata": {},
   "source": [
    "1. **`__contains__`(self, item):**<br>\n",
    "Defines how to check if a value exists in an object.<br>\n",
    "**Used for**: item in obj\n",
    "\n",
    "2. **`__getitem__`(self, key):**<br>\n",
    "Defines how to retrieve a value using a key or index.<br>\n",
    "**Used for**: obj[key]\n",
    "\n",
    "3. **`__setitem__`(self, key, value):**<br>\n",
    "Defines how to assign a value to a key/index.<br>\n",
    "**Used for**: obj[key] = value\n",
    "\n",
    "4. **`__delitem__`(self, key):**<br>\n",
    "Defines how to retrieve a value using a key or index.<br>\n",
    "**Used for**: obj[key]\n",
    "\n",
    "5. **`__len__`(self):**<br>\n",
    "Defines how to delete a key/index from the object.<br>\n",
    "**Used for**: len(obj)\n",
    "\n",
    "6. **`__iter__`(self):**<br>\n",
    "Makes the object iterable.\n",
    "**Used for**: Loops, list comprehensions, etc.<br>\n"
   ]
  },
  {
   "cell_type": "code",
   "execution_count": 14,
   "id": "ada64deb",
   "metadata": {},
   "outputs": [],
   "source": [
    "class Team:\n",
    "    def __init__(self, players_dict):\n",
    "        self.players = players_dict\n",
    "        \n",
    "    def __str__(self):\n",
    "        return f\"{self.players}\"\n",
    "    \n",
    "    def __contains__(self, key):\n",
    "        if isinstance(key, tuple) and len(key) == 2:\n",
    "            outer, inner = key\n",
    "            return inner in self.players[outer]\n",
    "        elif isinstance(key, str):\n",
    "            return key in self.players\n",
    "            # return "
   ]
  },
  {
   "cell_type": "code",
   "execution_count": 15,
   "id": "adcd0c8a",
   "metadata": {},
   "outputs": [
    {
     "name": "stdout",
     "output_type": "stream",
     "text": [
      "True\n",
      "True\n"
     ]
    }
   ],
   "source": [
    "players = {\"player1\": {\"name\": \"Shahid\", \"age\":24}, \"player2\": {\"name\": \"Babar\", \"age\":30}}\n",
    "team1 = Team(players)\n",
    "print((\"player1\",\"age\") in team1)\n",
    "print(\"player2\" in team1)"
   ]
  }
 ],
 "metadata": {
  "kernelspec": {
   "display_name": "Python 3",
   "language": "python",
   "name": "python3"
  },
  "language_info": {
   "codemirror_mode": {
    "name": "ipython",
    "version": 3
   },
   "file_extension": ".py",
   "mimetype": "text/x-python",
   "name": "python",
   "nbconvert_exporter": "python",
   "pygments_lexer": "ipython3",
   "version": "3.13.2"
  }
 },
 "nbformat": 4,
 "nbformat_minor": 5
}
