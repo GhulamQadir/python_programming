{
 "cells": [
  {
   "cell_type": "markdown",
   "id": "ac48c394",
   "metadata": {},
   "source": [
    "## Composition & Aggregation"
   ]
  },
  {
   "cell_type": "markdown",
   "id": "6edd5c8e",
   "metadata": {},
   "source": [
    "#### **1. Composition**\n",
    "* Composition is a \"has-a\" relationship where one class owns another class, and the lifetime of the contained object depends on the container object.\n",
    "* If the outer object is destroyed, the inner (contained) object is also destroyed."
   ]
  },
  {
   "cell_type": "code",
   "execution_count": null,
   "id": "789e0d9a",
   "metadata": {},
   "outputs": [
    {
     "name": "stdout",
     "output_type": "stream",
     "text": [
      "heart is pumping\n",
      "heart is pumping\n"
     ]
    }
   ],
   "source": [
    "class Heart:\n",
    "    def __init__(self):\n",
    "        self.beats = True\n",
    "        \n",
    "    def pump(self):\n",
    "        print(\"heart is pumping\")\n",
    "        \n",
    "class Person:\n",
    "    def __init__(self):\n",
    "        self.heart = Heart()\n",
    "    \n",
    "    def live(self):\n",
    "        self.heart.pump()\n",
    "        \n",
    "p1= Person()\n",
    "p1.live()\n",
    "del p1\n",
    "# p1.heart.pump()  error: because the Object is destroyed"
   ]
  },
  {
   "cell_type": "markdown",
   "id": "7e4eabe3",
   "metadata": {},
   "source": [
    "#### Aggregation\n",
    "* Aggregation is also a \"has-a\" relationship, but the contained object can live independently of the container.\n",
    "* If the outer object is destroyed, the inner object can still exist."
   ]
  },
  {
   "cell_type": "code",
   "execution_count": 13,
   "id": "8ce64f34",
   "metadata": {},
   "outputs": [
    {
     "name": "stdout",
     "output_type": "stream",
     "text": [
      "Ali\n",
      "Shaham\n",
      "\n",
      " Ali\n",
      "Shaham\n"
     ]
    }
   ],
   "source": [
    "class Student:\n",
    "    def __init__(self,name):\n",
    "        self.name = name\n",
    "        \n",
    "class Department:\n",
    "    def __init__(self,students):\n",
    "        self.students  =students      \n",
    "        \n",
    "    def show_students(self):\n",
    "        for student in self.students:\n",
    "            print(student.name)\n",
    "\n",
    "s1 = Student(\"Ali\")  \n",
    "s2 = Student(\"Shaham\")  \n",
    "\n",
    "dept=Department([s1,s2])\n",
    "dept.show_students()\n",
    "del dept\n",
    "\n",
    "# we have deleted the department but the students still exist\n",
    "print(\"\\n\",s1.name)\n",
    "print(s2.name)"
   ]
  },
  {
   "cell_type": "markdown",
   "id": "9a9ed68b",
   "metadata": {},
   "source": [
    "# **13. Method Resolution Order (MRO)**\n",
    "\n",
    "**Method Resolution Order (MRO)** is the order in which Python searches for methods and attributes in a class hierarchy, especially in cases of multiple inheritance. It ensures that the correct method or attribute is found and called when there are overlapping names in the inheritance tree."
   ]
  },
  {
   "cell_type": "code",
   "execution_count": 10,
   "id": "5c445ecd",
   "metadata": {},
   "outputs": [
    {
     "name": "stdout",
     "output_type": "stream",
     "text": [
      "[<class '__main__.D'>, <class '__main__.B'>, <class '__main__.A'>, <class 'object'>]\n",
      "Greetings from B\n"
     ]
    }
   ],
   "source": [
    "class A:\n",
    "    def greet(self):\n",
    "        return \"Greetings from A\"\n",
    "\n",
    "class B:\n",
    "    def greet(self):\n",
    "        return \"Greetings from B\"\n",
    "\n",
    "class C:\n",
    "    def greet(self):\n",
    "        return \"Greetings from C\"\n",
    "\n",
    "class D(B,A):\n",
    "        pass\n",
    "    \n",
    "d = D()\n",
    "print(D.mro())\n",
    "print(d.greet())\n"
   ]
  },
  {
   "cell_type": "code",
   "execution_count": 1,
   "id": "5f8d77bb",
   "metadata": {},
   "outputs": [
    {
     "data": {
      "text/plain": [
       "['__class__',\n",
       " '__delattr__',\n",
       " '__dict__',\n",
       " '__dir__',\n",
       " '__doc__',\n",
       " '__eq__',\n",
       " '__firstlineno__',\n",
       " '__format__',\n",
       " '__ge__',\n",
       " '__getattribute__',\n",
       " '__getstate__',\n",
       " '__gt__',\n",
       " '__hash__',\n",
       " '__init__',\n",
       " '__init_subclass__',\n",
       " '__le__',\n",
       " '__lt__',\n",
       " '__module__',\n",
       " '__ne__',\n",
       " '__new__',\n",
       " '__reduce__',\n",
       " '__reduce_ex__',\n",
       " '__repr__',\n",
       " '__setattr__',\n",
       " '__sizeof__',\n",
       " '__static_attributes__',\n",
       " '__str__',\n",
       " '__subclasshook__',\n",
       " '__weakref__',\n",
       " 'accelerate',\n",
       " 'driving_speed',\n",
       " 'get_tracking_num',\n",
       " 'vehicleDetails']"
      ]
     },
     "execution_count": 1,
     "metadata": {},
     "output_type": "execute_result"
    }
   ],
   "source": [
    "class Vehicle:\n",
    "    def __init__(self, type, model, color, speed, trackingNum):\n",
    "        self.type = type\n",
    "        self.model = model\n",
    "        self.color = color\n",
    "        self._speed = speed  # protected property\n",
    "        self.__tracking_num = trackingNum  # private property\n",
    "\n",
    "    def vehicleDetails(self):\n",
    "        return f\"Type: {self.type}, {self.model}, {self.color} in colour\"\n",
    "\n",
    "    def get_tracking_num(self):\n",
    "        return self.__tracking_num\n",
    "\n",
    "    def accelerate(self):\n",
    "        self._speed += 10\n",
    "\n",
    "    def driving_speed(self):\n",
    "        return f\"Driving speed = {self._speed}kph\"\n",
    "# shows all attributes and methods defined at the class level\n",
    "dir(Vehicle)"
   ]
  },
  {
   "cell_type": "code",
   "execution_count": 2,
   "id": "2b088f5c",
   "metadata": {},
   "outputs": [
    {
     "name": "stdout",
     "output_type": "stream",
     "text": [
      "Help on class Vehicle in module __main__:\n",
      "\n",
      "class Vehicle(builtins.object)\n",
      " |  Vehicle(type, model, color, speed, trackingNum)\n",
      " |\n",
      " |  Methods defined here:\n",
      " |\n",
      " |  __init__(self, type, model, color, speed, trackingNum)\n",
      " |      Initialize self.  See help(type(self)) for accurate signature.\n",
      " |\n",
      " |  accelerate(self)\n",
      " |\n",
      " |  driving_speed(self)\n",
      " |\n",
      " |  get_tracking_num(self)\n",
      " |\n",
      " |  vehicleDetails(self)\n",
      " |\n",
      " |  ----------------------------------------------------------------------\n",
      " |  Data descriptors defined here:\n",
      " |\n",
      " |  __dict__\n",
      " |      dictionary for instance variables\n",
      " |\n",
      " |  __weakref__\n",
      " |      list of weak references to the object\n",
      "\n"
     ]
    }
   ],
   "source": [
    "# It displays the docstring (documentation string) of the object\n",
    "help(Vehicle)"
   ]
  },
  {
   "cell_type": "code",
   "execution_count": 3,
   "id": "e2295c8c",
   "metadata": {},
   "outputs": [
    {
     "name": "stdout",
     "output_type": "stream",
     "text": [
      "Car(name = Corolla, model = white\n",
      "Car: Corolla, Model:white\n"
     ]
    }
   ],
   "source": [
    "# Special Magic or dunder functions\n",
    "\"\"\"These are special (magic/dunder) methods that must return a specific type of value (usually a string), as required by Python’s internal rules.\"\"\"\n",
    "class Car:\n",
    "    def __init__(self,name,color):\n",
    "        self.name=name\n",
    "        self.model=color\n",
    "        \n",
    "    def __str__(self):\n",
    "        return f\"Car: {self.name}, Model:{self.model}\"\n",
    "        \n",
    "    \n",
    "    def __repr__(self):\n",
    "        return f\"Car(name = {self.name}, model = {self.model}\"\n",
    "        \n",
    "c1=Car(\"Corolla\",\"white\")\n",
    "print(repr(c1))\n",
    "print(str(c1))"
   ]
  },
  {
   "cell_type": "markdown",
   "id": "7f5bde77",
   "metadata": {},
   "source": [
    "# Metaclasses\n",
    "A metaclass is a “class of a class.” It defines how classes behave. A class defines how instances behave, and a metaclass defines how classes behave.<br>\n",
    "Python uses a default metaclass called type."
   ]
  },
  {
   "cell_type": "code",
   "execution_count": 4,
   "id": "0d5b116a",
   "metadata": {},
   "outputs": [
    {
     "name": "stdout",
     "output_type": "stream",
     "text": [
      "Creating class name: MyClass, bases: (), dct: {'__module__': '__main__', '__qualname__': 'MyClass', '__firstlineno__': 7, '__static_attributes__': ()}\n"
     ]
    }
   ],
   "source": [
    "# the __new__ method is called when the class is being created\n",
    "class MyMeta(type):\n",
    "    def __new__(cls,name,bases,dct):\n",
    "        print(f\"Creating class name: {name}, bases: {bases}, dct: {dct}\")\n",
    "        return super().__new__(cls,name,bases,dct)\n",
    "\n",
    "class MyClass(metaclass=MyMeta):\n",
    "    pass"
   ]
  },
  {
   "cell_type": "markdown",
   "id": "7707486b",
   "metadata": {},
   "source": [
    "# **Design Patterns**"
   ]
  },
  {
   "cell_type": "markdown",
   "id": "8256daa6",
   "metadata": {},
   "source": [
    "## **1. Singleton Design Pattern**\n",
    "The Singleton Design Pattern ensures that a class has only one instance throughout the program and provides a global point of access to that instance."
   ]
  },
  {
   "cell_type": "code",
   "execution_count": 7,
   "id": "a327bcc7",
   "metadata": {},
   "outputs": [
    {
     "name": "stdout",
     "output_type": "stream",
     "text": [
      "Using the same instance\n",
      "Count: 3\n",
      "True\n"
     ]
    }
   ],
   "source": [
    "class SingletonCounter:\n",
    "    _has_instance = None\n",
    "    count = 0\n",
    "    \n",
    "    @classmethod\n",
    "    def increment(cls):\n",
    "        cls.count+=1\n",
    "    \n",
    "    @classmethod\n",
    "    def get_count(cls):\n",
    "        print(f\"Count: {cls.count}\")\n",
    "        \n",
    "    def __new__(cls):\n",
    "        if cls._has_instance is None:\n",
    "            cls._has_instance= super().__new__(cls)\n",
    "        else:\n",
    "            print(\"Using the same instance\")\n",
    "        return cls._has_instance\n",
    "    \n",
    "c1 = SingletonCounter()\n",
    "c1.increment()\n",
    "c1.increment()\n",
    "c1.increment()\n",
    "c2=SingletonCounter()\n",
    "c2.get_count()\n",
    "print(c1 is c2)  # The **is** keyword checks object identity, not just equality."
   ]
  },
  {
   "cell_type": "markdown",
   "id": "b2a481e3",
   "metadata": {},
   "source": [
    "## **2. Factory Design Pattern**\n",
    "The Factory Design Pattern is a creational pattern that provides an interface for creating objects in a superclass, but allows subclasses to alter the type of objects that will be created."
   ]
  },
  {
   "cell_type": "code",
   "execution_count": 10,
   "id": "408e3e01",
   "metadata": {},
   "outputs": [
    {
     "name": "stdout",
     "output_type": "stream",
     "text": [
      "Send email notification\n",
      "Send sms notification\n"
     ]
    }
   ],
   "source": [
    "class Notification:\n",
    "    def send(self):\n",
    "        pass\n",
    "    \n",
    "class EmailNotification(Notification):\n",
    "    def send(self):\n",
    "        print(\"Send email notification\")\n",
    "        \n",
    "class SMSNotification(Notification):\n",
    "    def send(self):\n",
    "        print(\"Send sms notification\")\n",
    "        \n",
    "class NotificationFactory:\n",
    "    @staticmethod\n",
    "    def send_notification(type:str) -> Notification:\n",
    "        if type==\"email\":\n",
    "           return EmailNotification()\n",
    "        elif type==\"sms\":\n",
    "           return SMSNotification()\n",
    "        else:\n",
    "            raise ValueError(f\"Unsupported notification type: {type}\")\n",
    "        \n",
    "n1 = NotificationFactory.send_notification(\"email\")\n",
    "n1.send()\n",
    "\n",
    "n2=NotificationFactory.send_notification(\"sms\")\n",
    "n2.send()\n",
    "\n",
    "# ERROR\n",
    "# n3=NotificationFactory.send_notification(\"abc\")\n",
    "# n3.send()"
   ]
  },
  {
   "cell_type": "markdown",
   "id": "a7b395b8",
   "metadata": {},
   "source": [
    "### Vehicle Example(Factory Design Pattern)"
   ]
  },
  {
   "cell_type": "code",
   "execution_count": 40,
   "id": "55f21839",
   "metadata": {},
   "outputs": [
    {
     "name": "stdout",
     "output_type": "stream",
     "text": [
      "Truck started\n",
      "Bike started\n",
      "Car started\n"
     ]
    }
   ],
   "source": [
    "class Vehicle:\n",
    "    def start_engine(self):\n",
    "        pass\n",
    "\n",
    "class Car(Vehicle):\n",
    "    def start_engine(self):\n",
    "        print(\"Car started\")\n",
    "        \n",
    "class Truck(Vehicle):\n",
    "    def start_engine(self):\n",
    "        print(\"Truck started\")\n",
    "        \n",
    "class Bike(Vehicle):\n",
    "    def start_engine(self):\n",
    "        print(\"Bike started\")\n",
    "        \n",
    "class VehicleFactory:\n",
    "    _vehicles = {\"car\":Car(),\"bike\":Bike(),\"truck\":Truck()}\n",
    "    @staticmethod\n",
    "    def start_vehicle(v_type):\n",
    "        if v_type==\"car\":\n",
    "            return Car()\n",
    "        elif v_type==\"truck\":\n",
    "            return Truck()\n",
    "        elif v_type==\"bike\":\n",
    "            return Bike()\n",
    "        else: \n",
    "            raise ValueError(f\"Incorrect Vehicle type: {v_type}\")\n",
    "          \n",
    "v1 = VehicleFactory.start_vehicle(\"truck\")\n",
    "v1.start_engine()\n",
    "\n",
    "v2 = VehicleFactory.start_vehicle(\"bike\")\n",
    "v2.start_engine()\n",
    "\n",
    "v3 = VehicleFactory.start_vehicle(\"car\")\n",
    "v3.start_engine()\n",
    "\n",
    "# ERROR\n",
    "# v4 = VehicleFactory.start_vehicle(\"abc\")\n",
    "# v4.start_engine()\n",
    "    "
   ]
  }
 ],
 "metadata": {
  "kernelspec": {
   "display_name": "Python 3",
   "language": "python",
   "name": "python3"
  },
  "language_info": {
   "codemirror_mode": {
    "name": "ipython",
    "version": 3
   },
   "file_extension": ".py",
   "mimetype": "text/x-python",
   "name": "python",
   "nbconvert_exporter": "python",
   "pygments_lexer": "ipython3",
   "version": "3.13.2"
  }
 },
 "nbformat": 4,
 "nbformat_minor": 5
}
