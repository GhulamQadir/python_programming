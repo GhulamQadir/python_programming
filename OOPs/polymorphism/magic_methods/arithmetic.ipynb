{
 "cells": [
  {
   "cell_type": "markdown",
   "id": "9bee35bc",
   "metadata": {},
   "source": [
    "1. **`__add__`:**<br>\n",
    "Defines the behavior for the addition operator + when used between two objects of a class.\n",
    "\n",
    "2. **`__sub`**<br>\n",
    "Defines the behavior of the - operator between class instances."
   ]
  },
  {
   "cell_type": "code",
   "execution_count": 7,
   "id": "99fccfb3",
   "metadata": {},
   "outputs": [],
   "source": [
    "class Point:\n",
    "    def __init__(self, x, y):\n",
    "        self.__x = x\n",
    "        self.__y = y\n",
    "        \n",
    "    def __add__(self, other_point):\n",
    "        x = self.__x + other_point.__x\n",
    "        y = self.__y + other_point.__y\n",
    "        return Point(x, y)\n",
    "    \n",
    "    def __sub__(self, other_point):\n",
    "        x = other_point.__x - self.__x \n",
    "        y = other_point.__y - self.__y\n",
    "        return Point(x, y)\n",
    "    \n",
    "    def __str__(self):\n",
    "        return f\"({self.__x}, {self.__y})\"\n",
    "    \n",
    "    @property    \n",
    "    def point(self):\n",
    "        return self.__x, self.__y\n",
    "    \n",
    "    @point.setter\n",
    "    def point(self, new_point):\n",
    "        self.__x = new_point[0]\n",
    "        self.__x = new_point[1]"
   ]
  },
  {
   "cell_type": "code",
   "execution_count": 8,
   "id": "6fc3f09f",
   "metadata": {},
   "outputs": [
    {
     "name": "stdout",
     "output_type": "stream",
     "text": [
      "(7, 11)\n",
      "(3, 5)\n"
     ]
    }
   ],
   "source": [
    "point1 = Point(2,3)\n",
    "point2 = Point(5,8)\n",
    "point3 = point1 + point2\n",
    "print(point3)\n",
    "point3 = point1 - point2\n",
    "print(point3)"
   ]
  },
  {
   "cell_type": "markdown",
   "id": "eb49c27c",
   "metadata": {},
   "source": [
    "3. **`__mul__`:**\n",
    "Defines how the * operator behaves when applied to your objects."
   ]
  },
  {
   "cell_type": "code",
   "execution_count": 9,
   "id": "9704275d",
   "metadata": {},
   "outputs": [
    {
     "name": "stdout",
     "output_type": "stream",
     "text": [
      "[18 38]\n",
      "[29 63]\n"
     ]
    }
   ],
   "source": [
    "class Matrix2d:\n",
    "    def __init__(self, matrix2d):\n",
    "        self.matrix = matrix2d\n",
    "        \n",
    "    def __str__(self):\n",
    "        return f\"[{self.matrix[0][0]} {self.matrix[0][1]}]\\n[{self.matrix[1][0]} {self.matrix[1][1]}]\"\n",
    "    \n",
    "    def __mul__(self, other_matrix):\n",
    "        a = self.matrix[0][0] * other_matrix.matrix[0][0] + self.matrix[0][1] * other_matrix.matrix[1][0]\n",
    "        b = self.matrix[0][0] * other_matrix.matrix[0][1] + self.matrix[0][1] * other_matrix.matrix[1][1]\n",
    "        \n",
    "        c = self.matrix[1][0] * other_matrix.matrix[0][0] + self.matrix[1][1] * other_matrix.matrix[1][0]\n",
    "        d = self.matrix[1][0] * other_matrix.matrix[0][1] + self.matrix[1][1] * other_matrix.matrix[1][1]\n",
    "        \n",
    "        new_matrix = [[a,b], [c,d]]\n",
    "        return Matrix2d(new_matrix)\n",
    "    \n",
    "matrix1 = Matrix2d([[2,4],[5,6]])\n",
    "matrix2 = Matrix2d([[1,3],[4,8]])\n",
    "new_matrix = matrix1 * matrix2\n",
    "print(new_matrix)"
   ]
  },
  {
   "cell_type": "markdown",
   "id": "e0657472",
   "metadata": {},
   "source": [
    "4. **`__truediv__`**<br> \n",
    "- Defines the behavior of the / operator (floating-point division) between objects.\n",
    "\n",
    "5. **`__floordiv__`**<br> \n",
    "- Defines the behavior of the / operator (floor division) between objects."
   ]
  },
  {
   "cell_type": "code",
   "execution_count": null,
   "id": "6867cab5",
   "metadata": {},
   "outputs": [
    {
     "name": "stdout",
     "output_type": "stream",
     "text": [
      "223.33\n",
      "2\n"
     ]
    }
   ],
   "source": [
    "class TotalPrice:\n",
    "    def __init__(self, total_price):\n",
    "        self.total_price = total_price\n",
    "        \n",
    "    def __truediv__(self, other):\n",
    "        return round((self.total_price / other), 2)\n",
    "    \n",
    "    def __floordiv__(self, other):\n",
    "        return self.total_price // other.total_price\n",
    "    \n",
    "totalPrice1 = TotalPrice(670)\n",
    "print(totalPrice1 / 3)\n",
    "\n",
    "totalPrice2 = TotalPrice(1800)\n",
    "print(totalPrice2 // totalPrice1)"
   ]
  },
  {
   "cell_type": "code",
   "execution_count": 5,
   "id": "8e9b02e7",
   "metadata": {},
   "outputs": [
    {
     "name": "stdout",
     "output_type": "stream",
     "text": [
      "44\n",
      "27000000\n"
     ]
    }
   ],
   "source": [
    "class Time:\n",
    "    def __init__(self,seconds):\n",
    "        self.seconds = seconds\n",
    "        \n",
    "    def __mod__(self, test_seconds):\n",
    "        return self.seconds % test_seconds\n",
    "    \n",
    "    def __pow__(self, power):\n",
    "        return self.seconds ** power\n",
    "    \n",
    "time = Time(300)\n",
    "print(time % 64)\n",
    "print(time ** 3)"
   ]
  },
  {
   "cell_type": "markdown",
   "id": "663e9a81",
   "metadata": {},
   "source": [
    "6. **`__iadd__`**: In-place Addition (+=)<br>\n",
    "Defines behavior for x += y.\n",
    "\n",
    "7. **`__isub__`**: In-place Subtraction (-=)<br>\n",
    "Defines behavior for x -= y.\n",
    "\n",
    "8. **`__imul__`**: In-place Multiplication (*=)<br>\n",
    "Defines behavior for x *= y."
   ]
  },
  {
   "cell_type": "code",
   "execution_count": 15,
   "id": "76d85887",
   "metadata": {},
   "outputs": [
    {
     "name": "stdout",
     "output_type": "stream",
     "text": [
      "Time: 345\n",
      "Time: 200\n",
      "Time: 400\n"
     ]
    }
   ],
   "source": [
    "class Time:\n",
    "    def __init__(self,seconds):\n",
    "        self.seconds = seconds\n",
    "        \n",
    "    def __mod__(self, test_seconds):\n",
    "        return self.seconds % test_seconds\n",
    "    \n",
    "    def __iadd__(self, other):\n",
    "        self.seconds += other\n",
    "        return Time(self.seconds)\n",
    "\n",
    "    def __isub__(self, other):\n",
    "        self.seconds -= other\n",
    "        return Time(self.seconds)\n",
    "    \n",
    "    def __imul__(self, other):\n",
    "        self.seconds *= other\n",
    "        return Time(self.seconds)\n",
    "    \n",
    "    def __pos__(self):\n",
    "        # self.seconds -= 1\n",
    "        return Time(+self.seconds)\n",
    "    \n",
    "    def __neg__(self):\n",
    "        # self.seconds -= 1\n",
    "        return Time(-self.seconds)\n",
    "            \n",
    "    def __str__(self):\n",
    "        return f\"Time: {self.seconds}\"\n",
    "    \n",
    "time = Time(300)\n",
    "time += 45\n",
    "print(time)\n",
    "time -= 145\n",
    "print(time)\n",
    "time *= 2\n",
    "print(time)"
   ]
  },
  {
   "cell_type": "markdown",
   "id": "a6fe0683",
   "metadata": {},
   "source": [
    "9. **`__int__(self)`:**<br>\n",
    "**Purpose:** Defines how your object converts to an integer, e.g. with int(obj).<br>\n",
    "\n",
    "10. **`__float__(self)`:**<br>\n",
    "**Purpose:** Defines how your object converts to a float, e.g. with float(obj).<br>\n",
    "\n",
    "11. **`__bool__(self)`:**<br>\n",
    "**Purpose:** Defines what happens when you convert your object to a boolean, e.g. with bool(obj) or in conditions like if obj:."
   ]
  },
  {
   "cell_type": "code",
   "execution_count": 1,
   "id": "881127c7",
   "metadata": {},
   "outputs": [],
   "source": [
    "class Product:\n",
    "    def __init__(self, quantity, price):\n",
    "        self.quantity = quantity\n",
    "        self.price = price\n",
    "        \n",
    "    def __int__(self):\n",
    "        return int(self.price)\n",
    "    \n",
    "    def __float__(self):\n",
    "        return float(self.price)\n",
    "    \n",
    "    def __bool__(self):\n",
    "        return self.quantity > 0"
   ]
  },
  {
   "cell_type": "code",
   "execution_count": 7,
   "id": "8fd985e1",
   "metadata": {},
   "outputs": [
    {
     "name": "stdout",
     "output_type": "stream",
     "text": [
      "120\n",
      "True\n",
      "120.76\n"
     ]
    }
   ],
   "source": [
    "p1 = Product(12, 120.76)\n",
    "\n",
    "print(int(p1))\n",
    "print(bool(p1))\n",
    "print(float(p1))"
   ]
  },
  {
   "cell_type": "code",
   "execution_count": 8,
   "id": "1c747df7",
   "metadata": {},
   "outputs": [
    {
     "name": "stdout",
     "output_type": "stream",
     "text": [
      "130\n",
      "False\n",
      "130.0\n"
     ]
    }
   ],
   "source": [
    "p2 = Product(0, 130)\n",
    "print(int(p2))\n",
    "print(bool(p2))\n",
    "print(float(p2))"
   ]
  }
 ],
 "metadata": {
  "kernelspec": {
   "display_name": "Python 3",
   "language": "python",
   "name": "python3"
  },
  "language_info": {
   "codemirror_mode": {
    "name": "ipython",
    "version": 3
   },
   "file_extension": ".py",
   "mimetype": "text/x-python",
   "name": "python",
   "nbconvert_exporter": "python",
   "pygments_lexer": "ipython3",
   "version": "3.13.2"
  }
 },
 "nbformat": 4,
 "nbformat_minor": 5
}
