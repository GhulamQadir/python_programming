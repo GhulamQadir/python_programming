{
 "cells": [
  {
   "cell_type": "markdown",
   "id": "b57bdc71",
   "metadata": {},
   "source": [
    "# **Magic Methods OR Dunder Functions:**\n",
    "Magic methods, also known as dunder methods (short for double underscore), are special predefined methods in Python that allow you to define how your objects behave with built-in operations such as printing, arithmetic, comparison, object creation, and more.\n",
    "\n",
    "These methods have names enclosed in double underscores (like __init__, __str__, __len__) and are automatically called by Python in response to specific syntax or function calls.\n",
    "\n",
    "By implementing magic methods, you can make your custom classes mimic the behavior of built-in types, making them more intuitive, interactive, and Pythonic."
   ]
  },
  {
   "cell_type": "markdown",
   "id": "7ddef354",
   "metadata": {},
   "source": [
    "1. **`__str__`**<br>\n",
    "__str__ is a special method in Python used to define the human-readable string representation of an object. It is called by the built-in str() function and by print()."
   ]
  },
  {
   "cell_type": "code",
   "execution_count": 1,
   "id": "35ad638b",
   "metadata": {},
   "outputs": [
    {
     "name": "stdout",
     "output_type": "stream",
     "text": [
      "Name: Zaheer, RollNo: 1372\n"
     ]
    }
   ],
   "source": [
    "class Student:\n",
    "    def __init__(self, name, rollNo):\n",
    "        self.name = name\n",
    "        self.rollNo = rollNo\n",
    "        \n",
    "    def __str__(self):\n",
    "        return f\"Name: {self.name}, RollNo: {self.rollNo}\"\n",
    "    \n",
    "stud1 = Student(\"Zaheer\", \"1372\")\n",
    "print(stud1)"
   ]
  },
  {
   "cell_type": "markdown",
   "id": "30ed507f",
   "metadata": {},
   "source": [
    "2. **`__repr__`:**<br>\n",
    "__repr__ is a special method used to define the official string representation of an object. It is called by the built-in repr() function and it is used for developer view (debugging)."
   ]
  },
  {
   "cell_type": "code",
   "execution_count": 3,
   "id": "1ff671b1",
   "metadata": {},
   "outputs": [
    {
     "name": "stdout",
     "output_type": "stream",
     "text": [
      "Student(name=Zaheer, rollNo=1372)\n"
     ]
    }
   ],
   "source": [
    "class Student:\n",
    "    def __init__(self, name, rollNo):\n",
    "        self.name = name\n",
    "        self.rollNo = rollNo\n",
    "        \n",
    "    def __repr__(self):\n",
    "        return f\"Student(name={self.name}, rollNo={self.rollNo})\"\n",
    "    \n",
    "stud1 = Student(\"Zaheer\", \"1372\")\n",
    "print(repr(stud1))"
   ]
  }
 ],
 "metadata": {
  "kernelspec": {
   "display_name": "Python 3",
   "language": "python",
   "name": "python3"
  },
  "language_info": {
   "codemirror_mode": {
    "name": "ipython",
    "version": 3
   },
   "file_extension": ".py",
   "mimetype": "text/x-python",
   "name": "python",
   "nbconvert_exporter": "python",
   "pygments_lexer": "ipython3",
   "version": "3.13.2"
  }
 },
 "nbformat": 4,
 "nbformat_minor": 5
}
