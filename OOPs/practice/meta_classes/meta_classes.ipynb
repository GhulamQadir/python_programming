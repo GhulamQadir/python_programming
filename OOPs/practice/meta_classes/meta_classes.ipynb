{
 "cells": [
  {
   "cell_type": "markdown",
   "id": "9a9ed68b",
   "metadata": {},
   "source": [
    "# **13. Method Resolution Order (MRO)**\n",
    "\n",
    "**Method Resolution Order (MRO)** is the order in which Python searches for methods and attributes in a class hierarchy, especially in cases of multiple inheritance. It ensures that the correct method or attribute is found and called when there are overlapping names in the inheritance tree."
   ]
  },
  {
   "cell_type": "code",
   "execution_count": 8,
   "id": "5c445ecd",
   "metadata": {},
   "outputs": [
    {
     "name": "stdout",
     "output_type": "stream",
     "text": [
      "[<class '__main__.D'>, <class '__main__.B'>, <class '__main__.A'>, <class 'object'>]\n",
      "Greetings from B\n"
     ]
    }
   ],
   "source": [
    "class A:\n",
    "    def greet(self):\n",
    "        return \"Greetings from A\"\n",
    "\n",
    "class B:\n",
    "    def greet(self):\n",
    "        return \"Greetings from B\"\n",
    "\n",
    "class C:\n",
    "    def greet(self):\n",
    "        return \"Greetings from C\"\n",
    "\n",
    "class D(B,A):\n",
    "        pass\n",
    "    \n",
    "d = D()\n",
    "print(D.mro())\n",
    "print(d.greet())\n"
   ]
  },
  {
   "cell_type": "code",
   "execution_count": 9,
   "id": "5f8d77bb",
   "metadata": {},
   "outputs": [
    {
     "data": {
      "text/plain": [
       "['__class__',\n",
       " '__delattr__',\n",
       " '__dict__',\n",
       " '__dir__',\n",
       " '__doc__',\n",
       " '__eq__',\n",
       " '__firstlineno__',\n",
       " '__format__',\n",
       " '__ge__',\n",
       " '__getattribute__',\n",
       " '__getstate__',\n",
       " '__gt__',\n",
       " '__hash__',\n",
       " '__init__',\n",
       " '__init_subclass__',\n",
       " '__le__',\n",
       " '__lt__',\n",
       " '__module__',\n",
       " '__ne__',\n",
       " '__new__',\n",
       " '__reduce__',\n",
       " '__reduce_ex__',\n",
       " '__repr__',\n",
       " '__setattr__',\n",
       " '__sizeof__',\n",
       " '__static_attributes__',\n",
       " '__str__',\n",
       " '__subclasshook__',\n",
       " '__weakref__',\n",
       " 'accelerate',\n",
       " 'driving_speed',\n",
       " 'get_tracking_num',\n",
       " 'vehicleDetails']"
      ]
     },
     "execution_count": 9,
     "metadata": {},
     "output_type": "execute_result"
    }
   ],
   "source": [
    "class Vehicle:\n",
    "    def __init__(self, type, model, color, speed, trackingNum):\n",
    "        self.type = type\n",
    "        self.model = model\n",
    "        self.color = color\n",
    "        self._speed = speed  # protected property\n",
    "        self.__tracking_num = trackingNum  # private property\n",
    "\n",
    "    def vehicleDetails(self):\n",
    "        return f\"Type: {self.type}, {self.model}, {self.color} in colour\"\n",
    "\n",
    "    def get_tracking_num(self):\n",
    "        return self.__tracking_num\n",
    "\n",
    "    def accelerate(self):\n",
    "        self._speed += 10\n",
    "\n",
    "    def driving_speed(self):\n",
    "        return f\"Driving speed = {self._speed}kph\"\n",
    "# shows all attributes and methods defined at the class level\n",
    "dir(Vehicle)"
   ]
  },
  {
   "cell_type": "code",
   "execution_count": 10,
   "id": "2b088f5c",
   "metadata": {},
   "outputs": [
    {
     "name": "stdout",
     "output_type": "stream",
     "text": [
      "Help on class Vehicle in module __main__:\n",
      "\n",
      "class Vehicle(builtins.object)\n",
      " |  Vehicle(type, model, color, speed, trackingNum)\n",
      " |\n",
      " |  Methods defined here:\n",
      " |\n",
      " |  __init__(self, type, model, color, speed, trackingNum)\n",
      " |      Initialize self.  See help(type(self)) for accurate signature.\n",
      " |\n",
      " |  accelerate(self)\n",
      " |\n",
      " |  driving_speed(self)\n",
      " |\n",
      " |  get_tracking_num(self)\n",
      " |\n",
      " |  vehicleDetails(self)\n",
      " |\n",
      " |  ----------------------------------------------------------------------\n",
      " |  Data descriptors defined here:\n",
      " |\n",
      " |  __dict__\n",
      " |      dictionary for instance variables\n",
      " |\n",
      " |  __weakref__\n",
      " |      list of weak references to the object\n",
      "\n"
     ]
    }
   ],
   "source": [
    "# It displays the docstring (documentation string) of the object\n",
    "help(Vehicle)"
   ]
  },
  {
   "cell_type": "markdown",
   "id": "7f5bde77",
   "metadata": {},
   "source": [
    "# Metaclasses\n",
    "A metaclass is a “class of a class.” It defines how classes behave. A class defines how instances behave, and a metaclass defines how classes behave.<br>\n",
    "Python uses a default metaclass called type."
   ]
  },
  {
   "cell_type": "code",
   "execution_count": 12,
   "id": "0d5b116a",
   "metadata": {},
   "outputs": [
    {
     "name": "stdout",
     "output_type": "stream",
     "text": [
      "Creating class name: MyClass, bases: (), dct: {'__module__': '__main__', '__qualname__': 'MyClass', '__firstlineno__': 7, '__static_attributes__': ()}\n"
     ]
    }
   ],
   "source": [
    "# the __new__ method is called when the class is being created\n",
    "class MyMeta(type):\n",
    "    def __new__(cls,name,bases,dct):\n",
    "        print(f\"Creating class name: {name}, bases: {bases}, dct: {dct}\")\n",
    "        return super().__new__(cls,name,bases,dct)\n",
    "\n",
    "class MyClass(metaclass=MyMeta):\n",
    "    pass"
   ]
  }
 ],
 "metadata": {
  "kernelspec": {
   "display_name": "Python 3",
   "language": "python",
   "name": "python3"
  },
  "language_info": {
   "codemirror_mode": {
    "name": "ipython",
    "version": 3
   },
   "file_extension": ".py",
   "mimetype": "text/x-python",
   "name": "python",
   "nbconvert_exporter": "python",
   "pygments_lexer": "ipython3",
   "version": "3.13.2"
  }
 },
 "nbformat": 4,
 "nbformat_minor": 5
}
