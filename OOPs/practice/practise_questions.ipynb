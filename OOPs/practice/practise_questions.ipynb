{
 "cells": [
  {
   "cell_type": "code",
   "execution_count": 19,
   "id": "a4054a17",
   "metadata": {},
   "outputs": [
    {
     "name": "stdout",
     "output_type": "stream",
     "text": [
      "Greetings Ali\n",
      "Your average score is:  77.0\n",
      "Greetings Shahid\n",
      "Your average score is:  52.0\n",
      "Greetings Sameer\n",
      "Your average score is:  77.0\n"
     ]
    }
   ],
   "source": [
    "# 1. Create student class that takes name and marks of 3 subjects and print their average\n",
    "\n",
    "\n",
    "class Student:\n",
    "    def __init__(self, name, marks):\n",
    "        self.name = name\n",
    "        self.marks = marks\n",
    "\n",
    "    def get_average(self):\n",
    "        total = 0\n",
    "        for score in self.marks:\n",
    "            total += score\n",
    "        print(f\"Greetings {self.name}\")\n",
    "        print(\"Your average score is: \", total / len(self.marks))\n",
    "\n",
    "\n",
    "std1 = Student(\"Ali\", [68, 92, 71])\n",
    "std1.get_average()\n",
    "\n",
    "std2 = Student(\"Shahid\", [83, 22, 51])\n",
    "std2.get_average()\n",
    "\n",
    "# can update value like this\n",
    "std1.name = \"Sameer\"\n",
    "std1.get_average()"
   ]
  },
  {
   "cell_type": "code",
   "execution_count": 20,
   "id": "e6c2ed08",
   "metadata": {},
   "outputs": [
    {
     "name": "stdout",
     "output_type": "stream",
     "text": [
      "User: 4327842\n",
      "Your current balance is: 40450\n",
      "Amount credited successfullly. Balance after credit: 42750\n",
      "Remaining Balance after debit: 22750\n",
      "\n",
      "\n",
      "User: 2311190\n",
      "Your current balance is: 33000\n",
      "Amount credited successfullly. Balance after credit: 37500\n",
      "Remaining Balance after debit: 27650\n"
     ]
    }
   ],
   "source": [
    "# Q2: Create Account class with two attributes - balance & account no. Create methods for debit, credit an printing the balance\n",
    "\n",
    "\n",
    "class Account:\n",
    "    def __init__(self, accountNo, balance):\n",
    "        self.accountNo = accountNo\n",
    "        self.balance = balance\n",
    "        print(f\"User: {self.accountNo}\")\n",
    "\n",
    "    # debit method\n",
    "    def debit(self, debitAmount):\n",
    "        if self.balance < debitAmount:\n",
    "            print(\"Your current balance is less than the amount you want to debit\")\n",
    "        else:\n",
    "            self.balance -= debitAmount\n",
    "            print(f\"Remaining Balance after debit: {self.checkBalance()}\")\n",
    "\n",
    "    # credit method\n",
    "    def credit(self, creditAmount):\n",
    "        if creditAmount > 0:\n",
    "            self.balance += creditAmount\n",
    "            print(\n",
    "                f\"Amount credited successfullly. Balance after credit: {self.checkBalance()}\"\n",
    "            )\n",
    "\n",
    "    # check balance method\n",
    "    def checkBalance(self):\n",
    "        return self.balance\n",
    "\n",
    "\n",
    "user1 = Account(accountNo=4327842, balance=40450)\n",
    "print(f\"Your current balance is: {user1.checkBalance()}\")\n",
    "user1.credit(2300)\n",
    "user1.debit(20000)\n",
    "\n",
    "print(\"\\n\")\n",
    "\n",
    "user1 = Account(accountNo=2311190, balance=33000)\n",
    "print(f\"Your current balance is: {user1.checkBalance()}\")\n",
    "user1.credit(4500)\n",
    "user1.debit(9850)"
   ]
  },
  {
   "cell_type": "markdown",
   "id": "ff1489ed",
   "metadata": {},
   "source": [
    "### Calculate percentage\n"
   ]
  },
  {
   "cell_type": "code",
   "execution_count": 21,
   "id": "ed227ef8",
   "metadata": {},
   "outputs": [
    {
     "name": "stdout",
     "output_type": "stream",
     "text": [
      "74.33%\n"
     ]
    }
   ],
   "source": [
    "class Student:\n",
    "    def __init__(self, eng, urdu, maths):\n",
    "        self.eng = eng\n",
    "        self.urdu = urdu\n",
    "        self.maths = maths\n",
    "\n",
    "    def calc_percentage(self):\n",
    "        percentage = round((float(self.eng + self.urdu + self.maths) / 300) * 100, 2)\n",
    "        return f\"{percentage}%\"\n",
    "\n",
    "\n",
    "std1 = Student(78, 82, 63)\n",
    "print(std1.calc_percentage())"
   ]
  },
  {
   "cell_type": "code",
   "execution_count": 22,
   "id": "00e34ed5",
   "metadata": {},
   "outputs": [
    {
     "name": "stdout",
     "output_type": "stream",
     "text": [
      "Area:  50.24\n",
      "Perimeter:  25.12\n"
     ]
    }
   ],
   "source": [
    "# Q: Define a Circle class to create a Circle with radius r using the constructor. Define an Area() method of the class which calculates area, and a perimeter method to calculate perimeter\n",
    "\n",
    "\n",
    "class Circle:\n",
    "    PI = 3.14\n",
    "\n",
    "    def __init__(self, radius):\n",
    "        self.radius = radius\n",
    "\n",
    "    def area(self):\n",
    "        return self.PI * self.radius**2\n",
    "\n",
    "    def perimeter(self):\n",
    "        return round(2 * self.PI * self.radius, 2)\n",
    "\n",
    "\n",
    "c1 = Circle(4)\n",
    "print(\"Area: \", c1.area())\n",
    "print(\"Perimeter: \", c1.perimeter())"
   ]
  },
  {
   "cell_type": "code",
   "execution_count": 23,
   "id": "574fdeb4",
   "metadata": {},
   "outputs": [
    {
     "name": "stdout",
     "output_type": "stream",
     "text": [
      "Role: Accountant, Department: Finance, Salary: 100000\n",
      "Role: Engineer, Department: IT, Salary: 120000\n"
     ]
    }
   ],
   "source": [
    "# Q: Define an employee class with attributes role, department and salary. This class also has a showDetails method. Create an Engineer class that inherits properties from Employee and has additional attributes name and age\n",
    "\n",
    "\n",
    "class Employee:\n",
    "    def __init__(self, role, department, salary):\n",
    "        self.role = role\n",
    "        self.department = department\n",
    "        self.salary = salary\n",
    "\n",
    "    def showDetails(self):\n",
    "        print(\n",
    "            f\"Role: {self.role}, Department: {self.department}, Salary: {self.salary}\"\n",
    "        )\n",
    "\n",
    "\n",
    "e1 = Employee(\"Accountant\", \"Finance\", 100000)\n",
    "e1.showDetails()\n",
    "\n",
    "\n",
    "class Engineer(Employee):\n",
    "    def __init__(self, name, age, salary):\n",
    "        self.name = name\n",
    "        self.age = age\n",
    "        super().__init__(\"Engineer\", \"IT\", salary)\n",
    "\n",
    "\n",
    "eng1 = Engineer(\"Abc\", 34, 120000)\n",
    "eng1.showDetails()"
   ]
  },
  {
   "cell_type": "code",
   "execution_count": 24,
   "id": "bc5ac7f5",
   "metadata": {},
   "outputs": [
    {
     "name": "stdout",
     "output_type": "stream",
     "text": [
      "True\n"
     ]
    }
   ],
   "source": [
    "\"\"\"Q: Create a class called Order which stores item and its price. Use dunder function __gt__() to convey that:\n",
    "order1 > order2 if price of order1 > price of order2\n",
    "\"\"\"\n",
    "\n",
    "\n",
    "class Order:\n",
    "    def __init__(self, item, price):\n",
    "        self.item = item\n",
    "        self.price = price\n",
    "\n",
    "    def __gt__(self, otherOrder):\n",
    "        return self.price > otherOrder.price\n",
    "\n",
    "\n",
    "order1 = Order(\"Pizza\", 3000)\n",
    "order2 = Order(\"Karahi\", 2500)\n",
    "checkOrder = order1 > order2\n",
    "print(checkOrder)"
   ]
  },
  {
   "cell_type": "code",
   "execution_count": 25,
   "id": "6e61d1f8",
   "metadata": {},
   "outputs": [
    {
     "name": "stdout",
     "output_type": "stream",
     "text": [
      "True\n",
      "False\n"
     ]
    }
   ],
   "source": [
    "# equals(==) and less than(<) dunder functions\n",
    "class Person:\n",
    "    def __init__(self, height, age):\n",
    "        self.height = height\n",
    "        self.age = age\n",
    "\n",
    "    def __eq__(self, other):\n",
    "        return self.age == other.age\n",
    "\n",
    "    def __lt__(self, other):\n",
    "        return self.height < other.height\n",
    "\n",
    "\n",
    "p1 = Person(6.4, 25)\n",
    "p2 = Person(5.4, 25)\n",
    "\n",
    "print(p1 == p2)\n",
    "print(p1 < p2)"
   ]
  },
  {
   "cell_type": "code",
   "execution_count": 26,
   "id": "02fa4e71",
   "metadata": {},
   "outputs": [
    {
     "name": "stdout",
     "output_type": "stream",
     "text": [
      "400\n",
      "Not in stock\n",
      "Items in stock: 2\n",
      "True\n",
      "t1 remove from your list!\n",
      "{'t3': 300}\n"
     ]
    }
   ],
   "source": [
    "# __setitem__, __getitem__, __contains__ and len functions\n",
    "class Toys:\n",
    "    def __init__(self):\n",
    "        self.toys={}\n",
    "        \n",
    "    def __setitem__(self,name,price):\n",
    "        self.toys[name] = price\n",
    "    \n",
    "    def __getitem__(self,name):\n",
    "        return self.toys.get(name, \"Not in stock\") # if not available \n",
    "    \n",
    "    def __contains__(self,name):\n",
    "        return name in self.toys\n",
    "    \n",
    "    def __len__(self):\n",
    "        return len(self.toys)\n",
    "    \n",
    "    def __delitem__(self,name):\n",
    "        if name in self.toys:\n",
    "            del self.toys[name]\n",
    "            print(f\"{name} remove from your list!\")\n",
    "    \n",
    "store= Toys()\n",
    "store[\"t1\"] = 400   # manually, we have to do like this: store.toys[\"t1\"] = 400\n",
    "store[\"t3\"] = 300\n",
    "print(store[\"t1\"])  # and retrieve like this: store.toys[\"t1\"]\n",
    "print(store[\"t2\"])\n",
    "print(f\"Items in stock: {len(store)}\")\n",
    "print(\"t1\" in store)\n",
    "del store[\"t1\"]\n",
    "print(store.toys)  # t1 removed from the list"
   ]
  },
  {
   "cell_type": "markdown",
   "id": "9225c6c3",
   "metadata": {},
   "source": [
    "# Factory Design Pattern (OOP Concept) Question"
   ]
  },
  {
   "cell_type": "code",
   "execution_count": 27,
   "id": "ead04bd3",
   "metadata": {},
   "outputs": [
    {
     "name": "stdout",
     "output_type": "stream",
     "text": [
      "Truck started\n",
      "Bike started\n",
      "Incorrect vehicle type - cannot start engine\n",
      "Car started\n"
     ]
    }
   ],
   "source": [
    "class Vehicle:\n",
    "    def start_engine(self):\n",
    "        pass\n",
    "\n",
    "class Car(Vehicle):\n",
    "    def start_engine(self):\n",
    "        print(\"Car started\")\n",
    "        \n",
    "class Truck(Vehicle):\n",
    "    def start_engine(self):\n",
    "        print(\"Truck started\")\n",
    "        \n",
    "class Bike(Vehicle):\n",
    "    def start_engine(self):\n",
    "        print(\"Bike started\")\n",
    "        \n",
    "class NullVehicle(Vehicle):\n",
    "    def start_engine(self):\n",
    "        print(\"Incorrect vehicle type - cannot start engine\")\n",
    "class VehicleFactory:\n",
    "    _vehicles = {\"car\":Car,\"bike\":Bike,\"truck\":Truck}\n",
    "    @classmethod\n",
    "    def start_vehicle(cls,v_type):\n",
    "        return cls._vehicles.get(v_type,NullVehicle)()\n",
    "          \n",
    "v1 = VehicleFactory.start_vehicle(\"truck\")\n",
    "v1.start_engine()\n",
    "\n",
    "v2 = VehicleFactory.start_vehicle(\"bike\")\n",
    "v2.start_engine()\n",
    "\n",
    "v4 = VehicleFactory.start_vehicle(\"abc\")\n",
    "v4.start_engine()\n",
    "\n",
    "v3 = VehicleFactory.start_vehicle(\"car\")\n",
    "v3.start_engine()    "
   ]
  }
 ],
 "metadata": {
  "kernelspec": {
   "display_name": "Python 3",
   "language": "python",
   "name": "python3"
  },
  "language_info": {
   "codemirror_mode": {
    "name": "ipython",
    "version": 3
   },
   "file_extension": ".py",
   "mimetype": "text/x-python",
   "name": "python",
   "nbconvert_exporter": "python",
   "pygments_lexer": "ipython3",
   "version": "3.13.2"
  }
 },
 "nbformat": 4,
 "nbformat_minor": 5
}
