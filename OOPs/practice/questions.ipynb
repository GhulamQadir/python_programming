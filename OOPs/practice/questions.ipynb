{
 "cells": [
  {
   "cell_type": "markdown",
   "id": "2f696d73",
   "metadata": {},
   "source": [
    "## 1. **Credit Card**"
   ]
  },
  {
   "cell_type": "code",
   "execution_count": 59,
   "id": "c7fd05cd",
   "metadata": {},
   "outputs": [],
   "source": [
    "class AmountExceedError(Exception):\n",
    "    def __init__(self, message = \"You are exceeding your balance limit\"):\n",
    "        super().__init__(message)\n",
    "\n",
    "\n",
    "class CreditCard:\n",
    "    __limit = 100000\n",
    "    def __init__(self, customer_name, bank, account_number):\n",
    "        self.__customer_name = customer_name\n",
    "        self.__bank = bank\n",
    "        self.__balance = 0\n",
    "        if len(account_number) < 8 or len(account_number) > 8:\n",
    "            raise ValueError(\"Account number must consist of exactly 8 digits\")\n",
    "        else:\n",
    "            self.__account_number = account_number\n",
    "    \n",
    "    @property    \n",
    "    def customer(self):\n",
    "        return self.__customer_name\n",
    "    \n",
    "    @property\n",
    "    def bank(self):\n",
    "        return self.__bank\n",
    "    \n",
    "    @property\n",
    "    def account_number(self):\n",
    "        return f\"****{self.__account_number[-4:]}\"  \n",
    "    \n",
    "    @property\n",
    "    def balance(self):\n",
    "        return self.__balance\n",
    "    \n",
    "    @classmethod\n",
    "    def get_limit(cls):\n",
    "        return cls.__limit\n",
    "    \n",
    "    def charge(self, charge):\n",
    "        if charge < 0:\n",
    "            raise ValueError(\"Charge amount cannot be in negative\")\n",
    "        elif self.__balance + charge <= self.__limit:\n",
    "            self.__balance += charge\n",
    "            return True\n",
    "        else:\n",
    "            raise AmountExceedError()\n",
    "    \n",
    "    def make_payment(self, payment):\n",
    "        self.__balance -= payment\n",
    "        \n",
    "    def __str__(self):\n",
    "        return f\"Customer Name: {self.customer}\\nBank: {self.bank}\\nAccount Number: ****{self.account_number}\\nBalance: {self.balance}\"\n",
    "    \n",
    "    def __repr__(self):\n",
    "        return f\"CreditCard(customer_name = {self.customer}, bank = {self.bank}, account_number = ****{self.account_number}, balance = {self.balance})\""
   ]
  },
  {
   "cell_type": "code",
   "execution_count": 60,
   "id": "418cc1d7",
   "metadata": {},
   "outputs": [],
   "source": [
    "user = CreditCard(\"Sameer\", \"metro\", \"32123421\")"
   ]
  },
  {
   "cell_type": "code",
   "execution_count": 61,
   "id": "7068b3c9",
   "metadata": {},
   "outputs": [
    {
     "name": "stdout",
     "output_type": "stream",
     "text": [
      "True\n",
      "24000\n",
      "100000\n",
      "****3421\n",
      "Customer Name: Sameer\n",
      "Bank: metro\n",
      "Account Number: ********3421\n",
      "Balance: 24000\n",
      "CreditCard(customer_name = Sameer, bank = metro, account_number = ********3421, balance = 24000)\n"
     ]
    }
   ],
   "source": [
    "print(user.charge(24000))\n",
    "print(user.balance)\n",
    "print(user.get_limit())\n",
    "print(user.account_number)\n",
    "print(user)\n",
    "print(repr(user))"
   ]
  },
  {
   "cell_type": "markdown",
   "id": "c8ffd5ba",
   "metadata": {},
   "source": [
    "## 2. **Vector**"
   ]
  },
  {
   "cell_type": "code",
   "execution_count": 62,
   "id": "bf8b4f16",
   "metadata": {},
   "outputs": [],
   "source": [
    "class Vector:\n",
    "    def __init__(self, coordinates):\n",
    "        self.__coordinates = coordinates\n",
    "        \n",
    "    @property\n",
    "    def coordinates(self):\n",
    "        return self.__coordinates\n",
    "    \n",
    "    @coordinates.setter\n",
    "    def coordinates(self, new_coordinates):\n",
    "        self.__coordinates = new_coordinates\n",
    "    \n",
    "    def __add__(self, other_vector): \n",
    "        new_coordinates = []\n",
    "        if isinstance(other_vector, Vector):\n",
    "            for i, j in zip(self.coordinates, other_vector.coordinates):\n",
    "                coordinate = i + j\n",
    "                new_coordinates.append(coordinate)\n",
    "        else:\n",
    "            for i, j in zip(self.coordinates, other_vector):\n",
    "                coordinate = i + j\n",
    "                new_coordinates.append(coordinate)\n",
    "                \n",
    "        return Vector(tuple(new_coordinates)) \n",
    "    \n",
    "    def __sub__(self, other_vector):\n",
    "        new_coordinates = []\n",
    "        if isinstance(other_vector, Vector):\n",
    "            for i, j in zip(self.coordinates, other_vector.coordinates):\n",
    "                coordinate = i + j\n",
    "                new_coordinates.append(coordinate)\n",
    "        else:\n",
    "            for i, j in zip(self.coordinates, other_vector):\n",
    "                coordinate = i - j\n",
    "                new_coordinates.append(coordinate)\n",
    "                \n",
    "        return Vector(tuple(new_coordinates))\n",
    "    \n",
    "    def __str__(self):\n",
    "        return f\"Vector: {self.coordinates}\"\n",
    "    \n",
    "    def __len__(self):\n",
    "        return len(self.coordinates)"
   ]
  },
  {
   "cell_type": "code",
   "execution_count": 63,
   "id": "d56fa9fc",
   "metadata": {},
   "outputs": [
    {
     "name": "stdout",
     "output_type": "stream",
     "text": [
      "Vector: (3, 4)\n",
      "Vector: (1, 7)\n",
      "\n",
      "Vector: (2, 17)\n",
      "\n",
      "Vector: (5, 41)\n",
      "Vector: (-2, 3)\n"
     ]
    }
   ],
   "source": [
    "vector1 = Vector((3,4))\n",
    "print(vector1)\n",
    "vector2 = Vector((1,7))\n",
    "print(vector2)\n",
    "\n",
    "vector1.coordinates = (1,10)\n",
    "vector3 = vector1 + vector2\n",
    "print(f\"\\n{vector3}\")\n",
    "\n",
    "vector4 = vector3-vector2-vector3\n",
    "print(f\"\\n{vector4}\")\n",
    "\n",
    "vector5 = vector2 - (3,4)\n",
    "print(vector5)"
   ]
  },
  {
   "cell_type": "markdown",
   "id": "f336a7ea",
   "metadata": {},
   "source": [
    "## 3. **Employees Class** (for practicing iterator)"
   ]
  },
  {
   "cell_type": "code",
   "execution_count": 64,
   "id": "1ec051ea",
   "metadata": {},
   "outputs": [],
   "source": [
    "class Employees:\n",
    "    def __init__(self, employees):\n",
    "        self.__employees = list(employees.items())\n",
    "        self.__index = 0\n",
    "        \n",
    "    def __iter__(self):\n",
    "        \"\"\"By convention, an iterator must return itself as an iterator.\"\"\"\n",
    "        return self\n",
    "    \n",
    "    @property\n",
    "    def employees(self):\n",
    "        return self.__employees\n",
    "    \n",
    "    def __next__(self):\n",
    "        \"\"\"”Return the next element, or else raise StopIteration error.\"\"\"\n",
    "        if self.__index < len(self.employees):\n",
    "            current_employee = self.employees[self.__index]\n",
    "            self.__index += 1\n",
    "            return current_employee\n",
    "        else:\n",
    "            raise StopIteration(\"Employees limit reached\")"
   ]
  },
  {
   "cell_type": "code",
   "execution_count": 65,
   "id": "9c0cf8ef",
   "metadata": {},
   "outputs": [
    {
     "name": "stdout",
     "output_type": "stream",
     "text": [
      "('Ali', 50000)\n",
      "('Sara', 60000)\n",
      "('Ahmed', 55000)\n",
      "('Zara', 62000)\n"
     ]
    }
   ],
   "source": [
    "employees_dict = {\"Ali\": 50000, \"Sara\": 60000, \"Ahmed\": 55000, \"Zara\": 62000}\n",
    "employees = Employees(employees_dict)\n",
    "for employee in employees:\n",
    "    print(employee)"
   ]
  },
  {
   "cell_type": "code",
   "execution_count": null,
   "id": "965a8c54",
   "metadata": {},
   "outputs": [],
   "source": []
  }
 ],
 "metadata": {
  "kernelspec": {
   "display_name": "Python 3",
   "language": "python",
   "name": "python3"
  },
  "language_info": {
   "codemirror_mode": {
    "name": "ipython",
    "version": 3
   },
   "file_extension": ".py",
   "mimetype": "text/x-python",
   "name": "python",
   "nbconvert_exporter": "python",
   "pygments_lexer": "ipython3",
   "version": "3.13.2"
  }
 },
 "nbformat": 4,
 "nbformat_minor": 5
}
