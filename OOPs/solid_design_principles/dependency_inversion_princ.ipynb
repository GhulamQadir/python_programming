{
 "cells": [
  {
   "cell_type": "markdown",
   "id": "58d433be",
   "metadata": {},
   "source": [
    "# **Dependency Inversion Principle**\n",
    "### 💡 What does it mean?\n",
    "Instead of one class directly using another concrete class, it should depend on an interface or abstract class.\n",
    "This reduces tight coupling between components and makes code easier to modify or extend.\n",
    "\n"
   ]
  },
  {
   "cell_type": "markdown",
   "id": "23681222",
   "metadata": {},
   "source": [
    "## Without DIP (tightly coupled code)"
   ]
  },
  {
   "cell_type": "code",
   "execution_count": 14,
   "id": "cab2ef31",
   "metadata": {},
   "outputs": [
    {
     "name": "stdout",
     "output_type": "stream",
     "text": [
      "Sending email\n",
      "Sending Whatsapp message\n"
     ]
    }
   ],
   "source": [
    "class SMS:\n",
    "    def send(self):\n",
    "        print(\"Sending SMS\")\n",
    "\n",
    "class Email:\n",
    "    def send(self):\n",
    "        print(\"Sending email\")\n",
    "\n",
    "class Notification:\n",
    "    def send(self):\n",
    "        print(\"Sending notification\")\n",
    "\n",
    "class WhatsappMsg:\n",
    "    def send(self):\n",
    "        print(\"Sending Whatsapp message\")\n",
    "\n",
    "class Execute:\n",
    "    def __init__(self, message_type: str):\n",
    "        if message_type == \"sms\":\n",
    "            self.msg = SMS()\n",
    "        elif message_type == \"email\":\n",
    "            self.msg = Email()\n",
    "        elif message_type == \"notification\":\n",
    "            self.msg = Notification()\n",
    "        elif message_type == \"whatsapp\":\n",
    "            self.msg = WhatsappMsg()\n",
    "        else:\n",
    "            raise ValueError(\"Unsupported message type\")\n",
    "\n",
    "    def send_msg(self):\n",
    "        self.msg.send()\n",
    "\n",
    "\n",
    "# Usage:\n",
    "e1 = Execute(\"email\")\n",
    "e1.send_msg()\n",
    "\n",
    "e2 = Execute(\"whatsapp\")\n",
    "e2.send_msg()\n"
   ]
  },
  {
   "cell_type": "markdown",
   "id": "aa84c563",
   "metadata": {},
   "source": [
    "* High-level module (Execute), depends directly on low-level modules (SMS, Email, etc.)\n",
    "* No abstraction. Execute must know every concrete message type\n",
    "* Hard to extend. If you add a new type like TelegramMsg, you must edit Execute"
   ]
  },
  {
   "cell_type": "markdown",
   "id": "d463f7da",
   "metadata": {},
   "source": [
    "# **Now using DIP**"
   ]
  },
  {
   "cell_type": "code",
   "execution_count": 15,
   "id": "286499f5",
   "metadata": {},
   "outputs": [],
   "source": [
    "from abc import ABC, abstractmethod"
   ]
  },
  {
   "cell_type": "code",
   "execution_count": 16,
   "id": "f54c61b8",
   "metadata": {},
   "outputs": [],
   "source": [
    "class Message(ABC):\n",
    "    @abstractmethod\n",
    "    def send(self):\n",
    "        pass\n",
    "    \n",
    "class SMS(Message):\n",
    "    def send(self):\n",
    "        print(\"Sending SMS\")\n",
    "        \n",
    "class Notification(Message):\n",
    "    def send(self):\n",
    "        print(\"Sending notification\")\n",
    "        \n",
    "class Email(Message):\n",
    "    def send(self):\n",
    "        print(\"Sending email\")\n",
    "        \n",
    "class WhatsappMsg(Message):\n",
    "    def send(self):\n",
    "        print(\"Sending Whatsapp Message\")\n",
    "\n",
    "class Execute:\n",
    "    def __init__(self, msg_type: Message):\n",
    "        self.msg_type=msg_type\n",
    "        \n",
    "    def send_msg(self):\n",
    "        self.msg_type.send()"
   ]
  },
  {
   "cell_type": "code",
   "execution_count": 17,
   "id": "d80eda46",
   "metadata": {},
   "outputs": [
    {
     "name": "stdout",
     "output_type": "stream",
     "text": [
      "Sending email\n",
      "Sending SMS\n",
      "Sending notification\n",
      "Sending Whatsapp Message\n"
     ]
    }
   ],
   "source": [
    "m1 = Execute(Email())\n",
    "m1.send_msg()\n",
    "\n",
    "m2=Execute(SMS())\n",
    "m2.send_msg()\n",
    "\n",
    "m3=Execute(Notification())\n",
    "m3.send_msg()\n",
    "\n",
    "m4 =Execute(WhatsappMsg())\n",
    "m4.send_msg()"
   ]
  }
 ],
 "metadata": {
  "kernelspec": {
   "display_name": "Python 3",
   "language": "python",
   "name": "python3"
  },
  "language_info": {
   "codemirror_mode": {
    "name": "ipython",
    "version": 3
   },
   "file_extension": ".py",
   "mimetype": "text/x-python",
   "name": "python",
   "nbconvert_exporter": "python",
   "pygments_lexer": "ipython3",
   "version": "3.13.2"
  }
 },
 "nbformat": 4,
 "nbformat_minor": 5
}
