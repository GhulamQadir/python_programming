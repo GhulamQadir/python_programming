{
 "cells": [
  {
   "cell_type": "markdown",
   "id": "28d07dfc",
   "metadata": {},
   "source": [
    "# **Interface Segregation Principle (ISP):**\n",
    "\n",
    "Clients should not be forced to depend on interfaces they do not use. Instead of one large interface, create smaller, specific ones.\n"
   ]
  },
  {
   "cell_type": "markdown",
   "id": "292b5509",
   "metadata": {},
   "source": [
    "### Bad: One large interface\n"
   ]
  },
  {
   "cell_type": "code",
   "execution_count": 3,
   "id": "a35c3cb8",
   "metadata": {},
   "outputs": [],
   "source": [
    "class Printer:\n",
    "    def print_document(self):\n",
    "        pass\n",
    "\n",
    "    def scan_document(self):\n",
    "        pass\n",
    "\n",
    "    def fax_document(self):\n",
    "        pass"
   ]
  },
  {
   "cell_type": "markdown",
   "id": "cbd4a1d8",
   "metadata": {},
   "source": [
    "### Good: Smaller, specific interfaces\n"
   ]
  },
  {
   "cell_type": "code",
   "execution_count": 4,
   "id": "beb06641",
   "metadata": {},
   "outputs": [
    {
     "name": "stdout",
     "output_type": "stream",
     "text": [
      "Printing\n",
      "Scanning\n",
      "Faxing\n"
     ]
    }
   ],
   "source": [
    "class Printer:\n",
    "    def print_document(self):\n",
    "        print(\"Printing\")\n",
    "\n",
    "\n",
    "class Scanner:\n",
    "    def scan_document(self):\n",
    "        print(\"Scanning\")\n",
    "\n",
    "\n",
    "class FaxMachine:\n",
    "    def fax_document(self):\n",
    "        print(\"Faxing\")\n",
    "\n",
    "\n",
    "p = Printer()\n",
    "p.print_document()\n",
    "\n",
    "s = Scanner()\n",
    "s.scan_document()\n",
    "\n",
    "f = FaxMachine()\n",
    "f.fax_document()"
   ]
  }
 ],
 "metadata": {
  "kernelspec": {
   "display_name": "Python 3",
   "language": "python",
   "name": "python3"
  },
  "language_info": {
   "codemirror_mode": {
    "name": "ipython",
    "version": 3
   },
   "file_extension": ".py",
   "mimetype": "text/x-python",
   "name": "python",
   "nbconvert_exporter": "python",
   "pygments_lexer": "ipython3",
   "version": "3.13.2"
  }
 },
 "nbformat": 4,
 "nbformat_minor": 5
}
