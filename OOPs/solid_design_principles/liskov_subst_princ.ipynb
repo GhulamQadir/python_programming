{
 "cells": [
  {
   "cell_type": "markdown",
   "id": "72912043",
   "metadata": {},
   "source": [
    "# **Liskov Substitution Principle**\n",
    "Objects of a superclass should be replaceable with objects of a subclass without affecting the correctness of the program."
   ]
  },
  {
   "cell_type": "code",
   "execution_count": 12,
   "id": "bb15a5e1",
   "metadata": {},
   "outputs": [],
   "source": [
    "from abc import ABC, abstractmethod"
   ]
  },
  {
   "cell_type": "code",
   "execution_count": 13,
   "id": "7036f506",
   "metadata": {},
   "outputs": [
    {
     "name": "stdout",
     "output_type": "stream",
     "text": [
      "Pedal to start moving\n",
      "Start engine to move\n",
      "Start engine to fly\n"
     ]
    }
   ],
   "source": [
    "class Vehicle(ABC):\n",
    "    @abstractmethod\n",
    "    def move(self):\n",
    "        pass\n",
    "    \n",
    "class Bicycle(Vehicle):\n",
    "    def move(self):\n",
    "        print(\"Pedal to start moving\")\n",
    "        \n",
    "class Car(Vehicle):\n",
    "    def move(self):\n",
    "        print(\"Start engine to move\")\n",
    "\n",
    "class Aeroplane(Vehicle):\n",
    "    def move(self):\n",
    "        print(\"Start engine to fly\")\n",
    "\n",
    "\n",
    "def start_vehicle(vehicle:Vehicle):\n",
    "    vehicle.move()\n",
    "    \n",
    "start_vehicle(Bicycle())\n",
    "start_vehicle(Car())\n",
    "start_vehicle(Aeroplane())"
   ]
  }
 ],
 "metadata": {
  "kernelspec": {
   "display_name": "Python 3",
   "language": "python",
   "name": "python3"
  },
  "language_info": {
   "codemirror_mode": {
    "name": "ipython",
    "version": 3
   },
   "file_extension": ".py",
   "mimetype": "text/x-python",
   "name": "python",
   "nbconvert_exporter": "python",
   "pygments_lexer": "ipython3",
   "version": "3.13.2"
  }
 },
 "nbformat": 4,
 "nbformat_minor": 5
}
