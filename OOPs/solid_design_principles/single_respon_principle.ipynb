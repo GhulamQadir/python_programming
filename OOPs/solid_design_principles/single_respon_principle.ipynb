{
 "cells": [
  {
   "cell_type": "markdown",
   "id": "d560cf57",
   "metadata": {},
   "source": [
    "# **SOLID Principles in Python**\n",
    "\n",
    "The **SOLID principles** are a set of five design principles that help developers write maintainable and scalable code. They are:"
   ]
  },
  {
   "cell_type": "markdown",
   "id": "46f05bc7",
   "metadata": {},
   "source": [
    "1. **Single Responsibility Principle (SRP):**\n",
    "\n",
    "A class should have only one reason to change, meaning it should have only one responsibility.<br>\n",
    "One class = One responsibility"
   ]
  },
  {
   "cell_type": "code",
   "execution_count": 15,
   "id": "cc5a120e",
   "metadata": {},
   "outputs": [],
   "source": [
    "users = [\"user1\",\"user2\",\"user3\",\"user4\"]\n",
    "class LibraryManager:\n",
    "    books_issued = {}\n",
    "    books = [\"Urdu\",\"English\",\"Economics\",\"Physics\",\"Mathematics\",\"Social Sciences\"]\n",
    "    \n",
    "    def __init__(self,user):\n",
    "        self.user=user\n",
    "    \n",
    "    def issue_book(self,book):\n",
    "        user =self.user\n",
    "        if book in self.books:\n",
    "            if user in self.books_issued:\n",
    "                self.books_issued[user].append({book:\"02/03/2025\"})\n",
    "                self.books.remove(book)\n",
    "                print(f\"Books: {self.books}\")\n",
    "                print(f\"Issued Books: {self.books_issued}\")\n",
    "            else:\n",
    "                self.books_issued[user] = [{book: \"02/03/2025\"}]\n",
    "                self.books.remove(book)\n",
    "                print(f\"Books: {self.books}\")\n",
    "                print(f\"Issued Books: {self.books_issued}\")\n",
    "        \n",
    "    def return_book(self,book_to_return):\n",
    "        for i,book in enumerate(self.books_issued[self.user]):\n",
    "            if book_to_return in book:\n",
    "                del self.books_issued[self.user][i]\n",
    "                self.books.append(book_to_return)\n",
    "                if len(self.books_issued[self.user])<1:\n",
    "                    del self.books_issued[self.user]\n",
    "                break\n",
    "            \n",
    "        print(self.books_issued)\n",
    "        print(self.books)"
   ]
  },
  {
   "cell_type": "code",
   "execution_count": 16,
   "id": "73c3a80a",
   "metadata": {},
   "outputs": [
    {
     "name": "stdout",
     "output_type": "stream",
     "text": [
      "Books: ['Urdu', 'Economics', 'Physics', 'Mathematics', 'Social Sciences']\n",
      "Issued Books: {'user1': [{'English': '02/03/2025'}]}\n",
      "Books: ['Economics', 'Physics', 'Mathematics', 'Social Sciences']\n",
      "Issued Books: {'user1': [{'English': '02/03/2025'}, {'Urdu': '02/03/2025'}]}\n"
     ]
    }
   ],
   "source": [
    "user1 = LibraryManager(\"user1\")\n",
    "user1.issue_book(\"English\")\n",
    "user1.issue_book(\"Urdu\")"
   ]
  },
  {
   "cell_type": "code",
   "execution_count": 17,
   "id": "bbb1ea29",
   "metadata": {},
   "outputs": [
    {
     "name": "stdout",
     "output_type": "stream",
     "text": [
      "{'user1': [{'English': '02/03/2025'}]}\n",
      "['Economics', 'Physics', 'Mathematics', 'Social Sciences', 'Urdu']\n"
     ]
    }
   ],
   "source": [
    "user1.return_book(\"Urdu\")"
   ]
  },
  {
   "cell_type": "code",
   "execution_count": 18,
   "id": "60644da7",
   "metadata": {},
   "outputs": [
    {
     "name": "stdout",
     "output_type": "stream",
     "text": [
      "{}\n",
      "['Economics', 'Physics', 'Mathematics', 'Social Sciences', 'Urdu', 'English']\n"
     ]
    }
   ],
   "source": [
    "user1.return_book(\"English\")   "
   ]
  },
  {
   "cell_type": "markdown",
   "id": "335190f6",
   "metadata": {},
   "source": [
    "## Now Breaking that Library Management System Code using Single Responsiblity Principle"
   ]
  },
  {
   "cell_type": "code",
   "execution_count": 19,
   "id": "c42003d8",
   "metadata": {},
   "outputs": [],
   "source": [
    "class BooksInventory:\n",
    "    books = [\"Urdu\",\"English\",\"Economics\",\"Physics\",\"Mathematics\",\"Social Sciences\"]\n",
    "\n",
    "    @classmethod\n",
    "    def add_book(cls,book):\n",
    "        if book not in cls.books:\n",
    "            cls.books.append(book)\n",
    "        \n",
    "    @classmethod\n",
    "    def remove_book(cls,book):\n",
    "        if book in cls.books:\n",
    "            cls.books.remove(book)\n",
    "    \n",
    "    @classmethod  \n",
    "    def is_available(cls,book):\n",
    "        return book in cls.books\n",
    "    \n",
    "class IssuedBooksRecord:\n",
    "    books_issued={}\n",
    "    \n",
    "    @classmethod\n",
    "    def issue(cls,user,book):\n",
    "        if user in IssuedBooksRecord.books_issued:\n",
    "            IssuedBooksRecord.books_issued[user].append({book:\"02/03/2025\"})\n",
    "        else:\n",
    "            IssuedBooksRecord.books_issued[user] = [{book: \"02/03/2025\"}]\n",
    "\n",
    "    @classmethod\n",
    "    def return_book(cls,user,book_to_return):\n",
    "        if user not in cls.books_issued:\n",
    "            return False\n",
    "        for i,record in enumerate(IssuedBooksRecord.books_issued[user]):\n",
    "            if book_to_return in record:\n",
    "                del IssuedBooksRecord.books_issued[user][i]\n",
    "                if not cls.books_issued[user]:\n",
    "                    del cls.books_issued[user]\n",
    "                return True\n",
    "        return False\n",
    "    \n",
    "class IssueBook():\n",
    "    def __init__(self,user):\n",
    "        self.user=user    \n",
    "        \n",
    "    def issue_book(self,book):\n",
    "        user =self.user\n",
    "        if book in BooksInventory.books:\n",
    "            IssuedBooksRecord.issue(user,book)\n",
    "            BooksInventory.remove_book(book)\n",
    "            print(f\"Books: {BooksInventory.books}\")\n",
    "            print(f\"Issued Books: {IssuedBooksRecord.books_issued}\")\n",
    "        else:\n",
    "            print(f\"{book} book not available!\")\n",
    "            \n",
    "class ReturnBook:\n",
    "    def __init__(self,user):\n",
    "        self.user=user\n",
    "    def return_book(self,book_to_return):\n",
    "        success = IssuedBooksRecord.return_book(self.user,book_to_return)\n",
    "        if success:\n",
    "            BooksInventory.add_book(book_to_return)\n",
    "            print(f\"Book '{book_to_return}' returned by {self.user}\")\n",
    "        else:\n",
    "            print(f\"{self.user} has not issued the book '{book_to_return}'\")\n",
    "            \n",
    "        print(IssuedBooksRecord.books_issued)\n",
    "        print(BooksInventory.books)\n",
    "        "
   ]
  },
  {
   "cell_type": "code",
   "execution_count": 20,
   "id": "c58d2b23",
   "metadata": {},
   "outputs": [
    {
     "name": "stdout",
     "output_type": "stream",
     "text": [
      "Books: ['Urdu', 'English', 'Economics', 'Mathematics', 'Social Sciences']\n",
      "Issued Books: {'user2': [{'Physics': '02/03/2025'}]}\n"
     ]
    }
   ],
   "source": [
    "user2 = IssueBook(\"user2\")\n",
    "user2.issue_book(\"Physics\")"
   ]
  },
  {
   "cell_type": "code",
   "execution_count": 21,
   "id": "0c91d55c",
   "metadata": {},
   "outputs": [
    {
     "name": "stdout",
     "output_type": "stream",
     "text": [
      "Maths book not available!\n",
      "Books: ['English', 'Economics', 'Mathematics', 'Social Sciences']\n",
      "Issued Books: {'user2': [{'Physics': '02/03/2025'}], 'user3': [{'Urdu': '02/03/2025'}]}\n"
     ]
    }
   ],
   "source": [
    "user3=IssueBook(\"user3\")\n",
    "user3.issue_book(\"Maths\")\n",
    "user3.issue_book(\"Urdu\")"
   ]
  },
  {
   "cell_type": "code",
   "execution_count": 22,
   "id": "7e828ad8",
   "metadata": {},
   "outputs": [
    {
     "name": "stdout",
     "output_type": "stream",
     "text": [
      "Book 'Urdu' returned by user3\n",
      "{'user2': [{'Physics': '02/03/2025'}]}\n",
      "['English', 'Economics', 'Mathematics', 'Social Sciences', 'Urdu']\n"
     ]
    }
   ],
   "source": [
    "user3 = ReturnBook(\"user3\")\n",
    "user3.return_book(\"Urdu\")"
   ]
  },
  {
   "cell_type": "code",
   "execution_count": 23,
   "id": "457420ad",
   "metadata": {},
   "outputs": [
    {
     "name": "stdout",
     "output_type": "stream",
     "text": [
      "['English', 'Economics', 'Mathematics', 'Social Sciences', 'Urdu', 'History']\n",
      "['English', 'Economics', 'Mathematics', 'Social Sciences', 'Urdu', 'History']\n",
      "['English', 'Economics', 'Social Sciences', 'Urdu', 'History']\n"
     ]
    }
   ],
   "source": [
    "books_inven = BooksInventory()\n",
    "books_inven.add_book(\"History\")\n",
    "print(books_inven.books)\n",
    "books_inven.add_book(\"History\")\n",
    "print(books_inven.books)\n",
    "books_inven.remove_book(\"Mathematics\")\n",
    "print(books_inven.books)"
   ]
  }
 ],
 "metadata": {
  "kernelspec": {
   "display_name": "Python 3",
   "language": "python",
   "name": "python3"
  },
  "language_info": {
   "codemirror_mode": {
    "name": "ipython",
    "version": 3
   },
   "file_extension": ".py",
   "mimetype": "text/x-python",
   "name": "python",
   "nbconvert_exporter": "python",
   "pygments_lexer": "ipython3",
   "version": "3.13.2"
  }
 },
 "nbformat": 4,
 "nbformat_minor": 5
}
