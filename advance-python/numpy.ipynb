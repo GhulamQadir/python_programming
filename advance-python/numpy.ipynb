{
 "cells": [
  {
   "cell_type": "code",
   "execution_count": null,
   "id": "279ef89c",
   "metadata": {},
   "outputs": [
    {
     "name": "stdout",
     "output_type": "stream",
     "text": [
      "[2, 4, 6, 8, 10, 12, 14, 16, 18, 20, 22, 24, 26, 28, 30, 32, 34, 36, 38, 40, 42, 44, 46, 48, 50, 52, 54, 56, 58, 60, 62, 64, 66, 68, 70, 72, 74, 76, 78, 80, 82, 84, 86, 88, 90, 92, 94, 96, 98, 100] \n",
      "\n",
      "[4, 16, 36, 64, 100, 144, 196, 256, 324, 400, 484, 576, 676, 784, 900, 1024, 1156, 1296, 1444, 1600, 1764, 1936, 2116, 2304, 2500, 2704, 2916, 3136, 3364, 3600, 3844, 4096, 4356, 4624, 4900, 5184, 5476, 5776, 6084, 6400, 6724, 7056, 7396, 7744, 8100, 8464, 8836, 9216, 9604, 10000]\n"
     ]
    }
   ],
   "source": [
    "# creating list of even integers\n",
    "intList = list(range(2, 101, 2))\n",
    "print(intList, \"\\n\")\n",
    "\n",
    "# squared list\n",
    "squaredList = [x**2 for x in intList]\n",
    "print(squaredList)"
   ]
  },
  {
   "cell_type": "code",
   "execution_count": null,
   "id": "8208c9ca",
   "metadata": {},
   "outputs": [
    {
     "name": "stdout",
     "output_type": "stream",
     "text": [
      "[1 2 3 4] \n",
      "\n",
      "[0 1 2 3 4 5 6 7 8 9] \n",
      "\n",
      "[  2   4   6   8  10  12  14  16  18  20  22  24  26  28  30  32  34  36\n",
      "  38  40  42  44  46  48  50  52  54  56  58  60  62  64  66  68  70  72\n",
      "  74  76  78  80  82  84  86  88  90  92  94  96  98 100]\n"
     ]
    }
   ],
   "source": [
    "import numpy as np\n",
    "\n",
    "# creating numpy array\n",
    "arr = np.array([1, 2, 3, 4])\n",
    "print(arr, \"\\n\")\n",
    "\n",
    "# creating array using numpy range\n",
    "int_arr = np.arange(10)\n",
    "print(int_arr, \"\\n\")\n",
    "\n",
    "numpPyArr = np.array(intList)  # converted normal python list into numpy array\n",
    "print(numpPyArr)"
   ]
  },
  {
   "cell_type": "code",
   "execution_count": null,
   "id": "b49d82e0",
   "metadata": {},
   "outputs": [
    {
     "name": "stdout",
     "output_type": "stream",
     "text": [
      "Cubic Array:  [ 1  8 27 64]\n"
     ]
    }
   ],
   "source": [
    "# converting numpy array directly to cubic array\n",
    "cubic_arr = arr**3\n",
    "print(\"Cubic Array: \", cubic_arr)"
   ]
  },
  {
   "cell_type": "code",
   "execution_count": null,
   "id": "371f21d5",
   "metadata": {},
   "outputs": [
    {
     "name": "stdout",
     "output_type": "stream",
     "text": [
      "[[0.89291487 0.03853202 0.36047452]\n",
      " [0.76171726 0.57420084 0.77772673]]\n",
      "\n",
      "Normally distributed random Numbers: [[-0.24285502 -0.06814817  1.52031667 -1.1854692 ]]\n"
     ]
    }
   ],
   "source": [
    "# creating random numbers array\n",
    "random_arr = np.random.rand(2, 3)\n",
    "print(random_arr)\n",
    "\n",
    "# normally distributed random numbers\n",
    "rand_norm = np.random.randn(1, 4)\n",
    "print(f\"\\nNormally distributed random Numbers: {rand_norm}\")"
   ]
  },
  {
   "cell_type": "code",
   "execution_count": null,
   "id": "19af7898",
   "metadata": {},
   "outputs": [
    {
     "name": "stdout",
     "output_type": "stream",
     "text": [
      "Data type:  float64\n",
      "Length of an array:  4\n",
      "Dimesions:  2\n",
      "Shape:  (2, 3)\n"
     ]
    }
   ],
   "source": [
    "# checking data type\n",
    "print(\"Data type: \", random_arr.dtype)\n",
    "\n",
    "# checking length of array\n",
    "print(\"Length of an array: \", rand_norm.size)\n",
    "\n",
    "# checking dimensions of array\n",
    "print(\"Dimesions: \", rand_norm.ndim)\n",
    "\n",
    "# checking shape of an array\n",
    "print(\"Shape: \", random_arr.shape)  # 2 rows and three columns"
   ]
  },
  {
   "cell_type": "code",
   "execution_count": null,
   "id": "8d05df01",
   "metadata": {},
   "outputs": [
    {
     "name": "stdout",
     "output_type": "stream",
     "text": [
      "[[[0.68295283 0.7325002  0.11989897 0.72648654 0.72110897]\n",
      "  [0.50989759 0.12068118 0.87516081 0.7420291  0.84097086]\n",
      "  [0.10795116 0.33668127 0.42818362 0.15996202 0.18881861]\n",
      "  [0.59070697 0.27410356 0.30871618 0.52022148 0.24310687]]\n",
      "\n",
      " [[0.79826022 0.43434571 0.07937107 0.53785985 0.75030728]\n",
      "  [0.46188068 0.14808265 0.18766818 0.04191338 0.99186293]\n",
      "  [0.45633397 0.48490721 0.93865718 0.78921703 0.71099956]\n",
      "  [0.50841431 0.86470703 0.3683041  0.53898914 0.14402081]]\n",
      "\n",
      " [[0.54898046 0.3841099  0.68399168 0.28338961 0.87661227]\n",
      "  [0.03815863 0.7878741  0.90158613 0.52511339 0.52574591]\n",
      "  [0.11243817 0.30336324 0.37713988 0.78737514 0.38045563]\n",
      "  [0.03235286 0.47471662 0.01358355 0.87905709 0.68386537]]]\n"
     ]
    }
   ],
   "source": [
    "# creating 3d array\n",
    "# array of 4 rows, 5 columns, and 3 copies rand(copies, 4 rows, 5 columns)  --->> 3d array\n",
    "arr_3d = np.random.rand(3, 4, 5)\n",
    "print(arr_3d)"
   ]
  },
  {
   "cell_type": "code",
   "execution_count": null,
   "id": "6f35104e",
   "metadata": {},
   "outputs": [
    {
     "name": "stdout",
     "output_type": "stream",
     "text": [
      "[[[ 0  1  2  3]\n",
      "  [ 4  5  6  7]\n",
      "  [ 8  9 10 11]]\n",
      "\n",
      " [[12 13 14 15]\n",
      "  [16 17 18 19]\n",
      "  [20 21 22 23]]]\n"
     ]
    }
   ],
   "source": [
    "# breaking range of array into 3d array\n",
    "arr3d = np.arange(24).reshape(\n",
    "    2, 3, 4\n",
    ")  # the elements should be adjusted in dimesion other will return an error\n",
    "print(arr3d)"
   ]
  },
  {
   "cell_type": "code",
   "execution_count": null,
   "id": "8bca05af",
   "metadata": {},
   "outputs": [
    {
     "name": "stdout",
     "output_type": "stream",
     "text": [
      "[[[ 0  1  2  3]\n",
      "  [ 4  5  6  7]\n",
      "  [ 8  9 10 11]]\n",
      "\n",
      " [[12 13 14 15]\n",
      "  [16 17 18 19]\n",
      "  [20 21 22 23]]]\n"
     ]
    }
   ],
   "source": [
    "arr3d = np.arange(24).reshape(2, 3, 4)\n",
    "print(arr3d)"
   ]
  },
  {
   "cell_type": "code",
   "execution_count": null,
   "id": "dfd22b88",
   "metadata": {},
   "outputs": [
    {
     "name": "stdout",
     "output_type": "stream",
     "text": [
      "[[0. 0. 0. 0.]\n",
      " [0. 0. 0. 0.]\n",
      " [0. 0. 0. 0.]]\n",
      "[[[1. 1. 1. 1. 1.]\n",
      "  [1. 1. 1. 1. 1.]\n",
      "  [1. 1. 1. 1. 1.]\n",
      "  [1. 1. 1. 1. 1.]]\n",
      "\n",
      " [[1. 1. 1. 1. 1.]\n",
      "  [1. 1. 1. 1. 1.]\n",
      "  [1. 1. 1. 1. 1.]\n",
      "  [1. 1. 1. 1. 1.]]]\n"
     ]
    },
    {
     "data": {
      "text/plain": [
       "'ones and zeros methods take tuple as input so we use double brackets'"
      ]
     },
     "execution_count": 48,
     "metadata": {},
     "output_type": "execute_result"
    }
   ],
   "source": [
    "# creating zeros array\n",
    "zerosArr = np.zeros((3, 4))\n",
    "print(zerosArr)\n",
    "\n",
    "# creating ones array\n",
    "onesArr = np.ones((2, 4, 5))\n",
    "print(onesArr)\n",
    "\n",
    "\"\"\"ones and zeros methods take tuple as input so we use double brackets\"\"\""
   ]
  },
  {
   "cell_type": "code",
   "execution_count": null,
   "id": "45c54f8f",
   "metadata": {},
   "outputs": [
    {
     "data": {
      "text/plain": [
       "array([[1., 0., 0., 0., 0.],\n",
       "       [0., 1., 0., 0., 0.],\n",
       "       [0., 0., 1., 0., 0.],\n",
       "       [0., 0., 0., 1., 0.],\n",
       "       [0., 0., 0., 0., 1.]])"
      ]
     },
     "execution_count": 44,
     "metadata": {},
     "output_type": "execute_result"
    }
   ],
   "source": [
    "# creating identical matrix\n",
    "identicalArr = np.eye(5, 5)\n",
    "identicalArr"
   ]
  },
  {
   "cell_type": "code",
   "execution_count": null,
   "id": "5c5d7533",
   "metadata": {},
   "outputs": [
    {
     "data": {
      "text/plain": [
       "array([[12., 12., 12., 12., 12.],\n",
       "       [12., 12., 12., 12., 12.],\n",
       "       [12., 12., 12., 12., 12.],\n",
       "       [12., 12., 12., 12., 12.]])"
      ]
     },
     "execution_count": 50,
     "metadata": {},
     "output_type": "execute_result"
    }
   ],
   "source": [
    "# multiplying ones array by any number\n",
    "multiples_arr = np.ones((4, 5)) * 12\n",
    "multiples_arr"
   ]
  },
  {
   "cell_type": "code",
   "execution_count": 52,
   "id": "2edfad6e",
   "metadata": {},
   "outputs": [
    {
     "data": {
      "text/plain": [
       "array([[7, 7, 7, 7, 7],\n",
       "       [7, 7, 7, 7, 7],\n",
       "       [7, 7, 7, 7, 7],\n",
       "       [7, 7, 7, 7, 7]])"
      ]
     },
     "execution_count": 52,
     "metadata": {},
     "output_type": "execute_result"
    }
   ],
   "source": [
    "# full method is used to create array of specific number\n",
    "x=7\n",
    "arr=np.full((4,5),x)\n",
    "arr\n"
   ]
  },
  {
   "cell_type": "code",
   "execution_count": 57,
   "id": "c24458dc",
   "metadata": {},
   "outputs": [
    {
     "name": "stdout",
     "output_type": "stream",
     "text": [
      "[[ 0  1  2  3  4]\n",
      " [ 5  6  7  8  9]\n",
      " [10 11 12 13 14]\n",
      " [15 16 17 18 19]] \n",
      "\n",
      "[[20 21 22 23 24]\n",
      " [25 26 27 28 29]\n",
      " [30 31 32 33 34]\n",
      " [35 36 37 38 39]] \n",
      "\n",
      "array after addition:\n",
      " [[20 22 24 26 28]\n",
      " [30 32 34 36 38]\n",
      " [40 42 44 46 48]\n",
      " [50 52 54 56 58]]\n"
     ]
    }
   ],
   "source": [
    "arr2d1=np.arange(20).reshape(4,5)\n",
    "print(arr2d1,\"\\n\")\n",
    "arr2d2=np.arange(20,40).reshape(4,5)\n",
    "print(arr2d2,\"\\n\")\n",
    "\n",
    "# addition of 2 arrays\n",
    "newArr=arr2d1+arr2d2\n",
    "print(\"array after addition:\\n\",newArr)\n"
   ]
  },
  {
   "cell_type": "code",
   "execution_count": null,
   "id": "a9adec03",
   "metadata": {},
   "outputs": [],
   "source": [
    "# subtraction of two arrays of multiple copies\n",
    "arr2d1=np.arange(36).reshape(3,3,4)\n",
    "print(\"arr1: \",arr2d1,\"\\n\\n\")\n",
    "arr2d2=np.arange(36,72).reshape(3,3,4)\n",
    "print(\"arr2: \",arr2d2,\"\\n\\n\")\n",
    "\n",
    "# addition of 2 arrays\n",
    "newArr=arr2d1+arr2d2\n",
    "print(\"array after subtraction:\\n\",newArr)"
   ]
  },
  {
   "cell_type": "code",
   "execution_count": 73,
   "id": "1ad3badd",
   "metadata": {},
   "outputs": [
    {
     "name": "stdout",
     "output_type": "stream",
     "text": [
      "4\n",
      "[3 4 5]\n",
      "3\n",
      "[1 2 3 4 5]\n"
     ]
    }
   ],
   "source": [
    "arr=np.array([1,2,3,4,5,6,7])\n",
    "print(arr[3])\n",
    "print(arr[2:5])\n",
    "print(arr[-5])\n",
    "print(arr[:-2])"
   ]
  },
  {
   "cell_type": "code",
   "execution_count": null,
   "id": "d24dfa1e",
   "metadata": {},
   "outputs": [
    {
     "name": "stdout",
     "output_type": "stream",
     "text": [
      "[[ 0  1  2  3  4]\n",
      " [ 5  6  7  8  9]\n",
      " [10 11 12 13 14]\n",
      " [15 16 17 18 19]] \n",
      "\n",
      "[[ 6  7  8]\n",
      " [11 12 13]]\n"
     ]
    }
   ],
   "source": [
    "# 2d slicing\n",
    "arr=np.arange(20).reshape(4,5)\n",
    "print(arr,\"\\n\")\n",
    "\n",
    "# slicing\n",
    "slicedArr = arr[1:3,1:4]\n",
    "print(slicedArr)"
   ]
  }
 ],
 "metadata": {
  "kernelspec": {
   "display_name": "Python 3",
   "language": "python",
   "name": "python3"
  },
  "language_info": {
   "codemirror_mode": {
    "name": "ipython",
    "version": 3
   },
   "file_extension": ".py",
   "mimetype": "text/x-python",
   "name": "python",
   "nbconvert_exporter": "python",
   "pygments_lexer": "ipython3",
   "version": "3.13.2"
  }
 },
 "nbformat": 4,
 "nbformat_minor": 5
}
