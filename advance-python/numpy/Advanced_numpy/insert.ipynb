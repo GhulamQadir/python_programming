{
 "cells": [
  {
   "cell_type": "markdown",
   "id": "f1b8e3ae",
   "metadata": {},
   "source": [
    "# **insert method**\n",
    "- np.insert(array, index_num, value, axis=None)\n",
    "\n",
    "### we can perform insert operation in the copy of the original array\n",
    "array - original array<br>\n",
    "index<br>\n",
    "value<br>\n",
    "axis = 0 for row wise data and axis = 1 for column wise(2d) data, by default it inserts row wise"
   ]
  },
  {
   "cell_type": "code",
   "execution_count": 2,
   "id": "0316263d",
   "metadata": {},
   "outputs": [],
   "source": [
    "import numpy as np"
   ]
  },
  {
   "cell_type": "code",
   "execution_count": 3,
   "id": "afa7c97f",
   "metadata": {},
   "outputs": [
    {
     "name": "stdout",
     "output_type": "stream",
     "text": [
      "[0 1 2 3 4 5 6 7 8 9]\n",
      "[   0    1    2    3    4 8786    5    6    7    8    9]\n"
     ]
    }
   ],
   "source": [
    "arr=np.arange(10)\n",
    "print(arr)\n",
    "\n",
    "new_arr = np.insert(arr, 5, 8786)\n",
    "print(new_arr)"
   ]
  },
  {
   "cell_type": "markdown",
   "id": "dc382529",
   "metadata": {},
   "source": [
    "## to insert element in 2d array"
   ]
  },
  {
   "cell_type": "code",
   "execution_count": 4,
   "id": "dfb80fde",
   "metadata": {},
   "outputs": [
    {
     "name": "stdout",
     "output_type": "stream",
     "text": [
      "[[ 0  1  2  3]\n",
      " [ 4  5  6  7]\n",
      " [ 8  9 10 11]\n",
      " [12 13 14 15]\n",
      " [16 17 18 19]]\n"
     ]
    }
   ],
   "source": [
    "arr_2d = np.arange(20).reshape(5,4)\n",
    "print(arr_2d)"
   ]
  },
  {
   "cell_type": "code",
   "execution_count": 5,
   "id": "0cec723d",
   "metadata": {},
   "outputs": [
    {
     "name": "stdout",
     "output_type": "stream",
     "text": [
      "[[  0   1   2   3]\n",
      " [  4   5   6   7]\n",
      " [100 200 300 400]\n",
      " [  8   9  10  11]\n",
      " [ 12  13  14  15]\n",
      " [ 16  17  18  19]]\n"
     ]
    }
   ],
   "source": [
    "# insert a new row at index 2\n",
    "new_arr_2d = np.insert(arr_2d,2,[100,200,300,400], axis=0) # axis = 0 for row wise insertion\n",
    "print(new_arr_2d)"
   ]
  },
  {
   "cell_type": "code",
   "execution_count": 6,
   "id": "f87e259d",
   "metadata": {},
   "outputs": [
    {
     "name": "stdout",
     "output_type": "stream",
     "text": [
      "[[  0   1   2 100   3]\n",
      " [  4   5   6 200   7]\n",
      " [  8   9  10 300  11]\n",
      " [ 12  13  14 400  15]\n",
      " [ 16  17  18 500  19]]\n"
     ]
    }
   ],
   "source": [
    "new_arr_2d = np.insert(arr_2d,3,[100,200,300,400,500], axis=1)  # axis = 1 for column wise insertion at index 3 of each row \n",
    "print(new_arr_2d)"
   ]
  },
  {
   "cell_type": "code",
   "execution_count": 9,
   "id": "f50946e4",
   "metadata": {},
   "outputs": [
    {
     "name": "stdout",
     "output_type": "stream",
     "text": [
      "[0 8 3 2 1 2 3 4 5 6 7 8 9]\n"
     ]
    }
   ],
   "source": [
    "# axis = None for flatten array\n",
    "# new_arr_2d = np.insert(arr, 1, 6, axis=None)\n",
    "new_arr_2d = np.insert(arr, 1, [8,3,2], axis=None)\n",
    "print(new_arr_2d)"
   ]
  },
  {
   "cell_type": "markdown",
   "id": "089ca23a",
   "metadata": {},
   "source": [
    "## append: adds element at the end of array"
   ]
  },
  {
   "cell_type": "code",
   "execution_count": 8,
   "id": "a0cc455a",
   "metadata": {},
   "outputs": [
    {
     "name": "stdout",
     "output_type": "stream",
     "text": [
      "[  0   1   2   3   4   5   6   7   8   9 100 150]\n"
     ]
    }
   ],
   "source": [
    "new_arr = np.append(arr, [100,150])\n",
    "print(new_arr)"
   ]
  },
  {
   "cell_type": "markdown",
   "id": "5cc0be39",
   "metadata": {},
   "source": [
    "## join two or more arrays using concatenate"
   ]
  },
  {
   "cell_type": "code",
   "execution_count": 11,
   "id": "a272633e",
   "metadata": {},
   "outputs": [
    {
     "data": {
      "text/plain": [
       "array([ 0,  1,  2,  3,  4,  5,  6,  7,  8,  9, 10])"
      ]
     },
     "execution_count": 11,
     "metadata": {},
     "output_type": "execute_result"
    }
   ],
   "source": [
    "arr1 = np.arange(5)\n",
    "arr2 = np.arange(5,11)\n",
    "new_arr = np.concatenate((arr1,arr2))\n",
    "new_arr"
   ]
  },
  {
   "cell_type": "markdown",
   "id": "a1a4a44f",
   "metadata": {},
   "source": [
    "## remove element at specific index"
   ]
  },
  {
   "cell_type": "code",
   "execution_count": 12,
   "id": "044fd5e2",
   "metadata": {},
   "outputs": [
    {
     "data": {
      "text/plain": [
       "array([0, 1, 3, 4])"
      ]
     },
     "execution_count": 12,
     "metadata": {},
     "output_type": "execute_result"
    }
   ],
   "source": [
    "new_arr = np.delete(arr1, 2)\n",
    "new_arr"
   ]
  },
  {
   "cell_type": "markdown",
   "id": "ac46ddfe",
   "metadata": {},
   "source": [
    "## remove element from 2d array"
   ]
  },
  {
   "cell_type": "code",
   "execution_count": 18,
   "id": "a594cbf0",
   "metadata": {},
   "outputs": [
    {
     "name": "stdout",
     "output_type": "stream",
     "text": [
      "[[ 0  1  2  3  4]\n",
      " [ 5  6  7  8  9]\n",
      " [10 11 12 13 14]\n",
      " [15 16 17 18 19]]\n",
      "updated array\n",
      " [[ 0  1  2  3  4]\n",
      " [10 11 12 13 14]\n",
      " [15 16 17 18 19]]\n"
     ]
    }
   ],
   "source": [
    "arr_2d = np.arange(20).reshape(4,5)\n",
    "print(arr_2d)\n",
    "updated_arr = np.delete(arr_2d, 1, axis=0)  # axis 0 for removing row \n",
    "print(\"updated array\\n\",updated_arr)"
   ]
  },
  {
   "cell_type": "code",
   "execution_count": null,
   "id": "d4db0a73",
   "metadata": {},
   "outputs": [
    {
     "name": "stdout",
     "output_type": "stream",
     "text": [
      "[[ 5  6  7  8  9]\n",
      " [15 16 17 18 19]]\n"
     ]
    }
   ],
   "source": [
    "updated_arr  = np.delete(arr_2d,[2,0], axis=0)  # remove row 0 and 2\n",
    "print(updated_arr)"
   ]
  },
  {
   "cell_type": "code",
   "execution_count": null,
   "id": "45c1b08d",
   "metadata": {},
   "outputs": [
    {
     "name": "stdout",
     "output_type": "stream",
     "text": [
      "[[ 0  2  3  4]\n",
      " [ 5  7  8  9]\n",
      " [10 12 13 14]\n",
      " [15 17 18 19]]\n"
     ]
    }
   ],
   "source": [
    "updated_arr = np.delete(arr_2d,1,axis=1)  # removes column 1 (1,6,11,16)\n",
    "print(updated_arr)"
   ]
  },
  {
   "cell_type": "code",
   "execution_count": 24,
   "id": "d32c9bce",
   "metadata": {},
   "outputs": [
    {
     "name": "stdout",
     "output_type": "stream",
     "text": [
      "[[ 0  1  3]\n",
      " [ 5  6  8]\n",
      " [10 11 13]\n",
      " [15 16 18]]\n"
     ]
    }
   ],
   "source": [
    "updated_arr = np.delete(arr_2d,[2,4],axis=1) # remove column 2 and 4\n",
    "print(updated_arr)"
   ]
  },
  {
   "cell_type": "markdown",
   "id": "60107196",
   "metadata": {},
   "source": [
    "## **vstack():**  vertically stack  \n",
    "## **hstack():**  horizontally stack"
   ]
  },
  {
   "cell_type": "code",
   "execution_count": 31,
   "id": "5aa5bf90",
   "metadata": {},
   "outputs": [
    {
     "name": "stdout",
     "output_type": "stream",
     "text": [
      "vertical_stack:\n",
      " [[0 1 2 3 4]\n",
      " [5 6 7 8 9]]\n",
      "\n",
      "horizontal_stack:\n",
      " [0 1 2 3 4 5 6 7 8 9]\n"
     ]
    }
   ],
   "source": [
    "arr1 = np.arange(5)\n",
    "arr2 = np.arange(5,10)\n",
    "\n",
    "vertical_stack = np.vstack((arr1,arr2))\n",
    "print(\"vertical_stack:\\n\",vertical_stack)\n",
    "horizontal_stack = np.hstack((arr1,arr2))\n",
    "print(\"\\nhorizontal_stack:\\n\",horizontal_stack)"
   ]
  },
  {
   "cell_type": "markdown",
   "id": "86b99cc7",
   "metadata": {},
   "source": [
    "## **split**\n",
    "- np.split(array, how_many_parts)"
   ]
  },
  {
   "cell_type": "code",
   "execution_count": 35,
   "id": "90c53d40",
   "metadata": {},
   "outputs": [
    {
     "name": "stdout",
     "output_type": "stream",
     "text": [
      "[0 1 2 3 4]\n",
      "[5 6 7 8 9]\n"
     ]
    }
   ],
   "source": [
    "arr = np.arange(10)\n",
    "first_part, second_part = np.split(arr,2)  \n",
    "print(first_part)\n",
    "print(second_part)"
   ]
  }
 ],
 "metadata": {
  "kernelspec": {
   "display_name": "Python 3",
   "language": "python",
   "name": "python3"
  },
  "language_info": {
   "codemirror_mode": {
    "name": "ipython",
    "version": 3
   },
   "file_extension": ".py",
   "mimetype": "text/x-python",
   "name": "python",
   "nbconvert_exporter": "python",
   "pygments_lexer": "ipython3",
   "version": "3.13.2"
  }
 },
 "nbformat": 4,
 "nbformat_minor": 5
}
