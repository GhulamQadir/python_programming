{
 "cells": [
  {
   "cell_type": "code",
   "execution_count": 2,
   "id": "b2ccebb5",
   "metadata": {},
   "outputs": [],
   "source": [
    "import numpy as np"
   ]
  },
  {
   "cell_type": "code",
   "execution_count": 3,
   "id": "4a4f9e8d",
   "metadata": {},
   "outputs": [],
   "source": [
    "arr = np.array([56,45,33,46,50])"
   ]
  },
  {
   "cell_type": "code",
   "execution_count": 4,
   "id": "4a92967f",
   "metadata": {},
   "outputs": [
    {
     "name": "stdout",
     "output_type": "stream",
     "text": [
      "46.0\n"
     ]
    }
   ],
   "source": [
    "# finding average\n",
    "average = np.mean(arr)\n",
    "print(average)"
   ]
  },
  {
   "cell_type": "code",
   "execution_count": 5,
   "id": "f6c63dcb",
   "metadata": {},
   "outputs": [
    {
     "name": "stdout",
     "output_type": "stream",
     "text": [
      "230\n"
     ]
    }
   ],
   "source": [
    "# sum of array elements\n",
    "sum = np.sum(arr)\n",
    "# sum = np.sum(arr+[4,2,3])\n",
    "print(sum)"
   ]
  },
  {
   "cell_type": "code",
   "execution_count": 6,
   "id": "1856029c",
   "metadata": {},
   "outputs": [
    {
     "name": "stdout",
     "output_type": "stream",
     "text": [
      "191268000\n"
     ]
    }
   ],
   "source": [
    "# product of whole array elements\n",
    "product = np.prod(arr)\n",
    "print(product)"
   ]
  },
  {
   "cell_type": "code",
   "execution_count": 7,
   "id": "27364bc5",
   "metadata": {},
   "outputs": [
    {
     "name": "stdout",
     "output_type": "stream",
     "text": [
      "33\n"
     ]
    }
   ],
   "source": [
    "# finding minimum value from array \n",
    "min_val = np.min(arr)\n",
    "print(min_val)"
   ]
  },
  {
   "cell_type": "code",
   "execution_count": 8,
   "id": "5421b34c",
   "metadata": {},
   "outputs": [
    {
     "name": "stdout",
     "output_type": "stream",
     "text": [
      "Addition:  [58 47 35 48 52]\n",
      "Subtraction:  [54 43 31 44 48]\n",
      "Multiplication:  [112  90  66  92 100]\n",
      "Division:  [28.  22.5 16.5 23.  25. ]\n",
      "Power:  [  8  27  64 125]\n"
     ]
    }
   ],
   "source": [
    "# performing arithmetic operations to array elements\n",
    "print(\"Addition: \",arr+2)\n",
    "print(\"Subtraction: \",arr-2)\n",
    "print(\"Multiplication: \",arr*2)\n",
    "print(\"Division: \",arr/2)\n",
    "print(\"Power: \",np.array([2,3,4,5])**3)"
   ]
  },
  {
   "cell_type": "code",
   "execution_count": null,
   "id": "ac6bb803",
   "metadata": {},
   "outputs": [
    {
     "name": "stdout",
     "output_type": "stream",
     "text": [
      "[ 0  1  2  3  4  5  6  7  8  9 10 11 12 13 14 15 16 17 18 19]\n",
      "[0.   1.   1.41 1.73 2.   2.24 2.45 2.65 2.83 3.   3.16 3.32 3.46 3.61\n",
      " 3.74 3.87 4.   4.12 4.24 4.36]\n"
     ]
    }
   ],
   "source": [
    "# taking sqaure root of array values\n",
    "arr =np.arange(20)\n",
    "print(arr)\n",
    "print(np.round(np.sqrt(arr),2))"
   ]
  }
 ],
 "metadata": {
  "kernelspec": {
   "display_name": "Python 3",
   "language": "python",
   "name": "python3"
  },
  "language_info": {
   "codemirror_mode": {
    "name": "ipython",
    "version": 3
   },
   "file_extension": ".py",
   "mimetype": "text/x-python",
   "name": "python",
   "nbconvert_exporter": "python",
   "pygments_lexer": "ipython3",
   "version": "3.13.2"
  }
 },
 "nbformat": 4,
 "nbformat_minor": 5
}
