{
 "cells": [
  {
   "cell_type": "code",
   "execution_count": 1,
   "id": "8208c9ca",
   "metadata": {},
   "outputs": [
    {
     "name": "stdout",
     "output_type": "stream",
     "text": [
      "[1 2 3 4] \n",
      "\n",
      "[0 1 2 3 4 5 6 7 8 9] \n",
      "\n",
      "[1 2 4 5 6]\n"
     ]
    }
   ],
   "source": [
    "import numpy as np\n",
    "\n",
    "# creating numpy array\n",
    "arr = np.array([1, 2, 3, 4])\n",
    "print(arr, \"\\n\")\n",
    "\n",
    "# creating array using numpy range\n",
    "int_arr = np.arange(10)\n",
    "print(int_arr, \"\\n\")\n",
    "\n",
    "intList = [1,2,4,5,6]\n",
    "numpPyArr = np.array(intList)  # converted normal python list into numpy array\n",
    "print(numpPyArr)"
   ]
  },
  {
   "cell_type": "code",
   "execution_count": 2,
   "id": "b49d82e0",
   "metadata": {},
   "outputs": [
    {
     "name": "stdout",
     "output_type": "stream",
     "text": [
      "Cubic Array:  [ 1  8 27 64]\n"
     ]
    }
   ],
   "source": [
    "# converting numpy array directly to cubic array\n",
    "cubic_arr = arr**3\n",
    "print(\"Cubic Array: \", cubic_arr)"
   ]
  },
  {
   "cell_type": "code",
   "execution_count": 3,
   "id": "371f21d5",
   "metadata": {},
   "outputs": [
    {
     "name": "stdout",
     "output_type": "stream",
     "text": [
      "[[0.37857266 0.67197261 0.65240974]\n",
      " [0.21825253 0.99613056 0.89306758]]\n",
      "\n",
      "Normally distributed random Numbers: \n",
      "[-0.09160236  1.37068963 -0.90009966  2.15289429]\n"
     ]
    }
   ],
   "source": [
    "# creating random numbers array\n",
    "random_arr = np.random.rand(2, 3)\n",
    "print(random_arr)\n",
    "\n",
    "# normally distributed random numbers\n",
    "rand_norm = np.random.randn(4)\n",
    "print(f\"\\nNormally distributed random Numbers: \\n{rand_norm}\")"
   ]
  },
  {
   "cell_type": "code",
   "execution_count": 4,
   "id": "19af7898",
   "metadata": {},
   "outputs": [
    {
     "name": "stdout",
     "output_type": "stream",
     "text": [
      "Data type:  float64\n",
      "Length of an array:  6\n",
      "Dimesions:  2\n",
      "Shape:  (2, 3)\n"
     ]
    }
   ],
   "source": [
    "# checking data type\n",
    "print(\"Data type: \", random_arr.dtype)\n",
    "\n",
    "# checking length of array\n",
    "print(\"Length of an array: \", random_arr.size)\n",
    "\n",
    "# checking dimensions of array\n",
    "print(\"Dimesions: \", random_arr.ndim)\n",
    "\n",
    "# checking shape of an array\n",
    "print(\"Shape: \", random_arr.shape)  # 2 rows and three columns"
   ]
  },
  {
   "cell_type": "code",
   "execution_count": 5,
   "id": "8d05df01",
   "metadata": {},
   "outputs": [
    {
     "name": "stdout",
     "output_type": "stream",
     "text": [
      "[[[0.59820603 0.50303949 0.23187622 0.80252478 0.54146139]\n",
      "  [0.01288344 0.39602636 0.2927637  0.06871289 0.41945396]\n",
      "  [0.4594604  0.19158618 0.50725772 0.19490469 0.89660654]\n",
      "  [0.02488014 0.64027027 0.96316521 0.69540671 0.99913818]]\n",
      "\n",
      " [[0.3950239  0.77034631 0.11161201 0.30064724 0.2107249 ]\n",
      "  [0.57724907 0.62381964 0.30076309 0.33461619 0.08992466]\n",
      "  [0.69233402 0.55911254 0.28001005 0.47491935 0.35762183]\n",
      "  [0.1649384  0.71214336 0.94838989 0.89196987 0.6114993 ]]\n",
      "\n",
      " [[0.55208776 0.96788439 0.80599402 0.65774656 0.32570124]\n",
      "  [0.72121946 0.42004564 0.1677233  0.7127702  0.29030727]\n",
      "  [0.70475596 0.48454055 0.19160273 0.43919911 0.47714027]\n",
      "  [0.86396131 0.68322493 0.41993516 0.43170709 0.7984799 ]]]\n",
      "60\n"
     ]
    }
   ],
   "source": [
    "# creating 3d array\n",
    "# array of 4 rows, 5 columns, and 3 copies rand(copies, 4 rows, 5 columns)  --->> 3d array\n",
    "arr_3d = np.random.rand(3, 4, 5)\n",
    "print(arr_3d)\n",
    "print(arr_3d.size)"
   ]
  },
  {
   "cell_type": "code",
   "execution_count": 6,
   "id": "dfd22b88",
   "metadata": {},
   "outputs": [
    {
     "name": "stdout",
     "output_type": "stream",
     "text": [
      "[[0. 0. 0. 0.]\n",
      " [0. 0. 0. 0.]\n",
      " [0. 0. 0. 0.]] \n",
      "\n",
      "[[[1 1 1 1 1]\n",
      "  [1 1 1 1 1]\n",
      "  [1 1 1 1 1]\n",
      "  [1 1 1 1 1]]\n",
      "\n",
      " [[1 1 1 1 1]\n",
      "  [1 1 1 1 1]\n",
      "  [1 1 1 1 1]\n",
      "  [1 1 1 1 1]]]\n"
     ]
    }
   ],
   "source": [
    "# creating zeros array\n",
    "zerosArr = np.zeros((3, 4))  # double parenthesis are for multi dimesional array. For single, use np.zeros(7)\n",
    "print(zerosArr,\"\\n\")\n",
    "\n",
    "# creating ones array\n",
    "onesArr = np.ones((2, 4, 5),dtype=int)\n",
    "print(onesArr)"
   ]
  },
  {
   "cell_type": "code",
   "execution_count": 7,
   "id": "45c54f8f",
   "metadata": {},
   "outputs": [
    {
     "data": {
      "text/plain": [
       "array([[1, 0, 0, 0, 0],\n",
       "       [0, 1, 0, 0, 0],\n",
       "       [0, 0, 1, 0, 0],\n",
       "       [0, 0, 0, 1, 0],\n",
       "       [0, 0, 0, 0, 1]])"
      ]
     },
     "execution_count": 7,
     "metadata": {},
     "output_type": "execute_result"
    }
   ],
   "source": [
    "# creating identical matrix\n",
    "# np.eye(N, M=None, k=0, dtype=float)\n",
    "# N = Number of rows\n",
    "# M = Number of columns\n",
    "# k = 0, diagonal starting index\n",
    "\n",
    "identicalArr = np.eye(5, 5, dtype=int)\n",
    "identicalArr"
   ]
  },
  {
   "cell_type": "code",
   "execution_count": 8,
   "id": "5c5d7533",
   "metadata": {},
   "outputs": [
    {
     "data": {
      "text/plain": [
       "array([[12, 12, 12, 12, 12],\n",
       "       [12, 12, 12, 12, 12],\n",
       "       [12, 12, 12, 12, 12],\n",
       "       [12, 12, 12, 12, 12]])"
      ]
     },
     "execution_count": 8,
     "metadata": {},
     "output_type": "execute_result"
    }
   ],
   "source": [
    "# multiplying ones array by any number\n",
    "multiples_arr = np.ones((4, 5),dtype=int) * 12\n",
    "multiples_arr"
   ]
  },
  {
   "cell_type": "code",
   "execution_count": 9,
   "id": "2edfad6e",
   "metadata": {},
   "outputs": [
    {
     "data": {
      "text/plain": [
       "array([[7, 7, 7, 7, 7],\n",
       "       [7, 7, 7, 7, 7],\n",
       "       [7, 7, 7, 7, 7],\n",
       "       [7, 7, 7, 7, 7]])"
      ]
     },
     "execution_count": 9,
     "metadata": {},
     "output_type": "execute_result"
    }
   ],
   "source": [
    "# full method is used to create array of specific number\n",
    "x=7\n",
    "arr=np.full((4,5),x)\n",
    "arr\n"
   ]
  },
  {
   "cell_type": "code",
   "execution_count": 10,
   "id": "c24458dc",
   "metadata": {},
   "outputs": [
    {
     "name": "stdout",
     "output_type": "stream",
     "text": [
      "[[ 0  1  2  3  4]\n",
      " [ 5  6  7  8  9]\n",
      " [10 11 12 13 14]\n",
      " [15 16 17 18 19]] \n",
      "\n",
      "[[20 21 22 23 24]\n",
      " [25 26 27 28 29]\n",
      " [30 31 32 33 34]\n",
      " [35 36 37 38 39]] \n",
      "\n",
      "array after addition:\n",
      " [[20 22 24 26 28]\n",
      " [30 32 34 36 38]\n",
      " [40 42 44 46 48]\n",
      " [50 52 54 56 58]]\n"
     ]
    }
   ],
   "source": [
    "arr2d1=np.arange(20).reshape(4,5)\n",
    "print(arr2d1,\"\\n\")\n",
    "arr2d2=np.arange(20,40).reshape(4,5)\n",
    "print(arr2d2,\"\\n\")\n",
    "\n",
    "# addition of 2 arrays\n",
    "newArr=arr2d1+arr2d2\n",
    "print(\"array after addition:\\n\",newArr)\n"
   ]
  },
  {
   "cell_type": "code",
   "execution_count": 11,
   "id": "a9adec03",
   "metadata": {},
   "outputs": [
    {
     "name": "stdout",
     "output_type": "stream",
     "text": [
      "arr1:\n",
      " [[[ 0  1  2  3]\n",
      "  [ 4  5  6  7]\n",
      "  [ 8  9 10 11]]\n",
      "\n",
      " [[12 13 14 15]\n",
      "  [16 17 18 19]\n",
      "  [20 21 22 23]]\n",
      "\n",
      " [[24 25 26 27]\n",
      "  [28 29 30 31]\n",
      "  [32 33 34 35]]] \n",
      "\n",
      "\n",
      "arr2:\n",
      " [[[36 37 38 39]\n",
      "  [40 41 42 43]\n",
      "  [44 45 46 47]]\n",
      "\n",
      " [[48 49 50 51]\n",
      "  [52 53 54 55]\n",
      "  [56 57 58 59]]\n",
      "\n",
      " [[60 61 62 63]\n",
      "  [64 65 66 67]\n",
      "  [68 69 70 71]]] \n",
      "\n",
      "\n",
      "array after subtraction:\n",
      " [[[36 36 36 36]\n",
      "  [36 36 36 36]\n",
      "  [36 36 36 36]]\n",
      "\n",
      " [[36 36 36 36]\n",
      "  [36 36 36 36]\n",
      "  [36 36 36 36]]\n",
      "\n",
      " [[36 36 36 36]\n",
      "  [36 36 36 36]\n",
      "  [36 36 36 36]]]\n"
     ]
    }
   ],
   "source": [
    "# subtraction of two arrays of multiple copies\n",
    "arr2d1=np.arange(36).reshape(3,3,4)\n",
    "print(\"arr1:\\n\",arr2d1,\"\\n\\n\")\n",
    "arr2d2=np.arange(36,72).reshape(3,3,4)\n",
    "print(\"arr2:\\n\",arr2d2,\"\\n\\n\")\n",
    "\n",
    "# subtraction of 2 arrays\n",
    "newArr=arr2d2-arr2d1\n",
    "print(\"array after subtraction:\\n\",newArr)"
   ]
  },
  {
   "cell_type": "code",
   "execution_count": 12,
   "id": "a09e15cf",
   "metadata": {},
   "outputs": [
    {
     "data": {
      "text/plain": [
       "20"
      ]
     },
     "execution_count": 12,
     "metadata": {},
     "output_type": "execute_result"
    }
   ],
   "source": [
    "# checking dimensions\n",
    "a=np.array([[[[[[[[[[[[[[[[[[[[23]]]]]]]]]]]]]]]]]]]])\n",
    "a.ndim"
   ]
  },
  {
   "cell_type": "code",
   "execution_count": 13,
   "id": "d5b2cd35",
   "metadata": {},
   "outputs": [
    {
     "name": "stdout",
     "output_type": "stream",
     "text": [
      "[[ 0  1  2  3  4  5]\n",
      " [ 6  7  8  9 10 11]\n",
      " [12 13 14 15 16 17]\n",
      " [18 19 20 21 22 23]\n",
      " [24 25 26 27 28 29]\n",
      " [30 31 32 33 34 35]]\n"
     ]
    },
    {
     "data": {
      "text/plain": [
       "array([[ 0,  6, 12, 18, 24, 30],\n",
       "       [ 1,  7, 13, 19, 25, 31],\n",
       "       [ 2,  8, 14, 20, 26, 32],\n",
       "       [ 3,  9, 15, 21, 27, 33],\n",
       "       [ 4, 10, 16, 22, 28, 34],\n",
       "       [ 5, 11, 17, 23, 29, 35]])"
      ]
     },
     "execution_count": 13,
     "metadata": {},
     "output_type": "execute_result"
    }
   ],
   "source": [
    "# Taking transpose of an array\n",
    "arr2 = np.arange(36).reshape(6,6)\n",
    "print(arr2)\n",
    "arr2.T  # transpose"
   ]
  },
  {
   "cell_type": "code",
   "execution_count": 14,
   "id": "70b3f045",
   "metadata": {},
   "outputs": [
    {
     "name": "stdout",
     "output_type": "stream",
     "text": [
      "[-0.22819087 -0.44718648 -0.58677108 -2.48878892  0.36032493  0.38473887\n",
      " -0.97656433 -0.48131944]\n",
      "[ 1.18641409 -0.97160752  0.42851659 -0.38785569 -0.82785397 -0.25784109\n",
      " -1.28007217 -0.66145773]\n",
      "[ 1.18641409 -0.44718648  0.42851659 -0.38785569  0.36032493  0.38473887\n",
      " -0.97656433 -0.48131944]\n"
     ]
    }
   ],
   "source": [
    "# comparing values of arrays and finding maximum from them\n",
    "# np.maximum() only accepts two arrays at a time, not three.\n",
    "\n",
    "x=np.random.randn(8)\n",
    "print(x)\n",
    "y=np.random.randn(8)\n",
    "print(y)\n",
    "\n",
    "max = np.maximum(x,y)\n",
    "print(max)"
   ]
  },
  {
   "cell_type": "code",
   "execution_count": 15,
   "id": "1cb1478a",
   "metadata": {},
   "outputs": [
    {
     "name": "stdout",
     "output_type": "stream",
     "text": [
      "[-1.0444258   0.11832635  0.36157387 -0.04627716 -0.56247515  0.48305907\n",
      "  0.90237579  0.41249536]\n",
      "Franctional part:\n",
      " [-0.0444258   0.11832635  0.36157387 -0.04627716 -0.56247515  0.48305907\n",
      "  0.90237579  0.41249536]\n",
      "whole part:\n",
      " [-1.  0.  0. -0. -0.  0.  0.  0.]\n"
     ]
    }
   ],
   "source": [
    "arr = np.random.randn(8)\n",
    "print(arr)\n",
    "\n",
    "# splitting fractional and whole part\n",
    "remainder, whole_part = np.modf(arr)\n",
    "print(\"Franctional part:\\n\",remainder)\n",
    "print(\"whole part:\\n\",whole_part)"
   ]
  },
  {
   "cell_type": "code",
   "execution_count": 16,
   "id": "ce5b60f0",
   "metadata": {},
   "outputs": [
    {
     "data": {
      "text/plain": [
       "(3,)"
      ]
     },
     "execution_count": 16,
     "metadata": {},
     "output_type": "execute_result"
    }
   ],
   "source": [
    "arr = np.array([2,3,4])  # only 3 elements, no columns and no rows\n",
    "arr.shape"
   ]
  },
  {
   "cell_type": "code",
   "execution_count": 17,
   "id": "a2f593f2",
   "metadata": {},
   "outputs": [
    {
     "name": "stdout",
     "output_type": "stream",
     "text": [
      "int64\n",
      "['1' '2' '3' '4']\n"
     ]
    }
   ],
   "source": [
    "# type casting\n",
    "numArr = np.array([1,2,3,4])\n",
    "print(numArr.dtype)\n",
    "strArr = numArr.astype(str)\n",
    "print(strArr)"
   ]
  },
  {
   "cell_type": "code",
   "execution_count": 18,
   "id": "2324c61d",
   "metadata": {},
   "outputs": [
    {
     "name": "stdout",
     "output_type": "stream",
     "text": [
      "[False False False False  True False  True]\n"
     ]
    }
   ],
   "source": [
    "# checking null values\n",
    "arr= np.array([1,2,3,9,np.nan, 54, np.nan])\n",
    "print(np.isnan(arr))  # returns boolean array"
   ]
  },
  {
   "cell_type": "code",
   "execution_count": 19,
   "id": "61ffd8c8",
   "metadata": {},
   "outputs": [
    {
     "data": {
      "text/plain": [
       "array([ 1,  2,  3,  9,  4, 54,  4])"
      ]
     },
     "execution_count": 19,
     "metadata": {},
     "output_type": "execute_result"
    }
   ],
   "source": [
    "# filling null values\n",
    "cleaned_arr = np.nan_to_num(arr, nan=4).astype(int)  # filling missing value with 4\n",
    "cleaned_arr"
   ]
  },
  {
   "cell_type": "code",
   "execution_count": 20,
   "id": "678f9e50",
   "metadata": {},
   "outputs": [
    {
     "name": "stdout",
     "output_type": "stream",
     "text": [
      "[  2.   3.  inf   7.   9. -inf]\n",
      "[False False  True False False  True]\n",
      "After replacing infinite values\n",
      " [2 3 2 7 9 3]\n"
     ]
    }
   ],
   "source": [
    "# checking infinite values\n",
    "arr = np.array([2,3,np.inf,7,9, -np.inf])\n",
    "print(arr)\n",
    "print(np.isinf(arr)) # returns boolean array\n",
    "\n",
    "# replacing infinite values\n",
    "cleaned_arr = np.nan_to_num(arr, posinf=2, neginf=3).astype(int)  # replace positive infinite number with 2 and negative with 3\n",
    "print(\"After replacing infinite values\\n\",cleaned_arr)"
   ]
  }
 ],
 "metadata": {
  "kernelspec": {
   "display_name": "Python 3",
   "language": "python",
   "name": "python3"
  },
  "language_info": {
   "codemirror_mode": {
    "name": "ipython",
    "version": 3
   },
   "file_extension": ".py",
   "mimetype": "text/x-python",
   "name": "python",
   "nbconvert_exporter": "python",
   "pygments_lexer": "ipython3",
   "version": "3.13.2"
  }
 },
 "nbformat": 4,
 "nbformat_minor": 5
}
