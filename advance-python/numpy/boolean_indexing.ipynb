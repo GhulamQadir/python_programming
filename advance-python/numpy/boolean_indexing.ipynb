{
 "cells": [
  {
   "cell_type": "markdown",
   "id": "8eae14e5",
   "metadata": {},
   "source": [
    "# **Boolean masking**\n",
    "- Used to filter arrays based on conditions"
   ]
  },
  {
   "cell_type": "code",
   "execution_count": 1,
   "id": "1b417f1f",
   "metadata": {},
   "outputs": [],
   "source": [
    "import numpy as np"
   ]
  },
  {
   "cell_type": "code",
   "execution_count": 14,
   "id": "b2d63709",
   "metadata": {},
   "outputs": [
    {
     "name": "stdout",
     "output_type": "stream",
     "text": [
      "[ 0  5 10 15]\n",
      "[ 0  2  4  6  8 10 12 14 16 18]\n",
      "[ 1  3  5  7  9 11 13 15 17 19]\n",
      "[ 6  7  8  9 10 11 12 13 14]\n"
     ]
    }
   ],
   "source": [
    "arr = np.array(range(20))\n",
    "print(arr[arr%5==0])\n",
    "\n",
    "print(arr[arr%2==0])\n",
    "\n",
    "print(arr[arr%2==1])\n",
    "\n",
    "print(arr[(arr>5) & (arr<15)])"
   ]
  },
  {
   "cell_type": "markdown",
   "id": "58cfefdf",
   "metadata": {},
   "source": [
    "## **Practice Questions**"
   ]
  },
  {
   "cell_type": "code",
   "execution_count": null,
   "id": "503f67f2",
   "metadata": {},
   "outputs": [
    {
     "name": "stdout",
     "output_type": "stream",
     "text": [
      "[2 0 5 0 9 0]\n"
     ]
    }
   ],
   "source": [
    "# 1. Replace negative values with 0\n",
    "arr = arr = np.array([2, -3, 5, -7, 9, -1])\n",
    "arr[arr<0] = 0\n",
    "print(arr)"
   ]
  },
  {
   "cell_type": "code",
   "execution_count": null,
   "id": "31a955bb",
   "metadata": {},
   "outputs": [
    {
     "name": "stdout",
     "output_type": "stream",
     "text": [
      "[10 15 20 25 30]\n"
     ]
    }
   ],
   "source": [
    "# 2. Extract values between 10 and 30 (inclusive)\n",
    "arr = np.array([5, 10, 15, 20, 25, 30, 35])\n",
    "arr = arr[(arr>=10) & (arr<=30)]\n",
    "print(arr)"
   ]
  },
  {
   "cell_type": "code",
   "execution_count": 9,
   "id": "d10bec06",
   "metadata": {},
   "outputs": [
    {
     "name": "stdout",
     "output_type": "stream",
     "text": [
      "[64 69 66  1 54  5 70 27 10 65 12 44  0 33 44 68 17  0 19  5]\n",
      "7 values are greater than 50\n"
     ]
    }
   ],
   "source": [
    "# 3. Count how many values are greater than 50\n",
    "arr = np.random.randint(0, 100, size=20)\n",
    "print(arr)\n",
    "vals_greater_than_50 = arr[arr>50].size\n",
    "print(f\"{vals_greater_than_50} values are greater than 50\")"
   ]
  },
  {
   "cell_type": "code",
   "execution_count": 20,
   "id": "d6072d24",
   "metadata": {},
   "outputs": [
    {
     "name": "stdout",
     "output_type": "stream",
     "text": [
      "[False False  True False False  True False False  True False False  True\n",
      " False False  True False False  True False False]\n"
     ]
    }
   ],
   "source": [
    "# 4. Create a mask array of True for multiples of 3\n",
    "arr = np.arange(1, 21)\n",
    "boolean_mask_arr_for_3 = arr%3==0\n",
    "print(boolean_mask_arr_for_3)"
   ]
  },
  {
   "cell_type": "code",
   "execution_count": 24,
   "id": "66ce1880",
   "metadata": {},
   "outputs": [
    {
     "name": "stdout",
     "output_type": "stream",
     "text": [
      "[[22 21]\n",
      " [90 85]]\n"
     ]
    }
   ],
   "source": [
    "# 5. Filter rows where age > 18 and score > 75\n",
    "ages = np.array([15, 19, 22, 18, 21])\n",
    "scores = np.array([80, 60, 90, 76, 85])\n",
    "\n",
    "filtered_ages = ages[(ages>18) & (scores>75)]\n",
    "filtered_scores = scores[(ages>18) & (scores>75)]\n",
    "\n",
    "combined_arr = np.vstack((filtered_ages,filtered_scores))\n",
    "print(combined_arr)"
   ]
  },
  {
   "cell_type": "code",
   "execution_count": 25,
   "id": "b5550607",
   "metadata": {},
   "outputs": [
    {
     "name": "stdout",
     "output_type": "stream",
     "text": [
      "[3 4 5 6 7 8 9]\n",
      "[-1  4 -1  6 -1  8 -1]\n"
     ]
    }
   ],
   "source": [
    "# 6. Set all odd numbers to -1\n",
    "arr = np.array([3, 4, 5, 6, 7, 8, 9])\n",
    "print(arr)\n",
    "arr[arr%2==1] = -1\n",
    "print(arr)"
   ]
  },
  {
   "cell_type": "code",
   "execution_count": 30,
   "id": "45464fed",
   "metadata": {},
   "outputs": [
    {
     "name": "stdout",
     "output_type": "stream",
     "text": [
      "[ 3 54 41 58 49 62 91 31 81  3]\n",
      "Mean value of the above array: 47.3\n"
     ]
    },
    {
     "data": {
      "text/plain": [
       "(array([1, 3, 4, 5, 6, 8]),)"
      ]
     },
     "execution_count": 30,
     "metadata": {},
     "output_type": "execute_result"
    }
   ],
   "source": [
    "# 7. Get indices of elements greater than the mean\n",
    "arr = np.random.randint(1, 100, size=10)\n",
    "print(arr)\n",
    "mean = np.mean(arr)\n",
    "print(f\"Mean value of the above array: {mean}\")\n",
    "indexes = np.where(arr>mean)\n",
    "indexes"
   ]
  }
 ],
 "metadata": {
  "kernelspec": {
   "display_name": "Python 3",
   "language": "python",
   "name": "python3"
  },
  "language_info": {
   "codemirror_mode": {
    "name": "ipython",
    "version": 3
   },
   "file_extension": ".py",
   "mimetype": "text/x-python",
   "name": "python",
   "nbconvert_exporter": "python",
   "pygments_lexer": "ipython3",
   "version": "3.13.2"
  }
 },
 "nbformat": 4,
 "nbformat_minor": 5
}
