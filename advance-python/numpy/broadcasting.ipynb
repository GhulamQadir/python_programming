{
 "cells": [
  {
   "cell_type": "markdown",
   "id": "e1b9d594",
   "metadata": {},
   "source": [
    "# **Broadcasting**\n",
    "##### - Broadcasting is a powerful feature in NumPy that lets you perform arithmetic operations on arrays of different shapes without writing explicit loops. Instead of manually looping through elements of arrays with mismatched shapes, NumPy automatically \"stretches\" the smaller array to match the larger one where possible.\n",
    "\n",
    "## ✅ Rules of Broadcasting\n",
    "When operating on two arrays, NumPy compares their shapes from right to left. Two dimensions are compatible if:\n",
    "\n",
    "- They are equal, or\n",
    "- It expands smaller arrays into larger arrays\n",
    "- One of them is 1\n",
    "- If dimensions are not compatible, NumPy raises an error."
   ]
  },
  {
   "cell_type": "code",
   "execution_count": 2,
   "id": "bd5bf907",
   "metadata": {},
   "outputs": [],
   "source": [
    "import numpy as np"
   ]
  },
  {
   "cell_type": "markdown",
   "id": "5b44fc90",
   "metadata": {},
   "source": [
    "### Scalar with Array"
   ]
  },
  {
   "cell_type": "code",
   "execution_count": 3,
   "id": "02c8fbc6",
   "metadata": {},
   "outputs": [
    {
     "name": "stdout",
     "output_type": "stream",
     "text": [
      "[180 225 405 657]\n"
     ]
    }
   ],
   "source": [
    "prices = np.array([200,250,450,730])\n",
    "\n",
    "discount_percent = 10  # 10 percent discount on every product\n",
    "\n",
    "final_prices = (prices - (prices*discount_percent)/100).astype(int)\n",
    "print(final_prices)"
   ]
  },
  {
   "cell_type": "code",
   "execution_count": 8,
   "id": "18c025e7",
   "metadata": {},
   "outputs": [
    {
     "name": "stdout",
     "output_type": "stream",
     "text": [
      "[ 3  5  7  9 11 13]\n",
      "[  9  25  49  81 121 169]\n"
     ]
    }
   ],
   "source": [
    "arr = np.arange(3,15,2)\n",
    "print(arr)\n",
    "squares_arr = arr **2\n",
    "print(squares_arr)"
   ]
  },
  {
   "cell_type": "markdown",
   "id": "83a6d10a",
   "metadata": {},
   "source": [
    "### Broadcasting from 1d to 2d array"
   ]
  },
  {
   "cell_type": "code",
   "execution_count": 4,
   "id": "e1af806d",
   "metadata": {},
   "outputs": [
    {
     "name": "stdout",
     "output_type": "stream",
     "text": [
      "[[13 13 20  6 15]\n",
      " [18 18 25 11 20]\n",
      " [23 23 30 16 25]]\n"
     ]
    }
   ],
   "source": [
    "matrix = np.arange(15).reshape(3,5)\n",
    "vector = np.array([13,12,18,3,11])\n",
    "addition = matrix + vector\n",
    "print(addition)"
   ]
  },
  {
   "cell_type": "code",
   "execution_count": null,
   "id": "694f71c6",
   "metadata": {},
   "outputs": [],
   "source": [
    "arr = np.arange(15).reshape(5,3)\n",
    "vector = [1,2,3,4]\n",
    "subtraction = arr-vector\n",
    "print(subtraction)  ## error: broadcasting not possible"
   ]
  }
 ],
 "metadata": {
  "kernelspec": {
   "display_name": "Python 3",
   "language": "python",
   "name": "python3"
  },
  "language_info": {
   "codemirror_mode": {
    "name": "ipython",
    "version": 3
   },
   "file_extension": ".py",
   "mimetype": "text/x-python",
   "name": "python",
   "nbconvert_exporter": "python",
   "pygments_lexer": "ipython3",
   "version": "3.13.2"
  }
 },
 "nbformat": 4,
 "nbformat_minor": 5
}
