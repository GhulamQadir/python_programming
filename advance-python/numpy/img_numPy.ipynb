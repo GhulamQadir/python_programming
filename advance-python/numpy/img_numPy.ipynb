{
 "cells": [
  {
   "cell_type": "code",
   "execution_count": null,
   "id": "8eb21d38",
   "metadata": {},
   "outputs": [],
   "source": [
    "from PIL import Image\n",
    "import numpy as np"
   ]
  },
  {
   "cell_type": "code",
   "execution_count": 3,
   "id": "988d36c9",
   "metadata": {},
   "outputs": [
    {
     "ename": "NameError",
     "evalue": "name 'Image' is not defined",
     "output_type": "error",
     "traceback": [
      "\u001b[31m---------------------------------------------------------------------------\u001b[39m",
      "\u001b[31mNameError\u001b[39m                                 Traceback (most recent call last)",
      "\u001b[36mCell\u001b[39m\u001b[36m \u001b[39m\u001b[32mIn[3]\u001b[39m\u001b[32m, line 1\u001b[39m\n\u001b[32m----> \u001b[39m\u001b[32m1\u001b[39m image = \u001b[43mImage\u001b[49m.open(\u001b[33m\"\u001b[39m\u001b[33mimg.jfif\u001b[39m\u001b[33m\"\u001b[39m)\n\u001b[32m      3\u001b[39m \u001b[38;5;28mprint\u001b[39m(\u001b[33mf\u001b[39m\u001b[33m\"\u001b[39m\u001b[33mFormat: \u001b[39m\u001b[38;5;132;01m{\u001b[39;00mimage.format\u001b[38;5;132;01m}\u001b[39;00m\u001b[33m\"\u001b[39m)\n\u001b[32m      4\u001b[39m \u001b[38;5;28mprint\u001b[39m(\u001b[33mf\u001b[39m\u001b[33m\"\u001b[39m\u001b[33mSize: \u001b[39m\u001b[38;5;132;01m{\u001b[39;00mimage.size\u001b[38;5;132;01m}\u001b[39;00m\u001b[33m\"\u001b[39m)\n",
      "\u001b[31mNameError\u001b[39m: name 'Image' is not defined"
     ]
    }
   ],
   "source": [
    "image = Image.open(\"img.jfif\")\n",
    "\n",
    "print(f\"Format: {image.format}\")\n",
    "print(f\"Size: {image.size}\")\n",
    "print(f\"Format Mode: {image.mode}\")"
   ]
  },
  {
   "cell_type": "code",
   "execution_count": null,
   "id": "7199517c",
   "metadata": {},
   "outputs": [],
   "source": [
    "numpydata = np.asanyarray(image) # convert image to numpy array\n",
    "numpydata.ndim\n",
    "numpydata"
   ]
  },
  {
   "cell_type": "code",
   "execution_count": null,
   "id": "3dfcdabd",
   "metadata": {},
   "outputs": [],
   "source": [
    "pilImage=Image.fromarray(numpydata)\n",
    "pilImage"
   ]
  }
 ],
 "metadata": {
  "kernelspec": {
   "display_name": "Python 3",
   "language": "python",
   "name": "python3"
  },
  "language_info": {
   "codemirror_mode": {
    "name": "ipython",
    "version": 3
   },
   "file_extension": ".py",
   "mimetype": "text/x-python",
   "name": "python",
   "nbconvert_exporter": "python",
   "pygments_lexer": "ipython3",
   "version": "3.13.2"
  }
 },
 "nbformat": 4,
 "nbformat_minor": 5
}
