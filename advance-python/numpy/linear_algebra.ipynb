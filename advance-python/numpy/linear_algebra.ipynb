{
 "cells": [
  {
   "cell_type": "markdown",
   "id": "b5b23279",
   "metadata": {},
   "source": [
    "# **Linear Algebra**"
   ]
  },
  {
   "cell_type": "code",
   "execution_count": 2,
   "id": "963428ab",
   "metadata": {},
   "outputs": [],
   "source": [
    "import numpy as np"
   ]
  },
  {
   "cell_type": "code",
   "execution_count": 3,
   "id": "faa3657b",
   "metadata": {},
   "outputs": [
    {
     "name": "stdout",
     "output_type": "stream",
     "text": [
      "[[1 2 3]\n",
      " [7 8 9]]\n",
      "[[ 2  3]\n",
      " [-1  7]\n",
      " [ 8  9]]\n"
     ]
    }
   ],
   "source": [
    "x=np.array([[1,2,3],[7,8,9]])\n",
    "y=np.array([[2,3],[-1,7],[8,9]])\n",
    "print(x)\n",
    "print(y)"
   ]
  },
  {
   "cell_type": "code",
   "execution_count": null,
   "id": "d5c587e5",
   "metadata": {},
   "outputs": [
    {
     "name": "stdout",
     "output_type": "stream",
     "text": [
      "[[ 24  44]\n",
      " [ 78 158]]\n"
     ]
    },
    {
     "data": {
      "text/plain": [
       "'Note: The number of columns of first matrix should be equal to the number of rows of second matrix'"
      ]
     },
     "execution_count": 4,
     "metadata": {},
     "output_type": "execute_result"
    }
   ],
   "source": [
    "## Matrix Multiplication\n",
    "dot_product = x@y\n",
    "print(dot_product)\n",
    "\n",
    "\"\"\"Note: The number of columns of first matrix should be equal to the number of rows of second matrix\"\"\""
   ]
  },
  {
   "cell_type": "code",
   "execution_count": 5,
   "id": "13e972eb",
   "metadata": {},
   "outputs": [
    {
     "name": "stdout",
     "output_type": "stream",
     "text": [
      "[[ 24  44]\n",
      " [ 78 158]]\n",
      "[[ 24  44]\n",
      " [ 78 158]]\n"
     ]
    }
   ],
   "source": [
    "# other methods for doing multiplication\n",
    "print(x.dot(y))\n",
    "print(np.dot(x,y))"
   ]
  },
  {
   "cell_type": "code",
   "execution_count": 9,
   "id": "c694bfc8",
   "metadata": {},
   "outputs": [
    {
     "data": {
      "text/plain": [
       "array([[ 4.1835019 , -0.1583423 ,  4.32908712, -0.65615965,  1.334536  ],\n",
       "       [-0.1583423 ,  0.38907078, -0.72185769,  0.35795673, -0.23179247],\n",
       "       [ 4.32908712, -0.72185769,  6.80769877,  0.13324633,  1.22151846],\n",
       "       [-0.65615965,  0.35795673,  0.13324633,  1.91059758, -1.59746262],\n",
       "       [ 1.334536  , -0.23179247,  1.22151846, -1.59746262,  2.84711922]])"
      ]
     },
     "execution_count": 9,
     "metadata": {},
     "output_type": "execute_result"
    }
   ],
   "source": [
    "x=np.random.randn(5,5)\n",
    "\n",
    "# doing multiple operations on a single variable\n",
    "mat = x.T.dot(x)  # 1st transpose of x, then multiplied transpose with x\n",
    "mat"
   ]
  },
  {
   "cell_type": "code",
   "execution_count": 7,
   "id": "fb5a034b",
   "metadata": {},
   "outputs": [
    {
     "name": "stdout",
     "output_type": "stream",
     "text": [
      "[[0 1]\n",
      " [2 3]]\n",
      "[[-1.5  0.5]\n",
      " [ 1.   0. ]]\n"
     ]
    }
   ],
   "source": [
    "# inverse of a matrix\n",
    "from numpy.linalg import inv\n",
    "\n",
    "a=np.arange(0,4).reshape(2,2)\n",
    "print(a)\n",
    "inverse = inv(a)\n",
    "print(inverse)"
   ]
  },
  {
   "cell_type": "code",
   "execution_count": 8,
   "id": "e4b6f15f",
   "metadata": {},
   "outputs": [
    {
     "name": "stdout",
     "output_type": "stream",
     "text": [
      "-2.0\n"
     ]
    }
   ],
   "source": [
    "# finding detereminant\n",
    "print(np.linalg.det(a))"
   ]
  }
 ],
 "metadata": {
  "kernelspec": {
   "display_name": "Python 3",
   "language": "python",
   "name": "python3"
  },
  "language_info": {
   "codemirror_mode": {
    "name": "ipython",
    "version": 3
   },
   "file_extension": ".py",
   "mimetype": "text/x-python",
   "name": "python",
   "nbconvert_exporter": "python",
   "pygments_lexer": "ipython3",
   "version": "3.13.2"
  }
 },
 "nbformat": 4,
 "nbformat_minor": 5
}
