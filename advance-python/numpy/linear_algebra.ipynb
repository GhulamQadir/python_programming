{
 "cells": [
  {
   "cell_type": "markdown",
   "id": "b5b23279",
   "metadata": {},
   "source": [
    "# **Linear Algebra**"
   ]
  },
  {
   "cell_type": "code",
   "execution_count": 2,
   "id": "963428ab",
   "metadata": {},
   "outputs": [],
   "source": [
    "import numpy as np"
   ]
  },
  {
   "cell_type": "code",
   "execution_count": 3,
   "id": "faa3657b",
   "metadata": {},
   "outputs": [
    {
     "name": "stdout",
     "output_type": "stream",
     "text": [
      "[[1 2 3]\n",
      " [7 8 9]]\n",
      "[[ 2  3]\n",
      " [-1  7]\n",
      " [ 8  9]]\n"
     ]
    }
   ],
   "source": [
    "x=np.array([[1,2,3],[7,8,9]])\n",
    "y=np.array([[2,3],[-1,7],[8,9]])\n",
    "print(x)\n",
    "print(y)"
   ]
  },
  {
   "cell_type": "code",
   "execution_count": 4,
   "id": "d5c587e5",
   "metadata": {},
   "outputs": [
    {
     "name": "stdout",
     "output_type": "stream",
     "text": [
      "[[ 24  44]\n",
      " [ 78 158]]\n"
     ]
    },
    {
     "data": {
      "text/plain": [
       "'Note: The number of columns of first matrix should be equal to the number of rows of second matrix'"
      ]
     },
     "execution_count": 4,
     "metadata": {},
     "output_type": "execute_result"
    }
   ],
   "source": [
    "## Matrix Multiplication\n",
    "dot_product = x@y\n",
    "print(dot_product)\n",
    "\n",
    "\"\"\"Note: The number of columns of first matrix should be equal to the number of rows of second matrix\"\"\""
   ]
  },
  {
   "cell_type": "code",
   "execution_count": 5,
   "id": "13e972eb",
   "metadata": {},
   "outputs": [
    {
     "name": "stdout",
     "output_type": "stream",
     "text": [
      "[[ 24  44]\n",
      " [ 78 158]]\n",
      "[[ 24  44]\n",
      " [ 78 158]]\n"
     ]
    }
   ],
   "source": [
    "# other methods for doing multiplication\n",
    "print(x.dot(y))\n",
    "print(np.dot(x,y))"
   ]
  },
  {
   "cell_type": "code",
   "execution_count": 17,
   "id": "c694bfc8",
   "metadata": {},
   "outputs": [
    {
     "name": "stdout",
     "output_type": "stream",
     "text": [
      "[[20 17 16 12 14]\n",
      " [15  1  4  5 11]\n",
      " [ 5  8 19 13 19]\n",
      " [15  2 10  8 15]\n",
      " [12  5 15  1  6]]\n",
      "[[20 15  5 15 12]\n",
      " [17  1  8  2  5]\n",
      " [16  4 19 10 15]\n",
      " [12  5 13  8  1]\n",
      " [14 11 19 15  6]]\n"
     ]
    },
    {
     "data": {
      "text/plain": [
       "array([[1019,  485,  805,  512,  837],\n",
       "       [ 485,  383,  523,  334,  461],\n",
       "       [ 805,  523,  958,  554,  869],\n",
       "       [ 512,  334,  554,  403,  596],\n",
       "       [ 837,  461,  869,  596,  939]], dtype=int32)"
      ]
     },
     "execution_count": 17,
     "metadata": {},
     "output_type": "execute_result"
    }
   ],
   "source": [
    "x= np.random.randint(1, 21, size=25).reshape(5,5)\n",
    "print(x)\n",
    "\n",
    "# doing multiple operations on a single variable\n",
    "matrix = x.T  # 1st transpose of x\n",
    "print(matrix)\n",
    "\n",
    "# multiply transpose of x with original matrix x\n",
    "multiple = matrix@x\n",
    "multiple"
   ]
  },
  {
   "cell_type": "code",
   "execution_count": null,
   "id": "fb5a034b",
   "metadata": {},
   "outputs": [
    {
     "name": "stdout",
     "output_type": "stream",
     "text": [
      "[[0 1]\n",
      " [2 3]]\n",
      "[[-1.5  0.5]\n",
      " [ 1.   0. ]]\n"
     ]
    }
   ],
   "source": [
    "# inverse of a matrix\n",
    "from numpy.linalg import inv\n",
    "\n",
    "a=np.arange(0,4).reshape(2,2)\n",
    "print(a)\n",
    "inverse = inv(a)\n",
    "print(inverse)"
   ]
  },
  {
   "cell_type": "code",
   "execution_count": null,
   "id": "e4b6f15f",
   "metadata": {},
   "outputs": [
    {
     "name": "stdout",
     "output_type": "stream",
     "text": [
      "-2.0\n"
     ]
    }
   ],
   "source": [
    "# finding detereminant\n",
    "print(np.linalg.det(a))"
   ]
  }
 ],
 "metadata": {
  "kernelspec": {
   "display_name": "Python 3",
   "language": "python",
   "name": "python3"
  },
  "language_info": {
   "codemirror_mode": {
    "name": "ipython",
    "version": 3
   },
   "file_extension": ".py",
   "mimetype": "text/x-python",
   "name": "python",
   "nbconvert_exporter": "python",
   "pygments_lexer": "ipython3",
   "version": "3.13.2"
  }
 },
 "nbformat": 4,
 "nbformat_minor": 5
}
