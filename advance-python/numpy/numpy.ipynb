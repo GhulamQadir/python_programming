{
 "cells": [
  {
   "cell_type": "code",
   "execution_count": 2,
   "id": "279ef89c",
   "metadata": {},
   "outputs": [
    {
     "name": "stdout",
     "output_type": "stream",
     "text": [
      "[2, 4, 6, 8, 10, 12, 14, 16, 18, 20, 22, 24, 26, 28, 30, 32, 34, 36, 38, 40, 42, 44, 46, 48, 50, 52, 54, 56, 58, 60, 62, 64, 66, 68, 70, 72, 74, 76, 78, 80, 82, 84, 86, 88, 90, 92, 94, 96, 98, 100] \n",
      "\n",
      "[4, 16, 36, 64, 100, 144, 196, 256, 324, 400, 484, 576, 676, 784, 900, 1024, 1156, 1296, 1444, 1600, 1764, 1936, 2116, 2304, 2500, 2704, 2916, 3136, 3364, 3600, 3844, 4096, 4356, 4624, 4900, 5184, 5476, 5776, 6084, 6400, 6724, 7056, 7396, 7744, 8100, 8464, 8836, 9216, 9604, 10000]\n"
     ]
    }
   ],
   "source": [
    "# creating list of even integers\n",
    "intList = list(range(2, 101, 2))\n",
    "print(intList, \"\\n\")\n",
    "\n",
    "# squared list\n",
    "squaredList = [x**2 for x in intList]\n",
    "print(squaredList)"
   ]
  },
  {
   "cell_type": "code",
   "execution_count": 3,
   "id": "8208c9ca",
   "metadata": {},
   "outputs": [
    {
     "name": "stdout",
     "output_type": "stream",
     "text": [
      "[1 2 3 4] \n",
      "\n",
      "[0 1 2 3 4 5 6 7 8 9] \n",
      "\n",
      "[  2   4   6   8  10  12  14  16  18  20  22  24  26  28  30  32  34  36\n",
      "  38  40  42  44  46  48  50  52  54  56  58  60  62  64  66  68  70  72\n",
      "  74  76  78  80  82  84  86  88  90  92  94  96  98 100]\n"
     ]
    }
   ],
   "source": [
    "import numpy as np\n",
    "\n",
    "# creating numpy array\n",
    "arr = np.array([1, 2, 3, 4])\n",
    "print(arr, \"\\n\")\n",
    "\n",
    "# creating array using numpy range\n",
    "int_arr = np.arange(10)\n",
    "print(int_arr, \"\\n\")\n",
    "\n",
    "numpPyArr = np.array(intList)  # converted normal python list into numpy array\n",
    "print(numpPyArr)"
   ]
  },
  {
   "cell_type": "code",
   "execution_count": 4,
   "id": "b49d82e0",
   "metadata": {},
   "outputs": [
    {
     "name": "stdout",
     "output_type": "stream",
     "text": [
      "Cubic Array:  [ 1  8 27 64]\n"
     ]
    }
   ],
   "source": [
    "# converting numpy array directly to cubic array\n",
    "cubic_arr = arr**3\n",
    "print(\"Cubic Array: \", cubic_arr)"
   ]
  },
  {
   "cell_type": "code",
   "execution_count": 5,
   "id": "371f21d5",
   "metadata": {},
   "outputs": [
    {
     "name": "stdout",
     "output_type": "stream",
     "text": [
      "[[0.26794717 0.75727665 0.46726494]\n",
      " [0.41132879 0.46779039 0.58710876]]\n",
      "\n",
      "Normally distributed random Numbers: [[-0.79599479 -2.48454567 -0.11756341 -0.0448076 ]]\n"
     ]
    }
   ],
   "source": [
    "# creating random numbers array\n",
    "random_arr = np.random.rand(2, 3)\n",
    "print(random_arr)\n",
    "\n",
    "# normally distributed random numbers\n",
    "rand_norm = np.random.randn(1, 4)\n",
    "print(f\"\\nNormally distributed random Numbers: {rand_norm}\")"
   ]
  },
  {
   "cell_type": "code",
   "execution_count": 6,
   "id": "19af7898",
   "metadata": {},
   "outputs": [
    {
     "name": "stdout",
     "output_type": "stream",
     "text": [
      "Data type:  float64\n",
      "Length of an array:  4\n",
      "Dimesions:  2\n",
      "Shape:  (2, 3)\n"
     ]
    }
   ],
   "source": [
    "# checking data type\n",
    "print(\"Data type: \", random_arr.dtype)\n",
    "\n",
    "# checking length of array\n",
    "print(\"Length of an array: \", rand_norm.size)\n",
    "\n",
    "# checking dimensions of array\n",
    "print(\"Dimesions: \", rand_norm.ndim)\n",
    "\n",
    "# checking shape of an array\n",
    "print(\"Shape: \", random_arr.shape)  # 2 rows and three columns"
   ]
  },
  {
   "cell_type": "code",
   "execution_count": 7,
   "id": "8d05df01",
   "metadata": {},
   "outputs": [
    {
     "name": "stdout",
     "output_type": "stream",
     "text": [
      "[[[0.15101132 0.91885332 0.09784405 0.30854359 0.17516427]\n",
      "  [0.44218492 0.04546731 0.59767391 0.7837212  0.53650848]\n",
      "  [0.7393106  0.78430166 0.71445095 0.97901947 0.37029916]\n",
      "  [0.06137976 0.29897676 0.71953763 0.03173587 0.55508112]]\n",
      "\n",
      " [[0.45694661 0.19620449 0.45643119 0.61227019 0.3454212 ]\n",
      "  [0.6832662  0.91478713 0.93938796 0.13269593 0.33330287]\n",
      "  [0.46849968 0.99915554 0.0755951  0.12957121 0.42059701]\n",
      "  [0.36727279 0.96702954 0.63813052 0.41890595 0.0038337 ]]\n",
      "\n",
      " [[0.79000019 0.67872359 0.1485238  0.57651905 0.59216622]\n",
      "  [0.74505046 0.69635676 0.52713678 0.44424286 0.44035745]\n",
      "  [0.95274599 0.89518707 0.22954206 0.11432353 0.29886746]\n",
      "  [0.99777263 0.9488284  0.9655657  0.378769   0.42678165]]]\n"
     ]
    }
   ],
   "source": [
    "# creating 3d array\n",
    "# array of 4 rows, 5 columns, and 3 copies rand(copies, 4 rows, 5 columns)  --->> 3d array\n",
    "arr_3d = np.random.rand(3, 4, 5)\n",
    "print(arr_3d)"
   ]
  },
  {
   "cell_type": "code",
   "execution_count": 8,
   "id": "6f35104e",
   "metadata": {},
   "outputs": [
    {
     "name": "stdout",
     "output_type": "stream",
     "text": [
      "[[[ 0  1  2  3]\n",
      "  [ 4  5  6  7]\n",
      "  [ 8  9 10 11]]\n",
      "\n",
      " [[12 13 14 15]\n",
      "  [16 17 18 19]\n",
      "  [20 21 22 23]]]\n"
     ]
    }
   ],
   "source": [
    "# breaking range of array into 3d array\n",
    "arr3d = np.arange(24).reshape(\n",
    "    2, 3, 4\n",
    ")  # the elements should be adjusted in dimesion other will return an error\n",
    "print(arr3d)"
   ]
  },
  {
   "cell_type": "code",
   "execution_count": 9,
   "id": "8bca05af",
   "metadata": {},
   "outputs": [
    {
     "name": "stdout",
     "output_type": "stream",
     "text": [
      "[[[ 0  1  2  3]\n",
      "  [ 4  5  6  7]\n",
      "  [ 8  9 10 11]]\n",
      "\n",
      " [[12 13 14 15]\n",
      "  [16 17 18 19]\n",
      "  [20 21 22 23]]]\n"
     ]
    }
   ],
   "source": [
    "arr3d = np.arange(24).reshape(2, 3, 4)\n",
    "print(arr3d)"
   ]
  },
  {
   "cell_type": "code",
   "execution_count": 10,
   "id": "dfd22b88",
   "metadata": {},
   "outputs": [
    {
     "name": "stdout",
     "output_type": "stream",
     "text": [
      "[[0. 0. 0. 0.]\n",
      " [0. 0. 0. 0.]\n",
      " [0. 0. 0. 0.]]\n",
      "[[[1. 1. 1. 1. 1.]\n",
      "  [1. 1. 1. 1. 1.]\n",
      "  [1. 1. 1. 1. 1.]\n",
      "  [1. 1. 1. 1. 1.]]\n",
      "\n",
      " [[1. 1. 1. 1. 1.]\n",
      "  [1. 1. 1. 1. 1.]\n",
      "  [1. 1. 1. 1. 1.]\n",
      "  [1. 1. 1. 1. 1.]]]\n"
     ]
    },
    {
     "data": {
      "text/plain": [
       "'ones and zeros methods take tuple as input so we use double brackets'"
      ]
     },
     "execution_count": 10,
     "metadata": {},
     "output_type": "execute_result"
    }
   ],
   "source": [
    "# creating zeros array\n",
    "zerosArr = np.zeros((3, 4))\n",
    "print(zerosArr)\n",
    "\n",
    "# creating ones array\n",
    "onesArr = np.ones((2, 4, 5))\n",
    "print(onesArr)\n",
    "\n",
    "\"\"\"ones and zeros methods take tuple as input so we use double brackets\"\"\""
   ]
  },
  {
   "cell_type": "code",
   "execution_count": 11,
   "id": "45c54f8f",
   "metadata": {},
   "outputs": [
    {
     "data": {
      "text/plain": [
       "array([[1., 0., 0., 0., 0.],\n",
       "       [0., 1., 0., 0., 0.],\n",
       "       [0., 0., 1., 0., 0.],\n",
       "       [0., 0., 0., 1., 0.],\n",
       "       [0., 0., 0., 0., 1.]])"
      ]
     },
     "execution_count": 11,
     "metadata": {},
     "output_type": "execute_result"
    }
   ],
   "source": [
    "# creating identical matrix\n",
    "identicalArr = np.eye(5, 5)\n",
    "identicalArr"
   ]
  },
  {
   "cell_type": "code",
   "execution_count": 12,
   "id": "5c5d7533",
   "metadata": {},
   "outputs": [
    {
     "data": {
      "text/plain": [
       "array([[12., 12., 12., 12., 12.],\n",
       "       [12., 12., 12., 12., 12.],\n",
       "       [12., 12., 12., 12., 12.],\n",
       "       [12., 12., 12., 12., 12.]])"
      ]
     },
     "execution_count": 12,
     "metadata": {},
     "output_type": "execute_result"
    }
   ],
   "source": [
    "# multiplying ones array by any number\n",
    "multiples_arr = np.ones((4, 5)) * 12\n",
    "multiples_arr"
   ]
  },
  {
   "cell_type": "code",
   "execution_count": 13,
   "id": "2edfad6e",
   "metadata": {},
   "outputs": [
    {
     "data": {
      "text/plain": [
       "array([[7, 7, 7, 7, 7],\n",
       "       [7, 7, 7, 7, 7],\n",
       "       [7, 7, 7, 7, 7],\n",
       "       [7, 7, 7, 7, 7]])"
      ]
     },
     "execution_count": 13,
     "metadata": {},
     "output_type": "execute_result"
    }
   ],
   "source": [
    "# full method is used to create array of specific number\n",
    "x=7\n",
    "arr=np.full((4,5),x)\n",
    "arr\n"
   ]
  },
  {
   "cell_type": "code",
   "execution_count": 14,
   "id": "c24458dc",
   "metadata": {},
   "outputs": [
    {
     "name": "stdout",
     "output_type": "stream",
     "text": [
      "[[ 0  1  2  3  4]\n",
      " [ 5  6  7  8  9]\n",
      " [10 11 12 13 14]\n",
      " [15 16 17 18 19]] \n",
      "\n",
      "[[20 21 22 23 24]\n",
      " [25 26 27 28 29]\n",
      " [30 31 32 33 34]\n",
      " [35 36 37 38 39]] \n",
      "\n",
      "array after addition:\n",
      " [[20 22 24 26 28]\n",
      " [30 32 34 36 38]\n",
      " [40 42 44 46 48]\n",
      " [50 52 54 56 58]]\n"
     ]
    }
   ],
   "source": [
    "arr2d1=np.arange(20).reshape(4,5)\n",
    "print(arr2d1,\"\\n\")\n",
    "arr2d2=np.arange(20,40).reshape(4,5)\n",
    "print(arr2d2,\"\\n\")\n",
    "\n",
    "# addition of 2 arrays\n",
    "newArr=arr2d1+arr2d2\n",
    "print(\"array after addition:\\n\",newArr)\n"
   ]
  },
  {
   "cell_type": "code",
   "execution_count": 15,
   "id": "a9adec03",
   "metadata": {},
   "outputs": [
    {
     "name": "stdout",
     "output_type": "stream",
     "text": [
      "arr1:  [[[ 0  1  2  3]\n",
      "  [ 4  5  6  7]\n",
      "  [ 8  9 10 11]]\n",
      "\n",
      " [[12 13 14 15]\n",
      "  [16 17 18 19]\n",
      "  [20 21 22 23]]\n",
      "\n",
      " [[24 25 26 27]\n",
      "  [28 29 30 31]\n",
      "  [32 33 34 35]]] \n",
      "\n",
      "\n",
      "arr2:  [[[36 37 38 39]\n",
      "  [40 41 42 43]\n",
      "  [44 45 46 47]]\n",
      "\n",
      " [[48 49 50 51]\n",
      "  [52 53 54 55]\n",
      "  [56 57 58 59]]\n",
      "\n",
      " [[60 61 62 63]\n",
      "  [64 65 66 67]\n",
      "  [68 69 70 71]]] \n",
      "\n",
      "\n",
      "array after subtraction:\n",
      " [[[ 36  38  40  42]\n",
      "  [ 44  46  48  50]\n",
      "  [ 52  54  56  58]]\n",
      "\n",
      " [[ 60  62  64  66]\n",
      "  [ 68  70  72  74]\n",
      "  [ 76  78  80  82]]\n",
      "\n",
      " [[ 84  86  88  90]\n",
      "  [ 92  94  96  98]\n",
      "  [100 102 104 106]]]\n"
     ]
    }
   ],
   "source": [
    "# subtraction of two arrays of multiple copies\n",
    "arr2d1=np.arange(36).reshape(3,3,4)\n",
    "print(\"arr1: \",arr2d1,\"\\n\\n\")\n",
    "arr2d2=np.arange(36,72).reshape(3,3,4)\n",
    "print(\"arr2: \",arr2d2,\"\\n\\n\")\n",
    "\n",
    "# addition of 2 arrays\n",
    "newArr=arr2d1+arr2d2\n",
    "print(\"array after subtraction:\\n\",newArr)"
   ]
  },
  {
   "cell_type": "code",
   "execution_count": 16,
   "id": "1ad3badd",
   "metadata": {},
   "outputs": [
    {
     "name": "stdout",
     "output_type": "stream",
     "text": [
      "4\n",
      "[3 4 5]\n",
      "3\n",
      "[1 2 3 4 5]\n"
     ]
    }
   ],
   "source": [
    "arr=np.array([1,2,3,4,5,6,7])\n",
    "print(arr[3])\n",
    "print(arr[2:5])\n",
    "print(arr[-5])\n",
    "print(arr[:-2])"
   ]
  },
  {
   "cell_type": "code",
   "execution_count": 17,
   "id": "d24dfa1e",
   "metadata": {},
   "outputs": [
    {
     "name": "stdout",
     "output_type": "stream",
     "text": [
      "[[ 0  1  2  3  4]\n",
      " [ 5  6  7  8  9]\n",
      " [10 11 12 13 14]\n",
      " [15 16 17 18 19]] \n",
      "\n",
      "[[ 6  7  8]\n",
      " [11 12 13]]\n"
     ]
    },
    {
     "data": {
      "text/plain": [
       "array([12, 13])"
      ]
     },
     "execution_count": 17,
     "metadata": {},
     "output_type": "execute_result"
    }
   ],
   "source": [
    "# 2d slicing\n",
    "arr=np.arange(20).reshape(4,5)\n",
    "print(arr,\"\\n\")\n",
    "\n",
    "slicedArr = arr[1:3,1:4]  # rows 1 and 2, columns 1,2 and 3\n",
    "print(slicedArr)\n",
    "arr[2,2:4]  # 2nd row, columns 2 and 3"
   ]
  },
  {
   "cell_type": "code",
   "execution_count": 18,
   "id": "dbbab915",
   "metadata": {},
   "outputs": [
    {
     "name": "stdout",
     "output_type": "stream",
     "text": [
      "[[ 0  1  2  3  4  5  6  7]\n",
      " [ 8  9 10 11 12 13 14 15]\n",
      " [16 17 18 19 20 21 22 23]\n",
      " [24 25 26 27 28 29 30 31]\n",
      " [32 33 34 35 36 37 38 39]\n",
      " [40 41 42 43 44 45 46 47]\n",
      " [48 49 50 51 52 53 54 55]\n",
      " [56 57 58 59 60 61 62 63]] \n",
      "\n",
      "[[35 36 37 38]\n",
      " [43 44 45 46]\n",
      " [51 52 53 54]] \n",
      "\n",
      "[32 33 34 35 36 37 38 39]\n",
      "[[32 33 34 35 36 37 38 39]]\n",
      "[ 5 13 21 29 37 45 53 61]\n",
      "[[ 5]\n",
      " [13]\n",
      " [21]\n",
      " [29]\n",
      " [37]\n",
      " [45]\n",
      " [53]\n",
      " [61]]\n",
      "[[35 36 37 38]\n",
      " [43 44 45 46]\n",
      " [51 52 53 54]]\n",
      "[[ 0  1  2  3  4  5  6  7]\n",
      " [16 17 18 19 20 21 22 23]\n",
      " [32 33 34 35 36 37 38 39]\n",
      " [48 49 50 51 52 53 54 55]]\n",
      "[[56 57 58 59 60 61 62 63]\n",
      " [40 41 42 43 44 45 46 47]\n",
      " [24 25 26 27 28 29 30 31]\n",
      " [ 8  9 10 11 12 13 14 15]]\n",
      "44\n",
      "[[44]]\n"
     ]
    }
   ],
   "source": [
    "arr2d = np.arange(64).reshape(8,8)\n",
    "print(arr2d,\"\\n\")\n",
    "print(arr2d[4:7, 3:7],\"\\n\")\n",
    "\n",
    "print(arr2d[4,:])\n",
    "print(arr2d[4:5,:])\n",
    "print(arr2d[:,5])\n",
    "print(arr2d[:,5:6])\n",
    "print(arr2d[4:7,3:7])\n",
    "print(arr2d[::2])\n",
    "print(arr2d[::-2])\n",
    "print(arr2d[5,4])\n",
    "print(arr2d[5:6,4:5])"
   ]
  },
  {
   "cell_type": "code",
   "execution_count": 19,
   "id": "a09e15cf",
   "metadata": {},
   "outputs": [
    {
     "data": {
      "text/plain": [
       "20"
      ]
     },
     "execution_count": 19,
     "metadata": {},
     "output_type": "execute_result"
    }
   ],
   "source": [
    "# checking dimensions\n",
    "a=np.array([[[[[[[[[[[[[[[[[[[[23]]]]]]]]]]]]]]]]]]]])\n",
    "a.ndim"
   ]
  },
  {
   "cell_type": "code",
   "execution_count": 20,
   "id": "ad42b691",
   "metadata": {},
   "outputs": [
    {
     "name": "stdout",
     "output_type": "stream",
     "text": [
      "[ 0  5 10 15]\n",
      "[ 0  2  4  6  8 10 12 14 16 18]\n",
      "[ 1  3  5  7  9 11 13 15 17 19]\n",
      "[ 6  7  8  9 10 11 12 13 14]\n"
     ]
    }
   ],
   "source": [
    "arr = np.array(range(20))\n",
    "print(arr[arr%5==0])\n",
    "\n",
    "print(arr[arr%2==0])\n",
    "\n",
    "print(arr[arr%2==1])\n",
    "\n",
    "print(arr[(arr>5) & (arr<15)])"
   ]
  },
  {
   "cell_type": "code",
   "execution_count": 21,
   "id": "d5b2cd35",
   "metadata": {},
   "outputs": [
    {
     "name": "stdout",
     "output_type": "stream",
     "text": [
      "[[ 0  1  2  3  4  5]\n",
      " [ 6  7  8  9 10 11]\n",
      " [12 13 14 15 16 17]\n",
      " [18 19 20 21 22 23]\n",
      " [24 25 26 27 28 29]\n",
      " [30 31 32 33 34 35]]\n"
     ]
    },
    {
     "data": {
      "text/plain": [
       "array([[ 0,  6, 12, 18, 24, 30],\n",
       "       [ 1,  7, 13, 19, 25, 31],\n",
       "       [ 2,  8, 14, 20, 26, 32],\n",
       "       [ 3,  9, 15, 21, 27, 33],\n",
       "       [ 4, 10, 16, 22, 28, 34],\n",
       "       [ 5, 11, 17, 23, 29, 35]])"
      ]
     },
     "execution_count": 21,
     "metadata": {},
     "output_type": "execute_result"
    }
   ],
   "source": [
    "import numpy as np\n",
    "arr2 = np.arange(36).reshape(6,6)\n",
    "print(arr2)\n",
    "arr2.T  # transpose"
   ]
  },
  {
   "cell_type": "code",
   "execution_count": 30,
   "id": "10f16b32",
   "metadata": {},
   "outputs": [
    {
     "name": "stdout",
     "output_type": "stream",
     "text": [
      "[ 0  1  2  3  4  5  6  7  8  9 10 11 12 13 14 15 16 17 18 19]\n",
      "[0.   1.   1.41 1.73 2.   2.24 2.45 2.65 2.83 3.   3.16 3.32 3.46 3.61\n",
      " 3.74 3.87 4.   4.12 4.24 4.36]\n"
     ]
    }
   ],
   "source": [
    "arr =np.arange(20)\n",
    "print(arr)\n",
    "print(np.round(np.sqrt(arr),2))\n",
    "# print(np.exp(arr))"
   ]
  },
  {
   "cell_type": "code",
   "execution_count": 23,
   "id": "70b3f045",
   "metadata": {},
   "outputs": [
    {
     "name": "stdout",
     "output_type": "stream",
     "text": [
      "[ 1.39343316 -1.18521931 -1.00681769  0.57035452  0.78775573 -1.25174841\n",
      "  1.11258168  0.18995637]\n",
      "[-0.61785168 -0.91846754  1.03923176  0.73264658  1.65800792 -0.09968038\n",
      "  0.57501251 -0.2283298 ]\n",
      "[ 1.39343316 -0.91846754  1.03923176  0.73264658  1.65800792 -0.09968038\n",
      "  1.11258168  0.18995637]\n"
     ]
    }
   ],
   "source": [
    "x=np.random.randn(8)\n",
    "print(x)\n",
    "y=np.random.randn(8)\n",
    "print(y)\n",
    "max = np.maximum(x,y)\n",
    "print(max)"
   ]
  },
  {
   "cell_type": "code",
   "execution_count": null,
   "id": "1cb1478a",
   "metadata": {},
   "outputs": [
    {
     "name": "stdout",
     "output_type": "stream",
     "text": [
      "[-0.68073463 -0.03547269 -0.40959464  0.19085284 -0.03003771  1.25196989\n",
      " -0.1258404   1.23302078]\n",
      "[-0.68073463 -0.03547269 -0.40959464  0.19085284 -0.03003771  0.25196989\n",
      " -0.1258404   0.23302078]\n",
      "[-0. -0. -0.  0. -0.  1. -0.  1.]\n",
      "(array([-0.68073463, -0.03547269, -0.40959464,  0.19085284, -0.03003771,\n",
      "        0.25196989, -0.1258404 ,  0.23302078]), array([-0., -0., -0.,  0., -0.,  1., -0.,  1.]))\n"
     ]
    }
   ],
   "source": [
    "arr = np.random.randn(8)\n",
    "print(arr)\n",
    "\n",
    "# splitting fractional and whole part\n",
    "remainder, whole_part = np.modf(arr)\n",
    "print(remainder)\n",
    "print(whole_part)\n",
    "\n",
    "# assigning both remainder and whole part in a single variable\n",
    "whole_part=np.modf(arr)\n",
    "print(whole_part)"
   ]
  }
 ],
 "metadata": {
  "kernelspec": {
   "display_name": "Python 3",
   "language": "python",
   "name": "python3"
  },
  "language_info": {
   "codemirror_mode": {
    "name": "ipython",
    "version": 3
   },
   "file_extension": ".py",
   "mimetype": "text/x-python",
   "name": "python",
   "nbconvert_exporter": "python",
   "pygments_lexer": "ipython3",
   "version": "3.13.2"
  }
 },
 "nbformat": 4,
 "nbformat_minor": 5
}
