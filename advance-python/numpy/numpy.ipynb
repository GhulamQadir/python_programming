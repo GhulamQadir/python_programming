{
 "cells": [
  {
   "cell_type": "code",
   "execution_count": 2,
   "id": "8208c9ca",
   "metadata": {},
   "outputs": [
    {
     "name": "stdout",
     "output_type": "stream",
     "text": [
      "[1 2 3 4] \n",
      "\n",
      "[0 1 2 3 4 5 6 7 8 9] \n",
      "\n",
      "[1 2 4 5 6]\n"
     ]
    }
   ],
   "source": [
    "import numpy as np\n",
    "\n",
    "# creating numpy array\n",
    "arr = np.array([1, 2, 3, 4])\n",
    "print(arr, \"\\n\")\n",
    "\n",
    "# creating array using numpy range\n",
    "int_arr = np.arange(10)\n",
    "print(int_arr, \"\\n\")\n",
    "\n",
    "intList = [1,2,4,5,6]\n",
    "numpPyArr = np.array(intList)  # converted normal python list into numpy array\n",
    "print(numpPyArr)"
   ]
  },
  {
   "cell_type": "code",
   "execution_count": 3,
   "id": "b49d82e0",
   "metadata": {},
   "outputs": [
    {
     "name": "stdout",
     "output_type": "stream",
     "text": [
      "Cubic Array:  [ 1  8 27 64]\n"
     ]
    }
   ],
   "source": [
    "# converting numpy array directly to cubic array\n",
    "cubic_arr = arr**3\n",
    "print(\"Cubic Array: \", cubic_arr)"
   ]
  },
  {
   "cell_type": "code",
   "execution_count": 4,
   "id": "371f21d5",
   "metadata": {},
   "outputs": [
    {
     "name": "stdout",
     "output_type": "stream",
     "text": [
      "[[0.87562856 0.89790341 0.36986414]\n",
      " [0.5643626  0.87461037 0.08181871]]\n",
      "\n",
      "Normally distributed random Numbers: \n",
      "[ 1.68853946  0.20130832  0.58289421 -0.29892251]\n"
     ]
    }
   ],
   "source": [
    "# creating random numbers array\n",
    "random_arr = np.random.rand(2, 3)\n",
    "print(random_arr)\n",
    "\n",
    "# normally distributed random numbers\n",
    "rand_norm = np.random.randn(4)\n",
    "print(f\"\\nNormally distributed random Numbers: \\n{rand_norm}\")"
   ]
  },
  {
   "cell_type": "code",
   "execution_count": 5,
   "id": "19af7898",
   "metadata": {},
   "outputs": [
    {
     "name": "stdout",
     "output_type": "stream",
     "text": [
      "Data type:  float64\n",
      "Length of an array:  6\n",
      "Dimesions:  1\n",
      "Shape:  (2, 3)\n"
     ]
    }
   ],
   "source": [
    "# checking data type\n",
    "print(\"Data type: \", random_arr.dtype)\n",
    "\n",
    "# checking length of array\n",
    "print(\"Length of an array: \", random_arr.size)\n",
    "\n",
    "# checking dimensions of array\n",
    "print(\"Dimesions: \", rand_norm.ndim)\n",
    "\n",
    "# checking shape of an array\n",
    "print(\"Shape: \", random_arr.shape)  # 2 rows and three columns"
   ]
  },
  {
   "cell_type": "code",
   "execution_count": 6,
   "id": "8d05df01",
   "metadata": {},
   "outputs": [
    {
     "name": "stdout",
     "output_type": "stream",
     "text": [
      "[[[0.08125262 0.22730365 0.65310988 0.8085239  0.91646604]\n",
      "  [0.96118298 0.03888433 0.2218198  0.47946558 0.64426723]\n",
      "  [0.89078048 0.45431438 0.69543171 0.80790188 0.47397534]\n",
      "  [0.33468077 0.91459109 0.30784734 0.51112535 0.34048204]]\n",
      "\n",
      " [[0.91606342 0.24464991 0.99358179 0.90220017 0.35297591]\n",
      "  [0.43171449 0.8176396  0.05157749 0.29085351 0.2828901 ]\n",
      "  [0.93027138 0.01317894 0.58474334 0.95570826 0.3188519 ]\n",
      "  [0.30045553 0.19566496 0.35482386 0.93126005 0.53215221]]\n",
      "\n",
      " [[0.21047775 0.69732529 0.91835881 0.63400091 0.55839046]\n",
      "  [0.41799489 0.02824387 0.79886509 0.4007375  0.7203079 ]\n",
      "  [0.41834104 0.35170073 0.76371458 0.56037314 0.40514253]\n",
      "  [0.99944254 0.83289797 0.29717006 0.45646765 0.19231717]]]\n",
      "60\n"
     ]
    }
   ],
   "source": [
    "# creating 3d array\n",
    "# array of 4 rows, 5 columns, and 3 copies rand(copies, 4 rows, 5 columns)  --->> 3d array\n",
    "arr_3d = np.random.rand(3, 4, 5)\n",
    "print(arr_3d)\n",
    "print(arr_3d.size)"
   ]
  },
  {
   "cell_type": "code",
   "execution_count": 7,
   "id": "dfd22b88",
   "metadata": {},
   "outputs": [
    {
     "name": "stdout",
     "output_type": "stream",
     "text": [
      "[[0. 0. 0. 0.]\n",
      " [0. 0. 0. 0.]\n",
      " [0. 0. 0. 0.]] \n",
      "\n",
      "[[[1 1 1 1 1]\n",
      "  [1 1 1 1 1]\n",
      "  [1 1 1 1 1]\n",
      "  [1 1 1 1 1]]\n",
      "\n",
      " [[1 1 1 1 1]\n",
      "  [1 1 1 1 1]\n",
      "  [1 1 1 1 1]\n",
      "  [1 1 1 1 1]]]\n"
     ]
    }
   ],
   "source": [
    "# creating zeros array\n",
    "zerosArr = np.zeros((3, 4))  # double parenthesis are for multi dimesional array. For single, use np.zeros(7)\n",
    "print(zerosArr,\"\\n\")\n",
    "\n",
    "# creating ones array\n",
    "onesArr = np.ones((2, 4, 5),dtype=int)\n",
    "print(onesArr)"
   ]
  },
  {
   "cell_type": "code",
   "execution_count": 8,
   "id": "45c54f8f",
   "metadata": {},
   "outputs": [
    {
     "data": {
      "text/plain": [
       "array([[1, 0, 0, 0, 0],\n",
       "       [0, 1, 0, 0, 0],\n",
       "       [0, 0, 1, 0, 0],\n",
       "       [0, 0, 0, 1, 0],\n",
       "       [0, 0, 0, 0, 1]])"
      ]
     },
     "execution_count": 8,
     "metadata": {},
     "output_type": "execute_result"
    }
   ],
   "source": [
    "# creating identical matrix\n",
    "# np.eye(N, M=None, k=0, dtype=float)\n",
    "# N = Number of rows\n",
    "# M = Number of columns\n",
    "# k = 0, diagonal starting index\n",
    "\n",
    "identicalArr = np.eye(5, 5, dtype=int)\n",
    "identicalArr"
   ]
  },
  {
   "cell_type": "code",
   "execution_count": 9,
   "id": "5c5d7533",
   "metadata": {},
   "outputs": [
    {
     "data": {
      "text/plain": [
       "array([[12, 12, 12, 12, 12],\n",
       "       [12, 12, 12, 12, 12],\n",
       "       [12, 12, 12, 12, 12],\n",
       "       [12, 12, 12, 12, 12]])"
      ]
     },
     "execution_count": 9,
     "metadata": {},
     "output_type": "execute_result"
    }
   ],
   "source": [
    "# multiplying ones array by any number\n",
    "multiples_arr = np.ones((4, 5),dtype=int) * 12\n",
    "multiples_arr"
   ]
  },
  {
   "cell_type": "code",
   "execution_count": 10,
   "id": "2edfad6e",
   "metadata": {},
   "outputs": [
    {
     "data": {
      "text/plain": [
       "array([[7, 7, 7, 7, 7],\n",
       "       [7, 7, 7, 7, 7],\n",
       "       [7, 7, 7, 7, 7],\n",
       "       [7, 7, 7, 7, 7]])"
      ]
     },
     "execution_count": 10,
     "metadata": {},
     "output_type": "execute_result"
    }
   ],
   "source": [
    "# full method is used to create array of specific number\n",
    "x=7\n",
    "arr=np.full((4,5),x)\n",
    "arr\n"
   ]
  },
  {
   "cell_type": "code",
   "execution_count": 11,
   "id": "c24458dc",
   "metadata": {},
   "outputs": [
    {
     "name": "stdout",
     "output_type": "stream",
     "text": [
      "[[ 0  1  2  3  4]\n",
      " [ 5  6  7  8  9]\n",
      " [10 11 12 13 14]\n",
      " [15 16 17 18 19]] \n",
      "\n",
      "[[20 21 22 23 24]\n",
      " [25 26 27 28 29]\n",
      " [30 31 32 33 34]\n",
      " [35 36 37 38 39]] \n",
      "\n",
      "array after addition:\n",
      " [[20 22 24 26 28]\n",
      " [30 32 34 36 38]\n",
      " [40 42 44 46 48]\n",
      " [50 52 54 56 58]]\n"
     ]
    }
   ],
   "source": [
    "arr2d1=np.arange(20).reshape(4,5)\n",
    "print(arr2d1,\"\\n\")\n",
    "arr2d2=np.arange(20,40).reshape(4,5)\n",
    "print(arr2d2,\"\\n\")\n",
    "\n",
    "# addition of 2 arrays\n",
    "newArr=arr2d1+arr2d2\n",
    "print(\"array after addition:\\n\",newArr)\n"
   ]
  },
  {
   "cell_type": "code",
   "execution_count": 22,
   "id": "a9adec03",
   "metadata": {},
   "outputs": [
    {
     "name": "stdout",
     "output_type": "stream",
     "text": [
      "arr1:\n",
      " [[[ 0  1  2  3]\n",
      "  [ 4  5  6  7]\n",
      "  [ 8  9 10 11]]\n",
      "\n",
      " [[12 13 14 15]\n",
      "  [16 17 18 19]\n",
      "  [20 21 22 23]]\n",
      "\n",
      " [[24 25 26 27]\n",
      "  [28 29 30 31]\n",
      "  [32 33 34 35]]] \n",
      "\n",
      "\n",
      "arr2:\n",
      " [[[36 37 38 39]\n",
      "  [40 41 42 43]\n",
      "  [44 45 46 47]]\n",
      "\n",
      " [[48 49 50 51]\n",
      "  [52 53 54 55]\n",
      "  [56 57 58 59]]\n",
      "\n",
      " [[60 61 62 63]\n",
      "  [64 65 66 67]\n",
      "  [68 69 70 71]]] \n",
      "\n",
      "\n",
      "array after subtraction:\n",
      " [[[36 36 36 36]\n",
      "  [36 36 36 36]\n",
      "  [36 36 36 36]]\n",
      "\n",
      " [[36 36 36 36]\n",
      "  [36 36 36 36]\n",
      "  [36 36 36 36]]\n",
      "\n",
      " [[36 36 36 36]\n",
      "  [36 36 36 36]\n",
      "  [36 36 36 36]]]\n"
     ]
    }
   ],
   "source": [
    "# subtraction of two arrays of multiple copies\n",
    "arr2d1=np.arange(36).reshape(3,3,4)\n",
    "print(\"arr1:\\n\",arr2d1,\"\\n\\n\")\n",
    "arr2d2=np.arange(36,72).reshape(3,3,4)\n",
    "print(\"arr2:\\n\",arr2d2,\"\\n\\n\")\n",
    "\n",
    "# subtraction of 2 arrays\n",
    "newArr=arr2d2-arr2d1\n",
    "print(\"array after subtraction:\\n\",newArr)"
   ]
  },
  {
   "cell_type": "code",
   "execution_count": 13,
   "id": "a09e15cf",
   "metadata": {},
   "outputs": [
    {
     "data": {
      "text/plain": [
       "20"
      ]
     },
     "execution_count": 13,
     "metadata": {},
     "output_type": "execute_result"
    }
   ],
   "source": [
    "# checking dimensions\n",
    "a=np.array([[[[[[[[[[[[[[[[[[[[23]]]]]]]]]]]]]]]]]]]])\n",
    "a.ndim"
   ]
  },
  {
   "cell_type": "code",
   "execution_count": 14,
   "id": "ad42b691",
   "metadata": {},
   "outputs": [
    {
     "name": "stdout",
     "output_type": "stream",
     "text": [
      "[ 0  5 10 15]\n",
      "[ 0  2  4  6  8 10 12 14 16 18]\n",
      "[ 1  3  5  7  9 11 13 15 17 19]\n",
      "[ 6  7  8  9 10 11 12 13 14]\n"
     ]
    }
   ],
   "source": [
    "# Numpy Boolean masking (used to filter arrays based on conditions)\n",
    "\n",
    "arr = np.array(range(20))\n",
    "print(arr[arr%5==0])\n",
    "\n",
    "print(arr[arr%2==0])\n",
    "\n",
    "print(arr[arr%2==1])\n",
    "\n",
    "print(arr[(arr>5) & (arr<15)])"
   ]
  },
  {
   "cell_type": "code",
   "execution_count": 15,
   "id": "d5b2cd35",
   "metadata": {},
   "outputs": [
    {
     "name": "stdout",
     "output_type": "stream",
     "text": [
      "[[ 0  1  2  3  4  5]\n",
      " [ 6  7  8  9 10 11]\n",
      " [12 13 14 15 16 17]\n",
      " [18 19 20 21 22 23]\n",
      " [24 25 26 27 28 29]\n",
      " [30 31 32 33 34 35]]\n"
     ]
    },
    {
     "data": {
      "text/plain": [
       "array([[ 0,  6, 12, 18, 24, 30],\n",
       "       [ 1,  7, 13, 19, 25, 31],\n",
       "       [ 2,  8, 14, 20, 26, 32],\n",
       "       [ 3,  9, 15, 21, 27, 33],\n",
       "       [ 4, 10, 16, 22, 28, 34],\n",
       "       [ 5, 11, 17, 23, 29, 35]])"
      ]
     },
     "execution_count": 15,
     "metadata": {},
     "output_type": "execute_result"
    }
   ],
   "source": [
    "# Taking transpose of an array\n",
    "arr2 = np.arange(36).reshape(6,6)\n",
    "print(arr2)\n",
    "arr2.T  # transpose"
   ]
  },
  {
   "cell_type": "code",
   "execution_count": 23,
   "id": "70b3f045",
   "metadata": {},
   "outputs": [
    {
     "name": "stdout",
     "output_type": "stream",
     "text": [
      "[ 1.67874051  2.19063249 -0.3503333   0.83863407  0.60893149  1.39916427\n",
      " -0.67044979 -0.36590393]\n",
      "[-2.72425106  0.51573146  0.15668054 -4.2023899  -1.23122282 -0.39470238\n",
      "  0.77762672  0.61065595]\n",
      "[1.67874051 2.19063249 0.15668054 0.83863407 0.60893149 1.39916427\n",
      " 0.77762672 0.61065595]\n"
     ]
    }
   ],
   "source": [
    "# comparing values of arrays and finding maximum from them\n",
    "# np.maximum() only accepts two arrays at a time, not three.\n",
    "\n",
    "x=np.random.randn(8)\n",
    "print(x)\n",
    "y=np.random.randn(8)\n",
    "print(y)\n",
    "\n",
    "max = np.maximum(x,y)\n",
    "print(max)"
   ]
  },
  {
   "cell_type": "code",
   "execution_count": 28,
   "id": "1cb1478a",
   "metadata": {},
   "outputs": [
    {
     "name": "stdout",
     "output_type": "stream",
     "text": [
      "[-0.53771449  0.1227311  -1.95313699 -2.35241506  0.18296071 -0.0931553\n",
      "  0.57703245  0.22714032]\n",
      "Franctional part:\n",
      " [-0.53771449  0.1227311  -0.95313699 -0.35241506  0.18296071 -0.0931553\n",
      "  0.57703245  0.22714032]\n",
      "whole part:\n",
      " [-0.  0. -1. -2.  0. -0.  0.  0.]\n"
     ]
    }
   ],
   "source": [
    "arr = np.random.randn(8)\n",
    "print(arr)\n",
    "\n",
    "# splitting fractional and whole part\n",
    "remainder, whole_part = np.modf(arr)\n",
    "print(\"Franctional part:\\n\",remainder)\n",
    "print(\"whole part:\\n\",whole_part)"
   ]
  },
  {
   "cell_type": "code",
   "execution_count": 18,
   "id": "ce5b60f0",
   "metadata": {},
   "outputs": [
    {
     "data": {
      "text/plain": [
       "(3,)"
      ]
     },
     "execution_count": 18,
     "metadata": {},
     "output_type": "execute_result"
    }
   ],
   "source": [
    "arr = np.array([2,3,4])  # only 3 elements, no columns and no rows\n",
    "arr.shape"
   ]
  },
  {
   "cell_type": "code",
   "execution_count": 19,
   "id": "a2f593f2",
   "metadata": {},
   "outputs": [
    {
     "name": "stdout",
     "output_type": "stream",
     "text": [
      "int64\n",
      "['1' '2' '3' '4']\n"
     ]
    }
   ],
   "source": [
    "# type casting\n",
    "numArr = np.array([1,2,3,4])\n",
    "print(numArr.dtype)\n",
    "strArr = numArr.astype(str)\n",
    "print(strArr)"
   ]
  }
 ],
 "metadata": {
  "kernelspec": {
   "display_name": "Python 3",
   "language": "python",
   "name": "python3"
  },
  "language_info": {
   "codemirror_mode": {
    "name": "ipython",
    "version": 3
   },
   "file_extension": ".py",
   "mimetype": "text/x-python",
   "name": "python",
   "nbconvert_exporter": "python",
   "pygments_lexer": "ipython3",
   "version": "3.13.2"
  }
 },
 "nbformat": 4,
 "nbformat_minor": 5
}
