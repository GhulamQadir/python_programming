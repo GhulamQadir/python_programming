{
 "cells": [
  {
   "cell_type": "code",
   "execution_count": 4,
   "id": "8208c9ca",
   "metadata": {},
   "outputs": [
    {
     "name": "stdout",
     "output_type": "stream",
     "text": [
      "[1 2 3 4] \n",
      "\n",
      "[0 1 2 3 4 5 6 7 8 9] \n",
      "\n",
      "[1 2 4 5 6]\n"
     ]
    }
   ],
   "source": [
    "import numpy as np\n",
    "\n",
    "# creating numpy array\n",
    "arr = np.array([1, 2, 3, 4])\n",
    "print(arr, \"\\n\")\n",
    "\n",
    "# creating array using numpy range\n",
    "int_arr = np.arange(10)\n",
    "print(int_arr, \"\\n\")\n",
    "\n",
    "intList = [1,2,4,5,6]\n",
    "numpPyArr = np.array(intList)  # converted normal python list into numpy array\n",
    "print(numpPyArr)"
   ]
  },
  {
   "cell_type": "code",
   "execution_count": null,
   "id": "b49d82e0",
   "metadata": {},
   "outputs": [
    {
     "name": "stdout",
     "output_type": "stream",
     "text": [
      "Cubic Array:  [ 1  8 27 64]\n"
     ]
    }
   ],
   "source": [
    "# converting numpy array directly to cubic array\n",
    "cubic_arr = arr**3\n",
    "print(\"Cubic Array: \", cubic_arr)"
   ]
  },
  {
   "cell_type": "code",
   "execution_count": null,
   "id": "371f21d5",
   "metadata": {},
   "outputs": [
    {
     "name": "stdout",
     "output_type": "stream",
     "text": [
      "[[0.71637308 0.76910472 0.01692254]\n",
      " [0.53588077 0.68588457 0.82309858]]\n",
      "\n",
      "Normally distributed random Numbers: \n",
      "[ 0.70749345  0.61618326 -0.42363888 -2.6918414 ]\n"
     ]
    }
   ],
   "source": [
    "# creating random numbers array\n",
    "random_arr = np.random.rand(2, 3)\n",
    "print(random_arr)\n",
    "\n",
    "# normally distributed random numbers\n",
    "rand_norm = np.random.randn(4)\n",
    "print(f\"\\nNormally distributed random Numbers: \\n{rand_norm}\")"
   ]
  },
  {
   "cell_type": "code",
   "execution_count": null,
   "id": "19af7898",
   "metadata": {},
   "outputs": [
    {
     "name": "stdout",
     "output_type": "stream",
     "text": [
      "Data type:  float64\n",
      "Length of an array:  6\n",
      "Dimesions:  1\n",
      "Shape:  (2, 3)\n"
     ]
    }
   ],
   "source": [
    "# checking data type\n",
    "print(\"Data type: \", random_arr.dtype)\n",
    "\n",
    "# checking length of array\n",
    "print(\"Length of an array: \", random_arr.size)\n",
    "\n",
    "# checking dimensions of array\n",
    "print(\"Dimesions: \", rand_norm.ndim)\n",
    "\n",
    "# checking shape of an array\n",
    "print(\"Shape: \", random_arr.shape)  # 2 rows and three columns"
   ]
  },
  {
   "cell_type": "code",
   "execution_count": null,
   "id": "8d05df01",
   "metadata": {},
   "outputs": [
    {
     "name": "stdout",
     "output_type": "stream",
     "text": [
      "[[[0.73142233 0.91808749 0.0335138  0.79665107 0.55446049]\n",
      "  [0.88439834 0.48774566 0.98463707 0.56460212 0.78133182]\n",
      "  [0.72682894 0.97293069 0.22620742 0.20951655 0.10466444]\n",
      "  [0.02589072 0.71911776 0.24311434 0.47365597 0.16531577]]\n",
      "\n",
      " [[0.30361119 0.37236804 0.30490419 0.4187637  0.91020878]\n",
      "  [0.83142551 0.65168533 0.66373971 0.24831624 0.33805717]\n",
      "  [0.88718536 0.7159548  0.91917041 0.7670191  0.39799738]\n",
      "  [0.83469042 0.6228763  0.0846629  0.27421244 0.29773282]]\n",
      "\n",
      " [[0.45150603 0.68061802 0.4371944  0.46339202 0.31157947]\n",
      "  [0.19011877 0.55254431 0.21713603 0.97167563 0.66658182]\n",
      "  [0.48400145 0.97377042 0.39644728 0.96404166 0.35171505]\n",
      "  [0.08371223 0.11543067 0.31683322 0.0108816  0.21650741]]]\n",
      "60\n"
     ]
    }
   ],
   "source": [
    "# creating 3d array\n",
    "# array of 4 rows, 5 columns, and 3 copies rand(copies, 4 rows, 5 columns)  --->> 3d array\n",
    "arr_3d = np.random.rand(3, 4, 5)\n",
    "print(arr_3d)\n",
    "print(arr_3d.size)"
   ]
  },
  {
   "cell_type": "code",
   "execution_count": null,
   "id": "dfd22b88",
   "metadata": {},
   "outputs": [
    {
     "name": "stdout",
     "output_type": "stream",
     "text": [
      "[[0. 0. 0. 0.]\n",
      " [0. 0. 0. 0.]\n",
      " [0. 0. 0. 0.]] \n",
      "\n",
      "[[[1 1 1 1 1]\n",
      "  [1 1 1 1 1]\n",
      "  [1 1 1 1 1]\n",
      "  [1 1 1 1 1]]\n",
      "\n",
      " [[1 1 1 1 1]\n",
      "  [1 1 1 1 1]\n",
      "  [1 1 1 1 1]\n",
      "  [1 1 1 1 1]]]\n"
     ]
    }
   ],
   "source": [
    "# creating zeros array\n",
    "zerosArr = np.zeros((3, 4))  # double parenthesis are for multi dimesional array. For single, use np.zeros(7)\n",
    "print(zerosArr,\"\\n\")\n",
    "\n",
    "# creating ones array\n",
    "onesArr = np.ones((2, 4, 5),dtype=int)\n",
    "print(onesArr)"
   ]
  },
  {
   "cell_type": "code",
   "execution_count": null,
   "id": "45c54f8f",
   "metadata": {},
   "outputs": [
    {
     "data": {
      "text/plain": [
       "array([[1, 0, 0, 0, 0],\n",
       "       [0, 1, 0, 0, 0],\n",
       "       [0, 0, 1, 0, 0],\n",
       "       [0, 0, 0, 1, 0],\n",
       "       [0, 0, 0, 0, 1]])"
      ]
     },
     "execution_count": 10,
     "metadata": {},
     "output_type": "execute_result"
    }
   ],
   "source": [
    "# creating identical matrix\n",
    "# np.eye(N, M=None, k=0, dtype=float)\n",
    "# N = Number of rows\n",
    "# M = Number of columns\n",
    "# k = 0, diagonal starting index\n",
    "\n",
    "identicalArr = np.eye(5, 5, dtype=int)\n",
    "identicalArr"
   ]
  },
  {
   "cell_type": "code",
   "execution_count": null,
   "id": "5c5d7533",
   "metadata": {},
   "outputs": [
    {
     "data": {
      "text/plain": [
       "array([[12, 12, 12, 12, 12],\n",
       "       [12, 12, 12, 12, 12],\n",
       "       [12, 12, 12, 12, 12],\n",
       "       [12, 12, 12, 12, 12]])"
      ]
     },
     "execution_count": 11,
     "metadata": {},
     "output_type": "execute_result"
    }
   ],
   "source": [
    "# multiplying ones array by any number\n",
    "multiples_arr = np.ones((4, 5),dtype=int) * 12\n",
    "multiples_arr"
   ]
  },
  {
   "cell_type": "code",
   "execution_count": null,
   "id": "2edfad6e",
   "metadata": {},
   "outputs": [
    {
     "data": {
      "text/plain": [
       "array([[7, 7, 7, 7, 7],\n",
       "       [7, 7, 7, 7, 7],\n",
       "       [7, 7, 7, 7, 7],\n",
       "       [7, 7, 7, 7, 7]])"
      ]
     },
     "execution_count": 12,
     "metadata": {},
     "output_type": "execute_result"
    }
   ],
   "source": [
    "# full method is used to create array of specific number\n",
    "x=7\n",
    "arr=np.full((4,5),x)\n",
    "arr\n"
   ]
  },
  {
   "cell_type": "code",
   "execution_count": null,
   "id": "c24458dc",
   "metadata": {},
   "outputs": [
    {
     "name": "stdout",
     "output_type": "stream",
     "text": [
      "[[ 0  1  2  3  4]\n",
      " [ 5  6  7  8  9]\n",
      " [10 11 12 13 14]\n",
      " [15 16 17 18 19]] \n",
      "\n",
      "[[20 21 22 23 24]\n",
      " [25 26 27 28 29]\n",
      " [30 31 32 33 34]\n",
      " [35 36 37 38 39]] \n",
      "\n",
      "array after addition:\n",
      " [[20 22 24 26 28]\n",
      " [30 32 34 36 38]\n",
      " [40 42 44 46 48]\n",
      " [50 52 54 56 58]]\n"
     ]
    }
   ],
   "source": [
    "arr2d1=np.arange(20).reshape(4,5)\n",
    "print(arr2d1,\"\\n\")\n",
    "arr2d2=np.arange(20,40).reshape(4,5)\n",
    "print(arr2d2,\"\\n\")\n",
    "\n",
    "# addition of 2 arrays\n",
    "newArr=arr2d1+arr2d2\n",
    "print(\"array after addition:\\n\",newArr)\n"
   ]
  },
  {
   "cell_type": "code",
   "execution_count": null,
   "id": "a9adec03",
   "metadata": {},
   "outputs": [
    {
     "name": "stdout",
     "output_type": "stream",
     "text": [
      "arr1:  [[[ 0  1  2  3]\n",
      "  [ 4  5  6  7]\n",
      "  [ 8  9 10 11]]\n",
      "\n",
      " [[12 13 14 15]\n",
      "  [16 17 18 19]\n",
      "  [20 21 22 23]]\n",
      "\n",
      " [[24 25 26 27]\n",
      "  [28 29 30 31]\n",
      "  [32 33 34 35]]] \n",
      "\n",
      "\n",
      "arr2:  [[[36 37 38 39]\n",
      "  [40 41 42 43]\n",
      "  [44 45 46 47]]\n",
      "\n",
      " [[48 49 50 51]\n",
      "  [52 53 54 55]\n",
      "  [56 57 58 59]]\n",
      "\n",
      " [[60 61 62 63]\n",
      "  [64 65 66 67]\n",
      "  [68 69 70 71]]] \n",
      "\n",
      "\n",
      "array after subtraction:\n",
      " [[[ 36  38  40  42]\n",
      "  [ 44  46  48  50]\n",
      "  [ 52  54  56  58]]\n",
      "\n",
      " [[ 60  62  64  66]\n",
      "  [ 68  70  72  74]\n",
      "  [ 76  78  80  82]]\n",
      "\n",
      " [[ 84  86  88  90]\n",
      "  [ 92  94  96  98]\n",
      "  [100 102 104 106]]]\n"
     ]
    }
   ],
   "source": [
    "# subtraction of two arrays of multiple copies\n",
    "arr2d1=np.arange(36).reshape(3,3,4)\n",
    "print(\"arr1: \",arr2d1,\"\\n\\n\")\n",
    "arr2d2=np.arange(36,72).reshape(3,3,4)\n",
    "print(\"arr2: \",arr2d2,\"\\n\\n\")\n",
    "\n",
    "# addition of 2 arrays\n",
    "newArr=arr2d1+arr2d2\n",
    "print(\"array after subtraction:\\n\",newArr)"
   ]
  },
  {
   "cell_type": "code",
   "execution_count": null,
   "id": "a09e15cf",
   "metadata": {},
   "outputs": [
    {
     "data": {
      "text/plain": [
       "20"
      ]
     },
     "execution_count": 18,
     "metadata": {},
     "output_type": "execute_result"
    }
   ],
   "source": [
    "# checking dimensions\n",
    "a=np.array([[[[[[[[[[[[[[[[[[[[23]]]]]]]]]]]]]]]]]]]])\n",
    "a.ndim"
   ]
  },
  {
   "cell_type": "code",
   "execution_count": 3,
   "id": "ad42b691",
   "metadata": {},
   "outputs": [
    {
     "name": "stdout",
     "output_type": "stream",
     "text": [
      "[ 0  5 10 15]\n",
      "[ 0  2  4  6  8 10 12 14 16 18]\n",
      "[ 1  3  5  7  9 11 13 15 17 19]\n",
      "[ 6  7  8  9 10 11 12 13 14]\n"
     ]
    }
   ],
   "source": [
    "# Numpy Boolean masking (used to filter arrays based on conditions)\n",
    "\n",
    "arr = np.array(range(20))\n",
    "print(arr[arr%5==0])\n",
    "\n",
    "print(arr[arr%2==0])\n",
    "\n",
    "print(arr[arr%2==1])\n",
    "\n",
    "print(arr[(arr>5) & (arr<15)])"
   ]
  },
  {
   "cell_type": "code",
   "execution_count": null,
   "id": "d5b2cd35",
   "metadata": {},
   "outputs": [
    {
     "name": "stdout",
     "output_type": "stream",
     "text": [
      "[[ 0  1  2  3  4  5]\n",
      " [ 6  7  8  9 10 11]\n",
      " [12 13 14 15 16 17]\n",
      " [18 19 20 21 22 23]\n",
      " [24 25 26 27 28 29]\n",
      " [30 31 32 33 34 35]]\n"
     ]
    },
    {
     "data": {
      "text/plain": [
       "array([[ 0,  6, 12, 18, 24, 30],\n",
       "       [ 1,  7, 13, 19, 25, 31],\n",
       "       [ 2,  8, 14, 20, 26, 32],\n",
       "       [ 3,  9, 15, 21, 27, 33],\n",
       "       [ 4, 10, 16, 22, 28, 34],\n",
       "       [ 5, 11, 17, 23, 29, 35]])"
      ]
     },
     "execution_count": 20,
     "metadata": {},
     "output_type": "execute_result"
    }
   ],
   "source": [
    "# Taking transpose of an array\n",
    "arr2 = np.arange(36).reshape(6,6)\n",
    "print(arr2)\n",
    "arr2.T  # transpose"
   ]
  },
  {
   "cell_type": "code",
   "execution_count": null,
   "id": "70b3f045",
   "metadata": {},
   "outputs": [
    {
     "name": "stdout",
     "output_type": "stream",
     "text": [
      "[-0.75148771 -1.15363222 -0.31860309 -0.80128954 -0.1568895   0.82008572\n",
      "  1.93126422  0.71883688]\n",
      "[ 1.07845822  0.65366366  0.98505977  0.74778267 -0.91346183  0.02805946\n",
      "  0.23647857  0.65405236]\n",
      "[ 0.58712584  0.57490885 -0.9734269   0.71682855  0.73842514  0.30202106\n",
      " -0.13149245  0.20931604]\n",
      "[ 1.07845822  0.65366366  0.98505977  0.74778267 -0.1568895   0.82008572\n",
      "  1.93126422  0.71883688]\n"
     ]
    }
   ],
   "source": [
    "# comparing values of arrays and finding maximum from them\n",
    "x=np.random.randn(8)\n",
    "print(x)\n",
    "y=np.random.randn(8)\n",
    "print(y)\n",
    "z=np.random.randn(8)\n",
    "print(z)\n",
    "max = np.maximum(x,y,z)\n",
    "print(max)"
   ]
  },
  {
   "cell_type": "code",
   "execution_count": null,
   "id": "1cb1478a",
   "metadata": {},
   "outputs": [
    {
     "name": "stdout",
     "output_type": "stream",
     "text": [
      "[ 0.04550496  0.42152054 -1.94577288  0.06182088 -0.39062682  1.11999623\n",
      " -0.03816892  0.72445096]\n",
      "[ 0.04550496  0.42152054 -0.94577288  0.06182088 -0.39062682  0.11999623\n",
      " -0.03816892  0.72445096]\n",
      "[ 0.  0. -1.  0. -0.  1. -0.  0.]\n",
      "(array([ 0.04550496,  0.42152054, -0.94577288,  0.06182088, -0.39062682,\n",
      "        0.11999623, -0.03816892,  0.72445096]), array([ 0.,  0., -1.,  0., -0.,  1., -0.,  0.]))\n"
     ]
    }
   ],
   "source": [
    "arr = np.random.randn(8)\n",
    "print(arr)\n",
    "\n",
    "# splitting fractional and whole part\n",
    "remainder, whole_part = np.modf(arr)\n",
    "print(remainder)\n",
    "print(whole_part)\n",
    "\n",
    "# assigning both remainder and whole part in a single variable\n",
    "whole_part=np.modf(arr)\n",
    "print(whole_part)"
   ]
  },
  {
   "cell_type": "code",
   "execution_count": null,
   "id": "ce5b60f0",
   "metadata": {},
   "outputs": [
    {
     "data": {
      "text/plain": [
       "(3,)"
      ]
     },
     "execution_count": 28,
     "metadata": {},
     "output_type": "execute_result"
    }
   ],
   "source": [
    "arr = np.array([2,3,4])  # only 3 elements, no columns and no rows\n",
    "arr.shape"
   ]
  },
  {
   "cell_type": "code",
   "execution_count": null,
   "id": "a2f593f2",
   "metadata": {},
   "outputs": [
    {
     "name": "stdout",
     "output_type": "stream",
     "text": [
      "int64\n",
      "['1' '2' '3' '4']\n"
     ]
    }
   ],
   "source": [
    "# type casting\n",
    "numArr = np.array([1,2,3,4])\n",
    "print(numArr.dtype)\n",
    "strArr = numArr.astype(str)\n",
    "print(strArr)"
   ]
  }
 ],
 "metadata": {
  "kernelspec": {
   "display_name": "Python 3",
   "language": "python",
   "name": "python3"
  },
  "language_info": {
   "codemirror_mode": {
    "name": "ipython",
    "version": 3
   },
   "file_extension": ".py",
   "mimetype": "text/x-python",
   "name": "python",
   "nbconvert_exporter": "python",
   "pygments_lexer": "ipython3",
   "version": "3.13.2"
  }
 },
 "nbformat": 4,
 "nbformat_minor": 5
}
