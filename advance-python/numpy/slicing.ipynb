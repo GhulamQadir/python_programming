{
 "cells": [
  {
   "cell_type": "code",
   "execution_count": 44,
   "id": "5d3543a7",
   "metadata": {},
   "outputs": [],
   "source": [
    "import numpy as np"
   ]
  },
  {
   "cell_type": "markdown",
   "id": "c30d2340",
   "metadata": {},
   "source": [
    "# **General Syntax**\n",
    "- array[row_start : row_stop : row_step, col_start : col_stop : col_step]"
   ]
  },
  {
   "cell_type": "code",
   "execution_count": 45,
   "id": "d6c073cd",
   "metadata": {},
   "outputs": [
    {
     "name": "stdout",
     "output_type": "stream",
     "text": [
      "4\n",
      "[3 4 5]\n",
      "3\n",
      "[1 2 3 4 5]\n",
      "[7 6 5 4 3 2 1]\n"
     ]
    }
   ],
   "source": [
    "arr=np.array([1,2,3,4,5,6,7])\n",
    "print(arr[3])\n",
    "print(arr[2:5])\n",
    "print(arr[-5])\n",
    "print(arr[:-2])\n",
    "print(arr[::-1])  # reversed array"
   ]
  },
  {
   "cell_type": "code",
   "execution_count": 46,
   "id": "a4760b7c",
   "metadata": {},
   "outputs": [
    {
     "name": "stdout",
     "output_type": "stream",
     "text": [
      "[[ 0  1  2  3  4]\n",
      " [ 5  6  7  8  9]\n",
      " [10 11 12 13 14]\n",
      " [15 16 17 18 19]] \n",
      "\n",
      "[[ 6  7  8]\n",
      " [11 12 13]]\n"
     ]
    },
    {
     "data": {
      "text/plain": [
       "array([12, 13])"
      ]
     },
     "execution_count": 46,
     "metadata": {},
     "output_type": "execute_result"
    }
   ],
   "source": [
    "# 2d slicing\n",
    "arr2d=np.arange(20).reshape(4,5)\n",
    "print(arr2d,\"\\n\")\n",
    "\n",
    "slicedArr = arr2d[1:3,1:4]  # rows 1 and 2, columns 1,2 and 3\n",
    "print(slicedArr)\n",
    "arr2d[2,2:4]  # 2nd row, columns 2 and 3"
   ]
  },
  {
   "cell_type": "markdown",
   "id": "f9fc2cda",
   "metadata": {},
   "source": [
    "## **New Array**"
   ]
  },
  {
   "cell_type": "code",
   "execution_count": 47,
   "id": "466fd10d",
   "metadata": {},
   "outputs": [
    {
     "name": "stdout",
     "output_type": "stream",
     "text": [
      "[[ 0  1  2  3  4  5  6  7]\n",
      " [ 8  9 10 11 12 13 14 15]\n",
      " [16 17 18 19 20 21 22 23]\n",
      " [24 25 26 27 28 29 30 31]\n",
      " [32 33 34 35 36 37 38 39]\n",
      " [40 41 42 43 44 45 46 47]\n",
      " [48 49 50 51 52 53 54 55]\n",
      " [56 57 58 59 60 61 62 63]]\n"
     ]
    }
   ],
   "source": [
    "arr2d_new = np.arange(64).reshape(8,8)\n",
    "print(arr2d_new)"
   ]
  },
  {
   "cell_type": "code",
   "execution_count": 48,
   "id": "233882bc",
   "metadata": {},
   "outputs": [
    {
     "name": "stdout",
     "output_type": "stream",
     "text": [
      "[[35 36 37 38]\n",
      " [43 44 45 46]\n",
      " [51 52 53 54]]\n"
     ]
    }
   ],
   "source": [
    "print(arr2d_new[4:7, 3:7])"
   ]
  },
  {
   "cell_type": "code",
   "execution_count": 49,
   "id": "01fea147",
   "metadata": {},
   "outputs": [
    {
     "name": "stdout",
     "output_type": "stream",
     "text": [
      "[32 33 34 35 36 37 38 39]\n",
      "[[32 33 34 35 36 37 38 39]]\n"
     ]
    }
   ],
   "source": [
    "print(arr2d_new[4,:])  # All columns of 4th row\n",
    "print(arr2d_new[4:5,:]) # same result but in 2d array"
   ]
  },
  {
   "cell_type": "code",
   "execution_count": 50,
   "id": "88c22862",
   "metadata": {},
   "outputs": [
    {
     "name": "stdout",
     "output_type": "stream",
     "text": [
      "[ 5 13 21 29 37 45 53 61]\n",
      "[[ 5]\n",
      " [13]\n",
      " [21]\n",
      " [29]\n",
      " [37]\n",
      " [45]\n",
      " [53]\n",
      " [61]]\n"
     ]
    }
   ],
   "source": [
    "print(arr2d_new[:,5])  # 5th column of all rows\n",
    "print(arr2d_new[:,5:6]) # Same result but in 2d"
   ]
  },
  {
   "cell_type": "code",
   "execution_count": 51,
   "id": "968bf781",
   "metadata": {},
   "outputs": [
    {
     "name": "stdout",
     "output_type": "stream",
     "text": [
      "[[ 0  1  2  3  4  5  6  7]\n",
      " [16 17 18 19 20 21 22 23]\n",
      " [32 33 34 35 36 37 38 39]\n",
      " [48 49 50 51 52 53 54 55]]\n"
     ]
    }
   ],
   "source": [
    "print(arr2d_new[::2]) # every 2nd row, starting from the first row (index 0)."
   ]
  },
  {
   "cell_type": "code",
   "execution_count": 52,
   "id": "94a110c9",
   "metadata": {},
   "outputs": [
    {
     "name": "stdout",
     "output_type": "stream",
     "text": [
      "[[56 57 58 59 60 61 62 63]\n",
      " [40 41 42 43 44 45 46 47]\n",
      " [24 25 26 27 28 29 30 31]\n",
      " [ 8  9 10 11 12 13 14 15]]\n"
     ]
    }
   ],
   "source": [
    "print(arr2d_new[::-2]) # every second row starting from second last "
   ]
  },
  {
   "cell_type": "code",
   "execution_count": 53,
   "id": "1c9b618b",
   "metadata": {},
   "outputs": [
    {
     "name": "stdout",
     "output_type": "stream",
     "text": [
      "[[ 0  2  4  6]\n",
      " [ 8 10 12 14]\n",
      " [16 18 20 22]\n",
      " [24 26 28 30]\n",
      " [32 34 36 38]\n",
      " [40 42 44 46]\n",
      " [48 50 52 54]\n",
      " [56 58 60 62]]\n"
     ]
    }
   ],
   "source": [
    "print(arr2d_new[:,::2])  # every second column of each row"
   ]
  },
  {
   "cell_type": "code",
   "execution_count": 54,
   "id": "268d077e",
   "metadata": {},
   "outputs": [
    {
     "name": "stdout",
     "output_type": "stream",
     "text": [
      "[[ 0  2  4  6]\n",
      " [16 18 20 22]\n",
      " [32 34 36 38]\n",
      " [48 50 52 54]]\n"
     ]
    }
   ],
   "source": [
    "print(arr2d_new[::2,::2]) # every second row and every second column"
   ]
  },
  {
   "cell_type": "code",
   "execution_count": 55,
   "id": "2be8ca67",
   "metadata": {},
   "outputs": [
    {
     "name": "stdout",
     "output_type": "stream",
     "text": [
      "[[33 36]\n",
      " [49 52]]\n"
     ]
    }
   ],
   "source": [
    "print(arr2d_new[4:8:2, 1:7:3]) # every third row between 4 to 8 and every third column between 1 to 7"
   ]
  },
  {
   "cell_type": "code",
   "execution_count": 56,
   "id": "b8d198a2",
   "metadata": {},
   "outputs": [
    {
     "name": "stdout",
     "output_type": "stream",
     "text": [
      "44\n",
      "[[44]]\n"
     ]
    }
   ],
   "source": [
    "print(arr2d_new[5,4])  # fifth row, 4th column\n",
    "print(arr2d_new[5:6,4:5])  # Same result but in 2d"
   ]
  },
  {
   "cell_type": "markdown",
   "id": "850ff2bb",
   "metadata": {},
   "source": [
    "## **Fancy Indexing**\n",
    "### Selecting multiple elements at once"
   ]
  },
  {
   "cell_type": "code",
   "execution_count": 57,
   "id": "23d95fe9",
   "metadata": {},
   "outputs": [
    {
     "name": "stdout",
     "output_type": "stream",
     "text": [
      "[3 7 4]\n"
     ]
    }
   ],
   "source": [
    "fancy_arr = np.array([2,3,1,4,6,7])\n",
    "\n",
    "print(fancy_arr[[1,5,3]])"
   ]
  },
  {
   "cell_type": "code",
   "execution_count": 58,
   "id": "6df9ca7a",
   "metadata": {},
   "outputs": [
    {
     "name": "stdout",
     "output_type": "stream",
     "text": [
      "[[21 22 23 24 25]\n",
      " [26 27 28 29 30]\n",
      " [31 32 33 34 35]\n",
      " [36 37 38 39 40]]\n"
     ]
    }
   ],
   "source": [
    "# fancy indexing on 2d array\n",
    "fancy_2d_arr = np.arange(21,41).reshape(4,5)\n",
    "print(fancy_2d_arr)"
   ]
  },
  {
   "cell_type": "code",
   "execution_count": null,
   "id": "1a3b3c26",
   "metadata": {},
   "outputs": [
    {
     "name": "stdout",
     "output_type": "stream",
     "text": [
      "[[36 37 38 39 40]\n",
      " [26 27 28 29 30]]\n"
     ]
    }
   ],
   "source": [
    "# specific rows: row 1 and 3\n",
    "print(fancy_2d_arr[[1,3]])  "
   ]
  },
  {
   "cell_type": "code",
   "execution_count": null,
   "id": "12a8f5e2",
   "metadata": {},
   "outputs": [
    {
     "name": "stdout",
     "output_type": "stream",
     "text": [
      "[[23 21]\n",
      " [28 26]\n",
      " [33 31]\n",
      " [38 36]]\n"
     ]
    }
   ],
   "source": [
    "# Fancy index columns only\n",
    "print(fancy_2d_arr[:, [2,0]])  # all rows and columns 2 and 0"
   ]
  },
  {
   "cell_type": "code",
   "execution_count": 67,
   "id": "d7bb0a8f",
   "metadata": {},
   "outputs": [
    {
     "name": "stdout",
     "output_type": "stream",
     "text": [
      "[38 30 21]\n"
     ]
    }
   ],
   "source": [
    "# Fancy index specific (row,column) pairs\n",
    "print(fancy_2d_arr[[3,1,0],[2,4,0]])\n",
    "\n",
    "# First array: rows [3,1,0]\n",
    "# Second array: columns [2,4,0]\n",
    "# It picks: (3,2), (1,4), (0,0)"
   ]
  }
 ],
 "metadata": {
  "kernelspec": {
   "display_name": "Python 3",
   "language": "python",
   "name": "python3"
  },
  "language_info": {
   "codemirror_mode": {
    "name": "ipython",
    "version": 3
   },
   "file_extension": ".py",
   "mimetype": "text/x-python",
   "name": "python",
   "nbconvert_exporter": "python",
   "pygments_lexer": "ipython3",
   "version": "3.13.2"
  }
 },
 "nbformat": 4,
 "nbformat_minor": 5
}
