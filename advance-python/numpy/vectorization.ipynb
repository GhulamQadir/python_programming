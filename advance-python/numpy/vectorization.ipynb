{
 "cells": [
  {
   "cell_type": "markdown",
   "id": "569ceac1",
   "metadata": {},
   "source": [
    "# *Vectorization*\n",
    "#### - Vectorization in NumPy refers to the process of replacing explicit loops with array operations that are internally implemented in C (compiled code), making them much faster and more concise.\n",
    "- It operates on an entire array\n",
    "- 100x faster than python lists"
   ]
  },
  {
   "cell_type": "code",
   "execution_count": 1,
   "id": "5eef241c",
   "metadata": {},
   "outputs": [],
   "source": [
    "import numpy as np"
   ]
  },
  {
   "cell_type": "code",
   "execution_count": null,
   "id": "5c449c47",
   "metadata": {},
   "outputs": [
    {
     "data": {
      "text/plain": [
       "[7, 21, 9, 56, 100]"
      ]
     },
     "execution_count": 8,
     "metadata": {},
     "output_type": "execute_result"
    }
   ],
   "source": [
    "arr1 = np.array[3,2,7,5,9]\n",
    "arr2 = [4,19,2,51,91]\n",
    "addition_arr = []\n",
    "for a,b in zip(arr1, arr2):\n",
    "    addition_arr.append(a+b)\n",
    "addition_arr"
   ]
  },
  {
   "cell_type": "markdown",
   "id": "fefe05f3",
   "metadata": {},
   "source": [
    "## Using Vectorization"
   ]
  },
  {
   "cell_type": "code",
   "execution_count": 10,
   "id": "e7e2f998",
   "metadata": {},
   "outputs": [
    {
     "data": {
      "text/plain": [
       "array([  7,  21,   9,  56, 100])"
      ]
     },
     "execution_count": 10,
     "metadata": {},
     "output_type": "execute_result"
    }
   ],
   "source": [
    "addition_arr = np.array(arr1) + np.array(arr2)\n",
    "addition_arr"
   ]
  },
  {
   "cell_type": "code",
   "execution_count": 13,
   "id": "805fb88d",
   "metadata": {},
   "outputs": [
    {
     "data": {
      "text/plain": [
       "array([ 27,   8, 343, 125, 729])"
      ]
     },
     "execution_count": 13,
     "metadata": {},
     "output_type": "execute_result"
    }
   ],
   "source": [
    "cubes_arr = np.array(arr1) ** 3\n",
    "cubes_arr"
   ]
  }
 ],
 "metadata": {
  "kernelspec": {
   "display_name": "Python 3",
   "language": "python",
   "name": "python3"
  },
  "language_info": {
   "codemirror_mode": {
    "name": "ipython",
    "version": 3
   },
   "file_extension": ".py",
   "mimetype": "text/x-python",
   "name": "python",
   "nbconvert_exporter": "python",
   "pygments_lexer": "ipython3",
   "version": "3.13.2"
  }
 },
 "nbformat": 4,
 "nbformat_minor": 5
}
