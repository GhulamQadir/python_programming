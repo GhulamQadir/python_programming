{
 "cells": [
  {
   "cell_type": "markdown",
   "id": "0f1da769",
   "metadata": {},
   "source": [
    "# **Grouping:**\n",
    "- Grouping in pandas means splitting the data into groups based on some criteria (like column values), and then performing operations like sum, mean, count, etc., on each group.\n",
    "- It’s similar to SQL’s GROUP BY.\n",
    "\n",
    "#### **Basic Concept:**\n",
    "- The grouping process follows these steps:\n",
    "1. Split the data into groups\n",
    "2. Apply a function to each group (e.g., sum, mean)\n",
    "3. Combine the results"
   ]
  },
  {
   "cell_type": "code",
   "execution_count": 1,
   "id": "04dc6ff3",
   "metadata": {},
   "outputs": [
    {
     "data": {
      "text/html": [
       "<div>\n",
       "<style scoped>\n",
       "    .dataframe tbody tr th:only-of-type {\n",
       "        vertical-align: middle;\n",
       "    }\n",
       "\n",
       "    .dataframe tbody tr th {\n",
       "        vertical-align: top;\n",
       "    }\n",
       "\n",
       "    .dataframe thead th {\n",
       "        text-align: right;\n",
       "    }\n",
       "</style>\n",
       "<table border=\"1\" class=\"dataframe\">\n",
       "  <thead>\n",
       "    <tr style=\"text-align: right;\">\n",
       "      <th></th>\n",
       "      <th>Serial</th>\n",
       "      <th>Emp_ID</th>\n",
       "      <th>Designation</th>\n",
       "      <th>Department</th>\n",
       "      <th>Age</th>\n",
       "      <th>Salary</th>\n",
       "    </tr>\n",
       "  </thead>\n",
       "  <tbody>\n",
       "    <tr>\n",
       "      <th>0</th>\n",
       "      <td>1</td>\n",
       "      <td>1101</td>\n",
       "      <td>Manager</td>\n",
       "      <td>Accounts</td>\n",
       "      <td>50.0</td>\n",
       "      <td>200000.0</td>\n",
       "    </tr>\n",
       "    <tr>\n",
       "      <th>1</th>\n",
       "      <td>2</td>\n",
       "      <td>1107</td>\n",
       "      <td>Officer</td>\n",
       "      <td>IT</td>\n",
       "      <td>30.0</td>\n",
       "      <td>80000.0</td>\n",
       "    </tr>\n",
       "    <tr>\n",
       "      <th>2</th>\n",
       "      <td>3</td>\n",
       "      <td>1203</td>\n",
       "      <td>Officer</td>\n",
       "      <td>HR</td>\n",
       "      <td>28.0</td>\n",
       "      <td>NaN</td>\n",
       "    </tr>\n",
       "    <tr>\n",
       "      <th>3</th>\n",
       "      <td>4</td>\n",
       "      <td>1005</td>\n",
       "      <td>Manager</td>\n",
       "      <td>HR</td>\n",
       "      <td>45.0</td>\n",
       "      <td>120000.0</td>\n",
       "    </tr>\n",
       "    <tr>\n",
       "      <th>4</th>\n",
       "      <td>5</td>\n",
       "      <td>2123</td>\n",
       "      <td>Office Boy</td>\n",
       "      <td>Accounts</td>\n",
       "      <td>27.0</td>\n",
       "      <td>45000.0</td>\n",
       "    </tr>\n",
       "  </tbody>\n",
       "</table>\n",
       "</div>"
      ],
      "text/plain": [
       "   Serial  Emp_ID Designation Department   Age    Salary\n",
       "0       1    1101     Manager   Accounts  50.0  200000.0\n",
       "1       2    1107     Officer         IT  30.0   80000.0\n",
       "2       3    1203     Officer         HR  28.0       NaN\n",
       "3       4    1005     Manager         HR  45.0  120000.0\n",
       "4       5    2123  Office Boy   Accounts  27.0   45000.0"
      ]
     },
     "execution_count": 1,
     "metadata": {},
     "output_type": "execute_result"
    }
   ],
   "source": [
    "import pandas as pd\n",
    "\n",
    "data = pd.read_excel(\"files/employee.xlsx\")\n",
    "\n",
    "data.head()"
   ]
  },
  {
   "cell_type": "markdown",
   "id": "8416d011",
   "metadata": {},
   "source": [
    "### **Group by a single column**\n",
    "**Syntax:** data.groupby('column_to_make_groups')['Column_to_Calculate'].calculationFunction()"
   ]
  },
  {
   "cell_type": "code",
   "execution_count": 4,
   "id": "81215b65",
   "metadata": {},
   "outputs": [
    {
     "data": {
      "text/plain": [
       "Department\n",
       "Account       123000.0\n",
       "Accounts      100000.0\n",
       "HR            120000.0\n",
       "IT             86250.0\n",
       "Production     91750.0\n",
       "Name: Salary, dtype: float64"
      ]
     },
     "execution_count": 4,
     "metadata": {},
     "output_type": "execute_result"
    }
   ],
   "source": [
    "# Group by department and find average salary\n",
    "grouped = data.groupby(\"Department\")[\"Salary\"].mean() \n",
    "grouped"
   ]
  },
  {
   "cell_type": "markdown",
   "id": "03bf15e6",
   "metadata": {},
   "source": [
    "### **Group by multiple columns:**\n",
    "**Syntax:** data.groupby(['column1', 'column2'])['Column_to_Calculate'].calculationFunction()"
   ]
  },
  {
   "cell_type": "code",
   "execution_count": 10,
   "id": "dba18ba5",
   "metadata": {},
   "outputs": [
    {
     "data": {
      "text/plain": [
       "Age   Department\n",
       "23.0  IT                 0.0\n",
       "25.0  IT            175000.0\n",
       "27.0  Accounts       90000.0\n",
       "28.0  HR                 0.0\n",
       "29.0  Production    100000.0\n",
       "30.0  IT             80000.0\n",
       "31.0  IT             90000.0\n",
       "45.0  HR            120000.0\n",
       "      Production    267000.0\n",
       "49.0  Account       123000.0\n",
       "50.0  Accounts      200000.0\n",
       "Name: Salary, dtype: float64"
      ]
     },
     "execution_count": 10,
     "metadata": {},
     "output_type": "execute_result"
    }
   ],
   "source": [
    "# Group by age, department, and find the sum of salaries\n",
    "group_by_age_designation = data.groupby([\"Age\",\"Department\"])[\"Salary\"].sum()\n",
    "group_by_age_designation"
   ]
  },
  {
   "cell_type": "code",
   "execution_count": 8,
   "id": "9baef5c6",
   "metadata": {},
   "outputs": [
    {
     "data": {
      "text/plain": [
       "Department  Designation\n",
       "Account     Accountant     123000.0\n",
       "Accounts    Accountant     110000.0\n",
       "            Manager        200000.0\n",
       "            Office Boy      45000.0\n",
       "HR          Manager        120000.0\n",
       "            Officer             NaN\n",
       "IT          Manager             NaN\n",
       "            Officer        100000.0\n",
       "Production  Engineer        89000.0\n",
       "            Officer        100000.0\n",
       "Name: Salary, dtype: float64"
      ]
     },
     "execution_count": 8,
     "metadata": {},
     "output_type": "execute_result"
    }
   ],
   "source": [
    "# Group by designation, department, and find max salaries\n",
    "group_by_designation_department = data.groupby([\"Department\",\"Designation\"])[\"Salary\"].max()\n",
    "group_by_designation_department"
   ]
  }
 ],
 "metadata": {
  "kernelspec": {
   "display_name": "Python 3",
   "language": "python",
   "name": "python3"
  },
  "language_info": {
   "codemirror_mode": {
    "name": "ipython",
    "version": 3
   },
   "file_extension": ".py",
   "mimetype": "text/x-python",
   "name": "python",
   "nbconvert_exporter": "python",
   "pygments_lexer": "ipython3",
   "version": "3.13.2"
  }
 },
 "nbformat": 4,
 "nbformat_minor": 5
}
