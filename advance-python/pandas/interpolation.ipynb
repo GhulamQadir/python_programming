{
 "cells": [
  {
   "cell_type": "markdown",
   "id": "3cfb57c9",
   "metadata": {},
   "source": [
    "# **Interpolation:**\n",
    "- Interpolation is a method used to fill missing values (NaN) in a DataFrame or Series by estimating them based on other data points.<br><br>\n",
    "**Common Use:**\n",
    "- When you have missing values in a time series or numeric dataset and want to guess or estimate them based on nearby values.<br><br>\n",
    "**How it works:**\n",
    "- Pandas looks at the known values before and after the missing one and fills it based on a linear pattern by default.<br><br>\n",
    "## **Usage:**\n",
    "1. Time-Series data\n",
    "2. Numeric data with trends\n",
    "3. Avoid dropping rows"
   ]
  },
  {
   "cell_type": "code",
   "execution_count": 1,
   "id": "77e0d357",
   "metadata": {},
   "outputs": [
    {
     "data": {
      "text/html": [
       "<div>\n",
       "<style scoped>\n",
       "    .dataframe tbody tr th:only-of-type {\n",
       "        vertical-align: middle;\n",
       "    }\n",
       "\n",
       "    .dataframe tbody tr th {\n",
       "        vertical-align: top;\n",
       "    }\n",
       "\n",
       "    .dataframe thead th {\n",
       "        text-align: right;\n",
       "    }\n",
       "</style>\n",
       "<table border=\"1\" class=\"dataframe\">\n",
       "  <thead>\n",
       "    <tr style=\"text-align: right;\">\n",
       "      <th></th>\n",
       "      <th>Serial</th>\n",
       "      <th>Emp_ID</th>\n",
       "      <th>Designation</th>\n",
       "      <th>Department</th>\n",
       "      <th>Age</th>\n",
       "      <th>Salary</th>\n",
       "    </tr>\n",
       "  </thead>\n",
       "  <tbody>\n",
       "    <tr>\n",
       "      <th>0</th>\n",
       "      <td>1</td>\n",
       "      <td>1101</td>\n",
       "      <td>Manager</td>\n",
       "      <td>Accounts</td>\n",
       "      <td>50.0</td>\n",
       "      <td>200000.0</td>\n",
       "    </tr>\n",
       "    <tr>\n",
       "      <th>1</th>\n",
       "      <td>2</td>\n",
       "      <td>1107</td>\n",
       "      <td>Officer</td>\n",
       "      <td>IT</td>\n",
       "      <td>30.0</td>\n",
       "      <td>80000.0</td>\n",
       "    </tr>\n",
       "    <tr>\n",
       "      <th>2</th>\n",
       "      <td>3</td>\n",
       "      <td>1203</td>\n",
       "      <td>Officer</td>\n",
       "      <td>HR</td>\n",
       "      <td>28.0</td>\n",
       "      <td>NaN</td>\n",
       "    </tr>\n",
       "    <tr>\n",
       "      <th>3</th>\n",
       "      <td>4</td>\n",
       "      <td>1005</td>\n",
       "      <td>Manager</td>\n",
       "      <td>HR</td>\n",
       "      <td>45.0</td>\n",
       "      <td>120000.0</td>\n",
       "    </tr>\n",
       "    <tr>\n",
       "      <th>4</th>\n",
       "      <td>5</td>\n",
       "      <td>2123</td>\n",
       "      <td>Office Boy</td>\n",
       "      <td>Accounts</td>\n",
       "      <td>27.0</td>\n",
       "      <td>45000.0</td>\n",
       "    </tr>\n",
       "    <tr>\n",
       "      <th>5</th>\n",
       "      <td>6</td>\n",
       "      <td>2451</td>\n",
       "      <td>Accountant</td>\n",
       "      <td>NaN</td>\n",
       "      <td>34.0</td>\n",
       "      <td>100000.0</td>\n",
       "    </tr>\n",
       "    <tr>\n",
       "      <th>6</th>\n",
       "      <td>7</td>\n",
       "      <td>1111</td>\n",
       "      <td>Accountant</td>\n",
       "      <td>Accounts</td>\n",
       "      <td>NaN</td>\n",
       "      <td>110000.0</td>\n",
       "    </tr>\n",
       "    <tr>\n",
       "      <th>7</th>\n",
       "      <td>8</td>\n",
       "      <td>1001</td>\n",
       "      <td>Officer</td>\n",
       "      <td>IT</td>\n",
       "      <td>25.0</td>\n",
       "      <td>75000.0</td>\n",
       "    </tr>\n",
       "    <tr>\n",
       "      <th>8</th>\n",
       "      <td>9</td>\n",
       "      <td>1234</td>\n",
       "      <td>Manager</td>\n",
       "      <td>IT</td>\n",
       "      <td>23.0</td>\n",
       "      <td>NaN</td>\n",
       "    </tr>\n",
       "    <tr>\n",
       "      <th>9</th>\n",
       "      <td>10</td>\n",
       "      <td>2156</td>\n",
       "      <td>Engineer</td>\n",
       "      <td>Production</td>\n",
       "      <td>45.0</td>\n",
       "      <td>89000.0</td>\n",
       "    </tr>\n",
       "    <tr>\n",
       "      <th>10</th>\n",
       "      <td>11</td>\n",
       "      <td>6543</td>\n",
       "      <td>Officer</td>\n",
       "      <td>Production</td>\n",
       "      <td>29.0</td>\n",
       "      <td>100000.0</td>\n",
       "    </tr>\n",
       "    <tr>\n",
       "      <th>11</th>\n",
       "      <td>12</td>\n",
       "      <td>3214</td>\n",
       "      <td>Accountant</td>\n",
       "      <td>Account</td>\n",
       "      <td>49.0</td>\n",
       "      <td>123000.0</td>\n",
       "    </tr>\n",
       "    <tr>\n",
       "      <th>12</th>\n",
       "      <td>13</td>\n",
       "      <td>2156</td>\n",
       "      <td>Engineer</td>\n",
       "      <td>Production</td>\n",
       "      <td>45.0</td>\n",
       "      <td>89000.0</td>\n",
       "    </tr>\n",
       "    <tr>\n",
       "      <th>13</th>\n",
       "      <td>14</td>\n",
       "      <td>1098</td>\n",
       "      <td>Officer</td>\n",
       "      <td>IT</td>\n",
       "      <td>25.0</td>\n",
       "      <td>100000.0</td>\n",
       "    </tr>\n",
       "    <tr>\n",
       "      <th>14</th>\n",
       "      <td>15</td>\n",
       "      <td>2912</td>\n",
       "      <td>Officer</td>\n",
       "      <td>IT</td>\n",
       "      <td>31.0</td>\n",
       "      <td>90000.0</td>\n",
       "    </tr>\n",
       "    <tr>\n",
       "      <th>15</th>\n",
       "      <td>16</td>\n",
       "      <td>1222</td>\n",
       "      <td>Officer</td>\n",
       "      <td>NaN</td>\n",
       "      <td>25.0</td>\n",
       "      <td>NaN</td>\n",
       "    </tr>\n",
       "    <tr>\n",
       "      <th>16</th>\n",
       "      <td>17</td>\n",
       "      <td>2156</td>\n",
       "      <td>Engineer</td>\n",
       "      <td>Production</td>\n",
       "      <td>45.0</td>\n",
       "      <td>89000.0</td>\n",
       "    </tr>\n",
       "    <tr>\n",
       "      <th>17</th>\n",
       "      <td>18</td>\n",
       "      <td>2123</td>\n",
       "      <td>Office Boy</td>\n",
       "      <td>Accounts</td>\n",
       "      <td>27.0</td>\n",
       "      <td>45000.0</td>\n",
       "    </tr>\n",
       "  </tbody>\n",
       "</table>\n",
       "</div>"
      ],
      "text/plain": [
       "    Serial  Emp_ID Designation  Department   Age    Salary\n",
       "0        1    1101     Manager    Accounts  50.0  200000.0\n",
       "1        2    1107     Officer          IT  30.0   80000.0\n",
       "2        3    1203     Officer          HR  28.0       NaN\n",
       "3        4    1005     Manager          HR  45.0  120000.0\n",
       "4        5    2123  Office Boy    Accounts  27.0   45000.0\n",
       "5        6    2451  Accountant         NaN  34.0  100000.0\n",
       "6        7    1111  Accountant    Accounts   NaN  110000.0\n",
       "7        8    1001     Officer          IT  25.0   75000.0\n",
       "8        9    1234     Manager          IT  23.0       NaN\n",
       "9       10    2156    Engineer  Production  45.0   89000.0\n",
       "10      11    6543     Officer  Production  29.0  100000.0\n",
       "11      12    3214  Accountant     Account  49.0  123000.0\n",
       "12      13    2156    Engineer  Production  45.0   89000.0\n",
       "13      14    1098     Officer          IT  25.0  100000.0\n",
       "14      15    2912     Officer          IT  31.0   90000.0\n",
       "15      16    1222     Officer         NaN  25.0       NaN\n",
       "16      17    2156    Engineer  Production  45.0   89000.0\n",
       "17      18    2123  Office Boy    Accounts  27.0   45000.0"
      ]
     },
     "execution_count": 1,
     "metadata": {},
     "output_type": "execute_result"
    }
   ],
   "source": [
    "import pandas as pd\n",
    "df = pd.read_excel(\"files/employee.xlsx\")\n",
    "df"
   ]
  },
  {
   "cell_type": "markdown",
   "id": "5b2b94a3",
   "metadata": {},
   "source": [
    "## **Types of interpolation (via method = parameter):**\n",
    "### 1. **method='linear' (Default):**\n",
    "- Fills missing values by connecting known values with straight lines — assumes a linear trend."
   ]
  },
  {
   "cell_type": "code",
   "execution_count": 2,
   "id": "3850d038",
   "metadata": {},
   "outputs": [
    {
     "data": {
      "text/html": [
       "<div>\n",
       "<style scoped>\n",
       "    .dataframe tbody tr th:only-of-type {\n",
       "        vertical-align: middle;\n",
       "    }\n",
       "\n",
       "    .dataframe tbody tr th {\n",
       "        vertical-align: top;\n",
       "    }\n",
       "\n",
       "    .dataframe thead th {\n",
       "        text-align: right;\n",
       "    }\n",
       "</style>\n",
       "<table border=\"1\" class=\"dataframe\">\n",
       "  <thead>\n",
       "    <tr style=\"text-align: right;\">\n",
       "      <th></th>\n",
       "      <th>Serial</th>\n",
       "      <th>Emp_ID</th>\n",
       "      <th>Designation</th>\n",
       "      <th>Department</th>\n",
       "      <th>Age</th>\n",
       "      <th>Salary</th>\n",
       "    </tr>\n",
       "  </thead>\n",
       "  <tbody>\n",
       "    <tr>\n",
       "      <th>0</th>\n",
       "      <td>1</td>\n",
       "      <td>1101</td>\n",
       "      <td>Manager</td>\n",
       "      <td>Accounts</td>\n",
       "      <td>50.0</td>\n",
       "      <td>200000.0</td>\n",
       "    </tr>\n",
       "    <tr>\n",
       "      <th>1</th>\n",
       "      <td>2</td>\n",
       "      <td>1107</td>\n",
       "      <td>Officer</td>\n",
       "      <td>IT</td>\n",
       "      <td>30.0</td>\n",
       "      <td>80000.0</td>\n",
       "    </tr>\n",
       "    <tr>\n",
       "      <th>2</th>\n",
       "      <td>3</td>\n",
       "      <td>1203</td>\n",
       "      <td>Officer</td>\n",
       "      <td>HR</td>\n",
       "      <td>28.0</td>\n",
       "      <td>100000.0</td>\n",
       "    </tr>\n",
       "    <tr>\n",
       "      <th>3</th>\n",
       "      <td>4</td>\n",
       "      <td>1005</td>\n",
       "      <td>Manager</td>\n",
       "      <td>HR</td>\n",
       "      <td>45.0</td>\n",
       "      <td>120000.0</td>\n",
       "    </tr>\n",
       "    <tr>\n",
       "      <th>4</th>\n",
       "      <td>5</td>\n",
       "      <td>2123</td>\n",
       "      <td>Office Boy</td>\n",
       "      <td>Accounts</td>\n",
       "      <td>27.0</td>\n",
       "      <td>45000.0</td>\n",
       "    </tr>\n",
       "    <tr>\n",
       "      <th>5</th>\n",
       "      <td>6</td>\n",
       "      <td>2451</td>\n",
       "      <td>Accountant</td>\n",
       "      <td>NaN</td>\n",
       "      <td>34.0</td>\n",
       "      <td>100000.0</td>\n",
       "    </tr>\n",
       "    <tr>\n",
       "      <th>6</th>\n",
       "      <td>7</td>\n",
       "      <td>1111</td>\n",
       "      <td>Accountant</td>\n",
       "      <td>Accounts</td>\n",
       "      <td>NaN</td>\n",
       "      <td>110000.0</td>\n",
       "    </tr>\n",
       "    <tr>\n",
       "      <th>7</th>\n",
       "      <td>8</td>\n",
       "      <td>1001</td>\n",
       "      <td>Officer</td>\n",
       "      <td>IT</td>\n",
       "      <td>25.0</td>\n",
       "      <td>75000.0</td>\n",
       "    </tr>\n",
       "    <tr>\n",
       "      <th>8</th>\n",
       "      <td>9</td>\n",
       "      <td>1234</td>\n",
       "      <td>Manager</td>\n",
       "      <td>IT</td>\n",
       "      <td>23.0</td>\n",
       "      <td>82000.0</td>\n",
       "    </tr>\n",
       "    <tr>\n",
       "      <th>9</th>\n",
       "      <td>10</td>\n",
       "      <td>2156</td>\n",
       "      <td>Engineer</td>\n",
       "      <td>Production</td>\n",
       "      <td>45.0</td>\n",
       "      <td>89000.0</td>\n",
       "    </tr>\n",
       "    <tr>\n",
       "      <th>10</th>\n",
       "      <td>11</td>\n",
       "      <td>6543</td>\n",
       "      <td>Officer</td>\n",
       "      <td>Production</td>\n",
       "      <td>29.0</td>\n",
       "      <td>100000.0</td>\n",
       "    </tr>\n",
       "    <tr>\n",
       "      <th>11</th>\n",
       "      <td>12</td>\n",
       "      <td>3214</td>\n",
       "      <td>Accountant</td>\n",
       "      <td>Account</td>\n",
       "      <td>49.0</td>\n",
       "      <td>123000.0</td>\n",
       "    </tr>\n",
       "    <tr>\n",
       "      <th>12</th>\n",
       "      <td>13</td>\n",
       "      <td>2156</td>\n",
       "      <td>Engineer</td>\n",
       "      <td>Production</td>\n",
       "      <td>45.0</td>\n",
       "      <td>89000.0</td>\n",
       "    </tr>\n",
       "    <tr>\n",
       "      <th>13</th>\n",
       "      <td>14</td>\n",
       "      <td>1098</td>\n",
       "      <td>Officer</td>\n",
       "      <td>IT</td>\n",
       "      <td>25.0</td>\n",
       "      <td>100000.0</td>\n",
       "    </tr>\n",
       "    <tr>\n",
       "      <th>14</th>\n",
       "      <td>15</td>\n",
       "      <td>2912</td>\n",
       "      <td>Officer</td>\n",
       "      <td>IT</td>\n",
       "      <td>31.0</td>\n",
       "      <td>90000.0</td>\n",
       "    </tr>\n",
       "    <tr>\n",
       "      <th>15</th>\n",
       "      <td>16</td>\n",
       "      <td>1222</td>\n",
       "      <td>Officer</td>\n",
       "      <td>NaN</td>\n",
       "      <td>25.0</td>\n",
       "      <td>89500.0</td>\n",
       "    </tr>\n",
       "    <tr>\n",
       "      <th>16</th>\n",
       "      <td>17</td>\n",
       "      <td>2156</td>\n",
       "      <td>Engineer</td>\n",
       "      <td>Production</td>\n",
       "      <td>45.0</td>\n",
       "      <td>89000.0</td>\n",
       "    </tr>\n",
       "    <tr>\n",
       "      <th>17</th>\n",
       "      <td>18</td>\n",
       "      <td>2123</td>\n",
       "      <td>Office Boy</td>\n",
       "      <td>Accounts</td>\n",
       "      <td>27.0</td>\n",
       "      <td>45000.0</td>\n",
       "    </tr>\n",
       "  </tbody>\n",
       "</table>\n",
       "</div>"
      ],
      "text/plain": [
       "    Serial  Emp_ID Designation  Department   Age    Salary\n",
       "0        1    1101     Manager    Accounts  50.0  200000.0\n",
       "1        2    1107     Officer          IT  30.0   80000.0\n",
       "2        3    1203     Officer          HR  28.0  100000.0\n",
       "3        4    1005     Manager          HR  45.0  120000.0\n",
       "4        5    2123  Office Boy    Accounts  27.0   45000.0\n",
       "5        6    2451  Accountant         NaN  34.0  100000.0\n",
       "6        7    1111  Accountant    Accounts   NaN  110000.0\n",
       "7        8    1001     Officer          IT  25.0   75000.0\n",
       "8        9    1234     Manager          IT  23.0   82000.0\n",
       "9       10    2156    Engineer  Production  45.0   89000.0\n",
       "10      11    6543     Officer  Production  29.0  100000.0\n",
       "11      12    3214  Accountant     Account  49.0  123000.0\n",
       "12      13    2156    Engineer  Production  45.0   89000.0\n",
       "13      14    1098     Officer          IT  25.0  100000.0\n",
       "14      15    2912     Officer          IT  31.0   90000.0\n",
       "15      16    1222     Officer         NaN  25.0   89500.0\n",
       "16      17    2156    Engineer  Production  45.0   89000.0\n",
       "17      18    2123  Office Boy    Accounts  27.0   45000.0"
      ]
     },
     "execution_count": 2,
     "metadata": {},
     "output_type": "execute_result"
    }
   ],
   "source": [
    "df[\"Salary\"] = df[\"Salary\"].interpolate(method=\"linear\")\n",
    "df"
   ]
  },
  {
   "cell_type": "code",
   "execution_count": 18,
   "id": "7734bf14",
   "metadata": {},
   "outputs": [
    {
     "data": {
      "text/plain": [
       "0          NaN\n",
       "1    20.000000\n",
       "2    32.500000\n",
       "3    45.000000\n",
       "4    59.666667\n",
       "5    74.333333\n",
       "6    89.000000\n",
       "dtype: float64"
      ]
     },
     "execution_count": 18,
     "metadata": {},
     "output_type": "execute_result"
    }
   ],
   "source": [
    "data_with_linear = pd.Series([None,20,None,45,None,None,89])\n",
    "data_with_linear = data_with_linear.interpolate(method=\"linear\")\n",
    "data_with_linear  # it does not fills the first row as it has not found any pattern because linear works in between two known values"
   ]
  },
  {
   "cell_type": "markdown",
   "id": "e87350b7",
   "metadata": {},
   "source": [
    "### 2. **method='time'**\n",
    "- Used for time series data with datetime index — interpolates based on time intervals."
   ]
  },
  {
   "cell_type": "code",
   "execution_count": 3,
   "id": "ae36288a",
   "metadata": {},
   "outputs": [
    {
     "data": {
      "text/html": [
       "<div>\n",
       "<style scoped>\n",
       "    .dataframe tbody tr th:only-of-type {\n",
       "        vertical-align: middle;\n",
       "    }\n",
       "\n",
       "    .dataframe tbody tr th {\n",
       "        vertical-align: top;\n",
       "    }\n",
       "\n",
       "    .dataframe thead th {\n",
       "        text-align: right;\n",
       "    }\n",
       "</style>\n",
       "<table border=\"1\" class=\"dataframe\">\n",
       "  <thead>\n",
       "    <tr style=\"text-align: right;\">\n",
       "      <th></th>\n",
       "      <th>Names</th>\n",
       "      <th>Marks</th>\n",
       "    </tr>\n",
       "  </thead>\n",
       "  <tbody>\n",
       "    <tr>\n",
       "      <th>2024-02-02</th>\n",
       "      <td>Zahid</td>\n",
       "      <td>65.0</td>\n",
       "    </tr>\n",
       "    <tr>\n",
       "      <th>2024-04-23</th>\n",
       "      <td>Ali</td>\n",
       "      <td>70.0</td>\n",
       "    </tr>\n",
       "    <tr>\n",
       "      <th>2024-07-03</th>\n",
       "      <td>Shaham</td>\n",
       "      <td>NaN</td>\n",
       "    </tr>\n",
       "    <tr>\n",
       "      <th>2024-09-12</th>\n",
       "      <td>Ahmed</td>\n",
       "      <td>86.0</td>\n",
       "    </tr>\n",
       "    <tr>\n",
       "      <th>2025-02-01</th>\n",
       "      <td>Nehaad</td>\n",
       "      <td>54.0</td>\n",
       "    </tr>\n",
       "  </tbody>\n",
       "</table>\n",
       "</div>"
      ],
      "text/plain": [
       "             Names  Marks\n",
       "2024-02-02   Zahid   65.0\n",
       "2024-04-23     Ali   70.0\n",
       "2024-07-03  Shaham    NaN\n",
       "2024-09-12   Ahmed   86.0\n",
       "2025-02-01  Nehaad   54.0"
      ]
     },
     "execution_count": 3,
     "metadata": {},
     "output_type": "execute_result"
    }
   ],
   "source": [
    "time_data = pd.DataFrame({\n",
    "    \"Names\": [\"Zahid\",\"Ali\",\"Shaham\",\"Ahmed\", \"Nehaad\"],\n",
    "    \"Marks\": [65,70,None,86,54],\n",
    "},    index=pd.to_datetime([\"2024-02-02\", \"2024-04-23\",\"2024-07-03\",\"2024-09-12\",\"2025-02-01\"])\n",
    ")\n",
    "time_data"
   ]
  },
  {
   "cell_type": "code",
   "execution_count": 4,
   "id": "75fe8da7",
   "metadata": {},
   "outputs": [
    {
     "data": {
      "text/html": [
       "<div>\n",
       "<style scoped>\n",
       "    .dataframe tbody tr th:only-of-type {\n",
       "        vertical-align: middle;\n",
       "    }\n",
       "\n",
       "    .dataframe tbody tr th {\n",
       "        vertical-align: top;\n",
       "    }\n",
       "\n",
       "    .dataframe thead th {\n",
       "        text-align: right;\n",
       "    }\n",
       "</style>\n",
       "<table border=\"1\" class=\"dataframe\">\n",
       "  <thead>\n",
       "    <tr style=\"text-align: right;\">\n",
       "      <th></th>\n",
       "      <th>Names</th>\n",
       "      <th>Marks</th>\n",
       "    </tr>\n",
       "  </thead>\n",
       "  <tbody>\n",
       "    <tr>\n",
       "      <th>2024-02-02</th>\n",
       "      <td>Zahid</td>\n",
       "      <td>65.0</td>\n",
       "    </tr>\n",
       "    <tr>\n",
       "      <th>2024-04-23</th>\n",
       "      <td>Ali</td>\n",
       "      <td>70.0</td>\n",
       "    </tr>\n",
       "    <tr>\n",
       "      <th>2024-07-03</th>\n",
       "      <td>Shaham</td>\n",
       "      <td>78.0</td>\n",
       "    </tr>\n",
       "    <tr>\n",
       "      <th>2024-09-12</th>\n",
       "      <td>Ahmed</td>\n",
       "      <td>86.0</td>\n",
       "    </tr>\n",
       "    <tr>\n",
       "      <th>2025-02-01</th>\n",
       "      <td>Nehaad</td>\n",
       "      <td>54.0</td>\n",
       "    </tr>\n",
       "  </tbody>\n",
       "</table>\n",
       "</div>"
      ],
      "text/plain": [
       "             Names  Marks\n",
       "2024-02-02   Zahid   65.0\n",
       "2024-04-23     Ali   70.0\n",
       "2024-07-03  Shaham   78.0\n",
       "2024-09-12   Ahmed   86.0\n",
       "2025-02-01  Nehaad   54.0"
      ]
     },
     "execution_count": 4,
     "metadata": {},
     "output_type": "execute_result"
    }
   ],
   "source": [
    "time_data[\"Marks\"] = time_data[\"Marks\"].interpolate(method=\"time\")\n",
    "time_data"
   ]
  },
  {
   "cell_type": "markdown",
   "id": "b6aab933",
   "metadata": {},
   "source": [
    "### 3. **method='index':**\n",
    "- Interpolates based on the index values (numeric or datetime), not just position."
   ]
  },
  {
   "cell_type": "code",
   "execution_count": 9,
   "id": "3cf3608d",
   "metadata": {},
   "outputs": [
    {
     "data": {
      "text/plain": [
       "0    10.0\n",
       "1    15.0\n",
       "5     NaN\n",
       "6    40.0\n",
       "dtype: float64"
      ]
     },
     "execution_count": 9,
     "metadata": {},
     "output_type": "execute_result"
    }
   ],
   "source": [
    "data_with_index = pd.Series([10,15,None,40], index=[0,1,5,6])\n",
    "data_with_index"
   ]
  },
  {
   "cell_type": "code",
   "execution_count": 10,
   "id": "67b4daae",
   "metadata": {},
   "outputs": [
    {
     "data": {
      "text/plain": [
       "0    10.0\n",
       "1    15.0\n",
       "5    35.0\n",
       "6    40.0\n",
       "dtype: float64"
      ]
     },
     "execution_count": 10,
     "metadata": {},
     "output_type": "execute_result"
    }
   ],
   "source": [
    "data_with_index = data_with_index.interpolate(method=\"index\")\n",
    "data_with_index"
   ]
  },
  {
   "cell_type": "markdown",
   "id": "e9c75889",
   "metadata": {},
   "source": [
    "### 4. **method='nearest'**\n",
    "- Fills missing values using the nearest known value (either before or after)."
   ]
  },
  {
   "cell_type": "code",
   "execution_count": 12,
   "id": "cf45f89e",
   "metadata": {},
   "outputs": [
    {
     "data": {
      "text/plain": [
       "0    10.0\n",
       "1    20.0\n",
       "2     NaN\n",
       "3    45.0\n",
       "4     NaN\n",
       "5     NaN\n",
       "6    89.0\n",
       "dtype: float64"
      ]
     },
     "execution_count": 12,
     "metadata": {},
     "output_type": "execute_result"
    }
   ],
   "source": [
    "data_with_nearest = pd.Series([10,20,None,45,None,None,89])\n",
    "data_with_nearest"
   ]
  },
  {
   "cell_type": "code",
   "execution_count": 16,
   "id": "b8813455",
   "metadata": {},
   "outputs": [
    {
     "name": "stdout",
     "output_type": "stream",
     "text": [
      "0    10.0\n",
      "1    20.0\n",
      "2    20.0\n",
      "3    45.0\n",
      "4    45.0\n",
      "5    89.0\n",
      "6    89.0\n",
      "dtype: float64\n"
     ]
    },
    {
     "data": {
      "text/plain": [
       "'it fills index(2) with 20 becuase it is nearest to 20, fill index(4) with 45 as it is nearest to 45 and index(5) with 89'"
      ]
     },
     "execution_count": 16,
     "metadata": {},
     "output_type": "execute_result"
    }
   ],
   "source": [
    "data_with_nearest = data_with_nearest.interpolate(method=\"nearest\")\n",
    "print(data_with_nearest)\n",
    "\"\"\"it fills index(2) with 20 becuase it is nearest to 20, fill index(4) with 45 as it is nearest to 45 and index(5) with 89\"\"\""
   ]
  },
  {
   "cell_type": "markdown",
   "id": "1df0c584",
   "metadata": {},
   "source": [
    "### 5. **method='polynomial'**\n",
    "- Uses a polynomial equation to estimate missing values. You must specify the order."
   ]
  },
  {
   "cell_type": "code",
   "execution_count": 24,
   "id": "1120193c",
   "metadata": {},
   "outputs": [
    {
     "data": {
      "text/plain": [
       "0    10.000000\n",
       "1    20.000000\n",
       "2    32.500000\n",
       "3    45.000000\n",
       "4    59.666667\n",
       "5    74.333333\n",
       "6    89.000000\n",
       "dtype: float64"
      ]
     },
     "execution_count": 24,
     "metadata": {},
     "output_type": "execute_result"
    }
   ],
   "source": [
    "data_with_polynomial = pd.Series([10,20,None,45,None,None,89])\n",
    "data_with_polynomial = data_with_polynomial.interpolate(method=\"polynomial\", order=1)\n",
    "data_with_polynomial"
   ]
  },
  {
   "cell_type": "code",
   "execution_count": 26,
   "id": "b8a3355c",
   "metadata": {},
   "outputs": [
    {
     "data": {
      "text/plain": [
       "0    10.000000\n",
       "1    20.000000\n",
       "2    31.848485\n",
       "3    45.000000\n",
       "4    58.909091\n",
       "5    73.575758\n",
       "6    89.000000\n",
       "dtype: float64"
      ]
     },
     "execution_count": 26,
     "metadata": {},
     "output_type": "execute_result"
    }
   ],
   "source": [
    "# with order = 2\n",
    "data_with_polynomial = pd.Series([10,20,None,45,None,None,89])\n",
    "data_with_polynomial = data_with_polynomial.interpolate(method=\"polynomial\", order=2)\n",
    "data_with_polynomial"
   ]
  },
  {
   "cell_type": "markdown",
   "id": "a4e78565",
   "metadata": {},
   "source": [
    "### 6. **method='spline'**\n",
    "- Fills missing values using spline interpolation (smooth curve fit). Also needs order."
   ]
  },
  {
   "cell_type": "code",
   "execution_count": null,
   "id": "95c399fc",
   "metadata": {},
   "outputs": [
    {
     "data": {
      "text/plain": [
       "0    10.000000\n",
       "1    20.000000\n",
       "2    32.075758\n",
       "3    45.000000\n",
       "4    58.500000\n",
       "5    73.257576\n",
       "6    89.000000\n",
       "dtype: float64"
      ]
     },
     "execution_count": 27,
     "metadata": {},
     "output_type": "execute_result"
    }
   ],
   "source": [
    "data_with_spline = pd.Series([10,20,None,45,None,None,89])\n",
    "data_with_spline = data_with_spline.interpolate(method=\"spline\", order=2)\n",
    "data_with_spline"
   ]
  },
  {
   "cell_type": "markdown",
   "id": "a46d007a",
   "metadata": {},
   "source": [
    "### 7. **method='pad' (Forward Fill / ffill) OR data.ffill()**\n",
    "- Carries the last known value forward to fill missing values"
   ]
  },
  {
   "cell_type": "code",
   "execution_count": 30,
   "id": "971ddee5",
   "metadata": {},
   "outputs": [
    {
     "data": {
      "text/plain": [
       "0    10.0\n",
       "1    20.0\n",
       "2    20.0\n",
       "3    45.0\n",
       "4    45.0\n",
       "5    45.0\n",
       "6    89.0\n",
       "dtype: float64"
      ]
     },
     "execution_count": 30,
     "metadata": {},
     "output_type": "execute_result"
    }
   ],
   "source": [
    "data_with_forward_fill = pd.Series([10,20,None,45,None,None,89])\n",
    "data_with_forward_fill = data_with_forward_fill.ffill()\n",
    "data_with_forward_fill"
   ]
  },
  {
   "cell_type": "markdown",
   "id": "42350876",
   "metadata": {},
   "source": [
    "### 8. **method='bfill' (Backward Fill) OR data.bfill()**\n",
    "- Fills missing values using the next known value (from below)."
   ]
  },
  {
   "cell_type": "code",
   "execution_count": 32,
   "id": "a3172a83",
   "metadata": {},
   "outputs": [
    {
     "data": {
      "text/plain": [
       "0    10.0\n",
       "1    20.0\n",
       "2    45.0\n",
       "3    45.0\n",
       "4    89.0\n",
       "5    89.0\n",
       "6    89.0\n",
       "dtype: float64"
      ]
     },
     "execution_count": 32,
     "metadata": {},
     "output_type": "execute_result"
    }
   ],
   "source": [
    "data_with_backward_fill = pd.Series([10,20,None,45,None,None,89])\n",
    "data_with_backward_fill = data_with_backward_fill.bfill()\n",
    "data_with_backward_fill"
   ]
  }
 ],
 "metadata": {
  "kernelspec": {
   "display_name": "Python 3",
   "language": "python",
   "name": "python3"
  },
  "language_info": {
   "codemirror_mode": {
    "name": "ipython",
    "version": 3
   },
   "file_extension": ".py",
   "mimetype": "text/x-python",
   "name": "python",
   "nbconvert_exporter": "python",
   "pygments_lexer": "ipython3",
   "version": "3.13.2"
  }
 },
 "nbformat": 4,
 "nbformat_minor": 5
}
