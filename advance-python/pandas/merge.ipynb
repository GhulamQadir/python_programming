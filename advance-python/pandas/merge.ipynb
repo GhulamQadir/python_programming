{
 "cells": [
  {
   "cell_type": "markdown",
   "id": "3f72f0ef",
   "metadata": {},
   "source": [
    "# **Merging**\n",
    "- Merging in pandas means combining rows from two DataFrames where the values of one or more columns match (like joining two tables in a relational database).\n",
    "- It is the process of combining two DataFrames based on common columns or indices — similar to SQL joins (INNER, LEFT, RIGHT, OUTER).\n",
    "- It allows you to bring data together from different tables using keys.<br>\n",
    "### **Key Points:**\n",
    "- Works like SQL JOIN.\n",
    "- Combines rows based on matching column values (keys).\n",
    "- Used when you want to relate data across DataFrames.\n",
    "\n",
    "**Syntax:** <br>\n",
    "pd.merge(left_dataframe, right_dataframe, how='type_of_join', on=Common_column_which_checks, left_on=None, right_on=None)"
   ]
  },
  {
   "cell_type": "code",
   "execution_count": 27,
   "id": "b1a8ea33",
   "metadata": {},
   "outputs": [],
   "source": [
    "import pandas as pd\n",
    "\n",
    "employees = pd.DataFrame({\n",
    "    'EmpID': [101, 102, 103, 104],\n",
    "    'Name': ['Alice', 'Bob', 'Charlie', 'David'],\n",
    "    'DeptID': [10, 20, 10, 30]\n",
    "})\n",
    "\n",
    "departments = pd.DataFrame({\n",
    "    'DeptID': [10, 20],\n",
    "    'DepartmentName': ['HR', 'IT']\n",
    "})"
   ]
  },
  {
   "cell_type": "markdown",
   "id": "3254d334",
   "metadata": {},
   "source": [
    "## **Types  of join**\n",
    "#### 1. **inner join:** Keep only matching rows (default)"
   ]
  },
  {
   "cell_type": "code",
   "execution_count": 28,
   "id": "048885b2",
   "metadata": {},
   "outputs": [
    {
     "name": "stdout",
     "output_type": "stream",
     "text": [
      "inner join\n"
     ]
    },
    {
     "data": {
      "text/html": [
       "<div>\n",
       "<style scoped>\n",
       "    .dataframe tbody tr th:only-of-type {\n",
       "        vertical-align: middle;\n",
       "    }\n",
       "\n",
       "    .dataframe tbody tr th {\n",
       "        vertical-align: top;\n",
       "    }\n",
       "\n",
       "    .dataframe thead th {\n",
       "        text-align: right;\n",
       "    }\n",
       "</style>\n",
       "<table border=\"1\" class=\"dataframe\">\n",
       "  <thead>\n",
       "    <tr style=\"text-align: right;\">\n",
       "      <th></th>\n",
       "      <th>EmpID</th>\n",
       "      <th>Name</th>\n",
       "      <th>DeptID</th>\n",
       "      <th>DepartmentName</th>\n",
       "    </tr>\n",
       "  </thead>\n",
       "  <tbody>\n",
       "    <tr>\n",
       "      <th>0</th>\n",
       "      <td>101</td>\n",
       "      <td>Alice</td>\n",
       "      <td>10</td>\n",
       "      <td>HR</td>\n",
       "    </tr>\n",
       "    <tr>\n",
       "      <th>1</th>\n",
       "      <td>102</td>\n",
       "      <td>Bob</td>\n",
       "      <td>20</td>\n",
       "      <td>IT</td>\n",
       "    </tr>\n",
       "    <tr>\n",
       "      <th>2</th>\n",
       "      <td>103</td>\n",
       "      <td>Charlie</td>\n",
       "      <td>10</td>\n",
       "      <td>HR</td>\n",
       "    </tr>\n",
       "  </tbody>\n",
       "</table>\n",
       "</div>"
      ],
      "text/plain": [
       "   EmpID     Name  DeptID DepartmentName\n",
       "0    101    Alice      10             HR\n",
       "1    102      Bob      20             IT\n",
       "2    103  Charlie      10             HR"
      ]
     },
     "execution_count": 28,
     "metadata": {},
     "output_type": "execute_result"
    }
   ],
   "source": [
    "merged_data = pd.merge(employees, departments, how=\"inner\", on=\"DeptID\")\n",
    "print(\"inner join\")\n",
    "merged_data"
   ]
  },
  {
   "cell_type": "markdown",
   "id": "580e54b4",
   "metadata": {},
   "source": [
    "#### 2. **outer join:** Keep all rows from both sides (fill missing with NaN)"
   ]
  },
  {
   "cell_type": "code",
   "execution_count": 29,
   "id": "e65469de",
   "metadata": {},
   "outputs": [
    {
     "name": "stdout",
     "output_type": "stream",
     "text": [
      "outer join\n"
     ]
    },
    {
     "data": {
      "text/html": [
       "<div>\n",
       "<style scoped>\n",
       "    .dataframe tbody tr th:only-of-type {\n",
       "        vertical-align: middle;\n",
       "    }\n",
       "\n",
       "    .dataframe tbody tr th {\n",
       "        vertical-align: top;\n",
       "    }\n",
       "\n",
       "    .dataframe thead th {\n",
       "        text-align: right;\n",
       "    }\n",
       "</style>\n",
       "<table border=\"1\" class=\"dataframe\">\n",
       "  <thead>\n",
       "    <tr style=\"text-align: right;\">\n",
       "      <th></th>\n",
       "      <th>EmpID</th>\n",
       "      <th>Name</th>\n",
       "      <th>DeptID</th>\n",
       "      <th>DepartmentName</th>\n",
       "    </tr>\n",
       "  </thead>\n",
       "  <tbody>\n",
       "    <tr>\n",
       "      <th>0</th>\n",
       "      <td>101</td>\n",
       "      <td>Alice</td>\n",
       "      <td>10</td>\n",
       "      <td>HR</td>\n",
       "    </tr>\n",
       "    <tr>\n",
       "      <th>1</th>\n",
       "      <td>103</td>\n",
       "      <td>Charlie</td>\n",
       "      <td>10</td>\n",
       "      <td>HR</td>\n",
       "    </tr>\n",
       "    <tr>\n",
       "      <th>2</th>\n",
       "      <td>102</td>\n",
       "      <td>Bob</td>\n",
       "      <td>20</td>\n",
       "      <td>IT</td>\n",
       "    </tr>\n",
       "    <tr>\n",
       "      <th>3</th>\n",
       "      <td>104</td>\n",
       "      <td>David</td>\n",
       "      <td>30</td>\n",
       "      <td>NaN</td>\n",
       "    </tr>\n",
       "  </tbody>\n",
       "</table>\n",
       "</div>"
      ],
      "text/plain": [
       "   EmpID     Name  DeptID DepartmentName\n",
       "0    101    Alice      10             HR\n",
       "1    103  Charlie      10             HR\n",
       "2    102      Bob      20             IT\n",
       "3    104    David      30            NaN"
      ]
     },
     "execution_count": 29,
     "metadata": {},
     "output_type": "execute_result"
    }
   ],
   "source": [
    "merged_data = pd.merge(employees, departments, how=\"outer\", on=\"DeptID\")\n",
    "print(\"outer join\")\n",
    "merged_data"
   ]
  },
  {
   "cell_type": "markdown",
   "id": "96875414",
   "metadata": {},
   "source": [
    "#### 3. **left join:** Keep all rows from left, match from right"
   ]
  },
  {
   "cell_type": "code",
   "execution_count": 30,
   "id": "ba710949",
   "metadata": {},
   "outputs": [
    {
     "name": "stdout",
     "output_type": "stream",
     "text": [
      "left join\n"
     ]
    },
    {
     "data": {
      "text/html": [
       "<div>\n",
       "<style scoped>\n",
       "    .dataframe tbody tr th:only-of-type {\n",
       "        vertical-align: middle;\n",
       "    }\n",
       "\n",
       "    .dataframe tbody tr th {\n",
       "        vertical-align: top;\n",
       "    }\n",
       "\n",
       "    .dataframe thead th {\n",
       "        text-align: right;\n",
       "    }\n",
       "</style>\n",
       "<table border=\"1\" class=\"dataframe\">\n",
       "  <thead>\n",
       "    <tr style=\"text-align: right;\">\n",
       "      <th></th>\n",
       "      <th>DeptID</th>\n",
       "      <th>DepartmentName</th>\n",
       "      <th>EmpID</th>\n",
       "      <th>Name</th>\n",
       "    </tr>\n",
       "  </thead>\n",
       "  <tbody>\n",
       "    <tr>\n",
       "      <th>0</th>\n",
       "      <td>10</td>\n",
       "      <td>HR</td>\n",
       "      <td>101</td>\n",
       "      <td>Alice</td>\n",
       "    </tr>\n",
       "    <tr>\n",
       "      <th>1</th>\n",
       "      <td>10</td>\n",
       "      <td>HR</td>\n",
       "      <td>103</td>\n",
       "      <td>Charlie</td>\n",
       "    </tr>\n",
       "    <tr>\n",
       "      <th>2</th>\n",
       "      <td>20</td>\n",
       "      <td>IT</td>\n",
       "      <td>102</td>\n",
       "      <td>Bob</td>\n",
       "    </tr>\n",
       "  </tbody>\n",
       "</table>\n",
       "</div>"
      ],
      "text/plain": [
       "   DeptID DepartmentName  EmpID     Name\n",
       "0      10             HR    101    Alice\n",
       "1      10             HR    103  Charlie\n",
       "2      20             IT    102      Bob"
      ]
     },
     "execution_count": 30,
     "metadata": {},
     "output_type": "execute_result"
    }
   ],
   "source": [
    "merged_data = pd.merge(departments, employees, how=\"left\", on=\"DeptID\")\n",
    "print(\"left join\")\n",
    "merged_data"
   ]
  },
  {
   "cell_type": "markdown",
   "id": "154299ed",
   "metadata": {},
   "source": [
    "#### 4. **right join:** Keep all rows from right, match from left"
   ]
  },
  {
   "cell_type": "code",
   "execution_count": 31,
   "id": "123c0f15",
   "metadata": {},
   "outputs": [
    {
     "data": {
      "text/html": [
       "<div>\n",
       "<style scoped>\n",
       "    .dataframe tbody tr th:only-of-type {\n",
       "        vertical-align: middle;\n",
       "    }\n",
       "\n",
       "    .dataframe tbody tr th {\n",
       "        vertical-align: top;\n",
       "    }\n",
       "\n",
       "    .dataframe thead th {\n",
       "        text-align: right;\n",
       "    }\n",
       "</style>\n",
       "<table border=\"1\" class=\"dataframe\">\n",
       "  <thead>\n",
       "    <tr style=\"text-align: right;\">\n",
       "      <th></th>\n",
       "      <th>CustomerID</th>\n",
       "      <th>CustomerName</th>\n",
       "      <th>OrderID</th>\n",
       "      <th>Amount</th>\n",
       "    </tr>\n",
       "  </thead>\n",
       "  <tbody>\n",
       "    <tr>\n",
       "      <th>0</th>\n",
       "      <td>2</td>\n",
       "      <td>Sara</td>\n",
       "      <td>101</td>\n",
       "      <td>3000</td>\n",
       "    </tr>\n",
       "    <tr>\n",
       "      <th>1</th>\n",
       "      <td>1</td>\n",
       "      <td>Ali</td>\n",
       "      <td>102</td>\n",
       "      <td>2500</td>\n",
       "    </tr>\n",
       "    <tr>\n",
       "      <th>2</th>\n",
       "      <td>2</td>\n",
       "      <td>Sara</td>\n",
       "      <td>103</td>\n",
       "      <td>4000</td>\n",
       "    </tr>\n",
       "    <tr>\n",
       "      <th>3</th>\n",
       "      <td>4</td>\n",
       "      <td>NaN</td>\n",
       "      <td>104</td>\n",
       "      <td>1000</td>\n",
       "    </tr>\n",
       "  </tbody>\n",
       "</table>\n",
       "</div>"
      ],
      "text/plain": [
       "   CustomerID CustomerName  OrderID  Amount\n",
       "0           2         Sara      101    3000\n",
       "1           1          Ali      102    2500\n",
       "2           2         Sara      103    4000\n",
       "3           4          NaN      104    1000"
      ]
     },
     "execution_count": 31,
     "metadata": {},
     "output_type": "execute_result"
    }
   ],
   "source": [
    "customers = pd.DataFrame({\n",
    "    'CustomerID': [1, 2, 3],\n",
    "    'CustomerName': ['Ali', 'Sara', 'Umar']\n",
    "})\n",
    "\n",
    "orders = pd.DataFrame({\n",
    "    'OrderID': [101, 102, 103, 104],\n",
    "    'CustomerID': [2, 1, 2, 4],\n",
    "    'Amount': [3000, 2500, 4000, 1000]\n",
    "})\n",
    "\n",
    "merged_data = pd.merge(customers, orders, how=\"right\", on=\"CustomerID\")\n",
    "merged_data"
   ]
  },
  {
   "cell_type": "markdown",
   "id": "496111fe",
   "metadata": {},
   "source": [
    "#### 5. **cross joins:** \n",
    "- It combines every row of one DataFrame with every row of another, resulting in a Cartesian product. \n",
    "- If df1 has 3 rows and df2 has 4 rows, the result will have 3 × 4 = 12 rows."
   ]
  },
  {
   "cell_type": "code",
   "execution_count": 32,
   "id": "6b76aaa5",
   "metadata": {},
   "outputs": [
    {
     "data": {
      "text/html": [
       "<div>\n",
       "<style scoped>\n",
       "    .dataframe tbody tr th:only-of-type {\n",
       "        vertical-align: middle;\n",
       "    }\n",
       "\n",
       "    .dataframe tbody tr th {\n",
       "        vertical-align: top;\n",
       "    }\n",
       "\n",
       "    .dataframe thead th {\n",
       "        text-align: right;\n",
       "    }\n",
       "</style>\n",
       "<table border=\"1\" class=\"dataframe\">\n",
       "  <thead>\n",
       "    <tr style=\"text-align: right;\">\n",
       "      <th></th>\n",
       "      <th>Student</th>\n",
       "      <th>Course</th>\n",
       "    </tr>\n",
       "  </thead>\n",
       "  <tbody>\n",
       "    <tr>\n",
       "      <th>0</th>\n",
       "      <td>Ali</td>\n",
       "      <td>Math</td>\n",
       "    </tr>\n",
       "    <tr>\n",
       "      <th>1</th>\n",
       "      <td>Ali</td>\n",
       "      <td>Science</td>\n",
       "    </tr>\n",
       "    <tr>\n",
       "      <th>2</th>\n",
       "      <td>Ali</td>\n",
       "      <td>English</td>\n",
       "    </tr>\n",
       "    <tr>\n",
       "      <th>3</th>\n",
       "      <td>Sara</td>\n",
       "      <td>Math</td>\n",
       "    </tr>\n",
       "    <tr>\n",
       "      <th>4</th>\n",
       "      <td>Sara</td>\n",
       "      <td>Science</td>\n",
       "    </tr>\n",
       "    <tr>\n",
       "      <th>5</th>\n",
       "      <td>Sara</td>\n",
       "      <td>English</td>\n",
       "    </tr>\n",
       "  </tbody>\n",
       "</table>\n",
       "</div>"
      ],
      "text/plain": [
       "  Student   Course\n",
       "0     Ali     Math\n",
       "1     Ali  Science\n",
       "2     Ali  English\n",
       "3    Sara     Math\n",
       "4    Sara  Science\n",
       "5    Sara  English"
      ]
     },
     "execution_count": 32,
     "metadata": {},
     "output_type": "execute_result"
    }
   ],
   "source": [
    "students = pd.DataFrame({\n",
    "    'Student': ['Ali', 'Sara']\n",
    "})\n",
    "\n",
    "courses = pd.DataFrame({\n",
    "    'Course': ['Math', 'Science', 'English']\n",
    "})\n",
    "\n",
    "merged_data = students.merge(courses, how=\"cross\")\n",
    "merged_data"
   ]
  },
  {
   "cell_type": "markdown",
   "id": "13b8bbc0",
   "metadata": {},
   "source": [
    "### **Summary Table**\n",
    "| Merge Type | Left-only | Right-only | Both sides matched | All Combinations |\n",
    "| ---------- | --------- | ---------- | ------------------ | ---------------- |\n",
    "| `inner`    | ❌         | ❌          | ✅                  | ❌                |\n",
    "| `left`     | ✅         | ❌          | ✅                  | ❌                |\n",
    "| `right`    | ❌         | ✅          | ✅                  | ❌                |\n",
    "| `outer`    | ✅         | ✅          | ✅                  | ❌                |\n",
    "| `cross`    | ❌         | ❌          | ❌                  | ✅                |"
   ]
  },
  {
   "cell_type": "markdown",
   "id": "63628173",
   "metadata": {},
   "source": [
    "## **Practice Questions**"
   ]
  },
  {
   "cell_type": "code",
   "execution_count": 33,
   "id": "2fe7da88",
   "metadata": {},
   "outputs": [
    {
     "data": {
      "text/html": [
       "<div>\n",
       "<style scoped>\n",
       "    .dataframe tbody tr th:only-of-type {\n",
       "        vertical-align: middle;\n",
       "    }\n",
       "\n",
       "    .dataframe tbody tr th {\n",
       "        vertical-align: top;\n",
       "    }\n",
       "\n",
       "    .dataframe thead th {\n",
       "        text-align: right;\n",
       "    }\n",
       "</style>\n",
       "<table border=\"1\" class=\"dataframe\">\n",
       "  <thead>\n",
       "    <tr style=\"text-align: right;\">\n",
       "      <th></th>\n",
       "      <th>ID</th>\n",
       "      <th>Name</th>\n",
       "      <th>Department</th>\n",
       "      <th>Salary</th>\n",
       "    </tr>\n",
       "  </thead>\n",
       "  <tbody>\n",
       "    <tr>\n",
       "      <th>0</th>\n",
       "      <td>101</td>\n",
       "      <td>Ali</td>\n",
       "      <td>HR</td>\n",
       "      <td>50000</td>\n",
       "    </tr>\n",
       "    <tr>\n",
       "      <th>1</th>\n",
       "      <td>103</td>\n",
       "      <td>Ahmed</td>\n",
       "      <td>IT</td>\n",
       "      <td>70000</td>\n",
       "    </tr>\n",
       "    <tr>\n",
       "      <th>2</th>\n",
       "      <td>104</td>\n",
       "      <td>Zara</td>\n",
       "      <td>Marketing</td>\n",
       "      <td>60000</td>\n",
       "    </tr>\n",
       "  </tbody>\n",
       "</table>\n",
       "</div>"
      ],
      "text/plain": [
       "    ID   Name Department  Salary\n",
       "0  101    Ali         HR   50000\n",
       "1  103  Ahmed         IT   70000\n",
       "2  104   Zara  Marketing   60000"
      ]
     },
     "execution_count": 33,
     "metadata": {},
     "output_type": "execute_result"
    }
   ],
   "source": [
    "# Employee details: ID, Name, Department\n",
    "employee_data = pd.DataFrame({\n",
    "    \"ID\": [101, 102, 103, 104],\n",
    "    \"Name\": [\"Ali\", \"Sara\", \"Ahmed\", \"Zara\"],\n",
    "    \"Department\": [\"HR\", \"Finance\", \"IT\", \"Marketing\"]\n",
    "})\n",
    "\n",
    "# Salary details: ID, Salary\n",
    "salary_data = pd.DataFrame({\n",
    "    \"ID\": [101, 103, 104, 105],\n",
    "    \"Salary\": [50000, 70000, 60000, 55000]\n",
    "})\n",
    "\n",
    "merged_data = pd.merge(employee_data, salary_data, how=\"inner\", on=\"ID\")\n",
    "merged_data"
   ]
  },
  {
   "cell_type": "markdown",
   "id": "8138f445",
   "metadata": {},
   "source": [
    "### 1. Merge on Multiple Keys"
   ]
  },
  {
   "cell_type": "code",
   "execution_count": 34,
   "id": "2eac0c1f",
   "metadata": {},
   "outputs": [
    {
     "data": {
      "text/html": [
       "<div>\n",
       "<style scoped>\n",
       "    .dataframe tbody tr th:only-of-type {\n",
       "        vertical-align: middle;\n",
       "    }\n",
       "\n",
       "    .dataframe tbody tr th {\n",
       "        vertical-align: top;\n",
       "    }\n",
       "\n",
       "    .dataframe thead th {\n",
       "        text-align: right;\n",
       "    }\n",
       "</style>\n",
       "<table border=\"1\" class=\"dataframe\">\n",
       "  <thead>\n",
       "    <tr style=\"text-align: right;\">\n",
       "      <th></th>\n",
       "      <th>Emp_ID</th>\n",
       "      <th>Name</th>\n",
       "      <th>City</th>\n",
       "      <th>Year</th>\n",
       "      <th>Branch_Manager</th>\n",
       "    </tr>\n",
       "  </thead>\n",
       "  <tbody>\n",
       "    <tr>\n",
       "      <th>0</th>\n",
       "      <td>201</td>\n",
       "      <td>Ali</td>\n",
       "      <td>Lahore</td>\n",
       "      <td>2020</td>\n",
       "      <td>Mr. Khan</td>\n",
       "    </tr>\n",
       "    <tr>\n",
       "      <th>1</th>\n",
       "      <td>202</td>\n",
       "      <td>Zara</td>\n",
       "      <td>Karachi</td>\n",
       "      <td>2021</td>\n",
       "      <td>Mr. Ali</td>\n",
       "    </tr>\n",
       "    <tr>\n",
       "      <th>2</th>\n",
       "      <td>203</td>\n",
       "      <td>Ahmed</td>\n",
       "      <td>Lahore</td>\n",
       "      <td>2021</td>\n",
       "      <td>Ms. Fatima</td>\n",
       "    </tr>\n",
       "    <tr>\n",
       "      <th>3</th>\n",
       "      <td>204</td>\n",
       "      <td>Sara</td>\n",
       "      <td>Islamabad</td>\n",
       "      <td>2020</td>\n",
       "      <td>Ms. Noor</td>\n",
       "    </tr>\n",
       "    <tr>\n",
       "      <th>4</th>\n",
       "      <td>205</td>\n",
       "      <td>Bilal</td>\n",
       "      <td>Karachi</td>\n",
       "      <td>2022</td>\n",
       "      <td>Mr. Kamran</td>\n",
       "    </tr>\n",
       "  </tbody>\n",
       "</table>\n",
       "</div>"
      ],
      "text/plain": [
       "   Emp_ID   Name       City  Year Branch_Manager\n",
       "0     201    Ali     Lahore  2020       Mr. Khan\n",
       "1     202   Zara    Karachi  2021        Mr. Ali\n",
       "2     203  Ahmed     Lahore  2021     Ms. Fatima\n",
       "3     204   Sara  Islamabad  2020       Ms. Noor\n",
       "4     205  Bilal    Karachi  2022     Mr. Kamran"
      ]
     },
     "execution_count": 34,
     "metadata": {},
     "output_type": "execute_result"
    }
   ],
   "source": [
    "# Merge both DataFrames on City and Year to find the manager for each employee's city during their joining year.\n",
    "df_employees = pd.DataFrame({\n",
    "    \"Emp_ID\": [201, 202, 203, 204, 205],\n",
    "    \"Name\": [\"Ali\", \"Zara\", \"Ahmed\", \"Sara\", \"Bilal\"],\n",
    "    \"City\": [\"Lahore\", \"Karachi\", \"Lahore\", \"Islamabad\", \"Karachi\"],\n",
    "    \"Year\": [2020, 2021, 2021, 2020, 2022]\n",
    "})\n",
    "\n",
    "df_branches = pd.DataFrame({\n",
    "    \"City\": [\"Lahore\", \"Lahore\", \"Karachi\", \"Islamabad\", \"Karachi\"],\n",
    "    \"Year\": [2020, 2021, 2021, 2020, 2022],\n",
    "    \"Branch_Manager\": [\"Mr. Khan\", \"Ms. Fatima\", \"Mr. Ali\", \"Ms. Noor\", \"Mr. Kamran\"]\n",
    "})\n",
    "\n",
    "merged_on_city_year = pd.merge(df_employees, df_branches, on=[\"Year\",\"City\"], how=\"inner\")\n",
    "merged_on_city_year"
   ]
  },
  {
   "cell_type": "markdown",
   "id": "6147a8db",
   "metadata": {},
   "source": [
    "### 2. Merge with Aggregation"
   ]
  },
  {
   "cell_type": "code",
   "execution_count": 49,
   "id": "255cd1a3",
   "metadata": {},
   "outputs": [
    {
     "name": "stdout",
     "output_type": "stream",
     "text": [
      "   CustomerID CustomerName  OrderID  Amount\n",
      "0           1          Ali      102    2500\n",
      "1           2         Sara      101    3000\n",
      "2           2         Sara      103    4000\n",
      "3           7       Shahid      105    6000\n"
     ]
    },
    {
     "data": {
      "text/html": [
       "<div>\n",
       "<style scoped>\n",
       "    .dataframe tbody tr th:only-of-type {\n",
       "        vertical-align: middle;\n",
       "    }\n",
       "\n",
       "    .dataframe tbody tr th {\n",
       "        vertical-align: top;\n",
       "    }\n",
       "\n",
       "    .dataframe thead th {\n",
       "        text-align: right;\n",
       "    }\n",
       "</style>\n",
       "<table border=\"1\" class=\"dataframe\">\n",
       "  <thead>\n",
       "    <tr style=\"text-align: right;\">\n",
       "      <th></th>\n",
       "      <th>CustomerID</th>\n",
       "      <th>CustomerName</th>\n",
       "      <th>Amount</th>\n",
       "    </tr>\n",
       "  </thead>\n",
       "  <tbody>\n",
       "    <tr>\n",
       "      <th>1</th>\n",
       "      <td>2</td>\n",
       "      <td>Sara</td>\n",
       "      <td>7000</td>\n",
       "    </tr>\n",
       "    <tr>\n",
       "      <th>2</th>\n",
       "      <td>7</td>\n",
       "      <td>Shahid</td>\n",
       "      <td>6000</td>\n",
       "    </tr>\n",
       "  </tbody>\n",
       "</table>\n",
       "</div>"
      ],
      "text/plain": [
       "   CustomerID CustomerName  Amount\n",
       "1           2         Sara    7000\n",
       "2           7       Shahid    6000"
      ]
     },
     "execution_count": 49,
     "metadata": {},
     "output_type": "execute_result"
    }
   ],
   "source": [
    "# Merge both and calculate total spending per customer. Then display only customers who spent more than 50,000.\n",
    "customers = pd.DataFrame({\n",
    "    'CustomerID': [1, 2, 3,7],\n",
    "    'CustomerName': ['Ali', 'Sara', 'Umar', \"Shahid\"]\n",
    "})\n",
    "\n",
    "orders = pd.DataFrame({\n",
    "    'OrderID': [101, 102, 103, 104,105],\n",
    "    'CustomerID': [2, 1, 2, 4,7],\n",
    "    'Amount': [3000, 2500, 4000, 1000, 6000]\n",
    "})\n",
    "\n",
    "merged_data = pd.merge(customers, orders, on=\"CustomerID\", how=\"inner\")\n",
    "print(merged_data)\n",
    "total_spending_per_customer = merged_data.groupby([\"CustomerID\", \"CustomerName\"])[\"Amount\"].sum().reset_index()\n",
    "amount_greater_than_5000 = total_spending_per_customer[total_spending_per_customer[\"Amount\"] > 5000]\n",
    "amount_greater_than_5000"
   ]
  }
 ],
 "metadata": {
  "kernelspec": {
   "display_name": "Python 3",
   "language": "python",
   "name": "python3"
  },
  "language_info": {
   "codemirror_mode": {
    "name": "ipython",
    "version": 3
   },
   "file_extension": ".py",
   "mimetype": "text/x-python",
   "name": "python",
   "nbconvert_exporter": "python",
   "pygments_lexer": "ipython3",
   "version": "3.13.2"
  }
 },
 "nbformat": 4,
 "nbformat_minor": 5
}
