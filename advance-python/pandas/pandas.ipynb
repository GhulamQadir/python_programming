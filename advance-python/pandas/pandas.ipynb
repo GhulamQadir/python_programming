{
 "cells": [
  {
   "cell_type": "code",
   "execution_count": 2,
   "id": "c1e33590",
   "metadata": {},
   "outputs": [],
   "source": [
    "import pandas as pd\n"
   ]
  },
  {
   "cell_type": "code",
   "execution_count": 3,
   "id": "a6427b88",
   "metadata": {},
   "outputs": [
    {
     "data": {
      "text/plain": [
       "0      354\n",
       "1      567\n",
       "2       56\n",
       "3      342\n",
       "4        4\n",
       "5    68423\n",
       "dtype: int64"
      ]
     },
     "execution_count": 3,
     "metadata": {},
     "output_type": "execute_result"
    }
   ],
   "source": [
    "# series for 1 dimensional data\n",
    "s=pd.Series([354,567,56,342,4,68423])\n",
    "s"
   ]
  },
  {
   "cell_type": "code",
   "execution_count": 7,
   "id": "d656a6c6",
   "metadata": {},
   "outputs": [
    {
     "name": "stdout",
     "output_type": "stream",
     "text": [
      "RangeIndex(start=0, stop=6, step=1)\n",
      "[  354   567    56   342     4 68423]\n",
      "int64\n"
     ]
    }
   ],
   "source": [
    "print(s.index)\n",
    "print(s.values)\n",
    "print(s.dtype)"
   ]
  },
  {
   "cell_type": "code",
   "execution_count": 10,
   "id": "c70388ab",
   "metadata": {},
   "outputs": [
    {
     "data": {
      "text/plain": [
       "a      3\n",
       "b      4\n",
       "c     32\n",
       "d     42\n",
       "e    344\n",
       "f    242\n",
       "g      5\n",
       "dtype: int64"
      ]
     },
     "execution_count": 10,
     "metadata": {},
     "output_type": "execute_result"
    }
   ],
   "source": [
    "s1=pd.Series([3,4,32,42,344,242,5],index=['a','b','c','d','e','f','g'])\n",
    "# custom indexes are called labels\n",
    "s1"
   ]
  },
  {
   "cell_type": "code",
   "execution_count": null,
   "id": "616e4894",
   "metadata": {},
   "outputs": [
    {
     "name": "stdout",
     "output_type": "stream",
     "text": [
      "56 \n",
      "\n",
      "3    342\n",
      "4      4\n",
      "dtype: int64 \n",
      "\n",
      "344\n",
      "d     42\n",
      "e    344\n",
      "f    242\n",
      "dtype: int64\n"
     ]
    }
   ],
   "source": [
    "# slicing\n",
    "print(s[2],\"\\n\")\n",
    "print(s[3:5],\"\\n\")\n",
    "print(s1['e'])\n",
    "print(s1['d':'f'])   # last element is included when we access element using label"
   ]
  },
  {
   "cell_type": "code",
   "execution_count": 16,
   "id": "73633b63",
   "metadata": {},
   "outputs": [
    {
     "data": {
      "text/plain": [
       "a    False\n",
       "b    False\n",
       "c    False\n",
       "d    False\n",
       "e     True\n",
       "f     True\n",
       "g    False\n",
       "dtype: bool"
      ]
     },
     "execution_count": 16,
     "metadata": {},
     "output_type": "execute_result"
    }
   ],
   "source": [
    "s1>50"
   ]
  },
  {
   "cell_type": "code",
   "execution_count": 26,
   "id": "4c6964f2",
   "metadata": {},
   "outputs": [
    {
     "name": "stdout",
     "output_type": "stream",
     "text": [
      "(7,)\n",
      "7\n"
     ]
    }
   ],
   "source": [
    "print(s1.shape)\n",
    "print(s1.size)"
   ]
  },
  {
   "cell_type": "code",
   "execution_count": 27,
   "id": "6e1f1b26",
   "metadata": {},
   "outputs": [
    {
     "data": {
      "text/plain": [
       "pandas.core.series.Series"
      ]
     },
     "execution_count": 27,
     "metadata": {},
     "output_type": "execute_result"
    }
   ],
   "source": [
    "type(s1)"
   ]
  }
 ],
 "metadata": {
  "kernelspec": {
   "display_name": "Python 3",
   "language": "python",
   "name": "python3"
  },
  "language_info": {
   "codemirror_mode": {
    "name": "ipython",
    "version": 3
   },
   "file_extension": ".py",
   "mimetype": "text/x-python",
   "name": "python",
   "nbconvert_exporter": "python",
   "pygments_lexer": "ipython3",
   "version": "3.13.2"
  }
 },
 "nbformat": 4,
 "nbformat_minor": 5
}
