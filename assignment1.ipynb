{
 "cells": [
  {
   "cell_type": "code",
   "execution_count": 2,
   "metadata": {},
   "outputs": [
    {
     "name": "stdout",
     "output_type": "stream",
     "text": [
      "Hi Ali, Would you like to learn some Python today?\n"
     ]
    }
   ],
   "source": [
    "# Q:1) Personal message\n",
    "userName = \"Ali\"\n",
    "print(f'Hi {userName}, Would you like to learn some Python today?')"
   ]
  },
  {
   "cell_type": "code",
   "execution_count": 1,
   "metadata": {},
   "outputs": [
    {
     "name": "stdout",
     "output_type": "stream",
     "text": [
      "HASSAN\n",
      "Hassan\n",
      "hassan\n"
     ]
    }
   ],
   "source": [
    "# Q:2) Name Cases\n",
    "userName = \"Hassan\"\n",
    "print(userName.upper())\n",
    "print(userName.title())\n",
    "print(userName.lower())"
   ]
  },
  {
   "cell_type": "code",
   "execution_count": 3,
   "metadata": {},
   "outputs": [
    {
     "name": "stdout",
     "output_type": "stream",
     "text": [
      "Woody Allen once said, \"Eighty percent of success is showing up.\"\n"
     ]
    }
   ],
   "source": [
    "# Q:3) Famous quote in quotations\n",
    "quote = \"Eighty percent of success is showing up\"\n",
    "authorName = \"Woody Allen\"\n",
    "print(f\"{authorName} once said, \\\"{quote}.\\\"\")"
   ]
  },
  {
   "cell_type": "code",
   "execution_count": null,
   "metadata": {},
   "outputs": [],
   "source": [
    "# Q:4) Famous Quote Exercise\n",
    "famous_person = \"Woody Allen\"\n",
    "message = f\"{famous_person} once said \\\"Eighty percent of success is showing up.\\\"\"\n",
    "print(message)"
   ]
  },
  {
   "cell_type": "code",
   "execution_count": null,
   "metadata": {},
   "outputs": [],
   "source": [
    "# Q:5) Stripping names\n",
    "name=\"       \\t\\t\\t\\t               \\n\\n     \\t\\t  \\n\\n \\t\\t\\tShahzaib\\t\\t\\n\\n\\t\"\n",
    "print(name)\n",
    "print(name.lstrip())\n",
    "print(name.rstrip())\n",
    "print(name.strip())\n"
   ]
  }
 ],
 "metadata": {
  "kernelspec": {
   "display_name": "Python 3",
   "language": "python",
   "name": "python3"
  },
  "language_info": {
   "codemirror_mode": {
    "name": "ipython",
    "version": 3
   },
   "file_extension": ".py",
   "mimetype": "text/x-python",
   "name": "python",
   "nbconvert_exporter": "python",
   "pygments_lexer": "ipython3",
   "version": "3.13.2"
  }
 },
 "nbformat": 4,
 "nbformat_minor": 2
}
