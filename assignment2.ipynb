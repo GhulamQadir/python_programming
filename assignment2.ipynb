{
 "cells": [
  {
   "cell_type": "code",
   "execution_count": null,
   "metadata": {},
   "outputs": [
    {
     "name": "stdout",
     "output_type": "stream",
     "text": [
      "Given number is even\n"
     ]
    }
   ],
   "source": [
    "# Q:1) Write a program that prompts the user to input a number and display if the number is even or odd.\n",
    "num = int(input(\"Enter any integer number\"))\n",
    "if num % 2 == 0:\n",
    "    print(\"Given number is even\")\n",
    "else:\n",
    "    print(\"Given number is odd\")"
   ]
  },
  {
   "cell_type": "code",
   "execution_count": null,
   "metadata": {},
   "outputs": [
    {
     "name": "stdout",
     "output_type": "stream",
     "text": [
      "You are not eligible to cast your vote\n"
     ]
    }
   ],
   "source": [
    "# Q:2) Write a Python program that takes an age as input and determines whether a person is eligible to vote.\n",
    "age = int(input(\"Enter your age\"))\n",
    "if age >= 18:\n",
    "    print(\"Your are eligible to vote\")\n",
    "else:\n",
    "    print(\"You are not eligible to cast your vote\")"
   ]
  },
  {
   "cell_type": "code",
   "execution_count": null,
   "metadata": {},
   "outputs": [
    {
     "name": "stdout",
     "output_type": "stream",
     "text": [
      "7\n"
     ]
    }
   ],
   "source": [
    "# Q:3) Write a program that prompts the user to input two integers and outputs the largest.\n",
    "num1 = int(input(\"Enter first integer number\"))\n",
    "num2 = int(input(\"Enter second integer number\"))\n",
    "\n",
    "if num1 >= num2:\n",
    "    print(num1)\n",
    "else:\n",
    "    print(num2)"
   ]
  },
  {
   "cell_type": "code",
   "execution_count": null,
   "metadata": {},
   "outputs": [
    {
     "name": "stdout",
     "output_type": "stream",
     "text": [
      "Number is positive\n"
     ]
    }
   ],
   "source": [
    "# Q:4) Write a program that prompts the user to enter a number and determines whether it is positive, negative, or zero.\n",
    "number = int(input(\"Enter any number\"))\n",
    "if number > 0:\n",
    "    print(\"Number is positive\")\n",
    "elif number < 0:\n",
    "    print(\"Number is negative\")\n",
    "else:\n",
    "    print(\"Number is zero\")"
   ]
  },
  {
   "cell_type": "code",
   "execution_count": null,
   "metadata": {},
   "outputs": [
    {
     "name": "stdout",
     "output_type": "stream",
     "text": [
      "Enter your correct age\n"
     ]
    }
   ],
   "source": [
    "# Q:5) Write a program that prompts the user to enter their age and prints the corresponding age group.\n",
    "age = int(input(\"Enter your age\"))\n",
    "if age == 0:\n",
    "    print(\"Enter your correct age\")\n",
    "elif age < 13:\n",
    "    print(\"child\")\n",
    "elif age < 20:\n",
    "    print(\"teenager\")\n",
    "elif age < 60:\n",
    "    print(\"adult\")\n",
    "else:\n",
    "    print(\"Senior citizen\")"
   ]
  },
  {
   "cell_type": "code",
   "execution_count": null,
   "metadata": {},
   "outputs": [
    {
     "name": "stdout",
     "output_type": "stream",
     "text": [
      "Day of the week is Saturday\n"
     ]
    }
   ],
   "source": [
    "# Q:6) Write a program that prompts the user to input a number from 1 to 7. The program should display the corresponding day for the given number.\n",
    "days = [\"Sunday\", \"Monday\", \"Tuesday\", \"Wednesday\", \"Thursday\", \"Friday\", \"Saturday\"]\n",
    "numOfDay = int(input(\"Enter integer number from 1 to 7\"))\n",
    "dayOfTheWeek = days[numOfDay - 1]\n",
    "print(f\"Day of the week is {dayOfTheWeek}\")"
   ]
  },
  {
   "cell_type": "code",
   "execution_count": null,
   "metadata": {},
   "outputs": [
    {
     "name": "stdout",
     "output_type": "stream",
     "text": [
      "25.51\n",
      "Overweight\n"
     ]
    }
   ],
   "source": [
    "# Q:7) Write a program that prompts the user to enter their weight (in kilograms) and height (in meters). The program should calculate the Body Mass Index (BMI)\n",
    "usersWeight = float(input(\"Enter weight in kilograms\"))\n",
    "usersHeight = float(input(\"Enter height in meters\"))\n",
    "bmi = round(usersWeight / (usersHeight * usersHeight), 2)\n",
    "print(bmi)\n",
    "if bmi < 18.5:\n",
    "    print(\"Underweight\")\n",
    "elif bmi <= 24.9:\n",
    "    print(\"Normal weight\")\n",
    "elif bmi <= 29.9:\n",
    "    print(\"Overweight\")\n",
    "else:\n",
    "    print(\"Obesity\")"
   ]
  },
  {
   "cell_type": "code",
   "execution_count": null,
   "metadata": {},
   "outputs": [
    {
     "name": "stdout",
     "output_type": "stream",
     "text": [
      "Average marks in the given subjects is 52.0\n"
     ]
    }
   ],
   "source": [
    "# Q:8) The marks obtained by a student in 3 different subjects are input by the user. Your program should calculate the average of subjects and display the grade.\n",
    "sub1Marks = float(input(\"Enter obtained marks in English\"))\n",
    "sub2Marks = float(input(\"Enter obtained marks in Urdu\"))\n",
    "sub3Marks = float(input(\"Enter obtained marks in Maths\"))\n",
    "average = (sub1Marks + sub2Marks + sub3Marks) / 3\n",
    "print(f\"Average marks in the given subjects is {average}\")"
   ]
  },
  {
   "cell_type": "code",
   "execution_count": null,
   "metadata": {},
   "outputs": [
    {
     "name": "stdout",
     "output_type": "stream",
     "text": [
      "The equation have two Equal roots:\n",
      "-1.0 and -1.0\n"
     ]
    }
   ],
   "source": [
    "# Q:9) Write a program that prompts the user to input the value of a (the coefficient of x2), b(the coefficient of x), and c (the constant term) and outputs the roots of the quadratic equation.\n",
    "\n",
    "import cmath\n",
    "\n",
    "a = float(input(\"Enter the value of a (the coefficient of x^2)\"))\n",
    "b = float(input(\"Enter the value of b (the coefficient of x)\"))\n",
    "c = float(input(\"Enter the value of c (the constant term)\"))\n",
    "root1 = 0\n",
    "root2 = 0\n",
    "\n",
    "discriminant = b**2 - 4 * a * c\n",
    "\n",
    "if discriminant == 0:\n",
    "    print(\"The equation have two Equal roots:\")\n",
    "    root1 = root2 = (-b + discriminant * 0.5) / (2 * a)\n",
    "elif discriminant > 0:\n",
    "    print(\"The equation have two Real roots:\")\n",
    "    root1 = (-b + discriminant * 0.5) / (2 * a)\n",
    "    root2 = (-b - discriminant * 0.5) / (2 * a)\n",
    "else:\n",
    "    print(\"The equation have two Complex roots:\")\n",
    "    root1 = (-b + cmath.sqrt(discriminant)) / (2 * a)\n",
    "    root2 = (-b - cmath.sqrt(discriminant)) / (2 * a)\n",
    "\n",
    "print(f\"{root1} and {root2}\")"
   ]
  },
  {
   "cell_type": "code",
   "execution_count": 3,
   "metadata": {},
   "outputs": [
    {
     "name": "stdout",
     "output_type": "stream",
     "text": [
      "Numbers after sort are [3.0, 4.0, 5.0]\n"
     ]
    }
   ],
   "source": [
    "# Q:10) Write a program that prompts the user to enter three numbers and sorts them in ascending order. The program should print the sorted numbers.\n",
    "numList = []\n",
    "num1 = float(input(\"Enter first number\"))\n",
    "numList.append(num1)\n",
    "num2 = float(input(\"Enter second number\"))\n",
    "numList.append(num2)\n",
    "num3 = float(input(\"Enter third number\"))\n",
    "numList.append(num3)\n",
    "\n",
    "numList.sort()\n",
    "print(f\"Numbers after sort are {numList}\")"
   ]
  },
  {
   "cell_type": "code",
   "execution_count": null,
   "metadata": {},
   "outputs": [
    {
     "name": "stdout",
     "output_type": "stream",
     "text": [
      "Largest from the given numbers is 7.0\n"
     ]
    }
   ],
   "source": [
    "# Q:11) Write a program that prompts the user to input three integers and outputs the largest.\n",
    "numList = []\n",
    "num1 = float(input(\"Enter first num\"))\n",
    "numList.append(num1)\n",
    "num2 = float(input(\"Enter second num\"))\n",
    "numList.append(num2)\n",
    "num3 = float(input(\"Enter third num\"))\n",
    "numList.append(num3)\n",
    "largest = 0\n",
    "\n",
    "for i in range(len(numList)):\n",
    "    if numList[i] > largest:\n",
    "        largest = numList[i]\n",
    "\n",
    "print(f\"Largest from the given numbers is {largest}\")"
   ]
  },
  {
   "cell_type": "code",
   "execution_count": null,
   "metadata": {},
   "outputs": [
    {
     "name": "stdout",
     "output_type": "stream",
     "text": [
      "Given character is vowel\n"
     ]
    }
   ],
   "source": [
    "# Q:12) Write a program that prompts the user to input a character and determine the character is vowel or consonant.\n",
    "character = input(\"Enter any character\").lower()\n",
    "vowels = [\"a\", \"e\", \"i\", \"o\", \"u\"]\n",
    "for i in range(len(vowels)):\n",
    "    if character == vowels[i]:\n",
    "        print(\"Given character is vowel\")"
   ]
  },
  {
   "cell_type": "code",
   "execution_count": null,
   "metadata": {},
   "outputs": [
    {
     "name": "stdout",
     "output_type": "stream",
     "text": [
      "24 is a leap year\n"
     ]
    }
   ],
   "source": [
    "# Q:13) Write a program that prompts the user to input a year and determine whether the year is a leap year or not.\n",
    "year = int(input(\"Enter any year\"))\n",
    "if (year % 4 == 0 and year % 100 != 0) or year % 400 == 0:\n",
    "    print(f\"{year} is a leap year\")\n",
    "else:\n",
    "    print(f\"{year} is not a leap year\")"
   ]
  },
  {
   "cell_type": "code",
   "execution_count": 30,
   "metadata": {},
   "outputs": [
    {
     "name": "stdout",
     "output_type": "stream",
     "text": [
      "Your telephone bill is Rs.286.2\n"
     ]
    }
   ],
   "source": [
    "# Q:14) Write a program that prompts the user to input number of calls and calculate the monthly telephone bills as per the following rule:\n",
    "numOfCalls = int(input('Enter number of monthly call'))\n",
    "bill = 0\n",
    "if numOfCalls <= 100:\n",
    "    bill = 200\n",
    "elif numOfCalls > 100 and numOfCalls <= 150:\n",
    "    extraCalls = numOfCalls-100\n",
    "    bill = 200+ (extraCalls*0.60)\n",
    "elif numOfCalls>150 and numOfCalls<=200:\n",
    "    bill = 200+ (50*0.60)+ ((numOfCalls-150)*0.50)\n",
    "else:\n",
    "    bill = 200+ (50*0.60)+ (50*0.50) + ((numOfCalls-200)*0.40)\n",
    "\n",
    "print(f\"Your telephone bill is Rs.{bill}\")    "
   ]
  }
 ],
 "metadata": {
  "kernelspec": {
   "display_name": "Python 3",
   "language": "python",
   "name": "python3"
  },
  "language_info": {
   "codemirror_mode": {
    "name": "ipython",
    "version": 3
   },
   "file_extension": ".py",
   "mimetype": "text/x-python",
   "name": "python",
   "nbconvert_exporter": "python",
   "pygments_lexer": "ipython3",
   "version": "3.13.2"
  }
 },
 "nbformat": 4,
 "nbformat_minor": 2
}
