{
 "cells": [
  {
   "cell_type": "code",
   "execution_count": 2,
   "metadata": {},
   "outputs": [
    {
     "name": "stdout",
     "output_type": "stream",
     "text": [
      "Given number is even\n"
     ]
    }
   ],
   "source": [
    "# Q:1) Write a program that prompts the user to input a number and display if the number is even or odd.\n",
    "num = int(input(\"Enter any integer number\"))\n",
    "if num%2==0:\n",
    "    print(\"Given number is even\")\n",
    "else:\n",
    "    print(\"Given number is odd\")    \n"
   ]
  },
  {
   "cell_type": "code",
   "execution_count": 4,
   "metadata": {},
   "outputs": [
    {
     "name": "stdout",
     "output_type": "stream",
     "text": [
      "You are not eligible to cast your vote\n"
     ]
    }
   ],
   "source": [
    "# Q:2) Write a Python program that takes an age as input and determines whether a person is eligible to vote.\n",
    "age = int(input(\"Enter your age\"))\n",
    "if age>=18:\n",
    "    print(\"Your are eligible to vote\")\n",
    "else:\n",
    "    print(\"You are not eligible to cast your vote\")"
   ]
  },
  {
   "cell_type": "code",
   "execution_count": null,
   "metadata": {},
   "outputs": [
    {
     "name": "stdout",
     "output_type": "stream",
     "text": [
      "7\n"
     ]
    }
   ],
   "source": [
    "# Q:3) Write a program that prompts the user to input two integers and outputs the largest.\n",
    "num1 = int(input(\"Enter first integer number\"))\n",
    "num2 = int(input(\"Enter second integer number\"))\n",
    "\n",
    "if num1>=num2:\n",
    "    print(num1)\n",
    "else:\n",
    "    print(num2)"
   ]
  },
  {
   "cell_type": "code",
   "execution_count": null,
   "metadata": {},
   "outputs": [
    {
     "name": "stdout",
     "output_type": "stream",
     "text": [
      "Number is positive\n"
     ]
    }
   ],
   "source": [
    "# Q:4) Write a program that prompts the user to enter a number and determines whether it is positive, negative, or zero.\n",
    "number = int(input(\"Enter any number\"))\n",
    "if number>0:\n",
    "    print(\"Number is positive\")\n",
    "elif number<0:\n",
    "    print(\"Number is negative\")\n",
    "else:\n",
    "  print(\"Number is zero\")        "
   ]
  },
  {
   "cell_type": "code",
   "execution_count": 19,
   "metadata": {},
   "outputs": [
    {
     "name": "stdout",
     "output_type": "stream",
     "text": [
      "Enter your correct age\n"
     ]
    }
   ],
   "source": [
    "# Q:5) Write a program that prompts the user to enter their age and prints the corresponding age group.\n",
    "age = int(input(\"Enter your age\"))\n",
    "if age==0:\n",
    "    print(\"Enter your correct age\")\n",
    "elif age<13:\n",
    "    print(\"child\")\n",
    "elif age<20:\n",
    "    print(\"teenager\")\n",
    "elif age<60:\n",
    "    print(\"adult\") \n",
    "else:\n",
    "    print(\"Senior citizen\")   "
   ]
  }
 ],
 "metadata": {
  "kernelspec": {
   "display_name": "Python 3",
   "language": "python",
   "name": "python3"
  },
  "language_info": {
   "codemirror_mode": {
    "name": "ipython",
    "version": 3
   },
   "file_extension": ".py",
   "mimetype": "text/x-python",
   "name": "python",
   "nbconvert_exporter": "python",
   "pygments_lexer": "ipython3",
   "version": "3.13.2"
  }
 },
 "nbformat": 4,
 "nbformat_minor": 2
}
