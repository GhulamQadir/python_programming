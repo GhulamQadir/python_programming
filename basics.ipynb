{
 "cells": [
  {
   "cell_type": "code",
   "execution_count": 10,
   "metadata": {},
   "outputs": [
    {
     "data": {
      "text/plain": [
       "'We are\\nlearning\\n    pyhon\\n'"
      ]
     },
     "execution_count": 10,
     "metadata": {},
     "output_type": "execute_result"
    }
   ],
   "source": [
    "# docstring (used to document a function, class, module, or method.)\n",
    "\"\"\"We are\n",
    "learning\n",
    "    pyhon\n",
    "\"\"\""
   ]
  },
  {
   "cell_type": "code",
   "execution_count": 11,
   "metadata": {},
   "outputs": [
    {
     "name": "stdout",
     "output_type": "stream",
     "text": [
      "We are\n",
      "    learning\n",
      "        Python\n"
     ]
    }
   ],
   "source": [
    "# multi line string\n",
    "b: str = \"\"\"We are\n",
    "    learning\n",
    "        Python\"\"\"\n",
    "print(b)"
   ]
  },
  {
   "cell_type": "code",
   "execution_count": 12,
   "metadata": {},
   "outputs": [
    {
     "name": "stdout",
     "output_type": "stream",
     "text": [
      "We are learning python\n",
      "Nice to meet you Ali .\n",
      "Nice to meet you, Ali\n",
      "learnig_python\n"
     ]
    }
   ],
   "source": [
    "# ways of printing statements\n",
    "userName: str = \"Ali\"\n",
    "new = \".\"\n",
    "print(\"We are learning python\")\n",
    "print(\"Nice to meet you {} {}\".format(userName, new))  # using format function\n",
    "print(f\"Nice to meet you, {userName}\")  # using f string\n",
    "print(\"learnig\", \"python\", sep=\"_\")  # separating multiple arguments using separator"
   ]
  },
  {
   "cell_type": "code",
   "execution_count": 13,
   "metadata": {},
   "outputs": [
    {
     "name": "stdout",
     "output_type": "stream",
     "text": [
      "(4+5j)\n",
      "Complex Addition:  (3+5j)\n",
      "Complex Multiplication:  (-4+7j)\n"
     ]
    }
   ],
   "source": [
    "# complex number\n",
    "numComplex: complex = 4 + 5j\n",
    "### real part is mandatory in imaginary like imaginary is never stand alone (j should be assign with any number)\n",
    "print(numComplex)\n",
    "\n",
    "# complex equation\n",
    "addition_eq: complex = (2 + 3j) + (1 + 2j)\n",
    "print(\"Complex Addition: \", addition_eq)\n",
    "\n",
    "# Multiplication formula: (a + bj)(c + dj)=(ac − bd)+(ad + bc)j\n",
    "multiplication_eq: complex = (2 + 3j) * (1 + 2j)\n",
    "print(\"Complex Multiplication: \", multiplication_eq)"
   ]
  },
  {
   "cell_type": "code",
   "execution_count": 14,
   "metadata": {},
   "outputs": [
    {
     "name": "stdout",
     "output_type": "stream",
     "text": [
      "Cat\n",
      "Lion\n",
      "Hen\n"
     ]
    }
   ],
   "source": [
    "#    LOOPS\n",
    "list1 = [\"Cat\", \"Lion\", \"Hen\"]\n",
    "for animal in list1:\n",
    "    print(animal)"
   ]
  },
  {
   "cell_type": "code",
   "execution_count": 15,
   "metadata": {},
   "outputs": [
    {
     "name": "stdout",
     "output_type": "stream",
     "text": [
      "0: Cat\n",
      "1: Lion\n",
      "2: Hen\n"
     ]
    }
   ],
   "source": [
    "# if we want to iterate\n",
    "for i in range(len(list1)):\n",
    "    print(f\"{i}: {list1[i]}\")"
   ]
  },
  {
   "cell_type": "code",
   "execution_count": 16,
   "metadata": {},
   "outputs": [
    {
     "name": "stdout",
     "output_type": "stream",
     "text": [
      "0: Cat\n",
      "1: Lion\n",
      "2: Hen\n"
     ]
    }
   ],
   "source": [
    "# using enumerate\n",
    "for i, animal in enumerate(list1):\n",
    "    print(f\"{i}: {animal}\")"
   ]
  },
  {
   "cell_type": "markdown",
   "metadata": {},
   "source": [
    "### **else with for loop**\n",
    "\n",
    "- Python allows else keyword to be used with for loop and while loop. The else block appears after the body of the for loop. The statements in the else block will be executed aftera all iterations are completed.\n"
   ]
  },
  {
   "cell_type": "code",
   "execution_count": 17,
   "metadata": {},
   "outputs": [
    {
     "name": "stdout",
     "output_type": "stream",
     "text": [
      "0\n",
      "1\n",
      "2\n",
      "Iterations are completed\n"
     ]
    }
   ],
   "source": [
    "for i in range(3):\n",
    "    print(i)\n",
    "else:\n",
    "    print(\"Iterations are completed\")"
   ]
  },
  {
   "cell_type": "code",
   "execution_count": 18,
   "metadata": {},
   "outputs": [
    {
     "name": "stdout",
     "output_type": "stream",
     "text": [
      "0\n",
      "1\n",
      "2\n"
     ]
    }
   ],
   "source": [
    "# else block will be executed after all iterations are completed\n",
    "i = 0\n",
    "while i < 5:\n",
    "    print(i)\n",
    "    i += 1\n",
    "    if i == 3:\n",
    "        break\n",
    "else:\n",
    "    print(\"Iterations are completed\")\n",
    "\n",
    "## the else block does not execute because the loop is break and the iterations are not completed"
   ]
  },
  {
   "cell_type": "markdown",
   "metadata": {},
   "source": [
    "## **List**\n"
   ]
  },
  {
   "cell_type": "code",
   "execution_count": 19,
   "metadata": {},
   "outputs": [
    {
     "name": "stdout",
     "output_type": "stream",
     "text": [
      "[1, 2, 3, 5, 6, 3, 5]\n",
      "List after removing duplicates [1, 2, 3, 5, 6]\n"
     ]
    }
   ],
   "source": [
    "# list without duplicates\n",
    "duplicatedList: list = [1, 2, 3, 5, 6, 3, 5]\n",
    "uniqueList: list = []\n",
    "print(duplicatedList)\n",
    "for item in duplicatedList:\n",
    "    if item not in uniqueList:\n",
    "        uniqueList.append(item)\n",
    "\n",
    "print(f\"List after removing duplicates {uniqueList}\")"
   ]
  },
  {
   "cell_type": "code",
   "execution_count": 20,
   "metadata": {},
   "outputs": [
    {
     "name": "stdout",
     "output_type": "stream",
     "text": [
      "[0, 1, 2, 3, 4, 5, 6, 7, 8, 9, 10, 11, 12, 13, 14, 15, 16, 17, 18, 19]\n",
      "[0, 5, 10, 15, 20, 25, 30, 35, 40, 45, 50]\n"
     ]
    }
   ],
   "source": [
    "# printing counting in list using range function\n",
    "print(list(range(0, 20)))\n",
    "print(list(range(0, 51, 5)))  # also giving step"
   ]
  },
  {
   "cell_type": "code",
   "execution_count": 21,
   "metadata": {},
   "outputs": [
    {
     "name": "stdout",
     "output_type": "stream",
     "text": [
      "e\n",
      "ppl\n"
     ]
    }
   ],
   "source": [
    "fruit = \"Apple\"\n",
    "print(fruit[-1])  # accessing element from list\n",
    "print(fruit[1:4])  # slicing"
   ]
  },
  {
   "cell_type": "code",
   "execution_count": 22,
   "metadata": {},
   "outputs": [
    {
     "name": "stdout",
     "output_type": "stream",
     "text": [
      "['Apple', 'Mango', 'Banana']\n",
      "['Apple', 'Pineapple', 'Mango', 'Banana']\n",
      "['Apple', 'Pineapple', 'Mango', 'Banana', ['Orange', 'Pomegranate']]\n",
      "['Apple', 'Pineapple', 'Mango', 'Banana', ['Orange', 'Pomegranate'], 'Guava', 'Grapes']\n",
      "None\n",
      "Guava\n"
     ]
    }
   ],
   "source": [
    "##########     LIST METHODS    ###########\n",
    "list1 = [\"Apple\", \"Mango\", \"Banana\"]\n",
    "print(list1)\n",
    "# insert element at specific position in a list\n",
    "list1.insert(1, \"Pineapple\")\n",
    "print(list1)\n",
    "\n",
    "list2 = [\"Orange\", \"Pomegranate\"]\n",
    "list3 = [\"Guava\", \"Grapes\"]\n",
    "list1.append(\n",
    "    list2\n",
    ")  # appends list as an element, not separate every element of appended list but take it as a single element\n",
    "print(list1)\n",
    "\n",
    "list1.extend(list3)  # it will adds all the elements in an existing list\n",
    "print(list1)\n",
    "\n",
    "# remove method (it does not return remove element)\n",
    "removedVal = list1.remove(\"Mango\")\n",
    "print(removedVal)  # does not return value\n",
    "\n",
    "# pop method (it removes the element and also return it, also we have to give index of the specified element)\n",
    "popVal = list1.pop(4)\n",
    "print(popVal)  # returns the deleted element"
   ]
  },
  {
   "cell_type": "code",
   "execution_count": 23,
   "metadata": {},
   "outputs": [
    {
     "name": "stdout",
     "output_type": "stream",
     "text": [
      "7 in my list:  False\n",
      "10 is not in my list:  True\n"
     ]
    }
   ],
   "source": [
    "myList: list[int] = [32, 43, 11, 2, 6]\n",
    "print(\"7 in my list: \", 7 in myList)\n",
    "print(\"10 is not in my list: \", 10 not in myList)"
   ]
  },
  {
   "cell_type": "code",
   "execution_count": 24,
   "metadata": {},
   "outputs": [
    {
     "name": "stdout",
     "output_type": "stream",
     "text": [
      "<class 'float'>\n",
      "False\n"
     ]
    }
   ],
   "source": [
    "# check instance\n",
    "num: float = 77543.545\n",
    "print(type(num))\n",
    "print(f\"{isinstance(num, int)}\")"
   ]
  },
  {
   "cell_type": "code",
   "execution_count": 25,
   "metadata": {},
   "outputs": [
    {
     "name": "stdout",
     "output_type": "stream",
     "text": [
      "Apple Apple Apple \n"
     ]
    }
   ],
   "source": [
    "fruit: str = \"Apple \" * 3  # multiplying string\n",
    "print(fruit)"
   ]
  },
  {
   "cell_type": "markdown",
   "metadata": {},
   "source": [
    "## **Tuple**\n"
   ]
  },
  {
   "cell_type": "code",
   "execution_count": 26,
   "metadata": {},
   "outputs": [
    {
     "name": "stdout",
     "output_type": "stream",
     "text": [
      "<class 'tuple'>\n"
     ]
    }
   ],
   "source": [
    "# TUPLE (unchangeable) we cannot update it\n",
    "fruitsTuple = (\"Apple\", \"Mango\", \"Banana\")\n",
    "print(type(fruitsTuple))"
   ]
  },
  {
   "cell_type": "code",
   "execution_count": 27,
   "metadata": {},
   "outputs": [
    {
     "name": "stdout",
     "output_type": "stream",
     "text": [
      "Mango\n",
      "Banana\n"
     ]
    }
   ],
   "source": [
    "print(fruitsTuple[1])\n",
    "fruit3 = fruitsTuple[2]\n",
    "print(fruit3)"
   ]
  },
  {
   "cell_type": "code",
   "execution_count": 29,
   "metadata": {},
   "outputs": [],
   "source": [
    "# fruitsTuple[1] = \"Orange\"\n",
    "# print(fruitsTuple)  # error! we cannot modify it"
   ]
  },
  {
   "cell_type": "code",
   "execution_count": null,
   "metadata": {},
   "outputs": [
    {
     "name": "stdout",
     "output_type": "stream",
     "text": [
      "Apple\n",
      "Mango\n",
      "Banana\n"
     ]
    }
   ],
   "source": [
    "# unpacking tuple items\n",
    "fruit1, fruit2, fruit3 = fruitsTuple\n",
    "print(fruit1)\n",
    "print(fruit2)\n",
    "print(fruit3)"
   ]
  },
  {
   "cell_type": "code",
   "execution_count": null,
   "metadata": {},
   "outputs": [
    {
     "name": "stdout",
     "output_type": "stream",
     "text": [
      "Cat\n",
      "['Dog', 'Elephant', 'Mouse']\n",
      "Horse\n"
     ]
    }
   ],
   "source": [
    "# unpacking multiple items in a single variable\n",
    "animalsTuple = (\"Cat\", \"Dog\", \"Elephant\", \"Mouse\", \"Horse\")\n",
    "animal1, *otherAnimals, lastAnimal = animalsTuple\n",
    "print(animal1)\n",
    "print(otherAnimals)\n",
    "print(lastAnimal)"
   ]
  },
  {
   "cell_type": "markdown",
   "metadata": {},
   "source": [
    "- if we want to mnaipulate tuple, we must convert the tuple into list first\n"
   ]
  },
  {
   "cell_type": "code",
   "execution_count": null,
   "metadata": {},
   "outputs": [
    {
     "name": "stdout",
     "output_type": "stream",
     "text": [
      "('JavaScript', 'Python', 'Dart')\n",
      "['JavaScript', 'Python', 'Dart', 'Java']\n",
      "('Rust', 'Python', 'Dart', 'Java')\n"
     ]
    }
   ],
   "source": [
    "prog_languages = (\"JavaScript\", \"Python\", \"Dart\")\n",
    "print(prog_languages)\n",
    "temp = list(prog_languages)\n",
    "temp.append(\"Java\")\n",
    "print(temp)\n",
    "temp[0] = \"Rust\"\n",
    "prog_languages = tuple(temp)\n",
    "print(prog_languages)"
   ]
  },
  {
   "cell_type": "code",
   "execution_count": null,
   "metadata": {},
   "outputs": [
    {
     "data": {
      "text/plain": [
       "('Rust', 'Python', 'Dart', 'Java', 'Go', 'JavaScript')"
      ]
     },
     "execution_count": 9,
     "metadata": {},
     "output_type": "execute_result"
    }
   ],
   "source": [
    "# merge tuples\n",
    "merge_languages = prog_languages + (\"Go\", \"JavaScript\")\n",
    "merge_languages"
   ]
  },
  {
   "cell_type": "code",
   "execution_count": null,
   "metadata": {},
   "outputs": [
    {
     "name": "stdout",
     "output_type": "stream",
     "text": [
      "There are 2 occurences of Python in a tuple\n"
     ]
    }
   ],
   "source": [
    "# count the occurences of element in a tuple\n",
    "languages = tuple(temp) + prog_languages\n",
    "check = languages.count(\"Python\")\n",
    "print(f\"There are {check} occurences of Python in a tuple\")"
   ]
  },
  {
   "cell_type": "code",
   "execution_count": null,
   "metadata": {},
   "outputs": [
    {
     "data": {
      "text/plain": [
       "3"
      ]
     },
     "execution_count": 16,
     "metadata": {},
     "output_type": "execute_result"
    }
   ],
   "source": [
    "# index: this returns the first occurence of the given element from the tuple\n",
    "languages.index(\"Java\")"
   ]
  },
  {
   "cell_type": "markdown",
   "metadata": {},
   "source": [
    "## **Dictionary**"
   ]
  },
  {
   "cell_type": "code",
   "execution_count": 5,
   "metadata": {},
   "outputs": [
    {
     "name": "stdout",
     "output_type": "stream",
     "text": [
      "{'name': 'Ali', 'class': 7, 'rollNo': 6735}\n",
      "{'name': 'Ali', 'class': 6, 'rollNo': 6735, 'section': 'B'}\n"
     ]
    }
   ],
   "source": [
    "stdInfo:dict = {\n",
    "    \"name\":\"Ali\",\n",
    "    \"class\":7,\n",
    "    \"rollNo\":6735\n",
    "}\n",
    "print(stdInfo)\n",
    "stdInfo.update({\"class\":6, \"section\":\"B\"})\n",
    "print(stdInfo)"
   ]
  },
  {
   "cell_type": "code",
   "execution_count": 16,
   "metadata": {},
   "outputs": [
    {
     "name": "stdout",
     "output_type": "stream",
     "text": [
      "name: Ali\n",
      "class: 6\n",
      "rollNo: 6735\n",
      "section: B\n"
     ]
    }
   ],
   "source": [
    "for key, value in stdInfo.items():\n",
    "    print(f\"{key}: {value}\")"
   ]
  },
  {
   "cell_type": "code",
   "execution_count": 12,
   "metadata": {},
   "outputs": [
    {
     "name": "stdout",
     "output_type": "stream",
     "text": [
      "{1233: 45, 5454: 68}\n",
      "{6532: 57, 9893: 87}\n",
      "{1233: 45, 5454: 68, 6532: 57, 9893: 87}\n"
     ]
    }
   ],
   "source": [
    "marks1 = {1233:45,5454:68}\n",
    "marks2 = {6532:57,9893:87}\n",
    "print(marks1)\n",
    "marks1.update(marks2)\n",
    "print(marks2)\n",
    "print(marks1)"
   ]
  },
  {
   "cell_type": "code",
   "execution_count": 13,
   "metadata": {},
   "outputs": [
    {
     "data": {
      "text/plain": [
       "{9893: 87}"
      ]
     },
     "execution_count": 13,
     "metadata": {},
     "output_type": "execute_result"
    }
   ],
   "source": [
    "marks2.pop(6532)\n",
    "marks2"
   ]
  },
  {
   "cell_type": "code",
   "execution_count": 14,
   "metadata": {},
   "outputs": [
    {
     "data": {
      "text/plain": [
       "{1233: 45, 5454: 68, 6532: 57}"
      ]
     },
     "execution_count": 14,
     "metadata": {},
     "output_type": "execute_result"
    }
   ],
   "source": [
    "marks1.popitem()\n",
    "marks1"
   ]
  },
  {
   "cell_type": "code",
   "execution_count": 15,
   "metadata": {},
   "outputs": [
    {
     "data": {
      "text/plain": [
       "{5454: 68, 6532: 57}"
      ]
     },
     "execution_count": 15,
     "metadata": {},
     "output_type": "execute_result"
    }
   ],
   "source": [
    "del marks1[1233]\n",
    "marks1"
   ]
  },
  {
   "cell_type": "code",
   "execution_count": null,
   "metadata": {},
   "outputs": [
    {
     "name": "stdout",
     "output_type": "stream",
     "text": [
      "2\n",
      "Value of global variable 1\n",
      "5\n",
      "Value after updation: 7\n"
     ]
    }
   ],
   "source": [
    "# SCOPE OF VARIABLE\n",
    "x = 1\n",
    "\n",
    "\n",
    "def scope():\n",
    "    x = 2\n",
    "    print(x)\n",
    "\n",
    "\n",
    "scope()\n",
    "print(f\"Value of global variable {x}\")\n",
    "\n",
    "\n",
    "# converting local variable to global\n",
    "def newScope():\n",
    "    global a\n",
    "    a = 5\n",
    "    print(a)\n",
    "\n",
    "\n",
    "newScope()\n",
    "a = 7\n",
    "print(f\"Value after updation: {a}\")"
   ]
  },
  {
   "cell_type": "code",
   "execution_count": null,
   "metadata": {},
   "outputs": [
    {
     "name": "stdout",
     "output_type": "stream",
     "text": [
      "a == b\n",
      "Short hand if else statements\n",
      "20\n"
     ]
    }
   ],
   "source": [
    "# Short hand if-else statement\n",
    "a = 32\n",
    "b = 50\n",
    "\n",
    "\n",
    "def short_hand_statement():\n",
    "    \"\"\"Short hand if else statements\"\"\"\n",
    "\n",
    "    global b\n",
    "    b = 32\n",
    "    print(\"a > b\") if a > b else print(\"a < b\") if a < b else print(\"a == b\")\n",
    "\n",
    "\n",
    "short_hand_statement()\n",
    "print(short_hand_statement.__doc__)\n",
    "\n",
    "c = 12 if a > b else 20\n",
    "print(c)"
   ]
  },
  {
   "cell_type": "code",
   "execution_count": null,
   "metadata": {},
   "outputs": [
    {
     "name": "stdout",
     "output_type": "stream",
     "text": [
      "24\n"
     ]
    }
   ],
   "source": [
    "# Recursion\n",
    "def factorial(n):\n",
    "    if n == 0:\n",
    "        return 1\n",
    "    return n * factorial(n - 1)\n",
    "\n",
    "\n",
    "print(factorial(4))"
   ]
  },
  {
   "cell_type": "markdown",
   "metadata": {},
   "source": [
    "## **Reference Sharing**\n"
   ]
  },
  {
   "cell_type": "code",
   "execution_count": 12,
   "metadata": {},
   "outputs": [
    {
     "name": "stdout",
     "output_type": "stream",
     "text": [
      "{'name': 'Shakir', 'age': 14}\n",
      "{'name': 'Shakir', 'age': 14}\n"
     ]
    }
   ],
   "source": [
    "std: object = {\n",
    "    \"name\": \"Ali\",\n",
    "    \"age\": 14,\n",
    "}  # this will be updated because it is passed by refernce\n",
    "std1 = std\n",
    "std1[\"name\"] = (\n",
    "    \"Shakir\"  # both std and std1 will be updated because of reference sharing\n",
    ")\n",
    "print(std)\n",
    "print(std1)"
   ]
  },
  {
   "cell_type": "code",
   "execution_count": null,
   "metadata": {},
   "outputs": [
    {
     "name": "stdout",
     "output_type": "stream",
     "text": [
      "Ali\n",
      "Ali\n",
      "Shakir\n",
      "Ali\n"
     ]
    }
   ],
   "source": [
    "name: str = \"Ali\"\n",
    "name1 = name\n",
    "print(name)\n",
    "print(name1)\n",
    "name1 = \"Shakir\"\n",
    "print(name1)\n",
    "print(name)  # the name still hold Ali because it is passed by value"
   ]
  },
  {
   "cell_type": "markdown",
   "metadata": {},
   "source": [
    "- these are immutable data types: string,int,float,complex;\n",
    "  because they can be pass by value\n",
    "\n",
    "- these are mutable data types: list, dictionary, sets;\n",
    "  because they can be pass by reference\n"
   ]
  },
  {
   "cell_type": "markdown",
   "metadata": {},
   "source": [
    "#### **is vs ==**\n",
    "- **is:** compares exact location of object in memory\n",
    "- **==:** compares value"
   ]
  },
  {
   "cell_type": "code",
   "execution_count": 7,
   "metadata": {},
   "outputs": [
    {
     "name": "stdout",
     "output_type": "stream",
     "text": [
      "False\n",
      "True\n"
     ]
    }
   ],
   "source": [
    "a = [1,2,3,4]\n",
    "b = [1,2,3,4]\n",
    "print(a is b)  # exact location of object in memory\n",
    "print(a == b)  # value"
   ]
  },
  {
   "cell_type": "code",
   "execution_count": 9,
   "metadata": {},
   "outputs": [
    {
     "name": "stdout",
     "output_type": "stream",
     "text": [
      "True\n",
      "True\n"
     ]
    }
   ],
   "source": [
    "# when we make constant in python, it creates only one time in memory\n",
    "# string, numbers and tuples are immutable\n",
    "x = 20\n",
    "y = 20\n",
    "print(x is y)\n",
    "print(x == y)"
   ]
  },
  {
   "cell_type": "code",
   "execution_count": 11,
   "metadata": {},
   "outputs": [
    {
     "name": "stdout",
     "output_type": "stream",
     "text": [
      "True\n",
      "True\n",
      "True\n"
     ]
    }
   ],
   "source": [
    "i = None\n",
    "j = None\n",
    "print(i is j)\n",
    "print(i is None)\n",
    "print(i == j)"
   ]
  },
  {
   "cell_type": "code",
   "execution_count": 14,
   "metadata": {},
   "outputs": [
    {
     "name": "stdout",
     "output_type": "stream",
     "text": [
      "['HTML', 'CSS', 'JavaScript']\n",
      "List 2:  ['HTML', 'Python', 'JavaScript']\n",
      "List 1:  ['HTML', 'Python', 'JavaScript']\n"
     ]
    }
   ],
   "source": [
    "list1 = [\"HTML\",\"CSS\",\"JavaScript\"]\n",
    "list2 = list1\n",
    "print(list2)\n",
    "list2[1] = \"Python\"\n",
    "print(\"List 2: \", list2)\n",
    "print(\"List 1: \", list1) # list 1 is also updated because it is passed by reference"
   ]
  },
  {
   "cell_type": "code",
   "execution_count": 16,
   "metadata": {},
   "outputs": [
    {
     "name": "stdout",
     "output_type": "stream",
     "text": [
      "9\n",
      "1\n"
     ]
    }
   ],
   "source": [
    "a=9\n",
    "b=a\n",
    "b=1\n",
    "print(a) # here the b is not updated because it refers to the object 9 in memory and b creates new object 1 in memory\n",
    "print(b) "
   ]
  },
  {
   "cell_type": "markdown",
   "metadata": {},
   "source": [
    "### **map function**\n",
    "- map(operation, iterable)\n",
    "- map applies a function to each element in a sequence and returns a new sequence containing the transformed elements.\n",
    "- these functions are known as higher-order functions as they take other functions as arguments"
   ]
  },
  {
   "cell_type": "code",
   "execution_count": 4,
   "metadata": {},
   "outputs": [
    {
     "name": "stdout",
     "output_type": "stream",
     "text": [
      "[4, 1, 9, 25, 36, 49]\n",
      "Squared list using map:\n",
      " [4, 1, 9, 25, 36, 49]\n"
     ]
    }
   ],
   "source": [
    "def square(n):\n",
    "    return n**2\n",
    "\n",
    "num_list = [2,1,3,5,6,7]\n",
    "squared_list = []\n",
    "for num in num_list:\n",
    "    squared_list.append(square(num))\n",
    "    \n",
    "print(squared_list)\n",
    "\n",
    "# now using map to iterate on each element and perform some operation and get an updated list\n",
    "squared_list = list(map(square, num_list))\n",
    "print(\"Squared list using map:\\n\",squared_list)"
   ]
  },
  {
   "cell_type": "code",
   "execution_count": 7,
   "metadata": {},
   "outputs": [
    {
     "name": "stdout",
     "output_type": "stream",
     "text": [
      "[4, 1, 9, 25, 36, 49]\n"
     ]
    }
   ],
   "source": [
    "# using map and passing lambda function to its first argument\n",
    "list_of_powers = list(map(lambda num: num*num, num_list))\n",
    "print(list_of_powers)"
   ]
  },
  {
   "cell_type": "markdown",
   "metadata": {},
   "source": [
    "### **filter function**\n",
    "- filter(function, iterable)"
   ]
  },
  {
   "cell_type": "code",
   "execution_count": 10,
   "metadata": {},
   "outputs": [
    {
     "name": "stdout",
     "output_type": "stream",
     "text": [
      "[2, 6]\n"
     ]
    }
   ],
   "source": [
    "even_num_list = list(filter(lambda n: n%2==0, num_list))\n",
    "print(even_num_list)"
   ]
  },
  {
   "cell_type": "markdown",
   "metadata": {},
   "source": [
    "### **reduce function:** \n",
    "- It is a higher order function that applies a function to each element to a sequence and returns a single value"
   ]
  },
  {
   "cell_type": "code",
   "execution_count": 13,
   "metadata": {},
   "outputs": [
    {
     "name": "stdout",
     "output_type": "stream",
     "text": [
      "Sum of numbers:  24\n"
     ]
    }
   ],
   "source": [
    "from functools import reduce\n",
    "\n",
    "\n",
    "sum_of_numbers = reduce(lambda a,b: a+b, num_list)\n",
    "print(\"Sum of numbers: \",sum_of_numbers)"
   ]
  }
 ],
 "metadata": {
  "kernelspec": {
   "display_name": "Python 3",
   "language": "python",
   "name": "python3"
  },
  "language_info": {
   "codemirror_mode": {
    "name": "ipython",
    "version": 3
   },
   "file_extension": ".py",
   "mimetype": "text/x-python",
   "name": "python",
   "nbconvert_exporter": "python",
   "pygments_lexer": "ipython3",
   "version": "3.13.2"
  }
 },
 "nbformat": 4,
 "nbformat_minor": 2
}
