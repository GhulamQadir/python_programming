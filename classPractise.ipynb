{
 "cells": [
  {
   "cell_type": "code",
   "execution_count": null,
   "metadata": {},
   "outputs": [
    {
     "name": "stdout",
     "output_type": "stream",
     "text": [
      "Hi Ali, Would you like to learn some Python today?\n"
     ]
    }
   ],
   "source": [
    "# f-string method for concatenation\n",
    "userName = \"Ali\"\n",
    "print(f'Hi {userName}, Would you like to learn some Python today?')"
   ]
  },
  {
   "cell_type": "code",
   "execution_count": null,
   "metadata": {},
   "outputs": [
    {
     "name": "stdout",
     "output_type": "stream",
     "text": [
      "ALI\n",
      "Ali\n",
      "ali\n"
     ]
    }
   ],
   "source": [
    "# text transforms or cases\n",
    "print(userName.upper())\n",
    "print(userName.title())\n",
    "print(userName.lower())"
   ]
  },
  {
   "cell_type": "code",
   "execution_count": 9,
   "metadata": {},
   "outputs": [
    {
     "name": "stdout",
     "output_type": "stream",
     "text": [
      "Woody Allen once said, \"Eighty percent of success is showing up.\"\n"
     ]
    }
   ],
   "source": [
    "quote = \"Eighty percent of success is showing up\"\n",
    "authorName = \"Woody Allen\"\n",
    "print(f\"{authorName} once said, \\\"{quote}.\\\"\")"
   ]
  },
  {
   "cell_type": "code",
   "execution_count": null,
   "metadata": {},
   "outputs": [
    {
     "name": "stdout",
     "output_type": "stream",
     "text": [
      "Woody Allen pnce said \"Eighty percent of success is showing up.\"\n"
     ]
    }
   ],
   "source": [
    "# showing double quotes in the string\n",
    "famous_person = \"Woody Allen\"\n",
    "message = f\"{famous_person} pnce said \\\"Eighty percent of success is showing up\\\"\"\n",
    "print(message)"
   ]
  },
  {
   "cell_type": "code",
   "execution_count": null,
   "metadata": {},
   "outputs": [
    {
     "name": "stdout",
     "output_type": "stream",
     "text": [
      "\t\t\t\t\t  Hasan \t\t\n",
      "\n",
      "\n",
      "\t\n",
      "Hasan \t\t\n",
      "\n",
      "\n",
      "\t\n",
      "\t\t\t\t\t  Hasan\n",
      "Hasan\n"
     ]
    }
   ],
   "source": [
    "# for extra spaces and line break\n",
    "name =\"\\t\\t\\t\\t\\t  Hasan \\t\\t\\n\\n\\n\\t\"\n",
    "print(name)\n",
    "print(name.lstrip())\n",
    "print(name.rstrip())\n",
    "print(name.strip())\n"
   ]
  },
  {
   "cell_type": "code",
   "execution_count": null,
   "metadata": {},
   "outputs": [
    {
     "name": "stdout",
     "output_type": "stream",
     "text": [
      "['We', 'are', 'learning', 'Python']\n",
      "['W', 'e', ' ', 'a', 'r', 'e', ' ', 'l', 'e', 'a', 'r', 'n', 'i', 'n', 'g', ' ', 'P', 'y', 't', 'h', 'o', 'n']\n"
     ]
    }
   ],
   "source": [
    "# split sentence and characters\n",
    "sentence = \"We are learning Python\"\n",
    "splitSentence = sentence.split()\n",
    "splitChars = list(sentence)\n",
    "print(splitSentence)\n",
    "print(splitChars)\n"
   ]
  },
  {
   "cell_type": "code",
   "execution_count": null,
   "metadata": {},
   "outputs": [
    {
     "data": {
      "text/plain": [
       "2"
      ]
     },
     "execution_count": 4,
     "metadata": {},
     "output_type": "execute_result"
    }
   ],
   "source": [
    "# counts the repeated alphabets in the given string\n",
    "fruit = \"pomegranate\"\n",
    "fruit.count(\"e\")"
   ]
  }
 ],
 "metadata": {
  "kernelspec": {
   "display_name": "Python 3",
   "language": "python",
   "name": "python3"
  },
  "language_info": {
   "codemirror_mode": {
    "name": "ipython",
    "version": 3
   },
   "file_extension": ".py",
   "mimetype": "text/x-python",
   "name": "python",
   "nbconvert_exporter": "python",
   "pygments_lexer": "ipython3",
   "version": "3.13.2"
  }
 },
 "nbformat": 4,
 "nbformat_minor": 2
}
