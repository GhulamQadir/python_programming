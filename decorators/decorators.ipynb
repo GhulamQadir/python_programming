{
 "cells": [
  {
   "cell_type": "markdown",
   "id": "f79a27c2",
   "metadata": {},
   "source": [
    "# **Decorators**\n",
    "Decorators allow us to modify or extended the behaviour of functions or methods. They are a way to extend the functionaltiy of a function or method without modifying its source code.\n",
    "\n",
    "A decorator is a function that takes another function as an argument and returns a new function that modifies the behaviour of the original function. The new function is often referred to as a decorated function."
   ]
  },
  {
   "cell_type": "code",
   "execution_count": 6,
   "id": "b06da863",
   "metadata": {},
   "outputs": [
    {
     "name": "stdout",
     "output_type": "stream",
     "text": [
      "Good Morning\n",
      "Welcome Shahab\n",
      "Thanks for using this function\n"
     ]
    }
   ],
   "source": [
    "def greeting_decorator(func):\n",
    "    def greet(*args,**kwargs):   # \"*args\": receiving argument as tuple, \"**kwargs: receiving args as dictionary\"\n",
    "        print(\"Good Morning\")\n",
    "        func(*args)\n",
    "        print(\"Thanks for using this function\")\n",
    "    return greet\n",
    "\n",
    "\n",
    "@greeting_decorator\n",
    "def greetUser(user:str):\n",
    "    print(f\"Welcome {user}\")\n",
    "    \n",
    "greetUser(\"Shahab\")"
   ]
  },
  {
   "cell_type": "markdown",
   "id": "bba6e9c7",
   "metadata": {},
   "source": [
    "## **Practise Questions**"
   ]
  },
  {
   "cell_type": "code",
   "execution_count": 42,
   "id": "8207e3f6",
   "metadata": {},
   "outputs": [
    {
     "name": "stdout",
     "output_type": "stream",
     "text": [
      "running...\n",
      "Your function takes 2.331 seconds to execute\n"
     ]
    }
   ],
   "source": [
    "# Q:1) Write a decorator that measures and prints the time a function takes to execute.\n",
    "\n",
    "import time\n",
    "\n",
    "def timing_decorator(func):\n",
    "    def execution_time():\n",
    "        start_time = time.time()\n",
    "        func()\n",
    "        end_time = time.time()\n",
    "        duration=round(end_time-start_time,3)\n",
    "        print(f\"Your function takes {duration} seconds to execute\")\n",
    "    return execution_time\n",
    "\n",
    "\n",
    "@timing_decorator\n",
    "def check_time():\n",
    "    time.sleep(2.33)  # pausing execution for some seconds\n",
    "    print(\"running...\")\n",
    "    \n",
    "check_time()"
   ]
  },
  {
   "cell_type": "code",
   "execution_count": 48,
   "id": "4208465c",
   "metadata": {},
   "outputs": [
    {
     "name": "stdout",
     "output_type": "stream",
     "text": [
      "running...\n",
      "Your function has been called 1 time(s)\n",
      "running...\n",
      "Your function has been called 2 time(s)\n",
      "running...\n",
      "Your function has been called 3 time(s)\n",
      "\n",
      "\n",
      "testing function is runinng...\n",
      "Your function has been called 1 time(s)\n",
      "testing function is runinng...\n",
      "Your function has been called 2 time(s)\n"
     ]
    }
   ],
   "source": [
    "# Q:2) Create a decorator that counts how many times a function has been called.\n",
    "\n",
    "def execution_counter(func):\n",
    "    count = 0\n",
    "    def counter():\n",
    "        nonlocal count\n",
    "        count+=1\n",
    "        func()\n",
    "        print(f\"Your function has been called {count} time(s)\")\n",
    "    return counter\n",
    "\n",
    "@execution_counter\n",
    "def check_execution_counter():\n",
    "    print(\"running...\")\n",
    "    \n",
    "check_execution_counter()\n",
    "check_execution_counter()\n",
    "check_execution_counter()\n",
    "\n",
    "print(\"\\n\")\n",
    "\n",
    "@execution_counter\n",
    "def testing_counter():\n",
    "    print(\"testing function is runinng...\")\n",
    "    \n",
    "testing_counter()\n",
    "testing_counter()"
   ]
  },
  {
   "cell_type": "code",
   "execution_count": 1,
   "id": "211e726f",
   "metadata": {},
   "outputs": [
    {
     "name": "stdout",
     "output_type": "stream",
     "text": [
      "{'name': 'Saim', 'is_authenticated': True}\n",
      "User Saim is authenticated\n"
     ]
    }
   ],
   "source": [
    "# Q:3) Write a decorator that only allows a function to run if a user[\"is_authenticated\"] == True\n",
    "\n",
    "def auth_decorator(func):\n",
    "    def check_user(**kwargs):\n",
    "        user =kwargs.get(\"user\")\n",
    "        if user[\"is_authenticated\"]:\n",
    "           return func(**kwargs)\n",
    "        else:\n",
    "            print(\"User is not authenticated\")\n",
    "    return check_user\n",
    "\n",
    "@auth_decorator\n",
    "def authenticated_func(user):\n",
    "    print(user)\n",
    "    print(f\"User {user[\"name\"]} is authenticated\")\n",
    "authenticated_func(user={\"name\":\"Saim\", \"is_authenticated\":True})\n",
    "    "
   ]
  },
  {
   "cell_type": "code",
   "execution_count": 2,
   "id": "c372b425",
   "metadata": {},
   "outputs": [
    {
     "name": "stdout",
     "output_type": "stream",
     "text": [
      "Calling function\n",
      "Result after addition is: 7\n",
      "Calling function\n",
      "Result after addition is: 12\n",
      "Fetching from cache\n",
      "Result: 7\n"
     ]
    }
   ],
   "source": [
    "# Q:4) Implement a decorator that caches the results of function calls.\n",
    "\n",
    "def cache_memory(func):\n",
    "    cache={}\n",
    "    def wrapper(*args):\n",
    "        if args in cache:\n",
    "            print(\"Fetching from cache\")\n",
    "            print(f\"Result: {cache[args]}\")\n",
    "        else:\n",
    "            print(\"Calling function\")\n",
    "            result = func(*args)\n",
    "            cache[args] = result\n",
    "            return result\n",
    "    return wrapper\n",
    "\n",
    "\n",
    "@cache_memory\n",
    "def add(*args):\n",
    "    result=0\n",
    "    for i in args:\n",
    "        result += i\n",
    "    print(f\"Result after addition is: {result}\")\n",
    "    return result\n",
    "\n",
    "add(1,2,4)\n",
    "add(1,7,4)\n",
    "add(1,2,4)"
   ]
  }
 ],
 "metadata": {
  "kernelspec": {
   "display_name": "Python 3",
   "language": "python",
   "name": "python3"
  },
  "language_info": {
   "codemirror_mode": {
    "name": "ipython",
    "version": 3
   },
   "file_extension": ".py",
   "mimetype": "text/x-python",
   "name": "python",
   "nbconvert_exporter": "python",
   "pygments_lexer": "ipython3",
   "version": "3.13.2"
  }
 },
 "nbformat": 4,
 "nbformat_minor": 5
}
