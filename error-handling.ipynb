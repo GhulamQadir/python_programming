{
 "cells": [
  {
   "cell_type": "markdown",
   "metadata": {},
   "source": [
    "# ERROR HANDLING"
   ]
  },
  {
   "cell_type": "code",
   "execution_count": 6,
   "metadata": {},
   "outputs": [
    {
     "name": "stdout",
     "output_type": "stream",
     "text": [
      "Invalid value\n",
      "python-----\n"
     ]
    }
   ],
   "source": [
    "try:\n",
    "    num:int = int(input(\"Enter any integer\"))\n",
    "    print(num)\n",
    "except:\n",
    "    print(\"Invalid value\")\n",
    "\n",
    "print(\"python-----\")"
   ]
  },
  {
   "cell_type": "code",
   "execution_count": 11,
   "metadata": {},
   "outputs": [
    {
     "name": "stdout",
     "output_type": "stream",
     "text": [
      "Invalid value type: could not convert string to float: 'f'\n"
     ]
    }
   ],
   "source": [
    "try:\n",
    "    num1:float=float(input(\"Enter first number\"))\n",
    "    num2:float=float(input(\"Enter second number\"))\n",
    "    print(num1/num2)\n",
    "except ZeroDivisionError:\n",
    "    print(\"Invalid number 0\")\n",
    "except ValueError as e:\n",
    "    print(f\"Invalid value type: {e}\")\n"
   ]
  },
  {
   "cell_type": "code",
   "execution_count": 25,
   "metadata": {},
   "outputs": [
    {
     "name": "stdout",
     "output_type": "stream",
     "text": [
      "invalid value\n",
      "Error handling\n",
      "invalid value\n",
      "Error handling\n",
      "invalid value\n",
      "Error handling\n",
      "invalid value\n",
      "Error handling\n",
      "Error handling\n",
      "Number printed successfully:\t6\n"
     ]
    }
   ],
   "source": [
    "while True:\n",
    "    try:\n",
    "        num:int=int(input(\"PLease enter any number\"))\n",
    "    except ValueError:\n",
    "        print(\"invalid value\")\n",
    "    else:     # any one statement will exceute either except or else\n",
    "        break\n",
    "    finally:\n",
    "        print(\"Error handling\")\n",
    "\n",
    "print(f\"Number printed successfully:\\t{num}\")"
   ]
  },
  {
   "cell_type": "code",
   "execution_count": 16,
   "metadata": {},
   "outputs": [
    {
     "name": "stdout",
     "output_type": "stream",
     "text": [
      "Invalid value\n",
      "Invalid value\n",
      "Invalid value\n",
      "Invalid value\n",
      "Invalid value\n",
      "Invalid value\n",
      "3 5\n"
     ]
    }
   ],
   "source": [
    "def get_int(num):\n",
    "    while True:\n",
    "        try:\n",
    "            number:int= int(input(f\"Enter {num} number\"))\n",
    "        except ValueError:\n",
    "            print(\"Invalid value\")\n",
    "        else:\n",
    "            break\n",
    "    return number\n",
    "\n",
    "n1=get_int(\"first\")\n",
    "n2=get_int(\"second\")\n",
    "\n",
    "print(n1,n2)"
   ]
  },
  {
   "cell_type": "code",
   "execution_count": null,
   "metadata": {},
   "outputs": [
    {
     "name": "stdout",
     "output_type": "stream",
     "text": [
      "99.83%:\t F\n"
     ]
    }
   ],
   "source": [
    "# program to show petrol signs based on the given values\n",
    "def checkPetrol():  \n",
    "    while True:\n",
    "        try:\n",
    "            expression=input(\"Enter your expression like this(4/5)\")\n",
    "            x,y =expression.split('/')\n",
    "            num1:float = float(x)\n",
    "            num2:float=float(y)\n",
    "            if num1>num2:\n",
    "                print(\"Invalid value\")\n",
    "\n",
    "            percentage = round((num1/num2)*100,2)\n",
    "            if percentage<=100:\n",
    "                break            \n",
    "        except ZeroDivisionError as e:\n",
    "            print(f\"Error: {e}\")\n",
    "        except ValueError as e:\n",
    "            print(f\"Invalid value error: {e}\")\n",
    "\n",
    "    if percentage<=1:\n",
    "        print(f\"{percentage}%:\\t E\")\n",
    "    elif percentage>=99:\n",
    "        print(f\"{percentage}%:\\t F\")\n",
    "    else:\n",
    "        print(f\"{percentage}%\")\n",
    "\n",
    "checkPetrol()"
   ]
  }
 ],
 "metadata": {
  "kernelspec": {
   "display_name": "Python 3",
   "language": "python",
   "name": "python3"
  },
  "language_info": {
   "codemirror_mode": {
    "name": "ipython",
    "version": 3
   },
   "file_extension": ".py",
   "mimetype": "text/x-python",
   "name": "python",
   "nbconvert_exporter": "python",
   "pygments_lexer": "ipython3",
   "version": "3.13.2"
  }
 },
 "nbformat": 4,
 "nbformat_minor": 2
}
