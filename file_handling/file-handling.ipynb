{
 "cells": [
  {
   "cell_type": "code",
   "execution_count": null,
   "metadata": {},
   "outputs": [],
   "source": [
    "file1=open(\"./testing.txt\",\"x\")  #it creates file if not created, and then shows error\n",
    "file1.write(\"Hello world\")\n",
    "file1.close()"
   ]
  },
  {
   "cell_type": "code",
   "execution_count": 25,
   "metadata": {},
   "outputs": [],
   "source": [
    "# w(write): it creates a file if not created, but when we wrie something to file, it removes the previous content\n",
    "file = open(\"./testing.txt\",\"w\")  \n",
    "file.write(\"Learning python\\n\")\n",
    "file.close()"
   ]
  },
  {
   "cell_type": "code",
   "execution_count": null,
   "metadata": {},
   "outputs": [],
   "source": [
    "# a(append): it creates a new file if not created, and it does not removes the previous content of the file and adds the content after the previous text\n",
    "with open(\"./testing.txt\",\"a\") as file: # with keyword is used to open file temporarily so that we don't need to close it again and again\n",
    "    file.write(\"append file\\n\")"
   ]
  },
  {
   "cell_type": "code",
   "execution_count": 32,
   "metadata": {},
   "outputs": [
    {
     "name": "stdout",
     "output_type": "stream",
     "text": [
      "Learning python\n",
      "append file\n",
      "append file\n",
      "\n"
     ]
    }
   ],
   "source": [
    "# read file\n",
    "with open(\"./testing.txt\",\"r\") as file: # with keyword is used to open file temporarily so that we don't need to close it again and again\n",
    "    text=file.read()\n",
    "print(text)"
   ]
  },
  {
   "cell_type": "code",
   "execution_count": null,
   "metadata": {},
   "outputs": [],
   "source": [
    "file=open(\"./testing.txt\",\"r\")"
   ]
  },
  {
   "cell_type": "code",
   "execution_count": 16,
   "metadata": {},
   "outputs": [
    {
     "name": "stdout",
     "output_type": "stream",
     "text": [
      "\n"
     ]
    }
   ],
   "source": [
    "text=file.read()\n",
    "print(text)"
   ]
  }
 ],
 "metadata": {
  "kernelspec": {
   "display_name": "Python 3",
   "language": "python",
   "name": "python3"
  },
  "language_info": {
   "codemirror_mode": {
    "name": "ipython",
    "version": 3
   },
   "file_extension": ".py",
   "mimetype": "text/x-python",
   "name": "python",
   "nbconvert_exporter": "python",
   "pygments_lexer": "ipython3",
   "version": "3.13.2"
  }
 },
 "nbformat": 4,
 "nbformat_minor": 2
}
