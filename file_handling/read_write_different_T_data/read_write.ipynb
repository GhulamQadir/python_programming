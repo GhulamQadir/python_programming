{
 "cells": [
  {
   "cell_type": "code",
   "execution_count": 1,
   "id": "1b603b38",
   "metadata": {},
   "outputs": [],
   "source": [
    "import json"
   ]
  },
  {
   "cell_type": "code",
   "execution_count": 2,
   "id": "dd07be9d",
   "metadata": {},
   "outputs": [],
   "source": [
    "studDict:dict={\n",
    "    \"name\":\"Abc\",\n",
    "    \"age\":13,\n",
    "}\n",
    "with open(\"test_file.json\",\"a\") as file:\n",
    "    json.dump(studDict,file)  # writing dictionary data in file"
   ]
  },
  {
   "cell_type": "code",
   "execution_count": 3,
   "id": "7cfe6258",
   "metadata": {},
   "outputs": [
    {
     "name": "stdout",
     "output_type": "stream",
     "text": [
      "{'name': 'Abc', 'age': 13}\n"
     ]
    }
   ],
   "source": [
    "with open(\"test_file.json\",\"r\") as file:\n",
    "    fileData = json.load(file)\n",
    "    print(fileData)"
   ]
  }
 ],
 "metadata": {
  "kernelspec": {
   "display_name": "Python 3",
   "language": "python",
   "name": "python3"
  },
  "language_info": {
   "codemirror_mode": {
    "name": "ipython",
    "version": 3
   },
   "file_extension": ".py",
   "mimetype": "text/x-python",
   "name": "python",
   "nbconvert_exporter": "python",
   "pygments_lexer": "ipython3",
   "version": "3.13.2"
  }
 },
 "nbformat": 4,
 "nbformat_minor": 5
}
