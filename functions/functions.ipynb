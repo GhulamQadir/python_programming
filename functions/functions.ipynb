{
 "cells": [
  {
   "cell_type": "code",
   "execution_count": null,
   "id": "62a94e9d",
   "metadata": {},
   "outputs": [
    {
     "data": {
      "text/plain": [
       "'Welcome Shahid'"
      ]
     },
     "execution_count": 2,
     "metadata": {},
     "output_type": "execute_result"
    }
   ],
   "source": [
    "# Normal Function\n",
    "def greet(name):\n",
    "    return f\"Welcome {name}\"\n",
    "greet(\"Shahid\")"
   ]
  },
  {
   "cell_type": "code",
   "execution_count": 51,
   "id": "2a10ad97",
   "metadata": {},
   "outputs": [
    {
     "name": "stdout",
     "output_type": "stream",
     "text": [
      "73\n"
     ]
    }
   ],
   "source": [
    "# built-in functions(print(), len(), )\n",
    "\n",
    "#  Functions defined in built-in modules\n",
    "import random\n",
    "randomInt:int=random.randint(1,100) \n",
    "print(randomInt)"
   ]
  },
  {
   "cell_type": "code",
   "execution_count": null,
   "id": "7e8afccb",
   "metadata": {},
   "outputs": [
    {
     "name": "stdout",
     "output_type": "stream",
     "text": [
      "The value of y is: 89\n",
      "The value of x is: 12\n",
      "The list animals is currently: ['Cat', 'Dog', 'Rabbit']\n",
      "The new list of animals is: ['Cat', 'Dog', 'Rabbit', 'Cow']\n",
      "Now the old list of animals is also: ['Cat', 'Dog', 'Rabbit', 'Cow']\n"
     ]
    }
   ],
   "source": [
    "# Pass by Reference vs Value (because integers, strings, float are immutable, so they don't share reference, instead the creates a new value in the memory)\n",
    "x=12\n",
    "def update_val():\n",
    "    y=x\n",
    "    y=89\n",
    "    print(f\"The value of y is: {y}\")\n",
    "    print(f\"The value of x is: {x}\")\n",
    "\n",
    "update_val()\n",
    "\n",
    "animals_list=[\"Cat\",\"Dog\",\"Rabbit\"]\n",
    "def update_list():\n",
    "    new_list=animals_list\n",
    "    print(f\"The list animals is currently: {animals_list}\")\n",
    "    new_list.append(\"Cow\")\n",
    "    print(f\"The new list of animals is: {new_list}\")\n",
    "    print(f\"Now the old list of animals is also: {animals_list}\") \n",
    "update_list()\n",
    "\n",
    "\"\"\"because both the lists are sharing the same reference in the memory,so when any of\n",
    "the list updates, it will impact on all of its references\n",
    "Same for dictionaries and sets\n",
    "\"\"\""
   ]
  },
  {
   "cell_type": "code",
   "execution_count": 1,
   "id": "4e704537",
   "metadata": {},
   "outputs": [
    {
     "name": "stdout",
     "output_type": "stream",
     "text": [
      "Positional only arguments: 14\n",
      "Regular arguments: 300\n"
     ]
    }
   ],
   "source": [
    "# positional-only arguments \n",
    "def posArgumentsFunc(a,b,c, /, y,z):\n",
    "    print(f\"Positional only arguments: {a+b+c}\")\n",
    "    print(f\"Regular arguments: {y*z}\")\n",
    "posArgumentsFunc(2,5,7,z=10,y=30)\n"
   ]
  },
  {
   "cell_type": "code",
   "execution_count": 4,
   "id": "a24622e8",
   "metadata": {},
   "outputs": [
    {
     "name": "stdout",
     "output_type": "stream",
     "text": [
      "Positional only arguments: 14\n",
      "Regular arguments: 30, {'z': 10, 'z1': 4}\n"
     ]
    }
   ],
   "source": [
    "# keyword-only arguments \n",
    "def keyArgumentsFunc(a,b,c, /, *,y,**z):\n",
    "    print(f\"Positional only arguments: {a+b+c}\")\n",
    "    print(f\"Regular arguments: {y}, {z}\")\n",
    "keyArgumentsFunc(2,5,7,z=10,y=30,z1=4)"
   ]
  },
  {
   "cell_type": "code",
   "execution_count": 61,
   "id": "ceb71f21",
   "metadata": {},
   "outputs": [
    {
     "name": "stdout",
     "output_type": "stream",
     "text": [
      "Positional only: 9,8\n",
      "Regular: 12,34\n",
      "Default: Default argument\n",
      "Positional only: 9,8\n",
      "Keyword only: 3.4,22.8,6\n",
      "Keyword only Arbitrary: {'o': 5, 'p': 3, 'q': 'Kwarg'}\n"
     ]
    }
   ],
   "source": [
    "def func(a,b,/,c,d,e=\"default\", *,x,y,z,**kwarg,): #(a,b(pos only),c,d(regular),e(default),x,y,z(keyword only),**kwarg(keyword only arbitrary)  ))\n",
    "    print(f\"Positional only: {a},{b}\")\n",
    "    print(f\"Regular: {c},{d}\")\n",
    "    print(f\"Default: {e}\")\n",
    "    print(f\"Positional only: {a},{b}\")\n",
    "    print(f\"Keyword only: {x},{y},{z}\")\n",
    "    print(f\"Keyword only Arbitrary: {kwarg}\")\n",
    "func(9,8,12,d=34,e=\"Default argument\",x=3.4,y=22.8,z=6,o=5,p=3,q=\"Kwarg\")"
   ]
  },
  {
   "cell_type": "code",
   "execution_count": 2,
   "id": "834cf462",
   "metadata": {},
   "outputs": [
    {
     "name": "stdout",
     "output_type": "stream",
     "text": [
      "Output: 7\n"
     ]
    }
   ],
   "source": [
    "# LAMBDA FUNCTION (useful for single line statements)\n",
    "sum = lambda num1, num2: num1+num2\n",
    "print(f\"Output: {sum(4,3)}\")"
   ]
  },
  {
   "cell_type": "code",
   "execution_count": 5,
   "id": "ed96e3d0",
   "metadata": {},
   "outputs": [
    {
     "name": "stdout",
     "output_type": "stream",
     "text": [
      "(7, [4.5, 7.9, 2.3], {'f1': 'Apple', 'f2': 'Mango'})\n"
     ]
    }
   ],
   "source": [
    "# Multi Type Return in Function (multiple arguments are returned in a tuple)\n",
    "def multi_arg_func(a:int,b:int,*args:str,**kwargs:float) -> tuple[int, list[float], dict[str, str]]:\n",
    "    sum=a+b\n",
    "    return sum, list(args),kwargs\n",
    "result=multi_arg_func(3,4,4.5,7.9,2.3,f1=\"Apple\",f2=\"Mango\")\n",
    "print(result)"
   ]
  }
 ],
 "metadata": {
  "kernelspec": {
   "display_name": "Python 3",
   "language": "python",
   "name": "python3"
  },
  "language_info": {
   "codemirror_mode": {
    "name": "ipython",
    "version": 3
   },
   "file_extension": ".py",
   "mimetype": "text/x-python",
   "name": "python",
   "nbconvert_exporter": "python",
   "pygments_lexer": "ipython3",
   "version": "3.13.2"
  }
 },
 "nbformat": 4,
 "nbformat_minor": 5
}
