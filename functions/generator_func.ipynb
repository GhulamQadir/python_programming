{
 "cells": [
  {
   "cell_type": "code",
   "execution_count": null,
   "id": "8f680797",
   "metadata": {},
   "outputs": [],
   "source": [
    "\"\"\"generator function does not store all the values in memory, but it generates the values\n",
    "one by one (generates values on the fly) when we call it.\n",
    "It is useful when working with large data sets.\"\"\"\n",
    "def my_generator():\n",
    "    for i in range(11):\n",
    "        yield i # yield produce a sequence of values over time, wherease return keyword terminates the function\n",
    "\n",
    "gen = my_generator()        "
   ]
  },
  {
   "cell_type": "code",
   "execution_count": 51,
   "id": "d0a8638e",
   "metadata": {},
   "outputs": [
    {
     "name": "stdout",
     "output_type": "stream",
     "text": [
      "0\n",
      "1\n",
      "2\n"
     ]
    },
    {
     "data": {
      "text/plain": [
       "'Point: When the values are finished, subsequent next() calls on generator will raise stop iteratorion error'"
      ]
     },
     "execution_count": 51,
     "metadata": {},
     "output_type": "execute_result"
    }
   ],
   "source": [
    "# next keyword is used to retrieve the next value yielded by a generator object\n",
    "print(next(gen))\n",
    "print(next(gen))\n",
    "print(next(gen))\n",
    "\n",
    "\"\"\"Point: When the values are finished, subsequent next() calls on generator will raise stop iteratorion error\"\"\""
   ]
  },
  {
   "cell_type": "code",
   "execution_count": 52,
   "id": "aa1768da",
   "metadata": {},
   "outputs": [
    {
     "name": "stdout",
     "output_type": "stream",
     "text": [
      "3\n",
      "4\n",
      "5\n",
      "6\n",
      "7\n",
      "8\n",
      "9\n",
      "10\n"
     ]
    }
   ],
   "source": [
    "# we can also use generator function like this:\n",
    "for i in gen:\n",
    "    print(i)"
   ]
  },
  {
   "cell_type": "code",
   "execution_count": null,
   "id": "39fb112a",
   "metadata": {},
   "outputs": [],
   "source": [
    "# Q:1. Create a generator function characters(s) that yields each character of the input string s one by one.\n",
    "def string_generator(string):\n",
    "    for i in string:\n",
    "        yield i\n",
    "        \n",
    "userInput:str = input(\"Enter any sentence\")\n",
    "getString = string_generator(userInput)"
   ]
  },
  {
   "cell_type": "code",
   "execution_count": null,
   "id": "fdacd09f",
   "metadata": {},
   "outputs": [
    {
     "name": "stdout",
     "output_type": "stream",
     "text": [
      "p\n",
      "y\n",
      "t\n"
     ]
    }
   ],
   "source": [
    "print(next(getString))\n",
    "print(next(getString))\n",
    "print(next(getString))\n"
   ]
  },
  {
   "cell_type": "code",
   "execution_count": null,
   "id": "757c285c",
   "metadata": {},
   "outputs": [],
   "source": [
    "# Q:2. Create a generator function even_numbers(n) that yields all even numbers up to a given number n.\n",
    "\n",
    "def even_nums_gen(n):\n",
    "    i=1\n",
    "    while i<=n:\n",
    "        if i%2==0:\n",
    "            yield i\n",
    "        i+=1\n",
    "            \n",
    "even_gen= even_nums_gen(25)"
   ]
  },
  {
   "cell_type": "code",
   "execution_count": 82,
   "id": "cff2e471",
   "metadata": {},
   "outputs": [
    {
     "name": "stdout",
     "output_type": "stream",
     "text": [
      "2\n",
      "4\n",
      "6\n"
     ]
    }
   ],
   "source": [
    "print(next(even_gen))\n",
    "print(next(even_gen))\n",
    "print(next(even_gen))"
   ]
  },
  {
   "cell_type": "code",
   "execution_count": 1,
   "id": "8ee494a8",
   "metadata": {},
   "outputs": [],
   "source": [
    "# Q:3. Write a generator function fibonacci() that yields the Fibonacci sequence indefinitely\n",
    "def fibonacci_gen(n):\n",
    "    firstNum=0\n",
    "    secondNum=0\n",
    "    i=n-2\n",
    "    # if n>2:\n",
    "    firstNum=0\n",
    "    secondNum=1\n",
    "    yield firstNum\n",
    "    yield secondNum\n",
    "    for j in range(i):\n",
    "        nextNum = secondNum+firstNum\n",
    "        firstNum=secondNum\n",
    "        secondNum=nextNum\n",
    "        yield nextNum\n",
    "    \n",
    "fibonacci_series=fibonacci_gen(5)"
   ]
  },
  {
   "cell_type": "code",
   "execution_count": 5,
   "id": "ee0c36a6",
   "metadata": {},
   "outputs": [
    {
     "name": "stdout",
     "output_type": "stream",
     "text": [
      "2\n"
     ]
    }
   ],
   "source": [
    "print(next(fibonacci_series))"
   ]
  }
 ],
 "metadata": {
  "kernelspec": {
   "display_name": "Python 3",
   "language": "python",
   "name": "python3"
  },
  "language_info": {
   "codemirror_mode": {
    "name": "ipython",
    "version": 3
   },
   "file_extension": ".py",
   "mimetype": "text/x-python",
   "name": "python",
   "nbconvert_exporter": "python",
   "pygments_lexer": "ipython3",
   "version": "3.13.2"
  }
 },
 "nbformat": 4,
 "nbformat_minor": 5
}
