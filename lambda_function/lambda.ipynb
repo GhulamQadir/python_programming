{
 "cells": [
  {
   "cell_type": "code",
   "execution_count": null,
   "id": "559024bc",
   "metadata": {},
   "outputs": [
    {
     "name": "stdout",
     "output_type": "stream",
     "text": [
      "6\n"
     ]
    }
   ],
   "source": [
    "# normal function\n",
    "def sum(a, b):\n",
    "    return a + b\n",
    "\n",
    "\n",
    "print(sum(2, 4))"
   ]
  },
  {
   "cell_type": "markdown",
   "id": "0c28ebbc",
   "metadata": {},
   "source": [
    "## **Lambda Function**\n",
    "- small anonymous function in python without a name\n",
    "- commonly used as arguments to higher-order functions.\n",
    "\n",
    "#### **Syntax:** lambda arguments: expression"
   ]
  },
  {
   "cell_type": "code",
   "execution_count": null,
   "id": "e10fbb98",
   "metadata": {},
   "outputs": [
    {
     "name": "stdout",
     "output_type": "stream",
     "text": [
      "10\n"
     ]
    }
   ],
   "source": [
    "sum = lambda x, y: x + y\n",
    "print(sum(3, 7))"
   ]
  },
  {
   "cell_type": "code",
   "execution_count": 8,
   "id": "4b099737",
   "metadata": {},
   "outputs": [
    {
     "name": "stdout",
     "output_type": "stream",
     "text": [
      "16\n"
     ]
    }
   ],
   "source": [
    "square = lambda a: a**2\n",
    "print(square(4))"
   ]
  },
  {
   "cell_type": "code",
   "execution_count": null,
   "id": "3f347e2a",
   "metadata": {},
   "outputs": [
    {
     "name": "stdout",
     "output_type": "stream",
     "text": [
      "5\n"
     ]
    }
   ],
   "source": [
    "# lambda function\n",
    "(lambda x, y: print(x + y))(2, 3)"
   ]
  },
  {
   "cell_type": "markdown",
   "id": "a4e71147",
   "metadata": {},
   "source": [
    "## Passing function as paramter\n"
   ]
  },
  {
   "cell_type": "code",
   "execution_count": 9,
   "id": "6ad303ad",
   "metadata": {},
   "outputs": [
    {
     "name": "stdout",
     "output_type": "stream",
     "text": [
      "59\n"
     ]
    }
   ],
   "source": [
    "def apply(func, value):\n",
    "    return 10 + func(value)\n",
    "\n",
    "\n",
    "print(apply(square, 7))"
   ]
  },
  {
   "cell_type": "markdown",
   "id": "1e9df31c",
   "metadata": {},
   "source": [
    "## Practice Questions"
   ]
  },
  {
   "cell_type": "code",
   "execution_count": 5,
   "id": "5477a9a2",
   "metadata": {},
   "outputs": [
    {
     "name": "stdout",
     "output_type": "stream",
     "text": [
      "even\n"
     ]
    }
   ],
   "source": [
    "check_even_odd = lambda a: \"even\" if a%2==0 else \"odd\"\n",
    "print(check_even_odd(8))"
   ]
  },
  {
   "cell_type": "code",
   "execution_count": null,
   "id": "f4f1b176",
   "metadata": {},
   "outputs": [
    {
     "name": "stdout",
     "output_type": "stream",
     "text": [
      "List sorted based on second element of each tuple: \n",
      " [(5, 0), (3, 1), (1, 2)]\n"
     ]
    }
   ],
   "source": [
    "# sort list of tuple based on tuple's second element\n",
    "tuples_list = [(1, 2), (3, 1), (5, 0)]\n",
    "sorted_list = sorted(tuples_list, key=lambda a: a[1])\n",
    "print(\"List sorted based on second element of each tuple: \\n\",sorted_list)"
   ]
  },
  {
   "cell_type": "code",
   "execution_count": 26,
   "id": "396e30c9",
   "metadata": {},
   "outputs": [
    {
     "name": "stdout",
     "output_type": "stream",
     "text": [
      "5\n"
     ]
    }
   ],
   "source": [
    "# find maximum from the two given numbers\n",
    "find_max = lambda a,b: print(a) if a>b else print(b)\n",
    "find_max(4,5)"
   ]
  },
  {
   "cell_type": "code",
   "execution_count": 20,
   "id": "6b4f4cd9",
   "metadata": {},
   "outputs": [
    {
     "name": "stdout",
     "output_type": "stream",
     "text": [
      "False\n",
      "True\n"
     ]
    }
   ],
   "source": [
    "# check if a string starts with a vowel\n",
    "vowels = (\"a\",\"e\",\"i\",\"o\",\"u\")\n",
    "check_if_starts_with_vowel = lambda s: s.lower().startswith(vowels)\n",
    "print(check_if_starts_with_vowel(\"sky\"))\n",
    "print(check_if_starts_with_vowel(\"egg\"))\n"
   ]
  },
  {
   "cell_type": "code",
   "execution_count": null,
   "id": "f76d0580",
   "metadata": {},
   "outputs": [
    {
     "name": "stdout",
     "output_type": "stream",
     "text": [
      "[4, 23]\n"
     ]
    }
   ],
   "source": [
    "# Extract numeric values from a mixed list\n",
    "mixed_list = [\"hello\", 4, \"23\", 5.5, True,23]\n",
    "numeric_list = lambda lst: [x for x in lst if type(x)==int]\n",
    "print(numeric_list(mixed_list))"
   ]
  }
 ],
 "metadata": {
  "kernelspec": {
   "display_name": "Python 3",
   "language": "python",
   "name": "python3"
  },
  "language_info": {
   "codemirror_mode": {
    "name": "ipython",
    "version": 3
   },
   "file_extension": ".py",
   "mimetype": "text/x-python",
   "name": "python",
   "nbconvert_exporter": "python",
   "pygments_lexer": "ipython3",
   "version": "3.13.2"
  }
 },
 "nbformat": 4,
 "nbformat_minor": 5
}
