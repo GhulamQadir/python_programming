{
 "cells": [
  {
   "cell_type": "markdown",
   "id": "ce3418b1",
   "metadata": {},
   "source": [
    "# **Modules and Packages**\n",
    "\n",
    "### **Module:**\n",
    "* A module is simply any .py file.\n",
    "* It contains Python code: functions, classes, variables, etc.\n",
    "* You can import it using import.\n",
    "* **Example:**\n",
    "File: math_utils.py\n",
    "\n",
    "def add(a, b):<br>\n",
    "    return a + b\n",
    "\n",
    "### **Package:**\n",
    "* A folder containing modules and an __init__.py file\n",
    "* A package is a directory (folder) that contains:\n",
    "* One or more modules (i.e. .py files)\n",
    "* An optional __init__.py file (used to define the package)\n",
    "* You use packages to organize related modules together.\n",
    "\n",
    "* **Example:**\n",
    "math_tools/          ← This is a package<br>\n",
    "├── __init__.py<br>\n",
    "├── addition.py      ← module<br>\n",
    "└── subtraction.py   ← module<br>"
   ]
  }
 ],
 "metadata": {
  "language_info": {
   "name": "python"
  }
 },
 "nbformat": 4,
 "nbformat_minor": 5
}
