{
 "cells": [
  {
   "cell_type": "code",
   "execution_count": null,
   "metadata": {},
   "outputs": [
    {
     "name": "stdout",
     "output_type": "stream",
     "text": [
      "Enter...any...sentence\n"
     ]
    }
   ],
   "source": [
    "# 1) replace space in the sentence with \"...\"\n",
    "inputSentence = (\"Enter any sentence\")\n",
    "formattedSentence = inputSentence.replace(\" \",\"...\")\n",
    "print(formattedSentence)"
   ]
  },
  {
   "cell_type": "code",
   "execution_count": null,
   "metadata": {},
   "outputs": [
    {
     "name": "stdout",
     "output_type": "stream",
     "text": [
      "hehe 😢     😊\n"
     ]
    }
   ],
   "source": [
    "# 2) replace \":)\" in the given sentence with 😊 and \":(\" with 😢 and return the formatted sentence\n",
    "\n",
    "inputSentence = input(\"Enter any sentence\")\n",
    "def formatSentence(sentence):\n",
    "    formattedSentence = sentence.replace(\":)\",\"😊\").replace(\":(\",\"😢\")\n",
    "    return formattedSentence\n",
    "print(formatSentence(inputSentence))"
   ]
  },
  {
   "cell_type": "code",
   "execution_count": 16,
   "metadata": {},
   "outputs": [
    {
     "name": "stdout",
     "output_type": "stream",
     "text": [
      "The value of energy is 2.93e+18\n"
     ]
    }
   ],
   "source": [
    "# take mass in kg and print value using formula e=mc^2\n",
    "mass = float(input(\"Enter mass in kg\"))\n",
    "constant = 300000000\n",
    "energy = mass*(constant**2)\n",
    "print(f\"The value of energy is {energy:.2e}\")"
   ]
  },
  {
   "cell_type": "code",
   "execution_count": null,
   "metadata": {},
   "outputs": [],
   "source": [
    "import random\n",
    "\n",
    "# split sentence and characters\n",
    "sentence = \"We are learning Python\"\n",
    "splitSentence = sentence.split()\n",
    "splitChars = list(sentence)\n",
    "print(splitSentence)\n",
    "print(splitChars)\n",
    "\n",
    "\n",
    "# counts the repeated alphabets in the given string\n",
    "fruit = \"pomegranate\"\n",
    "fruit.count(\"e\")\n",
    "\n",
    "\n",
    "# for multiple line statements, use triple quotes (\"\"\"   \"\"\")\n",
    "sentence = \"\"\"We are\n",
    "    learning\n",
    "Python\"\"\"\n",
    "print(sentence)\n",
    "\n",
    "\n",
    "# generate random number in python\n",
    "generateRandom: int = str(random.uniform(10.5, 20.5))\n",
    "_, studId = generateRandom.split(\".\")\n"
   ]
  }
 ],
 "metadata": {
  "kernelspec": {
   "display_name": "Python 3",
   "language": "python",
   "name": "python3"
  },
  "language_info": {
   "codemirror_mode": {
    "name": "ipython",
    "version": 3
   },
   "file_extension": ".py",
   "mimetype": "text/x-python",
   "name": "python",
   "nbconvert_exporter": "python",
   "pygments_lexer": "ipython3",
   "version": "3.13.2"
  }
 },
 "nbformat": 4,
 "nbformat_minor": 2
}
