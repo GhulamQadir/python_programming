{
 "cells": [
  {
   "cell_type": "code",
   "execution_count": 1,
   "id": "0a210309",
   "metadata": {},
   "outputs": [
    {
     "name": "stdout",
     "output_type": "stream",
     "text": [
      "14\n"
     ]
    }
   ],
   "source": [
    "def addition(a,b):\n",
    "    return a+b\n",
    "print(addition(6,8))"
   ]
  },
  {
   "cell_type": "code",
   "execution_count": 9,
   "id": "10ccd7b3",
   "metadata": {},
   "outputs": [
    {
     "data": {
      "text/plain": [
       "False"
      ]
     },
     "execution_count": 9,
     "metadata": {},
     "output_type": "execute_result"
    }
   ],
   "source": [
    "# def checkEven(num):\n",
    "#     if num % 2 == 0:\n",
    "#         return True\n",
    "#     else:\n",
    "#         return False\n",
    "# checkEven(20)\n",
    "\n",
    "\n",
    "# short method\n",
    "def checkEven(num):\n",
    "    return num%2==0\n",
    "checkEven(23)"
   ]
  },
  {
   "cell_type": "code",
   "execution_count": 22,
   "id": "53246942",
   "metadata": {},
   "outputs": [
    {
     "data": {
      "text/plain": [
       "1"
      ]
     },
     "execution_count": 22,
     "metadata": {},
     "output_type": "execute_result"
    }
   ],
   "source": [
    "# def calc_factorial(num):\n",
    "#     if num==0:\n",
    "#         return 1\n",
    "#     else:\n",
    "#         factorial=num *calc_factorial(num-1)\n",
    "#         return factorial\n",
    "\n",
    "# calc_factorial(0)\n",
    "\n",
    "# # using loop\n",
    "# def calc_factorial(num):\n",
    "#     factorial=1\n",
    "#     for i in range(num,1,-1):\n",
    "#         factorial=factorial*i\n",
    "#     return factorial\n",
    "\n",
    "# calc_factorial(0)\n",
    "\n",
    "\n",
    "# using forward looping\n",
    "def calc_factorial(num):\n",
    "    result=1\n",
    "    for i in range(1,num+1,-1):\n",
    "        result=result*i\n",
    "    return result\n",
    "\n",
    "calc_factorial(0)\n"
   ]
  },
  {
   "cell_type": "code",
   "execution_count": null,
   "id": "ffbf5dbe",
   "metadata": {},
   "outputs": [
    {
     "data": {
      "text/plain": [
       "[4, 23, 1, 2, 5, 3]"
      ]
     },
     "execution_count": 3,
     "metadata": {},
     "output_type": "execute_result"
    }
   ],
   "source": [
    "def unique_elements(lst):\n",
    "    unique_list=[]\n",
    "    for i in lst:\n",
    "        if i not in unique_list:\n",
    "            unique_list.append(i)\n",
    "\n",
    "    return unique_list\n",
    "\n",
    "unique_elements([4,23,1,2,5,3,4,1])"
   ]
  },
  {
   "cell_type": "code",
   "execution_count": null,
   "id": "53c99a93",
   "metadata": {},
   "outputs": [
    {
     "data": {
      "text/plain": [
       "4.0"
      ]
     },
     "execution_count": 8,
     "metadata": {},
     "output_type": "execute_result"
    }
   ],
   "source": [
    "# def average(lst):\n",
    "#     total=0\n",
    "#     for i in lst:\n",
    "#         total+=i\n",
    "#     return total / len(lst)\n",
    "\n",
    "# average([3,4,1,2,6,8])"
   ]
  },
  {
   "cell_type": "code",
   "execution_count": 11,
   "id": "775a4e71",
   "metadata": {},
   "outputs": [
    {
     "data": {
      "text/plain": [
       "[10, 2, 8, 7, 6, 5, 4]"
      ]
     },
     "execution_count": 11,
     "metadata": {},
     "output_type": "execute_result"
    }
   ],
   "source": [
    "# reverse list\n",
    "def reverse_list(lst):\n",
    "    return lst[::-1]\n",
    "reverse_list([4,5,6,7,8,2,10])"
   ]
  },
  {
   "cell_type": "code",
   "execution_count": 10,
   "id": "af397efe",
   "metadata": {},
   "outputs": [
    {
     "data": {
      "text/plain": [
       "'notnimdaB'"
      ]
     },
     "execution_count": 10,
     "metadata": {},
     "output_type": "execute_result"
    }
   ],
   "source": [
    "# reverse string\n",
    "def reverse(string):\n",
    "    result=\"\"\n",
    "    for i in string:\n",
    "        result=i+result\n",
    "    return result\n",
    "reverse(\"Badminton\")"
   ]
  }
 ],
 "metadata": {
  "kernelspec": {
   "display_name": "Python 3",
   "language": "python",
   "name": "python3"
  },
  "language_info": {
   "codemirror_mode": {
    "name": "ipython",
    "version": 3
   },
   "file_extension": ".py",
   "mimetype": "text/x-python",
   "name": "python",
   "nbconvert_exporter": "python",
   "pygments_lexer": "ipython3",
   "version": "3.13.2"
  }
 },
 "nbformat": 4,
 "nbformat_minor": 5
}
