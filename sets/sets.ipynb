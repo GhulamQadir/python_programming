{
 "cells": [
  {
   "cell_type": "markdown",
   "id": "7b0ee4eb",
   "metadata": {},
   "source": [
    "# Sets:\n",
    "- Sets are unordered collection of data items. They store multiple items in a single variable. Sets are unchangeable, meaning we cannot change items of the set once created. Sets donot contain duplicate items."
   ]
  },
  {
   "cell_type": "code",
   "execution_count": 90,
   "id": "81a1e5f5",
   "metadata": {},
   "outputs": [
    {
     "name": "stdout",
     "output_type": "stream",
     "text": [
      "<class 'set'>\n",
      "{2, 3, 4, 5, 7, 8}\n"
     ]
    }
   ],
   "source": [
    "set = {3,2,4,2,5,7,8,7}\n",
    "print(type(set))\n",
    "print(set)  # just prints unique elements and removes duplicates by itself"
   ]
  },
  {
   "cell_type": "code",
   "execution_count": 91,
   "id": "0c4aef30",
   "metadata": {},
   "outputs": [
    {
     "name": "stdout",
     "output_type": "stream",
     "text": [
      "{False, 2, 'Ali', 4}\n"
     ]
    }
   ],
   "source": [
    "mixSet = {2,False,2,\"Ali\",4,0}   # it will remove 0 or False because both are same in boolean\n",
    "print(mixSet)  # it can give elements in random indexing"
   ]
  },
  {
   "cell_type": "markdown",
   "id": "2c3dd8a9",
   "metadata": {},
   "source": [
    "## Set Methods"
   ]
  },
  {
   "cell_type": "code",
   "execution_count": 92,
   "id": "d8eaaced",
   "metadata": {},
   "outputs": [
    {
     "name": "stdout",
     "output_type": "stream",
     "text": [
      "{'Green', 'Blue', 'Red', 'Orange'}\n",
      "{'Red', 'Green', 'Purple', 'Blue', 'Orange'}\n"
     ]
    }
   ],
   "source": [
    "colorsSet = {\"Red\",\"Green\",\"Blue\",\"Red\",\"Orange\"}\n",
    "print(colorsSet)\n",
    "colorsSet.add(\"Purple\")\n",
    "print(colorsSet)"
   ]
  },
  {
   "cell_type": "code",
   "execution_count": 93,
   "id": "2aaea5f5",
   "metadata": {},
   "outputs": [
    {
     "name": "stdout",
     "output_type": "stream",
     "text": [
      "{'Green', 'Purple', 'Blue', 'Orange'}\n"
     ]
    }
   ],
   "source": [
    "# # remove method (if that element does not exists, it will throw an error)\n",
    "# colorsSet.remove(\"green\")  # it will throw an error\n",
    "# print(colorsSet)\n",
    "\n",
    "# discard method (it does not throws error if that element does not exists)\n",
    "colorsSet.discard(\"Red\")\n",
    "print(colorsSet)"
   ]
  },
  {
   "cell_type": "code",
   "execution_count": 94,
   "id": "09c564fe",
   "metadata": {},
   "outputs": [
    {
     "name": "stdout",
     "output_type": "stream",
     "text": [
      "{1, 2, 3, 4, 5, 6, 8, 9}\n"
     ]
    }
   ],
   "source": [
    "# union\n",
    "s1 = {1,2,3,4,5,6}\n",
    "s2 = {2,4,3,9,5,8}\n",
    "print(s1.union(s2))"
   ]
  },
  {
   "cell_type": "code",
   "execution_count": 95,
   "id": "0068efd2",
   "metadata": {},
   "outputs": [
    {
     "name": "stdout",
     "output_type": "stream",
     "text": [
      "{2, 3, 4, 5}\n"
     ]
    }
   ],
   "source": [
    "# intersection\n",
    "print(s1.intersection(s2))"
   ]
  },
  {
   "cell_type": "code",
   "execution_count": 96,
   "id": "370dfc60",
   "metadata": {},
   "outputs": [
    {
     "name": "stdout",
     "output_type": "stream",
     "text": [
      "{1, 2, 3, 4, 5, 6, 8, 9}\n",
      "{2, 3, 4, 5, 8, 9}\n"
     ]
    }
   ],
   "source": [
    "# update method adds item into the existing set from another set\n",
    "s1.update(s2)\n",
    "print(s1) \n",
    "print(s2) "
   ]
  },
  {
   "cell_type": "code",
   "execution_count": 97,
   "id": "dd8dc4e4",
   "metadata": {},
   "outputs": [
    {
     "name": "stdout",
     "output_type": "stream",
     "text": [
      "{'Banana'}\n",
      "{'Pomegranet', 'Banana', 'Pineapple'}\n"
     ]
    }
   ],
   "source": [
    "# intersection _update (change in original set)\n",
    "fruits = {\"Apple\",\"Mango\",\"Banana\"}\n",
    "fruits1 = {\"Pineapple\",\"Banana\",\"Pomegranet\"}\n",
    "fruits.intersection_update(fruits1)\n",
    "print(fruits)\n",
    "print(fruits1)"
   ]
  },
  {
   "cell_type": "code",
   "execution_count": 98,
   "id": "1e9c6862",
   "metadata": {},
   "outputs": [
    {
     "data": {
      "text/plain": [
       "{'Pineapple', 'Pomegranet'}"
      ]
     },
     "execution_count": 98,
     "metadata": {},
     "output_type": "execute_result"
    }
   ],
   "source": [
    "# symmetric_difference (means all the values which are not common in both sets)\n",
    "common_fruits = fruits.symmetric_difference(fruits1)\n",
    "common_fruits"
   ]
  },
  {
   "cell_type": "code",
   "execution_count": 99,
   "id": "778d56d9",
   "metadata": {},
   "outputs": [
    {
     "data": {
      "text/plain": [
       "{'Pineapple', 'Pomegranet'}"
      ]
     },
     "execution_count": 99,
     "metadata": {},
     "output_type": "execute_result"
    }
   ],
   "source": [
    "# difference method\n",
    "fruits3 = fruits1.difference(fruits)\n",
    "fruits3"
   ]
  },
  {
   "cell_type": "code",
   "execution_count": 100,
   "id": "94f3603e",
   "metadata": {},
   "outputs": [
    {
     "data": {
      "text/plain": [
       "False"
      ]
     },
     "execution_count": 100,
     "metadata": {},
     "output_type": "execute_result"
    }
   ],
   "source": [
    "# is disjoint is true when both sets have no value in commit\n",
    "languages = {\"Urdu\",\"Arabic\",\"English\"}\n",
    "languages1 = {\"English\",\"Chinese\",\"Persian\"}\n",
    "languages.isdisjoint(languages1)"
   ]
  },
  {
   "cell_type": "code",
   "execution_count": 101,
   "id": "b387e322",
   "metadata": {},
   "outputs": [
    {
     "name": "stdout",
     "output_type": "stream",
     "text": [
      "True\n",
      "False\n",
      "True\n"
     ]
    }
   ],
   "source": [
    "# superset & subset\n",
    "languages2 = {\"English\",\"Urdu\"}\n",
    "print(languages.issuperset(languages2))\n",
    "print(languages.issubset(languages2))\n",
    "print(languages2.issubset(languages))"
   ]
  },
  {
   "cell_type": "code",
   "execution_count": 102,
   "id": "1309ae39",
   "metadata": {},
   "outputs": [
    {
     "data": {
      "text/plain": [
       "{'English', 'Turkish', 'Urdu'}"
      ]
     },
     "execution_count": 102,
     "metadata": {},
     "output_type": "execute_result"
    }
   ],
   "source": [
    "# add(): add single item in set\n",
    "languages2.add(\"Turkish\")\n",
    "languages2"
   ]
  },
  {
   "cell_type": "code",
   "execution_count": null,
   "id": "cc9f07d9",
   "metadata": {},
   "outputs": [
    {
     "data": {
      "text/plain": [
       "{'English', 'French', 'Persian', 'Turkish', 'Urdu'}"
      ]
     },
     "execution_count": 103,
     "metadata": {},
     "output_type": "execute_result"
    }
   ],
   "source": [
    "# update(): add more than one item in a set (must pass an iterable object for adding multiple items like list, set, tuple in update method)\n",
    "languages2.update({\"Persian\",\"French\"})\n",
    "languages2"
   ]
  },
  {
   "cell_type": "code",
   "execution_count": 104,
   "id": "539c0fa3",
   "metadata": {},
   "outputs": [
    {
     "data": {
      "text/plain": [
       "{'French', 'Persian', 'Turkish', 'Urdu'}"
      ]
     },
     "execution_count": 104,
     "metadata": {},
     "output_type": "execute_result"
    }
   ],
   "source": [
    "# pop(): this method removes last element from the set but we don't know which element gets popped\n",
    "languages2.pop()\n",
    "languages2"
   ]
  },
  {
   "cell_type": "code",
   "execution_count": 105,
   "id": "83439c51",
   "metadata": {},
   "outputs": [],
   "source": [
    "# del: a keyword which is used to delete an entire set\n",
    "del languages\n",
    "# print(languages)  # not defined"
   ]
  },
  {
   "cell_type": "code",
   "execution_count": 106,
   "id": "400cdf10",
   "metadata": {},
   "outputs": [
    {
     "data": {
      "text/plain": [
       "set()"
      ]
     },
     "execution_count": 106,
     "metadata": {},
     "output_type": "execute_result"
    }
   ],
   "source": [
    "# clear(): to clear all items from the set\n",
    "fruits.clear()\n",
    "fruits"
   ]
  },
  {
   "cell_type": "code",
   "execution_count": 108,
   "id": "719bdded",
   "metadata": {},
   "outputs": [
    {
     "name": "stdout",
     "output_type": "stream",
     "text": [
      "Persian is present in languages2\n"
     ]
    }
   ],
   "source": [
    "# in: check if item exists\n",
    "if \"Persian\" in languages2:\n",
    "    print(\"Persian is present in languages2\")"
   ]
  },
  {
   "cell_type": "code",
   "execution_count": 109,
   "id": "03e5ba8d",
   "metadata": {},
   "outputs": [
    {
     "name": "stdout",
     "output_type": "stream",
     "text": [
      "frozenset({1, 2, 3, 433, 'Ali'})\n"
     ]
    }
   ],
   "source": [
    "# frozen set (immutable):: we cannot add or remove element from that\n",
    "fSet: frozenset = frozenset([1, 2, 3, 433, 3, \"Ali\"])\n",
    "print(fSet)"
   ]
  }
 ],
 "metadata": {
  "kernelspec": {
   "display_name": "Python 3",
   "language": "python",
   "name": "python3"
  },
  "language_info": {
   "codemirror_mode": {
    "name": "ipython",
    "version": 3
   },
   "file_extension": ".py",
   "mimetype": "text/x-python",
   "name": "python",
   "nbconvert_exporter": "python",
   "pygments_lexer": "ipython3",
   "version": "3.13.2"
  }
 },
 "nbformat": 4,
 "nbformat_minor": 5
}
