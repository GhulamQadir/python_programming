{
 "cells": [
  {
   "cell_type": "code",
   "execution_count": 3,
   "metadata": {},
   "outputs": [
    {
     "name": "stdout",
     "output_type": "stream",
     "text": [
      "<class 'tuple'>\n"
     ]
    }
   ],
   "source": [
    "# TUPLE (unchangeable) we cannot update it\n",
    "fruitsTuple = (\"Apple\",\"Mango\",\"Banana\")\n",
    "print(type(fruitsTuple))"
   ]
  },
  {
   "cell_type": "code",
   "execution_count": null,
   "metadata": {},
   "outputs": [
    {
     "name": "stdout",
     "output_type": "stream",
     "text": [
      "Mango\n",
      "Banana\n"
     ]
    }
   ],
   "source": [
    "print(fruitsTuple[1])\n",
    "fruit3 = fruitsTuple[2]\n",
    "print(fruit3)"
   ]
  },
  {
   "cell_type": "code",
   "execution_count": null,
   "metadata": {},
   "outputs": [],
   "source": [
    "\n",
    "fruitsTuple[1] = \"Orange\"\n",
    "print(fruitsTuple)  # error! we cannot modify it"
   ]
  },
  {
   "cell_type": "code",
   "execution_count": null,
   "metadata": {},
   "outputs": [
    {
     "name": "stdout",
     "output_type": "stream",
     "text": [
      "Apple\n",
      "Mango\n",
      "Banana\n"
     ]
    }
   ],
   "source": [
    "# unpacking tuple items\n",
    "fruit1,fruit2,fruit3 = fruitsTuple\n",
    "print(fruit1)\n",
    "print(fruit2)\n",
    "print(fruit3)"
   ]
  },
  {
   "cell_type": "code",
   "execution_count": 13,
   "metadata": {},
   "outputs": [
    {
     "name": "stdout",
     "output_type": "stream",
     "text": [
      "Cat\n",
      "['Dog', 'Elephant', 'Mouse']\n",
      "Horse\n"
     ]
    }
   ],
   "source": [
    "# unpacking multiple items in a single variable\n",
    "animalsTuple = (\"Cat\",\"Dog\",\"Elephant\",\"Mouse\",\"Horse\")\n",
    "animal1,*otherAnimals,lastAnimal = animalsTuple\n",
    "print(animal1)\n",
    "print(otherAnimals)\n",
    "print(lastAnimal)"
   ]
  },
  {
   "cell_type": "code",
   "execution_count": null,
   "metadata": {},
   "outputs": [
    {
     "name": "stdout",
     "output_type": "stream",
     "text": [
      "{2, 3, 4, 5, 7, 8}\n"
     ]
    }
   ],
   "source": [
    "#################### SETS ######################\n",
    "# Set always unique(removes duplicate elements). It is unordered and unindexed\n",
    "set1 = {3,2,4,2,5,7,8,7}\n",
    "print(set1)  # just prints unique elements and removes duplicates by itself"
   ]
  },
  {
   "cell_type": "code",
   "execution_count": null,
   "metadata": {},
   "outputs": [
    {
     "name": "stdout",
     "output_type": "stream",
     "text": [
      "{False, 2, 4, 'Ali'}\n"
     ]
    }
   ],
   "source": [
    "mixSet = {2,False,2,\"Ali\",4,0}   # it will remove 0 or False because both are same in boolean\n",
    "print(mixSet)  # it can give elements in random indexing"
   ]
  },
  {
   "cell_type": "code",
   "execution_count": 25,
   "metadata": {},
   "outputs": [
    {
     "name": "stdout",
     "output_type": "stream",
     "text": [
      "{'Blue', 'Orange', 'Red', 'Green'}\n",
      "{'Orange', 'Purple', 'Green', 'Red', 'Blue'}\n"
     ]
    }
   ],
   "source": [
    "# sets functions\n",
    "colorsSet = {\"Red\",\"Green\",\"Blue\",\"Red\",\"Orange\"}\n",
    "print(colorsSet)\n",
    "colorsSet.add(\"Purple\")\n",
    "print(colorsSet)"
   ]
  },
  {
   "cell_type": "code",
   "execution_count": null,
   "metadata": {},
   "outputs": [],
   "source": [
    "# list without duplicates\n",
    "duplicatedList = [1,2,3,5,6,3,5]\n",
    "uniqueList = []\n",
    "for i in range(0,len(duplicatedList)):\n",
    "    # print(duplicatedList[i])\n",
    "    temp = duplicatedList[i]\n",
    "    print(temp)\n",
    "   \n",
    "print(uniqueList)\n",
    "\n"
   ]
  },
  {
   "cell_type": "code",
   "execution_count": 6,
   "metadata": {},
   "outputs": [
    {
     "name": "stdout",
     "output_type": "stream",
     "text": [
      "Welcome Shaban\n",
      "24.0\n"
     ]
    }
   ],
   "source": [
    "# FUNCTIONS\n",
    "def greetUser(user=\"Testing\"):    #default value\n",
    "    print(f\"Welcome {user}\")\n",
    "\n",
    "greetUser(\"Shaban\")\n",
    "\n",
    "def arithmeticFunc():\n",
    "    num1 = float(input(\"Enter first num\"))\n",
    "    operator = input(\"Enter operator\")\n",
    "    num2 = float(input(\"Enter second num\"))\n",
    "    if operator==\"+\":\n",
    "            calculation = num1 + num2\n",
    "    elif operator==\"-\":\n",
    "            calculation = num1 - num2\n",
    "    elif operator==\"*\":\n",
    "            calculation = num1 * num2\n",
    "    elif operator==\"/\":\n",
    "            calculation = num1 / num2\n",
    "    print(calculation)\n",
    "\n",
    "arithmeticFunc()\n"
   ]
  },
  {
   "cell_type": "code",
   "execution_count": 13,
   "metadata": {},
   "outputs": [
    {
     "name": "stdout",
     "output_type": "stream",
     "text": [
      "23 4 5 56 1 22 34\n"
     ]
    }
   ],
   "source": [
    "# function with positional and keyword arguments\n",
    "def multipleArgs(p1,p2,p3,p4,p5,k5,k2):   # keywords arguments always comes at last\n",
    "    print(p1,p2,p3,p4,p5,k5,k2)\n",
    "multipleArgs(23,4,5,56,k2=34,k5=22,p5=1)"
   ]
  },
  {
   "cell_type": "code",
   "execution_count": 16,
   "metadata": {},
   "outputs": [
    {
     "name": "stdout",
     "output_type": "stream",
     "text": [
      "4 6\n"
     ]
    }
   ],
   "source": [
    "# doc string\n",
    "def docStringFunction(n1,n2):\n",
    "    \"\"\"\n",
    "    We can also say that \n",
    "    multiple line comment\n",
    "    !!!!!\n",
    "    \"\"\"\n",
    "    print(n1,n2)\n",
    "docStringFunction(4,6)\n"
   ]
  },
  {
   "cell_type": "code",
   "execution_count": null,
   "metadata": {},
   "outputs": [],
   "source": [
    "# built-in functions\n",
    "print(abs(15))\n",
    "print(all({True,True,False}))\n",
    "print(any({True,False,False}))\n",
    "print(pow(3,3))\n",
    "print(round(4.56434234,2))\n",
    "print(chr(102))   # returns \n",
    "print(ord(\"c\"))"
   ]
  }
 ],
 "metadata": {
  "kernelspec": {
   "display_name": "Python 3",
   "language": "python",
   "name": "python3"
  },
  "language_info": {
   "codemirror_mode": {
    "name": "ipython",
    "version": 3
   },
   "file_extension": ".py",
   "mimetype": "text/x-python",
   "name": "python",
   "nbconvert_exporter": "python",
   "pygments_lexer": "ipython3",
   "version": "3.13.2"
  }
 },
 "nbformat": 4,
 "nbformat_minor": 2
}
