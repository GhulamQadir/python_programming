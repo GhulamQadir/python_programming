{
 "cells": [
  {
   "cell_type": "code",
   "execution_count": 3,
   "metadata": {},
   "outputs": [
    {
     "name": "stdout",
     "output_type": "stream",
     "text": [
      "<class 'tuple'>\n"
     ]
    }
   ],
   "source": [
    "# TUPLE (unchangeable) we cannot update it\n",
    "fruitsTuple = (\"Apple\",\"Mango\",\"Banana\")\n",
    "print(type(fruitsTuple))"
   ]
  },
  {
   "cell_type": "code",
   "execution_count": null,
   "metadata": {},
   "outputs": [
    {
     "name": "stdout",
     "output_type": "stream",
     "text": [
      "Mango\n",
      "Banana\n"
     ]
    }
   ],
   "source": [
    "print(fruitsTuple[1])\n",
    "fruit3 = fruitsTuple[2]\n",
    "print(fruit3)"
   ]
  },
  {
   "cell_type": "code",
   "execution_count": null,
   "metadata": {},
   "outputs": [],
   "source": [
    "\n",
    "fruitsTuple[1] = \"Orange\"\n",
    "print(fruitsTuple)  # error! we cannot modify it"
   ]
  },
  {
   "cell_type": "code",
   "execution_count": null,
   "metadata": {},
   "outputs": [
    {
     "name": "stdout",
     "output_type": "stream",
     "text": [
      "Apple\n",
      "Mango\n",
      "Banana\n"
     ]
    }
   ],
   "source": [
    "# unpacking tuple items\n",
    "fruit1,fruit2,fruit3 = fruitsTuple\n",
    "print(fruit1)\n",
    "print(fruit2)\n",
    "print(fruit3)"
   ]
  },
  {
   "cell_type": "code",
   "execution_count": 13,
   "metadata": {},
   "outputs": [
    {
     "name": "stdout",
     "output_type": "stream",
     "text": [
      "Cat\n",
      "['Dog', 'Elephant', 'Mouse']\n",
      "Horse\n"
     ]
    }
   ],
   "source": [
    "# unpacking multiple items in a single variable\n",
    "animalsTuple = (\"Cat\",\"Dog\",\"Elephant\",\"Mouse\",\"Horse\")\n",
    "animal1,*otherAnimals,lastAnimal = animalsTuple\n",
    "print(animal1)\n",
    "print(otherAnimals)\n",
    "print(lastAnimal)"
   ]
  },
  {
   "cell_type": "code",
   "execution_count": null,
   "metadata": {},
   "outputs": [
    {
     "name": "stdout",
     "output_type": "stream",
     "text": [
      "{2, 3, 4, 5, 7, 8}\n"
     ]
    }
   ],
   "source": [
    "#################### SETS ######################\n",
    "# Set always unique(removes duplicate elements). It is unordered and unindexed\n",
    "set1 = {3,2,4,2,5,7,8,7}\n",
    "print(set1)  # just prints unique elements and removes duplicates by itself"
   ]
  },
  {
   "cell_type": "code",
   "execution_count": null,
   "metadata": {},
   "outputs": [
    {
     "name": "stdout",
     "output_type": "stream",
     "text": [
      "{False, 2, 4, 'Ali'}\n"
     ]
    }
   ],
   "source": [
    "mixSet = {2,False,2,\"Ali\",4,0}   # it will remove 0 or False because both are same in boolean\n",
    "print(mixSet)  # it can give elements in random indexing"
   ]
  },
  {
   "cell_type": "code",
   "execution_count": 25,
   "metadata": {},
   "outputs": [
    {
     "name": "stdout",
     "output_type": "stream",
     "text": [
      "{'Blue', 'Orange', 'Red', 'Green'}\n",
      "{'Orange', 'Purple', 'Green', 'Red', 'Blue'}\n"
     ]
    }
   ],
   "source": [
    "# sets functions\n",
    "colorsSet = {\"Red\",\"Green\",\"Blue\",\"Red\",\"Orange\"}\n",
    "print(colorsSet)\n",
    "colorsSet.add(\"Purple\")\n",
    "print(colorsSet)"
   ]
  },
  {
   "cell_type": "code",
   "execution_count": 1,
   "metadata": {},
   "outputs": [
    {
     "name": "stdout",
     "output_type": "stream",
     "text": [
      "[1, 2, 3, 5, 6, 3, 5]\n",
      "List after removing duplicates [1, 2, 3, 5, 6]\n"
     ]
    }
   ],
   "source": [
    "# list without duplicates\n",
    "duplicatedList:list = [1,2,3,5,6,3,5]\n",
    "uniqueList:list = []\n",
    "print(duplicatedList)\n",
    "for item in duplicatedList:\n",
    "    if item not in uniqueList:\n",
    "        uniqueList.append(item)\n",
    "\n",
    "print(f\"List after removing duplicates {uniqueList}\")   \n",
    "\n"
   ]
  },
  {
   "cell_type": "code",
   "execution_count": 6,
   "metadata": {},
   "outputs": [
    {
     "name": "stdout",
     "output_type": "stream",
     "text": [
      "Welcome Shaban\n",
      "24.0\n"
     ]
    }
   ],
   "source": [
    "# FUNCTIONS\n",
    "def greetUser(user=\"Testing\"):    #default value\n",
    "    print(f\"Welcome {user}\")\n",
    "\n",
    "greetUser(\"Shaban\")\n",
    "\n",
    "def arithmeticFunc():\n",
    "    num1 = float(input(\"Enter first num\"))\n",
    "    operator = input(\"Enter operator\")\n",
    "    num2 = float(input(\"Enter second num\"))\n",
    "    if operator==\"+\":\n",
    "            calculation = num1 + num2\n",
    "    elif operator==\"-\":\n",
    "            calculation = num1 - num2\n",
    "    elif operator==\"*\":\n",
    "            calculation = num1 * num2\n",
    "    elif operator==\"/\":\n",
    "            calculation = num1 / num2\n",
    "    print(calculation)\n",
    "\n",
    "arithmeticFunc()\n"
   ]
  },
  {
   "cell_type": "code",
   "execution_count": null,
   "metadata": {},
   "outputs": [],
   "source": [
    "# function with positional and keyword arguments\n",
    "def multipleArgs(p1,p2,p3,p4,p5,k5,k2):   # keywords arguments always comes at last\n",
    "    print(p1,p2,p3,p4,p5,k5,k2)\n",
    "multipleArgs(23,4,5,56,k2=34,k5=22,p5=1)"
   ]
  },
  {
   "cell_type": "code",
   "execution_count": 16,
   "metadata": {},
   "outputs": [
    {
     "name": "stdout",
     "output_type": "stream",
     "text": [
      "4 6\n"
     ]
    }
   ],
   "source": [
    "# doc string\n",
    "def docStringFunction(n1,n2):\n",
    "    \"\"\"\n",
    "    We can also say that \n",
    "    multiple line comment\n",
    "    !!!!!\n",
    "    \"\"\"\n",
    "    print(n1,n2)\n",
    "docStringFunction(4,6)\n"
   ]
  },
  {
   "cell_type": "code",
   "execution_count": null,
   "metadata": {},
   "outputs": [],
   "source": [
    "# built-in functions\n",
    "print(abs(15))\n",
    "print(all({True,True,False}))\n",
    "print(any({True,False,False}))\n",
    "print(pow(3,3))\n",
    "print(round(4.56434234,2))\n",
    "print(chr(102))   # returns \n",
    "print(ord(\"c\"))"
   ]
  },
  {
   "cell_type": "code",
   "execution_count": null,
   "metadata": {},
   "outputs": [
    {
     "name": "stdout",
     "output_type": "stream",
     "text": [
      "96\n"
     ]
    }
   ],
   "source": [
    "def sumOfNums(*n):   #optional parameters\n",
    "    s=0\n",
    "    for i in n:\n",
    "        s +=i\n",
    "    print(s)\n",
    "sumOfNums(4,5,6,6,67,8)"
   ]
  },
  {
   "cell_type": "code",
   "execution_count": 16,
   "metadata": {},
   "outputs": [
    {
     "name": "stdout",
     "output_type": "stream",
     "text": [
      "2\n",
      "Hammad\n",
      "3 4 2\n",
      "34\n",
      "{'other': 32, 'other2': 'Ali'}\n"
     ]
    }
   ],
   "source": [
    "# positional arguments onky\n",
    "def posArgumentsFunc(n, /):\n",
    "    print(n)\n",
    "posArgumentsFunc(2)\n",
    "\n",
    "# keyword argument\n",
    "def keywordArgument(*,name):\n",
    "    print(name)\n",
    "# keywordArgument(\"Hammad\")   # error\n",
    "keywordArgument(name=\"Hammad\")\n",
    "\n",
    "\n",
    "# positional and keyword arguments both\n",
    "def both(n1,n2,/,*,k):\n",
    "    print(n1,n2,k)\n",
    "both(3,4,k=2)\n",
    "\n",
    "# keyword wit optional arguments\n",
    "def keywordOptional(*,k1,**other):\n",
    "    print(k1)\n",
    "    print(other)\n",
    "keywordOptional(k1=34,other=32,other2=\"Ali\")\n"
   ]
  },
  {
   "cell_type": "code",
   "execution_count": 28,
   "metadata": {},
   "outputs": [
    {
     "name": "stdout",
     "output_type": "stream",
     "text": [
      "2\n",
      "Value of global variable 1\n",
      "5\n",
      "Value after updation: 7\n"
     ]
    }
   ],
   "source": [
    "# SCOPE OF VARIABLE\n",
    "x=1\n",
    "def scope():\n",
    "    x=2 \n",
    "    print(x)\n",
    "\n",
    "scope()\n",
    "print(f\"Value of global variable {x}\")\n",
    "\n",
    "\n",
    "# converting local variable to global\n",
    "def newScope():\n",
    "    global a\n",
    "    a=5\n",
    "    print(a)\n",
    "newScope()\n",
    "a=7\n",
    "print(f\"Value after updation: {a}\")\n"
   ]
  },
  {
   "cell_type": "code",
   "execution_count": 26,
   "metadata": {},
   "outputs": [
    {
     "name": "stdout",
     "output_type": "stream",
     "text": [
      "24\n"
     ]
    }
   ],
   "source": [
    "# Recursion\n",
    "def factorial(n):\n",
    "    if n==0:\n",
    "        return 1\n",
    "    return n*factorial(n-1)\n",
    "print(factorial(4))"
   ]
  }
 ],
 "metadata": {
  "kernelspec": {
   "display_name": "Python 3",
   "language": "python",
   "name": "python3"
  },
  "language_info": {
   "codemirror_mode": {
    "name": "ipython",
    "version": 3
   },
   "file_extension": ".py",
   "mimetype": "text/x-python",
   "name": "python",
   "nbconvert_exporter": "python",
   "pygments_lexer": "ipython3",
   "version": "3.13.2"
  }
 },
 "nbformat": 4,
 "nbformat_minor": 2
}
