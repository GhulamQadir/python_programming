{
 "cells": [
  {
   "cell_type": "code",
   "execution_count": 3,
   "metadata": {},
   "outputs": [
    {
     "name": "stdout",
     "output_type": "stream",
     "text": [
      "<class 'tuple'>\n"
     ]
    }
   ],
   "source": [
    "# TUPLE (unchangeable) we cannot update it\n",
    "fruitsTuple = (\"Apple\",\"Mango\",\"Banana\")\n",
    "print(type(fruitsTuple))"
   ]
  },
  {
   "cell_type": "code",
   "execution_count": null,
   "metadata": {},
   "outputs": [
    {
     "name": "stdout",
     "output_type": "stream",
     "text": [
      "Mango\n",
      "Banana\n"
     ]
    }
   ],
   "source": [
    "print(fruitsTuple[1])\n",
    "fruit3 = fruitsTuple[2]\n",
    "print(fruit3)"
   ]
  },
  {
   "cell_type": "code",
   "execution_count": null,
   "metadata": {},
   "outputs": [],
   "source": [
    "\n",
    "fruitsTuple[1] = \"Orange\"\n",
    "print(fruitsTuple)  # error! we cannot modify it"
   ]
  },
  {
   "cell_type": "code",
   "execution_count": null,
   "metadata": {},
   "outputs": [
    {
     "name": "stdout",
     "output_type": "stream",
     "text": [
      "Apple\n",
      "Mango\n",
      "Banana\n"
     ]
    }
   ],
   "source": [
    "# unpacking tuple items\n",
    "fruit1,fruit2,fruit3 = fruitsTuple\n",
    "print(fruit1)\n",
    "print(fruit2)\n",
    "print(fruit3)"
   ]
  },
  {
   "cell_type": "code",
   "execution_count": 13,
   "metadata": {},
   "outputs": [
    {
     "name": "stdout",
     "output_type": "stream",
     "text": [
      "Cat\n",
      "['Dog', 'Elephant', 'Mouse']\n",
      "Horse\n"
     ]
    }
   ],
   "source": [
    "# unpacking multiple items in a single variable\n",
    "animalsTuple = (\"Cat\",\"Dog\",\"Elephant\",\"Mouse\",\"Horse\")\n",
    "animal1,*otherAnimals,lastAnimal = animalsTuple\n",
    "print(animal1)\n",
    "print(otherAnimals)\n",
    "print(lastAnimal)"
   ]
  },
  {
   "cell_type": "code",
   "execution_count": null,
   "metadata": {},
   "outputs": [
    {
     "name": "stdout",
     "output_type": "stream",
     "text": [
      "{2, 3, 4, 5, 7, 8}\n"
     ]
    }
   ],
   "source": [
    "#################### SETS ######################\n",
    "# Set always unique(removes duplicate elements). It is unordered and unindexed\n",
    "set1 = {3,2,4,2,5,7,8,7}\n",
    "print(set1)  # just prints unique elements and removes duplicates by itself"
   ]
  },
  {
   "cell_type": "code",
   "execution_count": null,
   "metadata": {},
   "outputs": [
    {
     "name": "stdout",
     "output_type": "stream",
     "text": [
      "{False, 2, 4, 'Ali'}\n"
     ]
    }
   ],
   "source": [
    "mixSet = {2,False,2,\"Ali\",4,0}   # it will remove 0 or False because both are same in boolean\n",
    "print(mixSet)  # it can give elements in random indexing"
   ]
  },
  {
   "cell_type": "code",
   "execution_count": 25,
   "metadata": {},
   "outputs": [
    {
     "name": "stdout",
     "output_type": "stream",
     "text": [
      "{'Blue', 'Orange', 'Red', 'Green'}\n",
      "{'Orange', 'Purple', 'Green', 'Red', 'Blue'}\n"
     ]
    }
   ],
   "source": [
    "# sets functions\n",
    "colorsSet = {\"Red\",\"Green\",\"Blue\",\"Red\",\"Orange\"}\n",
    "print(colorsSet)\n",
    "colorsSet.add(\"Purple\")\n",
    "print(colorsSet)"
   ]
  },
  {
   "cell_type": "code",
   "execution_count": 48,
   "metadata": {},
   "outputs": [
    {
     "name": "stdout",
     "output_type": "stream",
     "text": [
      "1\n",
      "2\n",
      "3\n",
      "5\n",
      "6\n",
      "3\n",
      "5\n",
      "[]\n"
     ]
    }
   ],
   "source": [
    "# list without duplicates\n",
    "duplicatedList = [1,2,3,5,6,3,5]\n",
    "uniqueList = []\n",
    "for i in range(0,len(duplicatedList)):\n",
    "    # print(duplicatedList[i])\n",
    "    temp = duplicatedList[i]\n",
    "    print(temp)\n",
    "   \n",
    "print(uniqueList)\n",
    "\n"
   ]
  }
 ],
 "metadata": {
  "language_info": {
   "name": "python"
  }
 },
 "nbformat": 4,
 "nbformat_minor": 2
}
